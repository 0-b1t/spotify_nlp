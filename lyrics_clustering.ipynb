{
 "cells": [
  {
   "cell_type": "code",
   "execution_count": 29,
   "metadata": {},
   "outputs": [
    {
     "data": {
      "application/javascript": [
       "\n",
       "            setTimeout(function() {\n",
       "                var nbb_cell_id = 29;\n",
       "                var nbb_unformatted_code = \"%reload_ext nb_black\";\n",
       "                var nbb_formatted_code = \"%reload_ext nb_black\";\n",
       "                var nbb_cells = Jupyter.notebook.get_cells();\n",
       "                for (var i = 0; i < nbb_cells.length; ++i) {\n",
       "                    if (nbb_cells[i].input_prompt_number == nbb_cell_id) {\n",
       "                        if (nbb_cells[i].get_text() == nbb_unformatted_code) {\n",
       "                             nbb_cells[i].set_text(nbb_formatted_code);\n",
       "                        }\n",
       "                        break;\n",
       "                    }\n",
       "                }\n",
       "            }, 500);\n",
       "            "
      ],
      "text/plain": [
       "<IPython.core.display.Javascript object>"
      ]
     },
     "metadata": {},
     "output_type": "display_data"
    },
    {
     "data": {
      "application/javascript": [
       "\n",
       "            setTimeout(function() {\n",
       "                var nbb_cell_id = 29;\n",
       "                var nbb_unformatted_code = \"%reload_ext nb_black\";\n",
       "                var nbb_formatted_code = \"%reload_ext nb_black\";\n",
       "                var nbb_cells = Jupyter.notebook.get_cells();\n",
       "                for (var i = 0; i < nbb_cells.length; ++i) {\n",
       "                    if (nbb_cells[i].input_prompt_number == nbb_cell_id) {\n",
       "                        if (nbb_cells[i].get_text() == nbb_unformatted_code) {\n",
       "                             nbb_cells[i].set_text(nbb_formatted_code);\n",
       "                        }\n",
       "                        break;\n",
       "                    }\n",
       "                }\n",
       "            }, 500);\n",
       "            "
      ],
      "text/plain": [
       "<IPython.core.display.Javascript object>"
      ]
     },
     "metadata": {},
     "output_type": "display_data"
    }
   ],
   "source": [
    "%reload_ext nb_black"
   ]
  },
  {
   "cell_type": "code",
   "execution_count": 56,
   "metadata": {},
   "outputs": [
    {
     "data": {
      "application/javascript": [
       "\n",
       "            setTimeout(function() {\n",
       "                var nbb_cell_id = 56;\n",
       "                var nbb_unformatted_code = \"import pandas as pd\\nimport time\\nimport re\\nimport numpy as np\\nimport spacy\\n\\nfrom nltk import word_tokenize\\nfrom nltk.corpus import stopwords\\nfrom nltk.stem.snowball import SnowballStemmer\\nfrom nltk.stem.wordnet import WordNetLemmatizer\\nfrom nltk.corpus.reader.plaintext import (\\n    PlaintextCorpusReader,\\n    CategorizedPlaintextCorpusReader,\\n)\\nfrom sklearn.cluster import KMeans\\nfrom sklearn.cluster import AgglomerativeClustering\\nfrom sklearn.feature_extraction.text import TfidfVectorizer, CountVectorizer\\nfrom sklearn.decomposition import NMF, LatentDirichletAllocation, TruncatedSVD\\nimport matplotlib.pyplot as plt\\nfrom yellowbrick.cluster import KElbowVisualizer\\n\\nfrom umap import UMAP\\nfrom sklearn.decomposition import PCA\\nfrom sklearn.preprocessing import StandardScaler, MinMaxScaler\\nfrom sklearn.cluster import DBSCAN, KMeans\\nimport seaborn as sns\";\n",
       "                var nbb_formatted_code = \"import pandas as pd\\nimport time\\nimport re\\nimport numpy as np\\nimport spacy\\n\\nfrom nltk import word_tokenize\\nfrom nltk.corpus import stopwords\\nfrom nltk.stem.snowball import SnowballStemmer\\nfrom nltk.stem.wordnet import WordNetLemmatizer\\nfrom nltk.corpus.reader.plaintext import (\\n    PlaintextCorpusReader,\\n    CategorizedPlaintextCorpusReader,\\n)\\nfrom sklearn.cluster import KMeans\\nfrom sklearn.cluster import AgglomerativeClustering\\nfrom sklearn.feature_extraction.text import TfidfVectorizer, CountVectorizer\\nfrom sklearn.decomposition import NMF, LatentDirichletAllocation, TruncatedSVD\\nimport matplotlib.pyplot as plt\\nfrom yellowbrick.cluster import KElbowVisualizer\\n\\nfrom umap import UMAP\\nfrom sklearn.decomposition import PCA\\nfrom sklearn.preprocessing import StandardScaler, MinMaxScaler\\nfrom sklearn.cluster import DBSCAN, KMeans\\nimport seaborn as sns\";\n",
       "                var nbb_cells = Jupyter.notebook.get_cells();\n",
       "                for (var i = 0; i < nbb_cells.length; ++i) {\n",
       "                    if (nbb_cells[i].input_prompt_number == nbb_cell_id) {\n",
       "                        if (nbb_cells[i].get_text() == nbb_unformatted_code) {\n",
       "                             nbb_cells[i].set_text(nbb_formatted_code);\n",
       "                        }\n",
       "                        break;\n",
       "                    }\n",
       "                }\n",
       "            }, 500);\n",
       "            "
      ],
      "text/plain": [
       "<IPython.core.display.Javascript object>"
      ]
     },
     "metadata": {},
     "output_type": "display_data"
    },
    {
     "data": {
      "application/javascript": [
       "\n",
       "            setTimeout(function() {\n",
       "                var nbb_cell_id = 56;\n",
       "                var nbb_unformatted_code = \"import pandas as pd\\nimport time\\nimport re\\nimport numpy as np\\nimport spacy\\n\\nfrom nltk import word_tokenize\\nfrom nltk.corpus import stopwords\\nfrom nltk.stem.snowball import SnowballStemmer\\nfrom nltk.stem.wordnet import WordNetLemmatizer\\nfrom nltk.corpus.reader.plaintext import (\\n    PlaintextCorpusReader,\\n    CategorizedPlaintextCorpusReader,\\n)\\nfrom sklearn.cluster import KMeans\\nfrom sklearn.cluster import AgglomerativeClustering\\nfrom sklearn.feature_extraction.text import TfidfVectorizer, CountVectorizer\\nfrom sklearn.decomposition import NMF, LatentDirichletAllocation, TruncatedSVD\\nimport matplotlib.pyplot as plt\\nfrom yellowbrick.cluster import KElbowVisualizer\\n\\nfrom umap import UMAP\\nfrom sklearn.decomposition import PCA\\nfrom sklearn.preprocessing import StandardScaler, MinMaxScaler\\nfrom sklearn.cluster import DBSCAN, KMeans\\nimport seaborn as sns\";\n",
       "                var nbb_formatted_code = \"import pandas as pd\\nimport time\\nimport re\\nimport numpy as np\\nimport spacy\\n\\nfrom nltk import word_tokenize\\nfrom nltk.corpus import stopwords\\nfrom nltk.stem.snowball import SnowballStemmer\\nfrom nltk.stem.wordnet import WordNetLemmatizer\\nfrom nltk.corpus.reader.plaintext import (\\n    PlaintextCorpusReader,\\n    CategorizedPlaintextCorpusReader,\\n)\\nfrom sklearn.cluster import KMeans\\nfrom sklearn.cluster import AgglomerativeClustering\\nfrom sklearn.feature_extraction.text import TfidfVectorizer, CountVectorizer\\nfrom sklearn.decomposition import NMF, LatentDirichletAllocation, TruncatedSVD\\nimport matplotlib.pyplot as plt\\nfrom yellowbrick.cluster import KElbowVisualizer\\n\\nfrom umap import UMAP\\nfrom sklearn.decomposition import PCA\\nfrom sklearn.preprocessing import StandardScaler, MinMaxScaler\\nfrom sklearn.cluster import DBSCAN, KMeans\\nimport seaborn as sns\";\n",
       "                var nbb_cells = Jupyter.notebook.get_cells();\n",
       "                for (var i = 0; i < nbb_cells.length; ++i) {\n",
       "                    if (nbb_cells[i].input_prompt_number == nbb_cell_id) {\n",
       "                        if (nbb_cells[i].get_text() == nbb_unformatted_code) {\n",
       "                             nbb_cells[i].set_text(nbb_formatted_code);\n",
       "                        }\n",
       "                        break;\n",
       "                    }\n",
       "                }\n",
       "            }, 500);\n",
       "            "
      ],
      "text/plain": [
       "<IPython.core.display.Javascript object>"
      ]
     },
     "metadata": {},
     "output_type": "display_data"
    }
   ],
   "source": [
    "import pandas as pd\n",
    "import time\n",
    "import re\n",
    "import numpy as np\n",
    "import spacy\n",
    "\n",
    "from nltk import word_tokenize\n",
    "from nltk.corpus import stopwords\n",
    "from nltk.stem.snowball import SnowballStemmer\n",
    "from nltk.stem.wordnet import WordNetLemmatizer\n",
    "from nltk.corpus.reader.plaintext import (\n",
    "    PlaintextCorpusReader,\n",
    "    CategorizedPlaintextCorpusReader,\n",
    ")\n",
    "from sklearn.cluster import KMeans\n",
    "from sklearn.cluster import AgglomerativeClustering\n",
    "from sklearn.feature_extraction.text import TfidfVectorizer, CountVectorizer\n",
    "from sklearn.decomposition import NMF, LatentDirichletAllocation, TruncatedSVD\n",
    "import matplotlib.pyplot as plt\n",
    "from yellowbrick.cluster import KElbowVisualizer\n",
    "\n",
    "from umap import UMAP\n",
    "from sklearn.decomposition import PCA\n",
    "from sklearn.preprocessing import StandardScaler, MinMaxScaler\n",
    "from sklearn.cluster import DBSCAN, KMeans\n",
    "import seaborn as sns"
   ]
  },
  {
   "cell_type": "code",
   "execution_count": 31,
   "metadata": {},
   "outputs": [
    {
     "data": {
      "application/javascript": [
       "\n",
       "            setTimeout(function() {\n",
       "                var nbb_cell_id = 31;\n",
       "                var nbb_unformatted_code = \"tracks = pd.read_csv(\\\"data/tracks_with_lyrics.csv\\\", index_col=0)\";\n",
       "                var nbb_formatted_code = \"tracks = pd.read_csv(\\\"data/tracks_with_lyrics.csv\\\", index_col=0)\";\n",
       "                var nbb_cells = Jupyter.notebook.get_cells();\n",
       "                for (var i = 0; i < nbb_cells.length; ++i) {\n",
       "                    if (nbb_cells[i].input_prompt_number == nbb_cell_id) {\n",
       "                        if (nbb_cells[i].get_text() == nbb_unformatted_code) {\n",
       "                             nbb_cells[i].set_text(nbb_formatted_code);\n",
       "                        }\n",
       "                        break;\n",
       "                    }\n",
       "                }\n",
       "            }, 500);\n",
       "            "
      ],
      "text/plain": [
       "<IPython.core.display.Javascript object>"
      ]
     },
     "metadata": {},
     "output_type": "display_data"
    },
    {
     "data": {
      "application/javascript": [
       "\n",
       "            setTimeout(function() {\n",
       "                var nbb_cell_id = 31;\n",
       "                var nbb_unformatted_code = \"tracks = pd.read_csv(\\\"data/tracks_with_lyrics.csv\\\", index_col=0)\";\n",
       "                var nbb_formatted_code = \"tracks = pd.read_csv(\\\"data/tracks_with_lyrics.csv\\\", index_col=0)\";\n",
       "                var nbb_cells = Jupyter.notebook.get_cells();\n",
       "                for (var i = 0; i < nbb_cells.length; ++i) {\n",
       "                    if (nbb_cells[i].input_prompt_number == nbb_cell_id) {\n",
       "                        if (nbb_cells[i].get_text() == nbb_unformatted_code) {\n",
       "                             nbb_cells[i].set_text(nbb_formatted_code);\n",
       "                        }\n",
       "                        break;\n",
       "                    }\n",
       "                }\n",
       "            }, 500);\n",
       "            "
      ],
      "text/plain": [
       "<IPython.core.display.Javascript object>"
      ]
     },
     "metadata": {},
     "output_type": "display_data"
    }
   ],
   "source": [
    "tracks = pd.read_csv(\"data/tracks_with_lyrics.csv\", index_col=0)"
   ]
  },
  {
   "cell_type": "code",
   "execution_count": 36,
   "metadata": {},
   "outputs": [
    {
     "data": {
      "text/plain": [
       "0         en\n",
       "1         en\n",
       "2         en\n",
       "3         en\n",
       "4         en\n",
       "        ... \n",
       "13066     ko\n",
       "13067     ko\n",
       "13068     ko\n",
       "13069    NaN\n",
       "13070     ko\n",
       "Name: lang, Length: 13071, dtype: object"
      ]
     },
     "execution_count": 36,
     "metadata": {},
     "output_type": "execute_result"
    },
    {
     "data": {
      "application/javascript": [
       "\n",
       "            setTimeout(function() {\n",
       "                var nbb_cell_id = 36;\n",
       "                var nbb_unformatted_code = \"tracks['lang']\";\n",
       "                var nbb_formatted_code = \"tracks[\\\"lang\\\"]\";\n",
       "                var nbb_cells = Jupyter.notebook.get_cells();\n",
       "                for (var i = 0; i < nbb_cells.length; ++i) {\n",
       "                    if (nbb_cells[i].input_prompt_number == nbb_cell_id) {\n",
       "                        if (nbb_cells[i].get_text() == nbb_unformatted_code) {\n",
       "                             nbb_cells[i].set_text(nbb_formatted_code);\n",
       "                        }\n",
       "                        break;\n",
       "                    }\n",
       "                }\n",
       "            }, 500);\n",
       "            "
      ],
      "text/plain": [
       "<IPython.core.display.Javascript object>"
      ]
     },
     "metadata": {},
     "output_type": "display_data"
    },
    {
     "data": {
      "application/javascript": [
       "\n",
       "            setTimeout(function() {\n",
       "                var nbb_cell_id = 36;\n",
       "                var nbb_unformatted_code = \"tracks['lang']\";\n",
       "                var nbb_formatted_code = \"tracks[\\\"lang\\\"]\";\n",
       "                var nbb_cells = Jupyter.notebook.get_cells();\n",
       "                for (var i = 0; i < nbb_cells.length; ++i) {\n",
       "                    if (nbb_cells[i].input_prompt_number == nbb_cell_id) {\n",
       "                        if (nbb_cells[i].get_text() == nbb_unformatted_code) {\n",
       "                             nbb_cells[i].set_text(nbb_formatted_code);\n",
       "                        }\n",
       "                        break;\n",
       "                    }\n",
       "                }\n",
       "            }, 500);\n",
       "            "
      ],
      "text/plain": [
       "<IPython.core.display.Javascript object>"
      ]
     },
     "metadata": {},
     "output_type": "display_data"
    }
   ],
   "source": [
    "tracks[\"lang\"]"
   ]
  },
  {
   "cell_type": "code",
   "execution_count": 40,
   "metadata": {},
   "outputs": [
    {
     "data": {
      "application/javascript": [
       "\n",
       "            setTimeout(function() {\n",
       "                var nbb_cell_id = 40;\n",
       "                var nbb_unformatted_code = \"lyr_tracks = tracks[((tracks[\\\"lyrics\\\"].isna() == False) & (tracks[\\\"lang\\\"] == \\\"en\\\"))].reset_index()\";\n",
       "                var nbb_formatted_code = \"lyr_tracks = tracks[\\n    ((tracks[\\\"lyrics\\\"].isna() == False) & (tracks[\\\"lang\\\"] == \\\"en\\\"))\\n].reset_index()\";\n",
       "                var nbb_cells = Jupyter.notebook.get_cells();\n",
       "                for (var i = 0; i < nbb_cells.length; ++i) {\n",
       "                    if (nbb_cells[i].input_prompt_number == nbb_cell_id) {\n",
       "                        if (nbb_cells[i].get_text() == nbb_unformatted_code) {\n",
       "                             nbb_cells[i].set_text(nbb_formatted_code);\n",
       "                        }\n",
       "                        break;\n",
       "                    }\n",
       "                }\n",
       "            }, 500);\n",
       "            "
      ],
      "text/plain": [
       "<IPython.core.display.Javascript object>"
      ]
     },
     "metadata": {},
     "output_type": "display_data"
    },
    {
     "data": {
      "application/javascript": [
       "\n",
       "            setTimeout(function() {\n",
       "                var nbb_cell_id = 40;\n",
       "                var nbb_unformatted_code = \"lyr_tracks = tracks[((tracks[\\\"lyrics\\\"].isna() == False) & (tracks[\\\"lang\\\"] == \\\"en\\\"))].reset_index()\";\n",
       "                var nbb_formatted_code = \"lyr_tracks = tracks[\\n    ((tracks[\\\"lyrics\\\"].isna() == False) & (tracks[\\\"lang\\\"] == \\\"en\\\"))\\n].reset_index()\";\n",
       "                var nbb_cells = Jupyter.notebook.get_cells();\n",
       "                for (var i = 0; i < nbb_cells.length; ++i) {\n",
       "                    if (nbb_cells[i].input_prompt_number == nbb_cell_id) {\n",
       "                        if (nbb_cells[i].get_text() == nbb_unformatted_code) {\n",
       "                             nbb_cells[i].set_text(nbb_formatted_code);\n",
       "                        }\n",
       "                        break;\n",
       "                    }\n",
       "                }\n",
       "            }, 500);\n",
       "            "
      ],
      "text/plain": [
       "<IPython.core.display.Javascript object>"
      ]
     },
     "metadata": {},
     "output_type": "display_data"
    }
   ],
   "source": [
    "lyr_tracks = tracks[\n",
    "    ((tracks[\"lyrics\"].isna() == False) & (tracks[\"lang\"] == \"en\"))\n",
    "].reset_index()"
   ]
  },
  {
   "cell_type": "code",
   "execution_count": 67,
   "metadata": {
    "scrolled": true
   },
   "outputs": [
    {
     "data": {
      "application/javascript": [
       "\n",
       "            setTimeout(function() {\n",
       "                var nbb_cell_id = 67;\n",
       "                var nbb_unformatted_code = \"px_df = lyr_tracks[[\\\"lyrics\\\", \\\"lang\\\", \\\"id\\\", \\\"genres\\\"]]\";\n",
       "                var nbb_formatted_code = \"px_df = lyr_tracks[[\\\"lyrics\\\", \\\"lang\\\", \\\"id\\\", \\\"genres\\\"]]\";\n",
       "                var nbb_cells = Jupyter.notebook.get_cells();\n",
       "                for (var i = 0; i < nbb_cells.length; ++i) {\n",
       "                    if (nbb_cells[i].input_prompt_number == nbb_cell_id) {\n",
       "                        if (nbb_cells[i].get_text() == nbb_unformatted_code) {\n",
       "                             nbb_cells[i].set_text(nbb_formatted_code);\n",
       "                        }\n",
       "                        break;\n",
       "                    }\n",
       "                }\n",
       "            }, 500);\n",
       "            "
      ],
      "text/plain": [
       "<IPython.core.display.Javascript object>"
      ]
     },
     "metadata": {},
     "output_type": "display_data"
    },
    {
     "data": {
      "application/javascript": [
       "\n",
       "            setTimeout(function() {\n",
       "                var nbb_cell_id = 67;\n",
       "                var nbb_unformatted_code = \"px_df = lyr_tracks[[\\\"lyrics\\\", \\\"lang\\\", \\\"id\\\", \\\"genres\\\"]]\";\n",
       "                var nbb_formatted_code = \"px_df = lyr_tracks[[\\\"lyrics\\\", \\\"lang\\\", \\\"id\\\", \\\"genres\\\"]]\";\n",
       "                var nbb_cells = Jupyter.notebook.get_cells();\n",
       "                for (var i = 0; i < nbb_cells.length; ++i) {\n",
       "                    if (nbb_cells[i].input_prompt_number == nbb_cell_id) {\n",
       "                        if (nbb_cells[i].get_text() == nbb_unformatted_code) {\n",
       "                             nbb_cells[i].set_text(nbb_formatted_code);\n",
       "                        }\n",
       "                        break;\n",
       "                    }\n",
       "                }\n",
       "            }, 500);\n",
       "            "
      ],
      "text/plain": [
       "<IPython.core.display.Javascript object>"
      ]
     },
     "metadata": {},
     "output_type": "display_data"
    }
   ],
   "source": [
    "px_df = lyr_tracks[[\"lyrics\", \"lang\", \"id\", \"genres\"]]"
   ]
  },
  {
   "cell_type": "code",
   "execution_count": 43,
   "metadata": {},
   "outputs": [
    {
     "data": {
      "application/javascript": [
       "\n",
       "            setTimeout(function() {\n",
       "                var nbb_cell_id = 43;\n",
       "                var nbb_unformatted_code = \"docs = [l.replace('\\\\n', ' ') for l in lyr_tracks['lyrics']]\";\n",
       "                var nbb_formatted_code = \"docs = [l.replace(\\\"\\\\n\\\", \\\" \\\") for l in lyr_tracks[\\\"lyrics\\\"]]\";\n",
       "                var nbb_cells = Jupyter.notebook.get_cells();\n",
       "                for (var i = 0; i < nbb_cells.length; ++i) {\n",
       "                    if (nbb_cells[i].input_prompt_number == nbb_cell_id) {\n",
       "                        if (nbb_cells[i].get_text() == nbb_unformatted_code) {\n",
       "                             nbb_cells[i].set_text(nbb_formatted_code);\n",
       "                        }\n",
       "                        break;\n",
       "                    }\n",
       "                }\n",
       "            }, 500);\n",
       "            "
      ],
      "text/plain": [
       "<IPython.core.display.Javascript object>"
      ]
     },
     "metadata": {},
     "output_type": "display_data"
    },
    {
     "data": {
      "application/javascript": [
       "\n",
       "            setTimeout(function() {\n",
       "                var nbb_cell_id = 43;\n",
       "                var nbb_unformatted_code = \"docs = [l.replace('\\\\n', ' ') for l in lyr_tracks['lyrics']]\";\n",
       "                var nbb_formatted_code = \"docs = [l.replace(\\\"\\\\n\\\", \\\" \\\") for l in lyr_tracks[\\\"lyrics\\\"]]\";\n",
       "                var nbb_cells = Jupyter.notebook.get_cells();\n",
       "                for (var i = 0; i < nbb_cells.length; ++i) {\n",
       "                    if (nbb_cells[i].input_prompt_number == nbb_cell_id) {\n",
       "                        if (nbb_cells[i].get_text() == nbb_unformatted_code) {\n",
       "                             nbb_cells[i].set_text(nbb_formatted_code);\n",
       "                        }\n",
       "                        break;\n",
       "                    }\n",
       "                }\n",
       "            }, 500);\n",
       "            "
      ],
      "text/plain": [
       "<IPython.core.display.Javascript object>"
      ]
     },
     "metadata": {},
     "output_type": "display_data"
    }
   ],
   "source": [
    "docs = [l.replace(\"\\n\", \" \") for l in lyr_tracks[\"lyrics\"]]"
   ]
  },
  {
   "cell_type": "code",
   "execution_count": 47,
   "metadata": {},
   "outputs": [
    {
     "data": {
      "application/javascript": [
       "\n",
       "            setTimeout(function() {\n",
       "                var nbb_cell_id = 47;\n",
       "                var nbb_unformatted_code = \"def preprocess(docs):\\n    lemmatizer = WordNetLemmatizer()\\n    stemmer = SnowballStemmer(\\\"english\\\")\\n    preprocessed = []\\n\\n    for doc in docs:\\n        tokenized = word_tokenize(doc)\\n\\n        cleaned = [\\n            stemmer.stem(lemmatizer.lemmatize(token.lower()))\\n            for token in tokenized\\n            if not token.lower() in stopwords.words(\\\"english\\\")\\n            if token.isalpha()\\n        ]\\n        untokenized = \\\" \\\".join(cleaned)\\n        preprocessed.append(untokenized)\\n\\n    return preprocessed\";\n",
       "                var nbb_formatted_code = \"def preprocess(docs):\\n    lemmatizer = WordNetLemmatizer()\\n    stemmer = SnowballStemmer(\\\"english\\\")\\n    preprocessed = []\\n\\n    for doc in docs:\\n        tokenized = word_tokenize(doc)\\n\\n        cleaned = [\\n            stemmer.stem(lemmatizer.lemmatize(token.lower()))\\n            for token in tokenized\\n            if not token.lower() in stopwords.words(\\\"english\\\")\\n            if token.isalpha()\\n        ]\\n        untokenized = \\\" \\\".join(cleaned)\\n        preprocessed.append(untokenized)\\n\\n    return preprocessed\";\n",
       "                var nbb_cells = Jupyter.notebook.get_cells();\n",
       "                for (var i = 0; i < nbb_cells.length; ++i) {\n",
       "                    if (nbb_cells[i].input_prompt_number == nbb_cell_id) {\n",
       "                        if (nbb_cells[i].get_text() == nbb_unformatted_code) {\n",
       "                             nbb_cells[i].set_text(nbb_formatted_code);\n",
       "                        }\n",
       "                        break;\n",
       "                    }\n",
       "                }\n",
       "            }, 500);\n",
       "            "
      ],
      "text/plain": [
       "<IPython.core.display.Javascript object>"
      ]
     },
     "metadata": {},
     "output_type": "display_data"
    },
    {
     "data": {
      "application/javascript": [
       "\n",
       "            setTimeout(function() {\n",
       "                var nbb_cell_id = 47;\n",
       "                var nbb_unformatted_code = \"def preprocess(docs):\\n    lemmatizer = WordNetLemmatizer()\\n    stemmer = SnowballStemmer(\\\"english\\\")\\n    preprocessed = []\\n\\n    for doc in docs:\\n        tokenized = word_tokenize(doc)\\n\\n        cleaned = [\\n            stemmer.stem(lemmatizer.lemmatize(token.lower()))\\n            for token in tokenized\\n            if not token.lower() in stopwords.words(\\\"english\\\")\\n            if token.isalpha()\\n        ]\\n        untokenized = \\\" \\\".join(cleaned)\\n        preprocessed.append(untokenized)\\n\\n    return preprocessed\";\n",
       "                var nbb_formatted_code = \"def preprocess(docs):\\n    lemmatizer = WordNetLemmatizer()\\n    stemmer = SnowballStemmer(\\\"english\\\")\\n    preprocessed = []\\n\\n    for doc in docs:\\n        tokenized = word_tokenize(doc)\\n\\n        cleaned = [\\n            stemmer.stem(lemmatizer.lemmatize(token.lower()))\\n            for token in tokenized\\n            if not token.lower() in stopwords.words(\\\"english\\\")\\n            if token.isalpha()\\n        ]\\n        untokenized = \\\" \\\".join(cleaned)\\n        preprocessed.append(untokenized)\\n\\n    return preprocessed\";\n",
       "                var nbb_cells = Jupyter.notebook.get_cells();\n",
       "                for (var i = 0; i < nbb_cells.length; ++i) {\n",
       "                    if (nbb_cells[i].input_prompt_number == nbb_cell_id) {\n",
       "                        if (nbb_cells[i].get_text() == nbb_unformatted_code) {\n",
       "                             nbb_cells[i].set_text(nbb_formatted_code);\n",
       "                        }\n",
       "                        break;\n",
       "                    }\n",
       "                }\n",
       "            }, 500);\n",
       "            "
      ],
      "text/plain": [
       "<IPython.core.display.Javascript object>"
      ]
     },
     "metadata": {},
     "output_type": "display_data"
    }
   ],
   "source": [
    "def preprocess(docs):\n",
    "    lemmatizer = WordNetLemmatizer()\n",
    "    stemmer = SnowballStemmer(\"english\")\n",
    "    preprocessed = []\n",
    "\n",
    "    for doc in docs:\n",
    "        tokenized = word_tokenize(doc)\n",
    "\n",
    "        cleaned = [\n",
    "            stemmer.stem(lemmatizer.lemmatize(token.lower()))\n",
    "            for token in tokenized\n",
    "            if not token.lower() in stopwords.words(\"english\")\n",
    "            if token.isalpha()\n",
    "        ]\n",
    "        untokenized = \" \".join(cleaned)\n",
    "        preprocessed.append(untokenized)\n",
    "\n",
    "    return preprocessed"
   ]
  },
  {
   "cell_type": "code",
   "execution_count": 48,
   "metadata": {},
   "outputs": [
    {
     "data": {
      "application/javascript": [
       "\n",
       "            setTimeout(function() {\n",
       "                var nbb_cell_id = 48;\n",
       "                var nbb_unformatted_code = \"preprocessed = preprocess(docs)\";\n",
       "                var nbb_formatted_code = \"preprocessed = preprocess(docs)\";\n",
       "                var nbb_cells = Jupyter.notebook.get_cells();\n",
       "                for (var i = 0; i < nbb_cells.length; ++i) {\n",
       "                    if (nbb_cells[i].input_prompt_number == nbb_cell_id) {\n",
       "                        if (nbb_cells[i].get_text() == nbb_unformatted_code) {\n",
       "                             nbb_cells[i].set_text(nbb_formatted_code);\n",
       "                        }\n",
       "                        break;\n",
       "                    }\n",
       "                }\n",
       "            }, 500);\n",
       "            "
      ],
      "text/plain": [
       "<IPython.core.display.Javascript object>"
      ]
     },
     "metadata": {},
     "output_type": "display_data"
    },
    {
     "data": {
      "application/javascript": [
       "\n",
       "            setTimeout(function() {\n",
       "                var nbb_cell_id = 48;\n",
       "                var nbb_unformatted_code = \"preprocessed = preprocess(docs)\";\n",
       "                var nbb_formatted_code = \"preprocessed = preprocess(docs)\";\n",
       "                var nbb_cells = Jupyter.notebook.get_cells();\n",
       "                for (var i = 0; i < nbb_cells.length; ++i) {\n",
       "                    if (nbb_cells[i].input_prompt_number == nbb_cell_id) {\n",
       "                        if (nbb_cells[i].get_text() == nbb_unformatted_code) {\n",
       "                             nbb_cells[i].set_text(nbb_formatted_code);\n",
       "                        }\n",
       "                        break;\n",
       "                    }\n",
       "                }\n",
       "            }, 500);\n",
       "            "
      ],
      "text/plain": [
       "<IPython.core.display.Javascript object>"
      ]
     },
     "metadata": {},
     "output_type": "display_data"
    }
   ],
   "source": [
    "preprocessed = preprocess(docs)"
   ]
  },
  {
   "cell_type": "code",
   "execution_count": 49,
   "metadata": {},
   "outputs": [
    {
     "data": {
      "application/javascript": [
       "\n",
       "            setTimeout(function() {\n",
       "                var nbb_cell_id = 49;\n",
       "                var nbb_unformatted_code = \"tfidf = TfidfVectorizer(min_df=2)\\nvectorized = tfidf.fit_transform(preprocessed)\";\n",
       "                var nbb_formatted_code = \"tfidf = TfidfVectorizer(min_df=2)\\nvectorized = tfidf.fit_transform(preprocessed)\";\n",
       "                var nbb_cells = Jupyter.notebook.get_cells();\n",
       "                for (var i = 0; i < nbb_cells.length; ++i) {\n",
       "                    if (nbb_cells[i].input_prompt_number == nbb_cell_id) {\n",
       "                        if (nbb_cells[i].get_text() == nbb_unformatted_code) {\n",
       "                             nbb_cells[i].set_text(nbb_formatted_code);\n",
       "                        }\n",
       "                        break;\n",
       "                    }\n",
       "                }\n",
       "            }, 500);\n",
       "            "
      ],
      "text/plain": [
       "<IPython.core.display.Javascript object>"
      ]
     },
     "metadata": {},
     "output_type": "display_data"
    },
    {
     "data": {
      "application/javascript": [
       "\n",
       "            setTimeout(function() {\n",
       "                var nbb_cell_id = 49;\n",
       "                var nbb_unformatted_code = \"tfidf = TfidfVectorizer(min_df=2)\\nvectorized = tfidf.fit_transform(preprocessed)\";\n",
       "                var nbb_formatted_code = \"tfidf = TfidfVectorizer(min_df=2)\\nvectorized = tfidf.fit_transform(preprocessed)\";\n",
       "                var nbb_cells = Jupyter.notebook.get_cells();\n",
       "                for (var i = 0; i < nbb_cells.length; ++i) {\n",
       "                    if (nbb_cells[i].input_prompt_number == nbb_cell_id) {\n",
       "                        if (nbb_cells[i].get_text() == nbb_unformatted_code) {\n",
       "                             nbb_cells[i].set_text(nbb_formatted_code);\n",
       "                        }\n",
       "                        break;\n",
       "                    }\n",
       "                }\n",
       "            }, 500);\n",
       "            "
      ],
      "text/plain": [
       "<IPython.core.display.Javascript object>"
      ]
     },
     "metadata": {},
     "output_type": "display_data"
    }
   ],
   "source": [
    "tfidf = TfidfVectorizer(min_df=2)\n",
    "vectorized = tfidf.fit_transform(preprocessed)"
   ]
  },
  {
   "cell_type": "code",
   "execution_count": 51,
   "metadata": {},
   "outputs": [
    {
     "data": {
      "application/javascript": [
       "\n",
       "            setTimeout(function() {\n",
       "                var nbb_cell_id = 51;\n",
       "                var nbb_unformatted_code = \"tfidf_df = pd.DataFrame(vectorized.toarray(), columns=tfidf.get_feature_names())\";\n",
       "                var nbb_formatted_code = \"tfidf_df = pd.DataFrame(vectorized.toarray(), columns=tfidf.get_feature_names())\";\n",
       "                var nbb_cells = Jupyter.notebook.get_cells();\n",
       "                for (var i = 0; i < nbb_cells.length; ++i) {\n",
       "                    if (nbb_cells[i].input_prompt_number == nbb_cell_id) {\n",
       "                        if (nbb_cells[i].get_text() == nbb_unformatted_code) {\n",
       "                             nbb_cells[i].set_text(nbb_formatted_code);\n",
       "                        }\n",
       "                        break;\n",
       "                    }\n",
       "                }\n",
       "            }, 500);\n",
       "            "
      ],
      "text/plain": [
       "<IPython.core.display.Javascript object>"
      ]
     },
     "metadata": {},
     "output_type": "display_data"
    },
    {
     "data": {
      "application/javascript": [
       "\n",
       "            setTimeout(function() {\n",
       "                var nbb_cell_id = 51;\n",
       "                var nbb_unformatted_code = \"tfidf_df = pd.DataFrame(vectorized.toarray(), columns=tfidf.get_feature_names())\";\n",
       "                var nbb_formatted_code = \"tfidf_df = pd.DataFrame(vectorized.toarray(), columns=tfidf.get_feature_names())\";\n",
       "                var nbb_cells = Jupyter.notebook.get_cells();\n",
       "                for (var i = 0; i < nbb_cells.length; ++i) {\n",
       "                    if (nbb_cells[i].input_prompt_number == nbb_cell_id) {\n",
       "                        if (nbb_cells[i].get_text() == nbb_unformatted_code) {\n",
       "                             nbb_cells[i].set_text(nbb_formatted_code);\n",
       "                        }\n",
       "                        break;\n",
       "                    }\n",
       "                }\n",
       "            }, 500);\n",
       "            "
      ],
      "text/plain": [
       "<IPython.core.display.Javascript object>"
      ]
     },
     "metadata": {},
     "output_type": "display_data"
    }
   ],
   "source": [
    "tfidf_df = pd.DataFrame(vectorized.toarray(), columns=tfidf.get_feature_names())"
   ]
  },
  {
   "cell_type": "code",
   "execution_count": 52,
   "metadata": {},
   "outputs": [
    {
     "data": {
      "text/html": [
       "<div>\n",
       "<style scoped>\n",
       "    .dataframe tbody tr th:only-of-type {\n",
       "        vertical-align: middle;\n",
       "    }\n",
       "\n",
       "    .dataframe tbody tr th {\n",
       "        vertical-align: top;\n",
       "    }\n",
       "\n",
       "    .dataframe thead th {\n",
       "        text-align: right;\n",
       "    }\n",
       "</style>\n",
       "<table border=\"1\" class=\"dataframe\">\n",
       "  <thead>\n",
       "    <tr style=\"text-align: right;\">\n",
       "      <th></th>\n",
       "      <th>aa</th>\n",
       "      <th>aaa</th>\n",
       "      <th>aaaaaaaaaaaaaaaaaaaw</th>\n",
       "      <th>aaaah</th>\n",
       "      <th>aaaahhh</th>\n",
       "      <th>aaahhhh</th>\n",
       "      <th>aah</th>\n",
       "      <th>aahhh</th>\n",
       "      <th>aak</th>\n",
       "      <th>aalegra</th>\n",
       "      <th>...</th>\n",
       "      <th>자꾸</th>\n",
       "      <th>절대</th>\n",
       "      <th>중독</th>\n",
       "      <th>지금</th>\n",
       "      <th>표정</th>\n",
       "      <th>품에</th>\n",
       "      <th>피터팬</th>\n",
       "      <th>하나</th>\n",
       "      <th>혹시</th>\n",
       "      <th>흐린</th>\n",
       "    </tr>\n",
       "  </thead>\n",
       "  <tbody>\n",
       "    <tr>\n",
       "      <th>0</th>\n",
       "      <td>0.0</td>\n",
       "      <td>0.0</td>\n",
       "      <td>0.0</td>\n",
       "      <td>0.0</td>\n",
       "      <td>0.0</td>\n",
       "      <td>0.0</td>\n",
       "      <td>0.0</td>\n",
       "      <td>0.0</td>\n",
       "      <td>0.0</td>\n",
       "      <td>0.0</td>\n",
       "      <td>...</td>\n",
       "      <td>0.0</td>\n",
       "      <td>0.0</td>\n",
       "      <td>0.0</td>\n",
       "      <td>0.0</td>\n",
       "      <td>0.0</td>\n",
       "      <td>0.0</td>\n",
       "      <td>0.0</td>\n",
       "      <td>0.0</td>\n",
       "      <td>0.0</td>\n",
       "      <td>0.00000</td>\n",
       "    </tr>\n",
       "    <tr>\n",
       "      <th>1</th>\n",
       "      <td>0.0</td>\n",
       "      <td>0.0</td>\n",
       "      <td>0.0</td>\n",
       "      <td>0.0</td>\n",
       "      <td>0.0</td>\n",
       "      <td>0.0</td>\n",
       "      <td>0.0</td>\n",
       "      <td>0.0</td>\n",
       "      <td>0.0</td>\n",
       "      <td>0.0</td>\n",
       "      <td>...</td>\n",
       "      <td>0.0</td>\n",
       "      <td>0.0</td>\n",
       "      <td>0.0</td>\n",
       "      <td>0.0</td>\n",
       "      <td>0.0</td>\n",
       "      <td>0.0</td>\n",
       "      <td>0.0</td>\n",
       "      <td>0.0</td>\n",
       "      <td>0.0</td>\n",
       "      <td>0.00000</td>\n",
       "    </tr>\n",
       "    <tr>\n",
       "      <th>2</th>\n",
       "      <td>0.0</td>\n",
       "      <td>0.0</td>\n",
       "      <td>0.0</td>\n",
       "      <td>0.0</td>\n",
       "      <td>0.0</td>\n",
       "      <td>0.0</td>\n",
       "      <td>0.0</td>\n",
       "      <td>0.0</td>\n",
       "      <td>0.0</td>\n",
       "      <td>0.0</td>\n",
       "      <td>...</td>\n",
       "      <td>0.0</td>\n",
       "      <td>0.0</td>\n",
       "      <td>0.0</td>\n",
       "      <td>0.0</td>\n",
       "      <td>0.0</td>\n",
       "      <td>0.0</td>\n",
       "      <td>0.0</td>\n",
       "      <td>0.0</td>\n",
       "      <td>0.0</td>\n",
       "      <td>0.00000</td>\n",
       "    </tr>\n",
       "    <tr>\n",
       "      <th>3</th>\n",
       "      <td>0.0</td>\n",
       "      <td>0.0</td>\n",
       "      <td>0.0</td>\n",
       "      <td>0.0</td>\n",
       "      <td>0.0</td>\n",
       "      <td>0.0</td>\n",
       "      <td>0.0</td>\n",
       "      <td>0.0</td>\n",
       "      <td>0.0</td>\n",
       "      <td>0.0</td>\n",
       "      <td>...</td>\n",
       "      <td>0.0</td>\n",
       "      <td>0.0</td>\n",
       "      <td>0.0</td>\n",
       "      <td>0.0</td>\n",
       "      <td>0.0</td>\n",
       "      <td>0.0</td>\n",
       "      <td>0.0</td>\n",
       "      <td>0.0</td>\n",
       "      <td>0.0</td>\n",
       "      <td>0.00000</td>\n",
       "    </tr>\n",
       "    <tr>\n",
       "      <th>4</th>\n",
       "      <td>0.0</td>\n",
       "      <td>0.0</td>\n",
       "      <td>0.0</td>\n",
       "      <td>0.0</td>\n",
       "      <td>0.0</td>\n",
       "      <td>0.0</td>\n",
       "      <td>0.0</td>\n",
       "      <td>0.0</td>\n",
       "      <td>0.0</td>\n",
       "      <td>0.0</td>\n",
       "      <td>...</td>\n",
       "      <td>0.0</td>\n",
       "      <td>0.0</td>\n",
       "      <td>0.0</td>\n",
       "      <td>0.0</td>\n",
       "      <td>0.0</td>\n",
       "      <td>0.0</td>\n",
       "      <td>0.0</td>\n",
       "      <td>0.0</td>\n",
       "      <td>0.0</td>\n",
       "      <td>0.00000</td>\n",
       "    </tr>\n",
       "    <tr>\n",
       "      <th>...</th>\n",
       "      <td>...</td>\n",
       "      <td>...</td>\n",
       "      <td>...</td>\n",
       "      <td>...</td>\n",
       "      <td>...</td>\n",
       "      <td>...</td>\n",
       "      <td>...</td>\n",
       "      <td>...</td>\n",
       "      <td>...</td>\n",
       "      <td>...</td>\n",
       "      <td>...</td>\n",
       "      <td>...</td>\n",
       "      <td>...</td>\n",
       "      <td>...</td>\n",
       "      <td>...</td>\n",
       "      <td>...</td>\n",
       "      <td>...</td>\n",
       "      <td>...</td>\n",
       "      <td>...</td>\n",
       "      <td>...</td>\n",
       "      <td>...</td>\n",
       "    </tr>\n",
       "    <tr>\n",
       "      <th>7253</th>\n",
       "      <td>0.0</td>\n",
       "      <td>0.0</td>\n",
       "      <td>0.0</td>\n",
       "      <td>0.0</td>\n",
       "      <td>0.0</td>\n",
       "      <td>0.0</td>\n",
       "      <td>0.0</td>\n",
       "      <td>0.0</td>\n",
       "      <td>0.0</td>\n",
       "      <td>0.0</td>\n",
       "      <td>...</td>\n",
       "      <td>0.0</td>\n",
       "      <td>0.0</td>\n",
       "      <td>0.0</td>\n",
       "      <td>0.0</td>\n",
       "      <td>0.0</td>\n",
       "      <td>0.0</td>\n",
       "      <td>0.0</td>\n",
       "      <td>0.0</td>\n",
       "      <td>0.0</td>\n",
       "      <td>0.12522</td>\n",
       "    </tr>\n",
       "    <tr>\n",
       "      <th>7254</th>\n",
       "      <td>0.0</td>\n",
       "      <td>0.0</td>\n",
       "      <td>0.0</td>\n",
       "      <td>0.0</td>\n",
       "      <td>0.0</td>\n",
       "      <td>0.0</td>\n",
       "      <td>0.0</td>\n",
       "      <td>0.0</td>\n",
       "      <td>0.0</td>\n",
       "      <td>0.0</td>\n",
       "      <td>...</td>\n",
       "      <td>0.0</td>\n",
       "      <td>0.0</td>\n",
       "      <td>0.0</td>\n",
       "      <td>0.0</td>\n",
       "      <td>0.0</td>\n",
       "      <td>0.0</td>\n",
       "      <td>0.0</td>\n",
       "      <td>0.0</td>\n",
       "      <td>0.0</td>\n",
       "      <td>0.00000</td>\n",
       "    </tr>\n",
       "    <tr>\n",
       "      <th>7255</th>\n",
       "      <td>0.0</td>\n",
       "      <td>0.0</td>\n",
       "      <td>0.0</td>\n",
       "      <td>0.0</td>\n",
       "      <td>0.0</td>\n",
       "      <td>0.0</td>\n",
       "      <td>0.0</td>\n",
       "      <td>0.0</td>\n",
       "      <td>0.0</td>\n",
       "      <td>0.0</td>\n",
       "      <td>...</td>\n",
       "      <td>0.0</td>\n",
       "      <td>0.0</td>\n",
       "      <td>0.0</td>\n",
       "      <td>0.0</td>\n",
       "      <td>0.0</td>\n",
       "      <td>0.0</td>\n",
       "      <td>0.0</td>\n",
       "      <td>0.0</td>\n",
       "      <td>0.0</td>\n",
       "      <td>0.00000</td>\n",
       "    </tr>\n",
       "    <tr>\n",
       "      <th>7256</th>\n",
       "      <td>0.0</td>\n",
       "      <td>0.0</td>\n",
       "      <td>0.0</td>\n",
       "      <td>0.0</td>\n",
       "      <td>0.0</td>\n",
       "      <td>0.0</td>\n",
       "      <td>0.0</td>\n",
       "      <td>0.0</td>\n",
       "      <td>0.0</td>\n",
       "      <td>0.0</td>\n",
       "      <td>...</td>\n",
       "      <td>0.0</td>\n",
       "      <td>0.0</td>\n",
       "      <td>0.0</td>\n",
       "      <td>0.0</td>\n",
       "      <td>0.0</td>\n",
       "      <td>0.0</td>\n",
       "      <td>0.0</td>\n",
       "      <td>0.0</td>\n",
       "      <td>0.0</td>\n",
       "      <td>0.00000</td>\n",
       "    </tr>\n",
       "    <tr>\n",
       "      <th>7257</th>\n",
       "      <td>0.0</td>\n",
       "      <td>0.0</td>\n",
       "      <td>0.0</td>\n",
       "      <td>0.0</td>\n",
       "      <td>0.0</td>\n",
       "      <td>0.0</td>\n",
       "      <td>0.0</td>\n",
       "      <td>0.0</td>\n",
       "      <td>0.0</td>\n",
       "      <td>0.0</td>\n",
       "      <td>...</td>\n",
       "      <td>0.0</td>\n",
       "      <td>0.0</td>\n",
       "      <td>0.0</td>\n",
       "      <td>0.0</td>\n",
       "      <td>0.0</td>\n",
       "      <td>0.0</td>\n",
       "      <td>0.0</td>\n",
       "      <td>0.0</td>\n",
       "      <td>0.0</td>\n",
       "      <td>0.00000</td>\n",
       "    </tr>\n",
       "  </tbody>\n",
       "</table>\n",
       "<p>7258 rows × 12172 columns</p>\n",
       "</div>"
      ],
      "text/plain": [
       "       aa  aaa  aaaaaaaaaaaaaaaaaaaw  aaaah  aaaahhh  aaahhhh  aah  aahhh  \\\n",
       "0     0.0  0.0                   0.0    0.0      0.0      0.0  0.0    0.0   \n",
       "1     0.0  0.0                   0.0    0.0      0.0      0.0  0.0    0.0   \n",
       "2     0.0  0.0                   0.0    0.0      0.0      0.0  0.0    0.0   \n",
       "3     0.0  0.0                   0.0    0.0      0.0      0.0  0.0    0.0   \n",
       "4     0.0  0.0                   0.0    0.0      0.0      0.0  0.0    0.0   \n",
       "...   ...  ...                   ...    ...      ...      ...  ...    ...   \n",
       "7253  0.0  0.0                   0.0    0.0      0.0      0.0  0.0    0.0   \n",
       "7254  0.0  0.0                   0.0    0.0      0.0      0.0  0.0    0.0   \n",
       "7255  0.0  0.0                   0.0    0.0      0.0      0.0  0.0    0.0   \n",
       "7256  0.0  0.0                   0.0    0.0      0.0      0.0  0.0    0.0   \n",
       "7257  0.0  0.0                   0.0    0.0      0.0      0.0  0.0    0.0   \n",
       "\n",
       "      aak  aalegra  ...   자꾸   절대   중독   지금   표정   품에  피터팬   하나   혹시       흐린  \n",
       "0     0.0      0.0  ...  0.0  0.0  0.0  0.0  0.0  0.0  0.0  0.0  0.0  0.00000  \n",
       "1     0.0      0.0  ...  0.0  0.0  0.0  0.0  0.0  0.0  0.0  0.0  0.0  0.00000  \n",
       "2     0.0      0.0  ...  0.0  0.0  0.0  0.0  0.0  0.0  0.0  0.0  0.0  0.00000  \n",
       "3     0.0      0.0  ...  0.0  0.0  0.0  0.0  0.0  0.0  0.0  0.0  0.0  0.00000  \n",
       "4     0.0      0.0  ...  0.0  0.0  0.0  0.0  0.0  0.0  0.0  0.0  0.0  0.00000  \n",
       "...   ...      ...  ...  ...  ...  ...  ...  ...  ...  ...  ...  ...      ...  \n",
       "7253  0.0      0.0  ...  0.0  0.0  0.0  0.0  0.0  0.0  0.0  0.0  0.0  0.12522  \n",
       "7254  0.0      0.0  ...  0.0  0.0  0.0  0.0  0.0  0.0  0.0  0.0  0.0  0.00000  \n",
       "7255  0.0      0.0  ...  0.0  0.0  0.0  0.0  0.0  0.0  0.0  0.0  0.0  0.00000  \n",
       "7256  0.0      0.0  ...  0.0  0.0  0.0  0.0  0.0  0.0  0.0  0.0  0.0  0.00000  \n",
       "7257  0.0      0.0  ...  0.0  0.0  0.0  0.0  0.0  0.0  0.0  0.0  0.0  0.00000  \n",
       "\n",
       "[7258 rows x 12172 columns]"
      ]
     },
     "execution_count": 52,
     "metadata": {},
     "output_type": "execute_result"
    },
    {
     "data": {
      "application/javascript": [
       "\n",
       "            setTimeout(function() {\n",
       "                var nbb_cell_id = 52;\n",
       "                var nbb_unformatted_code = \"tfidf_df\";\n",
       "                var nbb_formatted_code = \"tfidf_df\";\n",
       "                var nbb_cells = Jupyter.notebook.get_cells();\n",
       "                for (var i = 0; i < nbb_cells.length; ++i) {\n",
       "                    if (nbb_cells[i].input_prompt_number == nbb_cell_id) {\n",
       "                        if (nbb_cells[i].get_text() == nbb_unformatted_code) {\n",
       "                             nbb_cells[i].set_text(nbb_formatted_code);\n",
       "                        }\n",
       "                        break;\n",
       "                    }\n",
       "                }\n",
       "            }, 500);\n",
       "            "
      ],
      "text/plain": [
       "<IPython.core.display.Javascript object>"
      ]
     },
     "metadata": {},
     "output_type": "display_data"
    },
    {
     "data": {
      "application/javascript": [
       "\n",
       "            setTimeout(function() {\n",
       "                var nbb_cell_id = 52;\n",
       "                var nbb_unformatted_code = \"tfidf_df\";\n",
       "                var nbb_formatted_code = \"tfidf_df\";\n",
       "                var nbb_cells = Jupyter.notebook.get_cells();\n",
       "                for (var i = 0; i < nbb_cells.length; ++i) {\n",
       "                    if (nbb_cells[i].input_prompt_number == nbb_cell_id) {\n",
       "                        if (nbb_cells[i].get_text() == nbb_unformatted_code) {\n",
       "                             nbb_cells[i].set_text(nbb_formatted_code);\n",
       "                        }\n",
       "                        break;\n",
       "                    }\n",
       "                }\n",
       "            }, 500);\n",
       "            "
      ],
      "text/plain": [
       "<IPython.core.display.Javascript object>"
      ]
     },
     "metadata": {},
     "output_type": "display_data"
    }
   ],
   "source": [
    "tfidf_df"
   ]
  },
  {
   "cell_type": "code",
   "execution_count": 58,
   "metadata": {
    "scrolled": false
   },
   "outputs": [
    {
     "name": "stderr",
     "output_type": "stream",
     "text": [
      "C:\\ProgramData\\Anaconda3\\lib\\site-packages\\sklearn\\cluster\\_kmeans.py:939: FutureWarning: 'n_jobs' was deprecated in version 0.23 and will be removed in 0.25.\n",
      "  \" removed in 0.25.\", FutureWarning)\n",
      "C:\\ProgramData\\Anaconda3\\lib\\site-packages\\sklearn\\cluster\\_kmeans.py:939: FutureWarning: 'n_jobs' was deprecated in version 0.23 and will be removed in 0.25.\n",
      "  \" removed in 0.25.\", FutureWarning)\n",
      "C:\\ProgramData\\Anaconda3\\lib\\site-packages\\sklearn\\cluster\\_kmeans.py:939: FutureWarning: 'n_jobs' was deprecated in version 0.23 and will be removed in 0.25.\n",
      "  \" removed in 0.25.\", FutureWarning)\n",
      "C:\\ProgramData\\Anaconda3\\lib\\site-packages\\yellowbrick\\utils\\kneed.py:182: YellowbrickWarning: No \"knee\" or \"elbow point\" detected This could be due to bad clustering, no actual clusters being formed etc.\n",
      "  warnings.warn(warning_message, YellowbrickWarning)\n",
      "C:\\ProgramData\\Anaconda3\\lib\\site-packages\\yellowbrick\\utils\\kneed.py:140: YellowbrickWarning: No 'knee' or 'elbow point' detected This could be due to bad clustering, no actual clusters being formed etc.\n",
      "  warnings.warn(warning_message, YellowbrickWarning)\n",
      "C:\\ProgramData\\Anaconda3\\lib\\site-packages\\yellowbrick\\cluster\\elbow.py:343: YellowbrickWarning: No 'knee' or 'elbow' point detected, pass `locate_elbow=False` to remove the warning\n",
      "  warnings.warn(warning_message, YellowbrickWarning)\n",
      "C:\\ProgramData\\Anaconda3\\lib\\site-packages\\sklearn\\base.py:213: FutureWarning: From version 0.24, get_params will raise an AttributeError if a parameter cannot be retrieved as an instance attribute. Previously it would return None.\n",
      "  FutureWarning)\n"
     ]
    },
    {
     "data": {
      "text/plain": [
       "KElbowVisualizer(ax=<AxesSubplot:>, k=None, metric='silhouette', model=None)"
      ]
     },
     "execution_count": 58,
     "metadata": {},
     "output_type": "execute_result"
    },
    {
     "data": {
      "image/png": "[encoded data removed]",
      "text/plain": [
       "<Figure size 576x396 with 2 Axes>"
      ]
     },
     "metadata": {},
     "output_type": "display_data"
    },
    {
     "data": {
      "application/javascript": [
       "\n",
       "            setTimeout(function() {\n",
       "                var nbb_cell_id = 58;\n",
       "                var nbb_unformatted_code = \"model = KMeans(n_jobs=-1)\\nvisualizer = KElbowVisualizer(model=model, k=(9, 12), metric=\\\"silhouette\\\",)\\n\\nvisualizer.fit(tfidf_df)\";\n",
       "                var nbb_formatted_code = \"model = KMeans(n_jobs=-1)\\nvisualizer = KElbowVisualizer(model=model, k=(9, 12), metric=\\\"silhouette\\\",)\\n\\nvisualizer.fit(tfidf_df)\";\n",
       "                var nbb_cells = Jupyter.notebook.get_cells();\n",
       "                for (var i = 0; i < nbb_cells.length; ++i) {\n",
       "                    if (nbb_cells[i].input_prompt_number == nbb_cell_id) {\n",
       "                        if (nbb_cells[i].get_text() == nbb_unformatted_code) {\n",
       "                             nbb_cells[i].set_text(nbb_formatted_code);\n",
       "                        }\n",
       "                        break;\n",
       "                    }\n",
       "                }\n",
       "            }, 500);\n",
       "            "
      ],
      "text/plain": [
       "<IPython.core.display.Javascript object>"
      ]
     },
     "metadata": {},
     "output_type": "display_data"
    },
    {
     "data": {
      "application/javascript": [
       "\n",
       "            setTimeout(function() {\n",
       "                var nbb_cell_id = 58;\n",
       "                var nbb_unformatted_code = \"model = KMeans(n_jobs=-1)\\nvisualizer = KElbowVisualizer(model=model, k=(9, 12), metric=\\\"silhouette\\\",)\\n\\nvisualizer.fit(tfidf_df)\";\n",
       "                var nbb_formatted_code = \"model = KMeans(n_jobs=-1)\\nvisualizer = KElbowVisualizer(model=model, k=(9, 12), metric=\\\"silhouette\\\",)\\n\\nvisualizer.fit(tfidf_df)\";\n",
       "                var nbb_cells = Jupyter.notebook.get_cells();\n",
       "                for (var i = 0; i < nbb_cells.length; ++i) {\n",
       "                    if (nbb_cells[i].input_prompt_number == nbb_cell_id) {\n",
       "                        if (nbb_cells[i].get_text() == nbb_unformatted_code) {\n",
       "                             nbb_cells[i].set_text(nbb_formatted_code);\n",
       "                        }\n",
       "                        break;\n",
       "                    }\n",
       "                }\n",
       "            }, 500);\n",
       "            "
      ],
      "text/plain": [
       "<IPython.core.display.Javascript object>"
      ]
     },
     "metadata": {},
     "output_type": "display_data"
    }
   ],
   "source": [
    "model = KMeans(n_jobs=-1)\n",
    "visualizer = KElbowVisualizer(model=model, k=(9, 12), metric=\"silhouette\",)\n",
    "\n",
    "visualizer.fit(tfidf_df)"
   ]
  },
  {
   "cell_type": "code",
   "execution_count": 64,
   "metadata": {},
   "outputs": [
    {
     "name": "stderr",
     "output_type": "stream",
     "text": [
      "C:\\ProgramData\\Anaconda3\\lib\\site-packages\\sklearn\\cluster\\_kmeans.py:939: FutureWarning: 'n_jobs' was deprecated in version 0.23 and will be removed in 0.25.\n",
      "  \" removed in 0.25.\", FutureWarning)\n"
     ]
    },
    {
     "data": {
      "application/javascript": [
       "\n",
       "            setTimeout(function() {\n",
       "                var nbb_cell_id = 64;\n",
       "                var nbb_unformatted_code = \"model = KMeans(n_clusters=11, n_jobs=-1)\\nclusters = model.fit_predict(vectorized.toarray())\";\n",
       "                var nbb_formatted_code = \"model = KMeans(n_clusters=11, n_jobs=-1)\\nclusters = model.fit_predict(vectorized.toarray())\";\n",
       "                var nbb_cells = Jupyter.notebook.get_cells();\n",
       "                for (var i = 0; i < nbb_cells.length; ++i) {\n",
       "                    if (nbb_cells[i].input_prompt_number == nbb_cell_id) {\n",
       "                        if (nbb_cells[i].get_text() == nbb_unformatted_code) {\n",
       "                             nbb_cells[i].set_text(nbb_formatted_code);\n",
       "                        }\n",
       "                        break;\n",
       "                    }\n",
       "                }\n",
       "            }, 500);\n",
       "            "
      ],
      "text/plain": [
       "<IPython.core.display.Javascript object>"
      ]
     },
     "metadata": {},
     "output_type": "display_data"
    },
    {
     "data": {
      "application/javascript": [
       "\n",
       "            setTimeout(function() {\n",
       "                var nbb_cell_id = 64;\n",
       "                var nbb_unformatted_code = \"model = KMeans(n_clusters=11, n_jobs=-1)\\nclusters = model.fit_predict(vectorized.toarray())\";\n",
       "                var nbb_formatted_code = \"model = KMeans(n_clusters=11, n_jobs=-1)\\nclusters = model.fit_predict(vectorized.toarray())\";\n",
       "                var nbb_cells = Jupyter.notebook.get_cells();\n",
       "                for (var i = 0; i < nbb_cells.length; ++i) {\n",
       "                    if (nbb_cells[i].input_prompt_number == nbb_cell_id) {\n",
       "                        if (nbb_cells[i].get_text() == nbb_unformatted_code) {\n",
       "                             nbb_cells[i].set_text(nbb_formatted_code);\n",
       "                        }\n",
       "                        break;\n",
       "                    }\n",
       "                }\n",
       "            }, 500);\n",
       "            "
      ],
      "text/plain": [
       "<IPython.core.display.Javascript object>"
      ]
     },
     "metadata": {},
     "output_type": "display_data"
    }
   ],
   "source": [
    "model = KMeans(n_clusters=11, n_jobs=-1)\n",
    "clusters = model.fit_predict(vectorized.toarray())"
   ]
  },
  {
   "cell_type": "code",
   "execution_count": 69,
   "metadata": {},
   "outputs": [
    {
     "name": "stderr",
     "output_type": "stream",
     "text": [
      "C:\\ProgramData\\Anaconda3\\lib\\site-packages\\ipykernel_launcher.py:1: SettingWithCopyWarning: \n",
      "A value is trying to be set on a copy of a slice from a DataFrame.\n",
      "Try using .loc[row_indexer,col_indexer] = value instead\n",
      "\n",
      "See the caveats in the documentation: https://pandas.pydata.org/pandas-docs/stable/user_guide/indexing.html#returning-a-view-versus-a-copy\n",
      "  \"\"\"Entry point for launching an IPython kernel.\n"
     ]
    },
    {
     "data": {
      "application/javascript": [
       "\n",
       "            setTimeout(function() {\n",
       "                var nbb_cell_id = 69;\n",
       "                var nbb_unformatted_code = \"px_df['clst_label']=clusters\";\n",
       "                var nbb_formatted_code = \"px_df[\\\"clst_label\\\"] = clusters\";\n",
       "                var nbb_cells = Jupyter.notebook.get_cells();\n",
       "                for (var i = 0; i < nbb_cells.length; ++i) {\n",
       "                    if (nbb_cells[i].input_prompt_number == nbb_cell_id) {\n",
       "                        if (nbb_cells[i].get_text() == nbb_unformatted_code) {\n",
       "                             nbb_cells[i].set_text(nbb_formatted_code);\n",
       "                        }\n",
       "                        break;\n",
       "                    }\n",
       "                }\n",
       "            }, 500);\n",
       "            "
      ],
      "text/plain": [
       "<IPython.core.display.Javascript object>"
      ]
     },
     "metadata": {},
     "output_type": "display_data"
    },
    {
     "data": {
      "application/javascript": [
       "\n",
       "            setTimeout(function() {\n",
       "                var nbb_cell_id = 69;\n",
       "                var nbb_unformatted_code = \"px_df['clst_label']=clusters\";\n",
       "                var nbb_formatted_code = \"px_df[\\\"clst_label\\\"] = clusters\";\n",
       "                var nbb_cells = Jupyter.notebook.get_cells();\n",
       "                for (var i = 0; i < nbb_cells.length; ++i) {\n",
       "                    if (nbb_cells[i].input_prompt_number == nbb_cell_id) {\n",
       "                        if (nbb_cells[i].get_text() == nbb_unformatted_code) {\n",
       "                             nbb_cells[i].set_text(nbb_formatted_code);\n",
       "                        }\n",
       "                        break;\n",
       "                    }\n",
       "                }\n",
       "            }, 500);\n",
       "            "
      ],
      "text/plain": [
       "<IPython.core.display.Javascript object>"
      ]
     },
     "metadata": {},
     "output_type": "display_data"
    }
   ],
   "source": [
    "px_df[\"clst_label\"] = clusters"
   ]
  },
  {
   "cell_type": "code",
   "execution_count": 84,
   "metadata": {},
   "outputs": [
    {
     "data": {
      "text/plain": [
       "4     4250\n",
       "3     1672\n",
       "1      485\n",
       "0      313\n",
       "5      185\n",
       "2      159\n",
       "7      121\n",
       "8       58\n",
       "6       11\n",
       "10       2\n",
       "9        2\n",
       "Name: clst_label, dtype: int64"
      ]
     },
     "execution_count": 84,
     "metadata": {},
     "output_type": "execute_result"
    },
    {
     "data": {
      "application/javascript": [
       "\n",
       "            setTimeout(function() {\n",
       "                var nbb_cell_id = 84;\n",
       "                var nbb_unformatted_code = \"px_df[\\\"clst_label\\\"].value_counts()\";\n",
       "                var nbb_formatted_code = \"px_df[\\\"clst_label\\\"].value_counts()\";\n",
       "                var nbb_cells = Jupyter.notebook.get_cells();\n",
       "                for (var i = 0; i < nbb_cells.length; ++i) {\n",
       "                    if (nbb_cells[i].input_prompt_number == nbb_cell_id) {\n",
       "                        if (nbb_cells[i].get_text() == nbb_unformatted_code) {\n",
       "                             nbb_cells[i].set_text(nbb_formatted_code);\n",
       "                        }\n",
       "                        break;\n",
       "                    }\n",
       "                }\n",
       "            }, 500);\n",
       "            "
      ],
      "text/plain": [
       "<IPython.core.display.Javascript object>"
      ]
     },
     "metadata": {},
     "output_type": "display_data"
    },
    {
     "data": {
      "application/javascript": [
       "\n",
       "            setTimeout(function() {\n",
       "                var nbb_cell_id = 84;\n",
       "                var nbb_unformatted_code = \"px_df[\\\"clst_label\\\"].value_counts()\";\n",
       "                var nbb_formatted_code = \"px_df[\\\"clst_label\\\"].value_counts()\";\n",
       "                var nbb_cells = Jupyter.notebook.get_cells();\n",
       "                for (var i = 0; i < nbb_cells.length; ++i) {\n",
       "                    if (nbb_cells[i].input_prompt_number == nbb_cell_id) {\n",
       "                        if (nbb_cells[i].get_text() == nbb_unformatted_code) {\n",
       "                             nbb_cells[i].set_text(nbb_formatted_code);\n",
       "                        }\n",
       "                        break;\n",
       "                    }\n",
       "                }\n",
       "            }, 500);\n",
       "            "
      ],
      "text/plain": [
       "<IPython.core.display.Javascript object>"
      ]
     },
     "metadata": {},
     "output_type": "display_data"
    }
   ],
   "source": [
    "px_df[\"clst_label\"].value_counts()"
   ]
  },
  {
   "cell_type": "code",
   "execution_count": 70,
   "metadata": {},
   "outputs": [
    {
     "data": {
      "application/javascript": [
       "\n",
       "            setTimeout(function() {\n",
       "                var nbb_cell_id = 70;\n",
       "                var nbb_unformatted_code = \"def get_keyword_counts(data):\\n    micro_genre_count = {}\\n    word_count = {}\\n    for x in data[\\\"genres\\\"]:\\n        m_genres = x.split(\\\", \\\")\\n        for m in m_genres:\\n            if m not in micro_genre_count:\\n                micro_genre_count[m] = 1\\n            else:\\n                micro_genre_count[m] += 1\\n            words = m.split(\\\" \\\")\\n            for word in words:\\n                if word not in word_count:\\n                    word_count[word] = 1\\n                else:\\n                    word_count[word] += 1\\n    try:\\n        del micro_genre_count[\\\"\\\"]\\n        del word_count[\\\"\\\"]\\n    except:\\n        pass\\n    return micro_genre_count, word_count\";\n",
       "                var nbb_formatted_code = \"def get_keyword_counts(data):\\n    micro_genre_count = {}\\n    word_count = {}\\n    for x in data[\\\"genres\\\"]:\\n        m_genres = x.split(\\\", \\\")\\n        for m in m_genres:\\n            if m not in micro_genre_count:\\n                micro_genre_count[m] = 1\\n            else:\\n                micro_genre_count[m] += 1\\n            words = m.split(\\\" \\\")\\n            for word in words:\\n                if word not in word_count:\\n                    word_count[word] = 1\\n                else:\\n                    word_count[word] += 1\\n    try:\\n        del micro_genre_count[\\\"\\\"]\\n        del word_count[\\\"\\\"]\\n    except:\\n        pass\\n    return micro_genre_count, word_count\";\n",
       "                var nbb_cells = Jupyter.notebook.get_cells();\n",
       "                for (var i = 0; i < nbb_cells.length; ++i) {\n",
       "                    if (nbb_cells[i].input_prompt_number == nbb_cell_id) {\n",
       "                        if (nbb_cells[i].get_text() == nbb_unformatted_code) {\n",
       "                             nbb_cells[i].set_text(nbb_formatted_code);\n",
       "                        }\n",
       "                        break;\n",
       "                    }\n",
       "                }\n",
       "            }, 500);\n",
       "            "
      ],
      "text/plain": [
       "<IPython.core.display.Javascript object>"
      ]
     },
     "metadata": {},
     "output_type": "display_data"
    },
    {
     "data": {
      "application/javascript": [
       "\n",
       "            setTimeout(function() {\n",
       "                var nbb_cell_id = 70;\n",
       "                var nbb_unformatted_code = \"def get_keyword_counts(data):\\n    micro_genre_count = {}\\n    word_count = {}\\n    for x in data[\\\"genres\\\"]:\\n        m_genres = x.split(\\\", \\\")\\n        for m in m_genres:\\n            if m not in micro_genre_count:\\n                micro_genre_count[m] = 1\\n            else:\\n                micro_genre_count[m] += 1\\n            words = m.split(\\\" \\\")\\n            for word in words:\\n                if word not in word_count:\\n                    word_count[word] = 1\\n                else:\\n                    word_count[word] += 1\\n    try:\\n        del micro_genre_count[\\\"\\\"]\\n        del word_count[\\\"\\\"]\\n    except:\\n        pass\\n    return micro_genre_count, word_count\";\n",
       "                var nbb_formatted_code = \"def get_keyword_counts(data):\\n    micro_genre_count = {}\\n    word_count = {}\\n    for x in data[\\\"genres\\\"]:\\n        m_genres = x.split(\\\", \\\")\\n        for m in m_genres:\\n            if m not in micro_genre_count:\\n                micro_genre_count[m] = 1\\n            else:\\n                micro_genre_count[m] += 1\\n            words = m.split(\\\" \\\")\\n            for word in words:\\n                if word not in word_count:\\n                    word_count[word] = 1\\n                else:\\n                    word_count[word] += 1\\n    try:\\n        del micro_genre_count[\\\"\\\"]\\n        del word_count[\\\"\\\"]\\n    except:\\n        pass\\n    return micro_genre_count, word_count\";\n",
       "                var nbb_cells = Jupyter.notebook.get_cells();\n",
       "                for (var i = 0; i < nbb_cells.length; ++i) {\n",
       "                    if (nbb_cells[i].input_prompt_number == nbb_cell_id) {\n",
       "                        if (nbb_cells[i].get_text() == nbb_unformatted_code) {\n",
       "                             nbb_cells[i].set_text(nbb_formatted_code);\n",
       "                        }\n",
       "                        break;\n",
       "                    }\n",
       "                }\n",
       "            }, 500);\n",
       "            "
      ],
      "text/plain": [
       "<IPython.core.display.Javascript object>"
      ]
     },
     "metadata": {},
     "output_type": "display_data"
    }
   ],
   "source": [
    "def get_keyword_counts(data):\n",
    "    micro_genre_count = {}\n",
    "    word_count = {}\n",
    "    for x in data[\"genres\"]:\n",
    "        m_genres = x.split(\", \")\n",
    "        for m in m_genres:\n",
    "            if m not in micro_genre_count:\n",
    "                micro_genre_count[m] = 1\n",
    "            else:\n",
    "                micro_genre_count[m] += 1\n",
    "            words = m.split(\" \")\n",
    "            for word in words:\n",
    "                if word not in word_count:\n",
    "                    word_count[word] = 1\n",
    "                else:\n",
    "                    word_count[word] += 1\n",
    "    try:\n",
    "        del micro_genre_count[\"\"]\n",
    "        del word_count[\"\"]\n",
    "    except:\n",
    "        pass\n",
    "    return micro_genre_count, word_count"
   ]
  },
  {
   "cell_type": "code",
   "execution_count": 76,
   "metadata": {},
   "outputs": [
    {
     "name": "stderr",
     "output_type": "stream",
     "text": [
      "C:\\ProgramData\\Anaconda3\\lib\\site-packages\\ipykernel_launcher.py:1: SettingWithCopyWarning: \n",
      "A value is trying to be set on a copy of a slice from a DataFrame.\n",
      "Try using .loc[row_indexer,col_indexer] = value instead\n",
      "\n",
      "See the caveats in the documentation: https://pandas.pydata.org/pandas-docs/stable/user_guide/indexing.html#returning-a-view-versus-a-copy\n",
      "  \"\"\"Entry point for launching an IPython kernel.\n"
     ]
    },
    {
     "data": {
      "application/javascript": [
       "\n",
       "            setTimeout(function() {\n",
       "                var nbb_cell_id = 76;\n",
       "                var nbb_unformatted_code = \"px_df[\\\"genres\\\"] = px_df[\\\"genres\\\"].fillna(\\\"not listed\\\")\";\n",
       "                var nbb_formatted_code = \"px_df[\\\"genres\\\"] = px_df[\\\"genres\\\"].fillna(\\\"not listed\\\")\";\n",
       "                var nbb_cells = Jupyter.notebook.get_cells();\n",
       "                for (var i = 0; i < nbb_cells.length; ++i) {\n",
       "                    if (nbb_cells[i].input_prompt_number == nbb_cell_id) {\n",
       "                        if (nbb_cells[i].get_text() == nbb_unformatted_code) {\n",
       "                             nbb_cells[i].set_text(nbb_formatted_code);\n",
       "                        }\n",
       "                        break;\n",
       "                    }\n",
       "                }\n",
       "            }, 500);\n",
       "            "
      ],
      "text/plain": [
       "<IPython.core.display.Javascript object>"
      ]
     },
     "metadata": {},
     "output_type": "display_data"
    },
    {
     "data": {
      "application/javascript": [
       "\n",
       "            setTimeout(function() {\n",
       "                var nbb_cell_id = 76;\n",
       "                var nbb_unformatted_code = \"px_df[\\\"genres\\\"] = px_df[\\\"genres\\\"].fillna(\\\"not listed\\\")\";\n",
       "                var nbb_formatted_code = \"px_df[\\\"genres\\\"] = px_df[\\\"genres\\\"].fillna(\\\"not listed\\\")\";\n",
       "                var nbb_cells = Jupyter.notebook.get_cells();\n",
       "                for (var i = 0; i < nbb_cells.length; ++i) {\n",
       "                    if (nbb_cells[i].input_prompt_number == nbb_cell_id) {\n",
       "                        if (nbb_cells[i].get_text() == nbb_unformatted_code) {\n",
       "                             nbb_cells[i].set_text(nbb_formatted_code);\n",
       "                        }\n",
       "                        break;\n",
       "                    }\n",
       "                }\n",
       "            }, 500);\n",
       "            "
      ],
      "text/plain": [
       "<IPython.core.display.Javascript object>"
      ]
     },
     "metadata": {},
     "output_type": "display_data"
    }
   ],
   "source": [
    "px_df[\"genres\"] = px_df[\"genres\"].fillna(\"not listed\")"
   ]
  },
  {
   "cell_type": "code",
   "execution_count": 77,
   "metadata": {},
   "outputs": [
    {
     "data": {
      "application/javascript": [
       "\n",
       "            setTimeout(function() {\n",
       "                var nbb_cell_id = 77;\n",
       "                var nbb_unformatted_code = \"micro_genre_count, word_count = get_keyword_counts(px_df)\";\n",
       "                var nbb_formatted_code = \"micro_genre_count, word_count = get_keyword_counts(px_df)\";\n",
       "                var nbb_cells = Jupyter.notebook.get_cells();\n",
       "                for (var i = 0; i < nbb_cells.length; ++i) {\n",
       "                    if (nbb_cells[i].input_prompt_number == nbb_cell_id) {\n",
       "                        if (nbb_cells[i].get_text() == nbb_unformatted_code) {\n",
       "                             nbb_cells[i].set_text(nbb_formatted_code);\n",
       "                        }\n",
       "                        break;\n",
       "                    }\n",
       "                }\n",
       "            }, 500);\n",
       "            "
      ],
      "text/plain": [
       "<IPython.core.display.Javascript object>"
      ]
     },
     "metadata": {},
     "output_type": "display_data"
    },
    {
     "data": {
      "application/javascript": [
       "\n",
       "            setTimeout(function() {\n",
       "                var nbb_cell_id = 77;\n",
       "                var nbb_unformatted_code = \"micro_genre_count, word_count = get_keyword_counts(px_df)\";\n",
       "                var nbb_formatted_code = \"micro_genre_count, word_count = get_keyword_counts(px_df)\";\n",
       "                var nbb_cells = Jupyter.notebook.get_cells();\n",
       "                for (var i = 0; i < nbb_cells.length; ++i) {\n",
       "                    if (nbb_cells[i].input_prompt_number == nbb_cell_id) {\n",
       "                        if (nbb_cells[i].get_text() == nbb_unformatted_code) {\n",
       "                             nbb_cells[i].set_text(nbb_formatted_code);\n",
       "                        }\n",
       "                        break;\n",
       "                    }\n",
       "                }\n",
       "            }, 500);\n",
       "            "
      ],
      "text/plain": [
       "<IPython.core.display.Javascript object>"
      ]
     },
     "metadata": {},
     "output_type": "display_data"
    }
   ],
   "source": [
    "micro_genre_count, word_count = get_keyword_counts(px_df)"
   ]
  },
  {
   "cell_type": "code",
   "execution_count": 78,
   "metadata": {},
   "outputs": [
    {
     "data": {
      "application/javascript": [
       "\n",
       "            setTimeout(function() {\n",
       "                var nbb_cell_id = 78;\n",
       "                var nbb_unformatted_code = \"m_genre_series = pd.Series(micro_genre_count)\\nword_count_series = pd.Series(word_count)\";\n",
       "                var nbb_formatted_code = \"m_genre_series = pd.Series(micro_genre_count)\\nword_count_series = pd.Series(word_count)\";\n",
       "                var nbb_cells = Jupyter.notebook.get_cells();\n",
       "                for (var i = 0; i < nbb_cells.length; ++i) {\n",
       "                    if (nbb_cells[i].input_prompt_number == nbb_cell_id) {\n",
       "                        if (nbb_cells[i].get_text() == nbb_unformatted_code) {\n",
       "                             nbb_cells[i].set_text(nbb_formatted_code);\n",
       "                        }\n",
       "                        break;\n",
       "                    }\n",
       "                }\n",
       "            }, 500);\n",
       "            "
      ],
      "text/plain": [
       "<IPython.core.display.Javascript object>"
      ]
     },
     "metadata": {},
     "output_type": "display_data"
    },
    {
     "data": {
      "application/javascript": [
       "\n",
       "            setTimeout(function() {\n",
       "                var nbb_cell_id = 78;\n",
       "                var nbb_unformatted_code = \"m_genre_series = pd.Series(micro_genre_count)\\nword_count_series = pd.Series(word_count)\";\n",
       "                var nbb_formatted_code = \"m_genre_series = pd.Series(micro_genre_count)\\nword_count_series = pd.Series(word_count)\";\n",
       "                var nbb_cells = Jupyter.notebook.get_cells();\n",
       "                for (var i = 0; i < nbb_cells.length; ++i) {\n",
       "                    if (nbb_cells[i].input_prompt_number == nbb_cell_id) {\n",
       "                        if (nbb_cells[i].get_text() == nbb_unformatted_code) {\n",
       "                             nbb_cells[i].set_text(nbb_formatted_code);\n",
       "                        }\n",
       "                        break;\n",
       "                    }\n",
       "                }\n",
       "            }, 500);\n",
       "            "
      ],
      "text/plain": [
       "<IPython.core.display.Javascript object>"
      ]
     },
     "metadata": {},
     "output_type": "display_data"
    }
   ],
   "source": [
    "m_genre_series = pd.Series(micro_genre_count)\n",
    "word_count_series = pd.Series(word_count)"
   ]
  },
  {
   "cell_type": "code",
   "execution_count": 80,
   "metadata": {},
   "outputs": [
    {
     "data": {
      "application/javascript": [
       "\n",
       "            setTimeout(function() {\n",
       "                var nbb_cell_id = 80;\n",
       "                var nbb_unformatted_code = \"whole_df_m_genre_rep = m_genre_series / px_df.shape[0]\\nwhole_df_w_count_rep = word_count_series / px_df.shape[0]\";\n",
       "                var nbb_formatted_code = \"whole_df_m_genre_rep = m_genre_series / px_df.shape[0]\\nwhole_df_w_count_rep = word_count_series / px_df.shape[0]\";\n",
       "                var nbb_cells = Jupyter.notebook.get_cells();\n",
       "                for (var i = 0; i < nbb_cells.length; ++i) {\n",
       "                    if (nbb_cells[i].input_prompt_number == nbb_cell_id) {\n",
       "                        if (nbb_cells[i].get_text() == nbb_unformatted_code) {\n",
       "                             nbb_cells[i].set_text(nbb_formatted_code);\n",
       "                        }\n",
       "                        break;\n",
       "                    }\n",
       "                }\n",
       "            }, 500);\n",
       "            "
      ],
      "text/plain": [
       "<IPython.core.display.Javascript object>"
      ]
     },
     "metadata": {},
     "output_type": "display_data"
    },
    {
     "data": {
      "application/javascript": [
       "\n",
       "            setTimeout(function() {\n",
       "                var nbb_cell_id = 80;\n",
       "                var nbb_unformatted_code = \"whole_df_m_genre_rep = m_genre_series / px_df.shape[0]\\nwhole_df_w_count_rep = word_count_series / px_df.shape[0]\";\n",
       "                var nbb_formatted_code = \"whole_df_m_genre_rep = m_genre_series / px_df.shape[0]\\nwhole_df_w_count_rep = word_count_series / px_df.shape[0]\";\n",
       "                var nbb_cells = Jupyter.notebook.get_cells();\n",
       "                for (var i = 0; i < nbb_cells.length; ++i) {\n",
       "                    if (nbb_cells[i].input_prompt_number == nbb_cell_id) {\n",
       "                        if (nbb_cells[i].get_text() == nbb_unformatted_code) {\n",
       "                             nbb_cells[i].set_text(nbb_formatted_code);\n",
       "                        }\n",
       "                        break;\n",
       "                    }\n",
       "                }\n",
       "            }, 500);\n",
       "            "
      ],
      "text/plain": [
       "<IPython.core.display.Javascript object>"
      ]
     },
     "metadata": {},
     "output_type": "display_data"
    }
   ],
   "source": [
    "whole_df_m_genre_rep = m_genre_series / px_df.shape[0]\n",
    "whole_df_w_count_rep = word_count_series / px_df.shape[0]"
   ]
  },
  {
   "cell_type": "code",
   "execution_count": 81,
   "metadata": {},
   "outputs": [
    {
     "data": {
      "application/javascript": [
       "\n",
       "            setTimeout(function() {\n",
       "                var nbb_cell_id = 81;\n",
       "                var nbb_unformatted_code = \"clust_genre_dict = {}\\nclust_word_dict = {}\\n# this counts up every time a genre or a word shows up in a single cluster\\nfor cl in px_df[\\\"clst_label\\\"].unique():\\n    cluster_sub_df = px_df[px_df[\\\"clst_label\\\"] == cl]\\n    micro_genre_count, word_count = get_keyword_counts(cluster_sub_df)\\n\\n    m_genre_series = pd.Series(micro_genre_count)\\n    word_series = pd.Series(word_count)\\n\\n    m_genre_rep = m_genre_series / cluster_sub_df.shape[0]\\n    w_count_rep = word_series / cluster_sub_df.shape[0]\\n\\n    clust_genre_dict[\\\"cluster_\\\" + str(cl)] = m_genre_rep\\n    clust_word_dict[\\\"cluster_\\\" + str(cl)] = w_count_rep\";\n",
       "                var nbb_formatted_code = \"clust_genre_dict = {}\\nclust_word_dict = {}\\n# this counts up every time a genre or a word shows up in a single cluster\\nfor cl in px_df[\\\"clst_label\\\"].unique():\\n    cluster_sub_df = px_df[px_df[\\\"clst_label\\\"] == cl]\\n    micro_genre_count, word_count = get_keyword_counts(cluster_sub_df)\\n\\n    m_genre_series = pd.Series(micro_genre_count)\\n    word_series = pd.Series(word_count)\\n\\n    m_genre_rep = m_genre_series / cluster_sub_df.shape[0]\\n    w_count_rep = word_series / cluster_sub_df.shape[0]\\n\\n    clust_genre_dict[\\\"cluster_\\\" + str(cl)] = m_genre_rep\\n    clust_word_dict[\\\"cluster_\\\" + str(cl)] = w_count_rep\";\n",
       "                var nbb_cells = Jupyter.notebook.get_cells();\n",
       "                for (var i = 0; i < nbb_cells.length; ++i) {\n",
       "                    if (nbb_cells[i].input_prompt_number == nbb_cell_id) {\n",
       "                        if (nbb_cells[i].get_text() == nbb_unformatted_code) {\n",
       "                             nbb_cells[i].set_text(nbb_formatted_code);\n",
       "                        }\n",
       "                        break;\n",
       "                    }\n",
       "                }\n",
       "            }, 500);\n",
       "            "
      ],
      "text/plain": [
       "<IPython.core.display.Javascript object>"
      ]
     },
     "metadata": {},
     "output_type": "display_data"
    },
    {
     "data": {
      "application/javascript": [
       "\n",
       "            setTimeout(function() {\n",
       "                var nbb_cell_id = 81;\n",
       "                var nbb_unformatted_code = \"clust_genre_dict = {}\\nclust_word_dict = {}\\n# this counts up every time a genre or a word shows up in a single cluster\\nfor cl in px_df[\\\"clst_label\\\"].unique():\\n    cluster_sub_df = px_df[px_df[\\\"clst_label\\\"] == cl]\\n    micro_genre_count, word_count = get_keyword_counts(cluster_sub_df)\\n\\n    m_genre_series = pd.Series(micro_genre_count)\\n    word_series = pd.Series(word_count)\\n\\n    m_genre_rep = m_genre_series / cluster_sub_df.shape[0]\\n    w_count_rep = word_series / cluster_sub_df.shape[0]\\n\\n    clust_genre_dict[\\\"cluster_\\\" + str(cl)] = m_genre_rep\\n    clust_word_dict[\\\"cluster_\\\" + str(cl)] = w_count_rep\";\n",
       "                var nbb_formatted_code = \"clust_genre_dict = {}\\nclust_word_dict = {}\\n# this counts up every time a genre or a word shows up in a single cluster\\nfor cl in px_df[\\\"clst_label\\\"].unique():\\n    cluster_sub_df = px_df[px_df[\\\"clst_label\\\"] == cl]\\n    micro_genre_count, word_count = get_keyword_counts(cluster_sub_df)\\n\\n    m_genre_series = pd.Series(micro_genre_count)\\n    word_series = pd.Series(word_count)\\n\\n    m_genre_rep = m_genre_series / cluster_sub_df.shape[0]\\n    w_count_rep = word_series / cluster_sub_df.shape[0]\\n\\n    clust_genre_dict[\\\"cluster_\\\" + str(cl)] = m_genre_rep\\n    clust_word_dict[\\\"cluster_\\\" + str(cl)] = w_count_rep\";\n",
       "                var nbb_cells = Jupyter.notebook.get_cells();\n",
       "                for (var i = 0; i < nbb_cells.length; ++i) {\n",
       "                    if (nbb_cells[i].input_prompt_number == nbb_cell_id) {\n",
       "                        if (nbb_cells[i].get_text() == nbb_unformatted_code) {\n",
       "                             nbb_cells[i].set_text(nbb_formatted_code);\n",
       "                        }\n",
       "                        break;\n",
       "                    }\n",
       "                }\n",
       "            }, 500);\n",
       "            "
      ],
      "text/plain": [
       "<IPython.core.display.Javascript object>"
      ]
     },
     "metadata": {},
     "output_type": "display_data"
    }
   ],
   "source": [
    "clust_genre_dict = {}\n",
    "clust_word_dict = {}\n",
    "# this counts up every time a genre or a word shows up in a single cluster\n",
    "for cl in px_df[\"clst_label\"].unique():\n",
    "    cluster_sub_df = px_df[px_df[\"clst_label\"] == cl]\n",
    "    micro_genre_count, word_count = get_keyword_counts(cluster_sub_df)\n",
    "\n",
    "    m_genre_series = pd.Series(micro_genre_count)\n",
    "    word_series = pd.Series(word_count)\n",
    "\n",
    "    m_genre_rep = m_genre_series / cluster_sub_df.shape[0]\n",
    "    w_count_rep = word_series / cluster_sub_df.shape[0]\n",
    "\n",
    "    clust_genre_dict[\"cluster_\" + str(cl)] = m_genre_rep\n",
    "    clust_word_dict[\"cluster_\" + str(cl)] = w_count_rep"
   ]
  },
  {
   "cell_type": "code",
   "execution_count": 82,
   "metadata": {},
   "outputs": [
    {
     "data": {
      "application/javascript": [
       "\n",
       "            setTimeout(function() {\n",
       "                var nbb_cell_id = 82;\n",
       "                var nbb_unformatted_code = \"cluster_genre_df = pd.DataFrame(clust_genre_dict)\\ncluster_keyword_df = pd.DataFrame(clust_word_dict)\";\n",
       "                var nbb_formatted_code = \"cluster_genre_df = pd.DataFrame(clust_genre_dict)\\ncluster_keyword_df = pd.DataFrame(clust_word_dict)\";\n",
       "                var nbb_cells = Jupyter.notebook.get_cells();\n",
       "                for (var i = 0; i < nbb_cells.length; ++i) {\n",
       "                    if (nbb_cells[i].input_prompt_number == nbb_cell_id) {\n",
       "                        if (nbb_cells[i].get_text() == nbb_unformatted_code) {\n",
       "                             nbb_cells[i].set_text(nbb_formatted_code);\n",
       "                        }\n",
       "                        break;\n",
       "                    }\n",
       "                }\n",
       "            }, 500);\n",
       "            "
      ],
      "text/plain": [
       "<IPython.core.display.Javascript object>"
      ]
     },
     "metadata": {},
     "output_type": "display_data"
    },
    {
     "data": {
      "application/javascript": [
       "\n",
       "            setTimeout(function() {\n",
       "                var nbb_cell_id = 82;\n",
       "                var nbb_unformatted_code = \"cluster_genre_df = pd.DataFrame(clust_genre_dict)\\ncluster_keyword_df = pd.DataFrame(clust_word_dict)\";\n",
       "                var nbb_formatted_code = \"cluster_genre_df = pd.DataFrame(clust_genre_dict)\\ncluster_keyword_df = pd.DataFrame(clust_word_dict)\";\n",
       "                var nbb_cells = Jupyter.notebook.get_cells();\n",
       "                for (var i = 0; i < nbb_cells.length; ++i) {\n",
       "                    if (nbb_cells[i].input_prompt_number == nbb_cell_id) {\n",
       "                        if (nbb_cells[i].get_text() == nbb_unformatted_code) {\n",
       "                             nbb_cells[i].set_text(nbb_formatted_code);\n",
       "                        }\n",
       "                        break;\n",
       "                    }\n",
       "                }\n",
       "            }, 500);\n",
       "            "
      ],
      "text/plain": [
       "<IPython.core.display.Javascript object>"
      ]
     },
     "metadata": {},
     "output_type": "display_data"
    }
   ],
   "source": [
    "cluster_genre_df = pd.DataFrame(clust_genre_dict)\n",
    "cluster_keyword_df = pd.DataFrame(clust_word_dict)"
   ]
  },
  {
   "cell_type": "code",
   "execution_count": 83,
   "metadata": {},
   "outputs": [
    {
     "name": "stdout",
     "output_type": "stream",
     "text": [
      "Micro Genre Comparison\n"
     ]
    },
    {
     "data": {
      "text/html": [
       "<style  type=\"text/css\" >\n",
       "#T_95132970_239a_11eb_b8da_7085c2a9ca7arow0_col0,#T_95132970_239a_11eb_b8da_7085c2a9ca7arow1_col0,#T_95132970_239a_11eb_b8da_7085c2a9ca7arow2_col0,#T_95132970_239a_11eb_b8da_7085c2a9ca7arow3_col0,#T_95132970_239a_11eb_b8da_7085c2a9ca7arow4_col0,#T_95132970_239a_11eb_b8da_7085c2a9ca7arow5_col0,#T_95132970_239a_11eb_b8da_7085c2a9ca7arow6_col0{\n",
       "            background-color:  #023858;\n",
       "            color:  #f1f1f1;\n",
       "        }#T_95132970_239a_11eb_b8da_7085c2a9ca7arow0_col1,#T_95132970_239a_11eb_b8da_7085c2a9ca7arow1_col1,#T_95132970_239a_11eb_b8da_7085c2a9ca7arow2_col1,#T_95132970_239a_11eb_b8da_7085c2a9ca7arow3_col1,#T_95132970_239a_11eb_b8da_7085c2a9ca7arow4_col1,#T_95132970_239a_11eb_b8da_7085c2a9ca7arow5_col1,#T_95132970_239a_11eb_b8da_7085c2a9ca7arow6_col1{\n",
       "            background-color:  #fff7fb;\n",
       "            color:  #000000;\n",
       "        }</style><table id=\"T_95132970_239a_11eb_b8da_7085c2a9ca7a\" ><thead>    <tr>        <th class=\"blank level0\" ></th>        <th class=\"col_heading level0 col0\" >cluster_1</th>        <th class=\"col_heading level0 col1\" >df</th>    </tr></thead><tbody>\n",
       "                <tr>\n",
       "                        <th id=\"T_95132970_239a_11eb_b8da_7085c2a9ca7alevel0_row0\" class=\"row_heading level0 row0\" >rap</th>\n",
       "                        <td id=\"T_95132970_239a_11eb_b8da_7085c2a9ca7arow0_col0\" class=\"data row0 col0\" >0.435052</td>\n",
       "                        <td id=\"T_95132970_239a_11eb_b8da_7085c2a9ca7arow0_col1\" class=\"data row0 col1\" >0.077983</td>\n",
       "            </tr>\n",
       "            <tr>\n",
       "                        <th id=\"T_95132970_239a_11eb_b8da_7085c2a9ca7alevel0_row1\" class=\"row_heading level0 row1\" >hip hop</th>\n",
       "                        <td id=\"T_95132970_239a_11eb_b8da_7085c2a9ca7arow1_col0\" class=\"data row1 col0\" >0.301031</td>\n",
       "                        <td id=\"T_95132970_239a_11eb_b8da_7085c2a9ca7arow1_col1\" class=\"data row1 col1\" >0.057316</td>\n",
       "            </tr>\n",
       "            <tr>\n",
       "                        <th id=\"T_95132970_239a_11eb_b8da_7085c2a9ca7alevel0_row2\" class=\"row_heading level0 row2\" >pop rap</th>\n",
       "                        <td id=\"T_95132970_239a_11eb_b8da_7085c2a9ca7arow2_col0\" class=\"data row2 col0\" >0.294845</td>\n",
       "                        <td id=\"T_95132970_239a_11eb_b8da_7085c2a9ca7arow2_col1\" class=\"data row2 col1\" >0.073298</td>\n",
       "            </tr>\n",
       "            <tr>\n",
       "                        <th id=\"T_95132970_239a_11eb_b8da_7085c2a9ca7alevel0_row3\" class=\"row_heading level0 row3\" >trap</th>\n",
       "                        <td id=\"T_95132970_239a_11eb_b8da_7085c2a9ca7arow3_col0\" class=\"data row3 col0\" >0.265979</td>\n",
       "                        <td id=\"T_95132970_239a_11eb_b8da_7085c2a9ca7arow3_col1\" class=\"data row3 col1\" >0.041058</td>\n",
       "            </tr>\n",
       "            <tr>\n",
       "                        <th id=\"T_95132970_239a_11eb_b8da_7085c2a9ca7alevel0_row4\" class=\"row_heading level0 row4\" >pop</th>\n",
       "                        <td id=\"T_95132970_239a_11eb_b8da_7085c2a9ca7arow4_col0\" class=\"data row4 col0\" >0.187629</td>\n",
       "                        <td id=\"T_95132970_239a_11eb_b8da_7085c2a9ca7arow4_col1\" class=\"data row4 col1\" >0.170846</td>\n",
       "            </tr>\n",
       "            <tr>\n",
       "                        <th id=\"T_95132970_239a_11eb_b8da_7085c2a9ca7alevel0_row5\" class=\"row_heading level0 row5\" >melodic rap</th>\n",
       "                        <td id=\"T_95132970_239a_11eb_b8da_7085c2a9ca7arow5_col0\" class=\"data row5 col0\" >0.171134</td>\n",
       "                        <td id=\"T_95132970_239a_11eb_b8da_7085c2a9ca7arow5_col1\" class=\"data row5 col1\" >0.028934</td>\n",
       "            </tr>\n",
       "            <tr>\n",
       "                        <th id=\"T_95132970_239a_11eb_b8da_7085c2a9ca7alevel0_row6\" class=\"row_heading level0 row6\" >southern hip hop</th>\n",
       "                        <td id=\"T_95132970_239a_11eb_b8da_7085c2a9ca7arow6_col0\" class=\"data row6 col0\" >0.164948</td>\n",
       "                        <td id=\"T_95132970_239a_11eb_b8da_7085c2a9ca7arow6_col1\" class=\"data row6 col1\" >0.026867</td>\n",
       "            </tr>\n",
       "    </tbody></table>"
      ],
      "text/plain": [
       "<pandas.io.formats.style.Styler at 0x237d4977d88>"
      ]
     },
     "metadata": {},
     "output_type": "display_data"
    },
    {
     "name": "stdout",
     "output_type": "stream",
     "text": [
      "Keyword Comparison\n"
     ]
    },
    {
     "data": {
      "text/html": [
       "<style  type=\"text/css\" >\n",
       "#T_95154ade_239a_11eb_964c_7085c2a9ca7arow0_col0,#T_95154ade_239a_11eb_964c_7085c2a9ca7arow1_col0,#T_95154ade_239a_11eb_964c_7085c2a9ca7arow2_col0,#T_95154ade_239a_11eb_964c_7085c2a9ca7arow3_col1,#T_95154ade_239a_11eb_964c_7085c2a9ca7arow4_col0,#T_95154ade_239a_11eb_964c_7085c2a9ca7arow5_col0,#T_95154ade_239a_11eb_964c_7085c2a9ca7arow6_col0,#T_95154ade_239a_11eb_964c_7085c2a9ca7arow7_col0,#T_95154ade_239a_11eb_964c_7085c2a9ca7arow8_col0,#T_95154ade_239a_11eb_964c_7085c2a9ca7arow9_col0,#T_95154ade_239a_11eb_964c_7085c2a9ca7arow10_col0,#T_95154ade_239a_11eb_964c_7085c2a9ca7arow11_col1{\n",
       "            background-color:  #023858;\n",
       "            color:  #f1f1f1;\n",
       "        }#T_95154ade_239a_11eb_964c_7085c2a9ca7arow0_col1,#T_95154ade_239a_11eb_964c_7085c2a9ca7arow1_col1,#T_95154ade_239a_11eb_964c_7085c2a9ca7arow2_col1,#T_95154ade_239a_11eb_964c_7085c2a9ca7arow3_col0,#T_95154ade_239a_11eb_964c_7085c2a9ca7arow4_col1,#T_95154ade_239a_11eb_964c_7085c2a9ca7arow5_col1,#T_95154ade_239a_11eb_964c_7085c2a9ca7arow6_col1,#T_95154ade_239a_11eb_964c_7085c2a9ca7arow7_col1,#T_95154ade_239a_11eb_964c_7085c2a9ca7arow8_col1,#T_95154ade_239a_11eb_964c_7085c2a9ca7arow9_col1,#T_95154ade_239a_11eb_964c_7085c2a9ca7arow10_col1,#T_95154ade_239a_11eb_964c_7085c2a9ca7arow11_col0{\n",
       "            background-color:  #fff7fb;\n",
       "            color:  #000000;\n",
       "        }</style><table id=\"T_95154ade_239a_11eb_964c_7085c2a9ca7a\" ><thead>    <tr>        <th class=\"blank level0\" ></th>        <th class=\"col_heading level0 col0\" >cluster_1</th>        <th class=\"col_heading level0 col1\" >df</th>    </tr></thead><tbody>\n",
       "                <tr>\n",
       "                        <th id=\"T_95154ade_239a_11eb_964c_7085c2a9ca7alevel0_row0\" class=\"row_heading level0 row0\" >rap</th>\n",
       "                        <td id=\"T_95154ade_239a_11eb_964c_7085c2a9ca7arow0_col0\" class=\"data row0 col0\" >1.548454</td>\n",
       "                        <td id=\"T_95154ade_239a_11eb_964c_7085c2a9ca7arow0_col1\" class=\"data row0 col1\" >0.310003</td>\n",
       "            </tr>\n",
       "            <tr>\n",
       "                        <th id=\"T_95154ade_239a_11eb_964c_7085c2a9ca7alevel0_row1\" class=\"row_heading level0 row1\" >hip</th>\n",
       "                        <td id=\"T_95154ade_239a_11eb_964c_7085c2a9ca7arow1_col0\" class=\"data row1 col0\" >1.348454</td>\n",
       "                        <td id=\"T_95154ade_239a_11eb_964c_7085c2a9ca7arow1_col1\" class=\"data row1 col1\" >0.274869</td>\n",
       "            </tr>\n",
       "            <tr>\n",
       "                        <th id=\"T_95154ade_239a_11eb_964c_7085c2a9ca7alevel0_row2\" class=\"row_heading level0 row2\" >hop</th>\n",
       "                        <td id=\"T_95154ade_239a_11eb_964c_7085c2a9ca7arow2_col0\" class=\"data row2 col0\" >1.294845</td>\n",
       "                        <td id=\"T_95154ade_239a_11eb_964c_7085c2a9ca7arow2_col1\" class=\"data row2 col1\" >0.249931</td>\n",
       "            </tr>\n",
       "            <tr>\n",
       "                        <th id=\"T_95154ade_239a_11eb_964c_7085c2a9ca7alevel0_row3\" class=\"row_heading level0 row3\" >pop</th>\n",
       "                        <td id=\"T_95154ade_239a_11eb_964c_7085c2a9ca7arow3_col0\" class=\"data row3 col0\" >0.934021</td>\n",
       "                        <td id=\"T_95154ade_239a_11eb_964c_7085c2a9ca7arow3_col1\" class=\"data row3 col1\" >0.949022</td>\n",
       "            </tr>\n",
       "            <tr>\n",
       "                        <th id=\"T_95154ade_239a_11eb_964c_7085c2a9ca7alevel0_row4\" class=\"row_heading level0 row4\" >trap</th>\n",
       "                        <td id=\"T_95154ade_239a_11eb_964c_7085c2a9ca7arow4_col0\" class=\"data row4 col0\" >0.554639</td>\n",
       "                        <td id=\"T_95154ade_239a_11eb_964c_7085c2a9ca7arow4_col1\" class=\"data row4 col1\" >0.084459</td>\n",
       "            </tr>\n",
       "            <tr>\n",
       "                        <th id=\"T_95154ade_239a_11eb_964c_7085c2a9ca7alevel0_row5\" class=\"row_heading level0 row5\" >r&b</th>\n",
       "                        <td id=\"T_95154ade_239a_11eb_964c_7085c2a9ca7arow5_col0\" class=\"data row5 col0\" >0.193814</td>\n",
       "                        <td id=\"T_95154ade_239a_11eb_964c_7085c2a9ca7arow5_col1\" class=\"data row5 col1\" >0.139157</td>\n",
       "            </tr>\n",
       "            <tr>\n",
       "                        <th id=\"T_95154ade_239a_11eb_964c_7085c2a9ca7alevel0_row6\" class=\"row_heading level0 row6\" >canadian</th>\n",
       "                        <td id=\"T_95154ade_239a_11eb_964c_7085c2a9ca7arow6_col0\" class=\"data row6 col0\" >0.179381</td>\n",
       "                        <td id=\"T_95154ade_239a_11eb_964c_7085c2a9ca7arow6_col1\" class=\"data row6 col1\" >0.068063</td>\n",
       "            </tr>\n",
       "            <tr>\n",
       "                        <th id=\"T_95154ade_239a_11eb_964c_7085c2a9ca7alevel0_row7\" class=\"row_heading level0 row7\" >drill</th>\n",
       "                        <td id=\"T_95154ade_239a_11eb_964c_7085c2a9ca7arow7_col0\" class=\"data row7 col0\" >0.179381</td>\n",
       "                        <td id=\"T_95154ade_239a_11eb_964c_7085c2a9ca7arow7_col1\" class=\"data row7 col1\" >0.015569</td>\n",
       "            </tr>\n",
       "            <tr>\n",
       "                        <th id=\"T_95154ade_239a_11eb_964c_7085c2a9ca7alevel0_row8\" class=\"row_heading level0 row8\" >melodic</th>\n",
       "                        <td id=\"T_95154ade_239a_11eb_964c_7085c2a9ca7arow8_col0\" class=\"data row8 col0\" >0.173196</td>\n",
       "                        <td id=\"T_95154ade_239a_11eb_964c_7085c2a9ca7arow8_col1\" class=\"data row8 col1\" >0.059245</td>\n",
       "            </tr>\n",
       "            <tr>\n",
       "                        <th id=\"T_95154ade_239a_11eb_964c_7085c2a9ca7alevel0_row9\" class=\"row_heading level0 row9\" >southern</th>\n",
       "                        <td id=\"T_95154ade_239a_11eb_964c_7085c2a9ca7arow9_col0\" class=\"data row9 col0\" >0.171134</td>\n",
       "                        <td id=\"T_95154ade_239a_11eb_964c_7085c2a9ca7arow9_col1\" class=\"data row9 col1\" >0.042436</td>\n",
       "            </tr>\n",
       "            <tr>\n",
       "                        <th id=\"T_95154ade_239a_11eb_964c_7085c2a9ca7alevel0_row10\" class=\"row_heading level0 row10\" >atl</th>\n",
       "                        <td id=\"T_95154ade_239a_11eb_964c_7085c2a9ca7arow10_col0\" class=\"data row10 col0\" >0.158763</td>\n",
       "                        <td id=\"T_95154ade_239a_11eb_964c_7085c2a9ca7arow10_col1\" class=\"data row10 col1\" >0.024525</td>\n",
       "            </tr>\n",
       "            <tr>\n",
       "                        <th id=\"T_95154ade_239a_11eb_964c_7085c2a9ca7alevel0_row11\" class=\"row_heading level0 row11\" >dance</th>\n",
       "                        <td id=\"T_95154ade_239a_11eb_964c_7085c2a9ca7arow11_col0\" class=\"data row11 col0\" >0.136082</td>\n",
       "                        <td id=\"T_95154ade_239a_11eb_964c_7085c2a9ca7arow11_col1\" class=\"data row11 col1\" >0.181455</td>\n",
       "            </tr>\n",
       "    </tbody></table>"
      ],
      "text/plain": [
       "<pandas.io.formats.style.Styler at 0x237f5ef4148>"
      ]
     },
     "metadata": {},
     "output_type": "display_data"
    },
    {
     "name": "stdout",
     "output_type": "stream",
     "text": [
      "Micro Genre Comparison\n"
     ]
    },
    {
     "data": {
      "text/html": [
       "<style  type=\"text/css\" >\n",
       "#T_9517455c_239a_11eb_962b_7085c2a9ca7arow0_col0,#T_9517455c_239a_11eb_962b_7085c2a9ca7arow1_col0,#T_9517455c_239a_11eb_962b_7085c2a9ca7arow2_col0,#T_9517455c_239a_11eb_962b_7085c2a9ca7arow3_col0,#T_9517455c_239a_11eb_962b_7085c2a9ca7arow4_col0,#T_9517455c_239a_11eb_962b_7085c2a9ca7arow5_col0,#T_9517455c_239a_11eb_962b_7085c2a9ca7arow6_col0{\n",
       "            background-color:  #023858;\n",
       "            color:  #f1f1f1;\n",
       "        }#T_9517455c_239a_11eb_962b_7085c2a9ca7arow0_col1,#T_9517455c_239a_11eb_962b_7085c2a9ca7arow1_col1,#T_9517455c_239a_11eb_962b_7085c2a9ca7arow2_col1,#T_9517455c_239a_11eb_962b_7085c2a9ca7arow3_col1,#T_9517455c_239a_11eb_962b_7085c2a9ca7arow4_col1,#T_9517455c_239a_11eb_962b_7085c2a9ca7arow5_col1,#T_9517455c_239a_11eb_962b_7085c2a9ca7arow6_col1{\n",
       "            background-color:  #fff7fb;\n",
       "            color:  #000000;\n",
       "        }</style><table id=\"T_9517455c_239a_11eb_962b_7085c2a9ca7a\" ><thead>    <tr>        <th class=\"blank level0\" ></th>        <th class=\"col_heading level0 col0\" >cluster_3</th>        <th class=\"col_heading level0 col1\" >df</th>    </tr></thead><tbody>\n",
       "                <tr>\n",
       "                        <th id=\"T_9517455c_239a_11eb_962b_7085c2a9ca7alevel0_row0\" class=\"row_heading level0 row0\" >pop</th>\n",
       "                        <td id=\"T_9517455c_239a_11eb_962b_7085c2a9ca7arow0_col0\" class=\"data row0 col0\" >0.291866</td>\n",
       "                        <td id=\"T_9517455c_239a_11eb_962b_7085c2a9ca7arow0_col1\" class=\"data row0 col1\" >0.170846</td>\n",
       "            </tr>\n",
       "            <tr>\n",
       "                        <th id=\"T_9517455c_239a_11eb_962b_7085c2a9ca7alevel0_row1\" class=\"row_heading level0 row1\" >dance pop</th>\n",
       "                        <td id=\"T_9517455c_239a_11eb_962b_7085c2a9ca7arow1_col0\" class=\"data row1 col0\" >0.218301</td>\n",
       "                        <td id=\"T_9517455c_239a_11eb_962b_7085c2a9ca7arow1_col1\" class=\"data row1 col1\" >0.121659</td>\n",
       "            </tr>\n",
       "            <tr>\n",
       "                        <th id=\"T_9517455c_239a_11eb_962b_7085c2a9ca7alevel0_row2\" class=\"row_heading level0 row2\" >post-teen pop</th>\n",
       "                        <td id=\"T_9517455c_239a_11eb_962b_7085c2a9ca7arow2_col0\" class=\"data row2 col0\" >0.119617</td>\n",
       "                        <td id=\"T_9517455c_239a_11eb_962b_7085c2a9ca7arow2_col1\" class=\"data row2 col1\" >0.060485</td>\n",
       "            </tr>\n",
       "            <tr>\n",
       "                        <th id=\"T_9517455c_239a_11eb_962b_7085c2a9ca7alevel0_row3\" class=\"row_heading level0 row3\" >pop rap</th>\n",
       "                        <td id=\"T_9517455c_239a_11eb_962b_7085c2a9ca7arow3_col0\" class=\"data row3 col0\" >0.116627</td>\n",
       "                        <td id=\"T_9517455c_239a_11eb_962b_7085c2a9ca7arow3_col1\" class=\"data row3 col1\" >0.073298</td>\n",
       "            </tr>\n",
       "            <tr>\n",
       "                        <th id=\"T_9517455c_239a_11eb_962b_7085c2a9ca7alevel0_row4\" class=\"row_heading level0 row4\" >rap</th>\n",
       "                        <td id=\"T_9517455c_239a_11eb_962b_7085c2a9ca7arow4_col0\" class=\"data row4 col0\" >0.108254</td>\n",
       "                        <td id=\"T_9517455c_239a_11eb_962b_7085c2a9ca7arow4_col1\" class=\"data row4 col1\" >0.077983</td>\n",
       "            </tr>\n",
       "            <tr>\n",
       "                        <th id=\"T_9517455c_239a_11eb_962b_7085c2a9ca7alevel0_row5\" class=\"row_heading level0 row5\" >urban contemporary</th>\n",
       "                        <td id=\"T_9517455c_239a_11eb_962b_7085c2a9ca7arow5_col0\" class=\"data row5 col0\" >0.104665</td>\n",
       "                        <td id=\"T_9517455c_239a_11eb_962b_7085c2a9ca7arow5_col1\" class=\"data row5 col1\" >0.054974</td>\n",
       "            </tr>\n",
       "            <tr>\n",
       "                        <th id=\"T_9517455c_239a_11eb_962b_7085c2a9ca7alevel0_row6\" class=\"row_heading level0 row6\" >r&b</th>\n",
       "                        <td id=\"T_9517455c_239a_11eb_962b_7085c2a9ca7arow6_col0\" class=\"data row6 col0\" >0.100478</td>\n",
       "                        <td id=\"T_9517455c_239a_11eb_962b_7085c2a9ca7arow6_col1\" class=\"data row6 col1\" >0.052080</td>\n",
       "            </tr>\n",
       "    </tbody></table>"
      ],
      "text/plain": [
       "<pandas.io.formats.style.Styler at 0x237d5d2dd88>"
      ]
     },
     "metadata": {},
     "output_type": "display_data"
    },
    {
     "name": "stdout",
     "output_type": "stream",
     "text": [
      "Keyword Comparison\n"
     ]
    },
    {
     "data": {
      "text/html": [
       "<style  type=\"text/css\" >\n",
       "#T_951966ba_239a_11eb_ab02_7085c2a9ca7arow0_col0,#T_951966ba_239a_11eb_ab02_7085c2a9ca7arow1_col1,#T_951966ba_239a_11eb_ab02_7085c2a9ca7arow2_col0,#T_951966ba_239a_11eb_ab02_7085c2a9ca7arow3_col0,#T_951966ba_239a_11eb_ab02_7085c2a9ca7arow4_col0,#T_951966ba_239a_11eb_ab02_7085c2a9ca7arow5_col0,#T_951966ba_239a_11eb_ab02_7085c2a9ca7arow6_col0,#T_951966ba_239a_11eb_ab02_7085c2a9ca7arow7_col0,#T_951966ba_239a_11eb_ab02_7085c2a9ca7arow8_col0,#T_951966ba_239a_11eb_ab02_7085c2a9ca7arow9_col0,#T_951966ba_239a_11eb_ab02_7085c2a9ca7arow10_col1,#T_951966ba_239a_11eb_ab02_7085c2a9ca7arow11_col1{\n",
       "            background-color:  #023858;\n",
       "            color:  #f1f1f1;\n",
       "        }#T_951966ba_239a_11eb_ab02_7085c2a9ca7arow0_col1,#T_951966ba_239a_11eb_ab02_7085c2a9ca7arow1_col0,#T_951966ba_239a_11eb_ab02_7085c2a9ca7arow2_col1,#T_951966ba_239a_11eb_ab02_7085c2a9ca7arow3_col1,#T_951966ba_239a_11eb_ab02_7085c2a9ca7arow4_col1,#T_951966ba_239a_11eb_ab02_7085c2a9ca7arow5_col1,#T_951966ba_239a_11eb_ab02_7085c2a9ca7arow6_col1,#T_951966ba_239a_11eb_ab02_7085c2a9ca7arow7_col1,#T_951966ba_239a_11eb_ab02_7085c2a9ca7arow8_col1,#T_951966ba_239a_11eb_ab02_7085c2a9ca7arow9_col1,#T_951966ba_239a_11eb_ab02_7085c2a9ca7arow10_col0,#T_951966ba_239a_11eb_ab02_7085c2a9ca7arow11_col0{\n",
       "            background-color:  #fff7fb;\n",
       "            color:  #000000;\n",
       "        }</style><table id=\"T_951966ba_239a_11eb_ab02_7085c2a9ca7a\" ><thead>    <tr>        <th class=\"blank level0\" ></th>        <th class=\"col_heading level0 col0\" >cluster_3</th>        <th class=\"col_heading level0 col1\" >df</th>    </tr></thead><tbody>\n",
       "                <tr>\n",
       "                        <th id=\"T_951966ba_239a_11eb_ab02_7085c2a9ca7alevel0_row0\" class=\"row_heading level0 row0\" >pop</th>\n",
       "                        <td id=\"T_951966ba_239a_11eb_ab02_7085c2a9ca7arow0_col0\" class=\"data row0 col0\" >1.334330</td>\n",
       "                        <td id=\"T_951966ba_239a_11eb_ab02_7085c2a9ca7arow0_col1\" class=\"data row0 col1\" >0.949022</td>\n",
       "            </tr>\n",
       "            <tr>\n",
       "                        <th id=\"T_951966ba_239a_11eb_ab02_7085c2a9ca7alevel0_row1\" class=\"row_heading level0 row1\" >rock</th>\n",
       "                        <td id=\"T_951966ba_239a_11eb_ab02_7085c2a9ca7arow1_col0\" class=\"data row1 col0\" >0.473684</td>\n",
       "                        <td id=\"T_951966ba_239a_11eb_ab02_7085c2a9ca7arow1_col1\" class=\"data row1 col1\" >0.744282</td>\n",
       "            </tr>\n",
       "            <tr>\n",
       "                        <th id=\"T_951966ba_239a_11eb_ab02_7085c2a9ca7alevel0_row2\" class=\"row_heading level0 row2\" >rap</th>\n",
       "                        <td id=\"T_951966ba_239a_11eb_ab02_7085c2a9ca7arow2_col0\" class=\"data row2 col0\" >0.427033</td>\n",
       "                        <td id=\"T_951966ba_239a_11eb_ab02_7085c2a9ca7arow2_col1\" class=\"data row2 col1\" >0.310003</td>\n",
       "            </tr>\n",
       "            <tr>\n",
       "                        <th id=\"T_951966ba_239a_11eb_ab02_7085c2a9ca7alevel0_row3\" class=\"row_heading level0 row3\" >hip</th>\n",
       "                        <td id=\"T_951966ba_239a_11eb_ab02_7085c2a9ca7arow3_col0\" class=\"data row3 col0\" >0.397129</td>\n",
       "                        <td id=\"T_951966ba_239a_11eb_ab02_7085c2a9ca7arow3_col1\" class=\"data row3 col1\" >0.274869</td>\n",
       "            </tr>\n",
       "            <tr>\n",
       "                        <th id=\"T_951966ba_239a_11eb_ab02_7085c2a9ca7alevel0_row4\" class=\"row_heading level0 row4\" >hop</th>\n",
       "                        <td id=\"T_951966ba_239a_11eb_ab02_7085c2a9ca7arow4_col0\" class=\"data row4 col0\" >0.351675</td>\n",
       "                        <td id=\"T_951966ba_239a_11eb_ab02_7085c2a9ca7arow4_col1\" class=\"data row4 col1\" >0.249931</td>\n",
       "            </tr>\n",
       "            <tr>\n",
       "                        <th id=\"T_951966ba_239a_11eb_ab02_7085c2a9ca7alevel0_row5\" class=\"row_heading level0 row5\" >r&b</th>\n",
       "                        <td id=\"T_951966ba_239a_11eb_ab02_7085c2a9ca7arow5_col0\" class=\"data row5 col0\" >0.267344</td>\n",
       "                        <td id=\"T_951966ba_239a_11eb_ab02_7085c2a9ca7arow5_col1\" class=\"data row5 col1\" >0.139157</td>\n",
       "            </tr>\n",
       "            <tr>\n",
       "                        <th id=\"T_951966ba_239a_11eb_ab02_7085c2a9ca7alevel0_row6\" class=\"row_heading level0 row6\" >dance</th>\n",
       "                        <td id=\"T_951966ba_239a_11eb_ab02_7085c2a9ca7arow6_col0\" class=\"data row6 col0\" >0.261364</td>\n",
       "                        <td id=\"T_951966ba_239a_11eb_ab02_7085c2a9ca7arow6_col1\" class=\"data row6 col1\" >0.181455</td>\n",
       "            </tr>\n",
       "            <tr>\n",
       "                        <th id=\"T_951966ba_239a_11eb_ab02_7085c2a9ca7alevel0_row7\" class=\"row_heading level0 row7\" >soul</th>\n",
       "                        <td id=\"T_951966ba_239a_11eb_ab02_7085c2a9ca7arow7_col0\" class=\"data row7 col0\" >0.225478</td>\n",
       "                        <td id=\"T_951966ba_239a_11eb_ab02_7085c2a9ca7arow7_col1\" class=\"data row7 col1\" >0.185864</td>\n",
       "            </tr>\n",
       "            <tr>\n",
       "                        <th id=\"T_951966ba_239a_11eb_ab02_7085c2a9ca7alevel0_row8\" class=\"row_heading level0 row8\" >country</th>\n",
       "                        <td id=\"T_951966ba_239a_11eb_ab02_7085c2a9ca7arow8_col0\" class=\"data row8 col0\" >0.194378</td>\n",
       "                        <td id=\"T_951966ba_239a_11eb_ab02_7085c2a9ca7arow8_col1\" class=\"data row8 col1\" >0.188068</td>\n",
       "            </tr>\n",
       "            <tr>\n",
       "                        <th id=\"T_951966ba_239a_11eb_ab02_7085c2a9ca7alevel0_row9\" class=\"row_heading level0 row9\" >contemporary</th>\n",
       "                        <td id=\"T_951966ba_239a_11eb_ab02_7085c2a9ca7arow9_col0\" class=\"data row9 col0\" >0.189593</td>\n",
       "                        <td id=\"T_951966ba_239a_11eb_ab02_7085c2a9ca7arow9_col1\" class=\"data row9 col1\" >0.119868</td>\n",
       "            </tr>\n",
       "            <tr>\n",
       "                        <th id=\"T_951966ba_239a_11eb_ab02_7085c2a9ca7alevel0_row10\" class=\"row_heading level0 row10\" >indie</th>\n",
       "                        <td id=\"T_951966ba_239a_11eb_ab02_7085c2a9ca7arow10_col0\" class=\"data row10 col0\" >0.188995</td>\n",
       "                        <td id=\"T_951966ba_239a_11eb_ab02_7085c2a9ca7arow10_col1\" class=\"data row10 col1\" >0.285478</td>\n",
       "            </tr>\n",
       "            <tr>\n",
       "                        <th id=\"T_951966ba_239a_11eb_ab02_7085c2a9ca7alevel0_row11\" class=\"row_heading level0 row11\" >alternative</th>\n",
       "                        <td id=\"T_951966ba_239a_11eb_ab02_7085c2a9ca7arow11_col0\" class=\"data row11 col0\" >0.154904</td>\n",
       "                        <td id=\"T_951966ba_239a_11eb_ab02_7085c2a9ca7arow11_col1\" class=\"data row11 col1\" >0.184211</td>\n",
       "            </tr>\n",
       "    </tbody></table>"
      ],
      "text/plain": [
       "<pandas.io.formats.style.Styler at 0x237f5e71948>"
      ]
     },
     "metadata": {},
     "output_type": "display_data"
    },
    {
     "name": "stdout",
     "output_type": "stream",
     "text": [
      "Micro Genre Comparison\n"
     ]
    },
    {
     "data": {
      "text/html": [
       "<style  type=\"text/css\" >\n",
       "#T_951b6130_239a_11eb_9983_7085c2a9ca7arow0_col0,#T_951b6130_239a_11eb_9983_7085c2a9ca7arow1_col1,#T_951b6130_239a_11eb_9983_7085c2a9ca7arow2_col0,#T_951b6130_239a_11eb_9983_7085c2a9ca7arow3_col0,#T_951b6130_239a_11eb_9983_7085c2a9ca7arow4_col0,#T_951b6130_239a_11eb_9983_7085c2a9ca7arow5_col0,#T_951b6130_239a_11eb_9983_7085c2a9ca7arow6_col0{\n",
       "            background-color:  #023858;\n",
       "            color:  #f1f1f1;\n",
       "        }#T_951b6130_239a_11eb_9983_7085c2a9ca7arow0_col1,#T_951b6130_239a_11eb_9983_7085c2a9ca7arow1_col0,#T_951b6130_239a_11eb_9983_7085c2a9ca7arow2_col1,#T_951b6130_239a_11eb_9983_7085c2a9ca7arow3_col1,#T_951b6130_239a_11eb_9983_7085c2a9ca7arow4_col1,#T_951b6130_239a_11eb_9983_7085c2a9ca7arow5_col1,#T_951b6130_239a_11eb_9983_7085c2a9ca7arow6_col1{\n",
       "            background-color:  #fff7fb;\n",
       "            color:  #000000;\n",
       "        }</style><table id=\"T_951b6130_239a_11eb_9983_7085c2a9ca7a\" ><thead>    <tr>        <th class=\"blank level0\" ></th>        <th class=\"col_heading level0 col0\" >cluster_4</th>        <th class=\"col_heading level0 col1\" >df</th>    </tr></thead><tbody>\n",
       "                <tr>\n",
       "                        <th id=\"T_951b6130_239a_11eb_9983_7085c2a9ca7alevel0_row0\" class=\"row_heading level0 row0\" >rock</th>\n",
       "                        <td id=\"T_951b6130_239a_11eb_9983_7085c2a9ca7arow0_col0\" class=\"data row0 col0\" >0.135294</td>\n",
       "                        <td id=\"T_951b6130_239a_11eb_9983_7085c2a9ca7arow0_col1\" class=\"data row0 col1\" >0.102508</td>\n",
       "            </tr>\n",
       "            <tr>\n",
       "                        <th id=\"T_951b6130_239a_11eb_9983_7085c2a9ca7alevel0_row1\" class=\"row_heading level0 row1\" >pop</th>\n",
       "                        <td id=\"T_951b6130_239a_11eb_9983_7085c2a9ca7arow1_col0\" class=\"data row1 col0\" >0.091765</td>\n",
       "                        <td id=\"T_951b6130_239a_11eb_9983_7085c2a9ca7arow1_col1\" class=\"data row1 col1\" >0.170846</td>\n",
       "            </tr>\n",
       "            <tr>\n",
       "                        <th id=\"T_951b6130_239a_11eb_9983_7085c2a9ca7alevel0_row2\" class=\"row_heading level0 row2\" >indie folk</th>\n",
       "                        <td id=\"T_951b6130_239a_11eb_9983_7085c2a9ca7arow2_col0\" class=\"data row2 col0\" >0.079765</td>\n",
       "                        <td id=\"T_951b6130_239a_11eb_9983_7085c2a9ca7arow2_col1\" class=\"data row2 col1\" >0.051392</td>\n",
       "            </tr>\n",
       "            <tr>\n",
       "                        <th id=\"T_951b6130_239a_11eb_9983_7085c2a9ca7alevel0_row3\" class=\"row_heading level0 row3\" >pop rock</th>\n",
       "                        <td id=\"T_951b6130_239a_11eb_9983_7085c2a9ca7arow3_col0\" class=\"data row3 col0\" >0.072706</td>\n",
       "                        <td id=\"T_951b6130_239a_11eb_9983_7085c2a9ca7arow3_col1\" class=\"data row3 col1\" >0.065445</td>\n",
       "            </tr>\n",
       "            <tr>\n",
       "                        <th id=\"T_951b6130_239a_11eb_9983_7085c2a9ca7alevel0_row4\" class=\"row_heading level0 row4\" >modern rock</th>\n",
       "                        <td id=\"T_951b6130_239a_11eb_9983_7085c2a9ca7arow4_col0\" class=\"data row4 col0\" >0.072000</td>\n",
       "                        <td id=\"T_951b6130_239a_11eb_9983_7085c2a9ca7arow4_col1\" class=\"data row4 col1\" >0.058005</td>\n",
       "            </tr>\n",
       "            <tr>\n",
       "                        <th id=\"T_951b6130_239a_11eb_9983_7085c2a9ca7alevel0_row5\" class=\"row_heading level0 row5\" >alternative rock</th>\n",
       "                        <td id=\"T_951b6130_239a_11eb_9983_7085c2a9ca7arow5_col0\" class=\"data row5 col0\" >0.069412</td>\n",
       "                        <td id=\"T_951b6130_239a_11eb_9983_7085c2a9ca7arow5_col1\" class=\"data row5 col1\" >0.050703</td>\n",
       "            </tr>\n",
       "            <tr>\n",
       "                        <th id=\"T_951b6130_239a_11eb_9983_7085c2a9ca7alevel0_row6\" class=\"row_heading level0 row6\" >indie pop</th>\n",
       "                        <td id=\"T_951b6130_239a_11eb_9983_7085c2a9ca7arow6_col0\" class=\"data row6 col0\" >0.056706</td>\n",
       "                        <td id=\"T_951b6130_239a_11eb_9983_7085c2a9ca7arow6_col1\" class=\"data row6 col1\" >0.040094</td>\n",
       "            </tr>\n",
       "    </tbody></table>"
      ],
      "text/plain": [
       "<pandas.io.formats.style.Styler at 0x237d4486088>"
      ]
     },
     "metadata": {},
     "output_type": "display_data"
    },
    {
     "name": "stdout",
     "output_type": "stream",
     "text": [
      "Keyword Comparison\n"
     ]
    },
    {
     "data": {
      "text/html": [
       "<style  type=\"text/css\" >\n",
       "#T_951dd08a_239a_11eb_b3bc_7085c2a9ca7arow0_col0,#T_951dd08a_239a_11eb_b3bc_7085c2a9ca7arow1_col1,#T_951dd08a_239a_11eb_b3bc_7085c2a9ca7arow2_col0,#T_951dd08a_239a_11eb_b3bc_7085c2a9ca7arow3_col0,#T_951dd08a_239a_11eb_b3bc_7085c2a9ca7arow4_col0,#T_951dd08a_239a_11eb_b3bc_7085c2a9ca7arow5_col0,#T_951dd08a_239a_11eb_b3bc_7085c2a9ca7arow6_col0,#T_951dd08a_239a_11eb_b3bc_7085c2a9ca7arow7_col0,#T_951dd08a_239a_11eb_b3bc_7085c2a9ca7arow8_col0,#T_951dd08a_239a_11eb_b3bc_7085c2a9ca7arow9_col1,#T_951dd08a_239a_11eb_b3bc_7085c2a9ca7arow10_col0,#T_951dd08a_239a_11eb_b3bc_7085c2a9ca7arow11_col0{\n",
       "            background-color:  #023858;\n",
       "            color:  #f1f1f1;\n",
       "        }#T_951dd08a_239a_11eb_b3bc_7085c2a9ca7arow0_col1,#T_951dd08a_239a_11eb_b3bc_7085c2a9ca7arow1_col0,#T_951dd08a_239a_11eb_b3bc_7085c2a9ca7arow2_col1,#T_951dd08a_239a_11eb_b3bc_7085c2a9ca7arow3_col1,#T_951dd08a_239a_11eb_b3bc_7085c2a9ca7arow4_col1,#T_951dd08a_239a_11eb_b3bc_7085c2a9ca7arow5_col1,#T_951dd08a_239a_11eb_b3bc_7085c2a9ca7arow6_col1,#T_951dd08a_239a_11eb_b3bc_7085c2a9ca7arow7_col1,#T_951dd08a_239a_11eb_b3bc_7085c2a9ca7arow8_col1,#T_951dd08a_239a_11eb_b3bc_7085c2a9ca7arow9_col0,#T_951dd08a_239a_11eb_b3bc_7085c2a9ca7arow10_col1,#T_951dd08a_239a_11eb_b3bc_7085c2a9ca7arow11_col1{\n",
       "            background-color:  #fff7fb;\n",
       "            color:  #000000;\n",
       "        }</style><table id=\"T_951dd08a_239a_11eb_b3bc_7085c2a9ca7a\" ><thead>    <tr>        <th class=\"blank level0\" ></th>        <th class=\"col_heading level0 col0\" >cluster_4</th>        <th class=\"col_heading level0 col1\" >df</th>    </tr></thead><tbody>\n",
       "                <tr>\n",
       "                        <th id=\"T_951dd08a_239a_11eb_b3bc_7085c2a9ca7alevel0_row0\" class=\"row_heading level0 row0\" >rock</th>\n",
       "                        <td id=\"T_951dd08a_239a_11eb_b3bc_7085c2a9ca7arow0_col0\" class=\"data row0 col0\" >0.962118</td>\n",
       "                        <td id=\"T_951dd08a_239a_11eb_b3bc_7085c2a9ca7arow0_col1\" class=\"data row0 col1\" >0.744282</td>\n",
       "            </tr>\n",
       "            <tr>\n",
       "                        <th id=\"T_951dd08a_239a_11eb_b3bc_7085c2a9ca7alevel0_row1\" class=\"row_heading level0 row1\" >pop</th>\n",
       "                        <td id=\"T_951dd08a_239a_11eb_b3bc_7085c2a9ca7arow1_col0\" class=\"data row1 col0\" >0.709647</td>\n",
       "                        <td id=\"T_951dd08a_239a_11eb_b3bc_7085c2a9ca7arow1_col1\" class=\"data row1 col1\" >0.949022</td>\n",
       "            </tr>\n",
       "            <tr>\n",
       "                        <th id=\"T_951dd08a_239a_11eb_b3bc_7085c2a9ca7alevel0_row2\" class=\"row_heading level0 row2\" >indie</th>\n",
       "                        <td id=\"T_951dd08a_239a_11eb_b3bc_7085c2a9ca7arow2_col0\" class=\"data row2 col0\" >0.363765</td>\n",
       "                        <td id=\"T_951dd08a_239a_11eb_b3bc_7085c2a9ca7arow2_col1\" class=\"data row2 col1\" >0.285478</td>\n",
       "            </tr>\n",
       "            <tr>\n",
       "                        <th id=\"T_951dd08a_239a_11eb_b3bc_7085c2a9ca7alevel0_row3\" class=\"row_heading level0 row3\" >country</th>\n",
       "                        <td id=\"T_951dd08a_239a_11eb_b3bc_7085c2a9ca7arow3_col0\" class=\"data row3 col0\" >0.222588</td>\n",
       "                        <td id=\"T_951dd08a_239a_11eb_b3bc_7085c2a9ca7arow3_col1\" class=\"data row3 col1\" >0.188068</td>\n",
       "            </tr>\n",
       "            <tr>\n",
       "                        <th id=\"T_951dd08a_239a_11eb_b3bc_7085c2a9ca7alevel0_row4\" class=\"row_heading level0 row4\" >folk</th>\n",
       "                        <td id=\"T_951dd08a_239a_11eb_b3bc_7085c2a9ca7arow4_col0\" class=\"data row4 col0\" >0.220471</td>\n",
       "                        <td id=\"T_951dd08a_239a_11eb_b3bc_7085c2a9ca7arow4_col1\" class=\"data row4 col1\" >0.146735</td>\n",
       "            </tr>\n",
       "            <tr>\n",
       "                        <th id=\"T_951dd08a_239a_11eb_b3bc_7085c2a9ca7alevel0_row5\" class=\"row_heading level0 row5\" >alternative</th>\n",
       "                        <td id=\"T_951dd08a_239a_11eb_b3bc_7085c2a9ca7arow5_col0\" class=\"data row5 col0\" >0.216235</td>\n",
       "                        <td id=\"T_951dd08a_239a_11eb_b3bc_7085c2a9ca7arow5_col1\" class=\"data row5 col1\" >0.184211</td>\n",
       "            </tr>\n",
       "            <tr>\n",
       "                        <th id=\"T_951dd08a_239a_11eb_b3bc_7085c2a9ca7alevel0_row6\" class=\"row_heading level0 row6\" >metal</th>\n",
       "                        <td id=\"T_951dd08a_239a_11eb_b3bc_7085c2a9ca7arow6_col0\" class=\"data row6 col0\" >0.211529</td>\n",
       "                        <td id=\"T_951dd08a_239a_11eb_b3bc_7085c2a9ca7arow6_col1\" class=\"data row6 col1\" >0.151832</td>\n",
       "            </tr>\n",
       "            <tr>\n",
       "                        <th id=\"T_951dd08a_239a_11eb_b3bc_7085c2a9ca7alevel0_row7\" class=\"row_heading level0 row7\" >punk</th>\n",
       "                        <td id=\"T_951dd08a_239a_11eb_b3bc_7085c2a9ca7arow7_col0\" class=\"data row7 col0\" >0.166588</td>\n",
       "                        <td id=\"T_951dd08a_239a_11eb_b3bc_7085c2a9ca7arow7_col1\" class=\"data row7 col1\" >0.124001</td>\n",
       "            </tr>\n",
       "            <tr>\n",
       "                        <th id=\"T_951dd08a_239a_11eb_b3bc_7085c2a9ca7alevel0_row8\" class=\"row_heading level0 row8\" >new</th>\n",
       "                        <td id=\"T_951dd08a_239a_11eb_b3bc_7085c2a9ca7arow8_col0\" class=\"data row8 col0\" >0.160000</td>\n",
       "                        <td id=\"T_951dd08a_239a_11eb_b3bc_7085c2a9ca7arow8_col1\" class=\"data row8 col1\" >0.137779</td>\n",
       "            </tr>\n",
       "            <tr>\n",
       "                        <th id=\"T_951dd08a_239a_11eb_b3bc_7085c2a9ca7alevel0_row9\" class=\"row_heading level0 row9\" >soul</th>\n",
       "                        <td id=\"T_951dd08a_239a_11eb_b3bc_7085c2a9ca7arow9_col0\" class=\"data row9 col0\" >0.155294</td>\n",
       "                        <td id=\"T_951dd08a_239a_11eb_b3bc_7085c2a9ca7arow9_col1\" class=\"data row9 col1\" >0.185864</td>\n",
       "            </tr>\n",
       "            <tr>\n",
       "                        <th id=\"T_951dd08a_239a_11eb_b3bc_7085c2a9ca7alevel0_row10\" class=\"row_heading level0 row10\" >jazz</th>\n",
       "                        <td id=\"T_951dd08a_239a_11eb_b3bc_7085c2a9ca7arow10_col0\" class=\"data row10 col0\" >0.151059</td>\n",
       "                        <td id=\"T_951dd08a_239a_11eb_b3bc_7085c2a9ca7arow10_col1\" class=\"data row10 col1\" >0.099476</td>\n",
       "            </tr>\n",
       "            <tr>\n",
       "                        <th id=\"T_951dd08a_239a_11eb_b3bc_7085c2a9ca7alevel0_row11\" class=\"row_heading level0 row11\" >modern</th>\n",
       "                        <td id=\"T_951dd08a_239a_11eb_b3bc_7085c2a9ca7arow11_col0\" class=\"data row11 col0\" >0.143059</td>\n",
       "                        <td id=\"T_951dd08a_239a_11eb_b3bc_7085c2a9ca7arow11_col1\" class=\"data row11 col1\" >0.126481</td>\n",
       "            </tr>\n",
       "    </tbody></table>"
      ],
      "text/plain": [
       "<pandas.io.formats.style.Styler at 0x237f653e048>"
      ]
     },
     "metadata": {},
     "output_type": "display_data"
    },
    {
     "name": "stdout",
     "output_type": "stream",
     "text": [
      "Micro Genre Comparison\n"
     ]
    },
    {
     "data": {
      "text/html": [
       "<style  type=\"text/css\" >\n",
       "#T_951fcb00_239a_11eb_91a5_7085c2a9ca7arow0_col0,#T_951fcb00_239a_11eb_91a5_7085c2a9ca7arow1_col0,#T_951fcb00_239a_11eb_91a5_7085c2a9ca7arow2_col0,#T_951fcb00_239a_11eb_91a5_7085c2a9ca7arow3_col0,#T_951fcb00_239a_11eb_91a5_7085c2a9ca7arow4_col0,#T_951fcb00_239a_11eb_91a5_7085c2a9ca7arow5_col0,#T_951fcb00_239a_11eb_91a5_7085c2a9ca7arow6_col0{\n",
       "            background-color:  #023858;\n",
       "            color:  #f1f1f1;\n",
       "        }#T_951fcb00_239a_11eb_91a5_7085c2a9ca7arow0_col1,#T_951fcb00_239a_11eb_91a5_7085c2a9ca7arow1_col1,#T_951fcb00_239a_11eb_91a5_7085c2a9ca7arow2_col1,#T_951fcb00_239a_11eb_91a5_7085c2a9ca7arow3_col1,#T_951fcb00_239a_11eb_91a5_7085c2a9ca7arow4_col1,#T_951fcb00_239a_11eb_91a5_7085c2a9ca7arow5_col1,#T_951fcb00_239a_11eb_91a5_7085c2a9ca7arow6_col1{\n",
       "            background-color:  #fff7fb;\n",
       "            color:  #000000;\n",
       "        }</style><table id=\"T_951fcb00_239a_11eb_91a5_7085c2a9ca7a\" ><thead>    <tr>        <th class=\"blank level0\" ></th>        <th class=\"col_heading level0 col0\" >cluster_2</th>        <th class=\"col_heading level0 col1\" >df</th>    </tr></thead><tbody>\n",
       "                <tr>\n",
       "                        <th id=\"T_951fcb00_239a_11eb_91a5_7085c2a9ca7alevel0_row0\" class=\"row_heading level0 row0\" >rap</th>\n",
       "                        <td id=\"T_951fcb00_239a_11eb_91a5_7085c2a9ca7arow0_col0\" class=\"data row0 col0\" >0.345912</td>\n",
       "                        <td id=\"T_951fcb00_239a_11eb_91a5_7085c2a9ca7arow0_col1\" class=\"data row0 col1\" >0.077983</td>\n",
       "            </tr>\n",
       "            <tr>\n",
       "                        <th id=\"T_951fcb00_239a_11eb_91a5_7085c2a9ca7alevel0_row1\" class=\"row_heading level0 row1\" >pop</th>\n",
       "                        <td id=\"T_951fcb00_239a_11eb_91a5_7085c2a9ca7arow1_col0\" class=\"data row1 col0\" >0.327044</td>\n",
       "                        <td id=\"T_951fcb00_239a_11eb_91a5_7085c2a9ca7arow1_col1\" class=\"data row1 col1\" >0.170846</td>\n",
       "            </tr>\n",
       "            <tr>\n",
       "                        <th id=\"T_951fcb00_239a_11eb_91a5_7085c2a9ca7alevel0_row2\" class=\"row_heading level0 row2\" >dance pop</th>\n",
       "                        <td id=\"T_951fcb00_239a_11eb_91a5_7085c2a9ca7arow2_col0\" class=\"data row2 col0\" >0.283019</td>\n",
       "                        <td id=\"T_951fcb00_239a_11eb_91a5_7085c2a9ca7arow2_col1\" class=\"data row2 col1\" >0.121659</td>\n",
       "            </tr>\n",
       "            <tr>\n",
       "                        <th id=\"T_951fcb00_239a_11eb_91a5_7085c2a9ca7alevel0_row3\" class=\"row_heading level0 row3\" >trap</th>\n",
       "                        <td id=\"T_951fcb00_239a_11eb_91a5_7085c2a9ca7arow3_col0\" class=\"data row3 col0\" >0.270440</td>\n",
       "                        <td id=\"T_951fcb00_239a_11eb_91a5_7085c2a9ca7arow3_col1\" class=\"data row3 col1\" >0.041058</td>\n",
       "            </tr>\n",
       "            <tr>\n",
       "                        <th id=\"T_951fcb00_239a_11eb_91a5_7085c2a9ca7alevel0_row4\" class=\"row_heading level0 row4\" >pop rap</th>\n",
       "                        <td id=\"T_951fcb00_239a_11eb_91a5_7085c2a9ca7arow4_col0\" class=\"data row4 col0\" >0.264151</td>\n",
       "                        <td id=\"T_951fcb00_239a_11eb_91a5_7085c2a9ca7arow4_col1\" class=\"data row4 col1\" >0.073298</td>\n",
       "            </tr>\n",
       "            <tr>\n",
       "                        <th id=\"T_951fcb00_239a_11eb_91a5_7085c2a9ca7alevel0_row5\" class=\"row_heading level0 row5\" >r&b</th>\n",
       "                        <td id=\"T_951fcb00_239a_11eb_91a5_7085c2a9ca7arow5_col0\" class=\"data row5 col0\" >0.169811</td>\n",
       "                        <td id=\"T_951fcb00_239a_11eb_91a5_7085c2a9ca7arow5_col1\" class=\"data row5 col1\" >0.052080</td>\n",
       "            </tr>\n",
       "            <tr>\n",
       "                        <th id=\"T_951fcb00_239a_11eb_91a5_7085c2a9ca7alevel0_row6\" class=\"row_heading level0 row6\" >melodic rap</th>\n",
       "                        <td id=\"T_951fcb00_239a_11eb_91a5_7085c2a9ca7arow6_col0\" class=\"data row6 col0\" >0.163522</td>\n",
       "                        <td id=\"T_951fcb00_239a_11eb_91a5_7085c2a9ca7arow6_col1\" class=\"data row6 col1\" >0.028934</td>\n",
       "            </tr>\n",
       "    </tbody></table>"
      ],
      "text/plain": [
       "<pandas.io.formats.style.Styler at 0x237d60afbc8>"
      ]
     },
     "metadata": {},
     "output_type": "display_data"
    },
    {
     "name": "stdout",
     "output_type": "stream",
     "text": [
      "Keyword Comparison\n"
     ]
    },
    {
     "data": {
      "text/html": [
       "<style  type=\"text/css\" >\n",
       "#T_9521ec66_239a_11eb_a8bf_7085c2a9ca7arow0_col0,#T_9521ec66_239a_11eb_a8bf_7085c2a9ca7arow1_col0,#T_9521ec66_239a_11eb_a8bf_7085c2a9ca7arow2_col0,#T_9521ec66_239a_11eb_a8bf_7085c2a9ca7arow3_col0,#T_9521ec66_239a_11eb_a8bf_7085c2a9ca7arow4_col0,#T_9521ec66_239a_11eb_a8bf_7085c2a9ca7arow5_col0,#T_9521ec66_239a_11eb_a8bf_7085c2a9ca7arow6_col1,#T_9521ec66_239a_11eb_a8bf_7085c2a9ca7arow7_col0,#T_9521ec66_239a_11eb_a8bf_7085c2a9ca7arow8_col0,#T_9521ec66_239a_11eb_a8bf_7085c2a9ca7arow9_col0,#T_9521ec66_239a_11eb_a8bf_7085c2a9ca7arow10_col0,#T_9521ec66_239a_11eb_a8bf_7085c2a9ca7arow11_col0{\n",
       "            background-color:  #023858;\n",
       "            color:  #f1f1f1;\n",
       "        }#T_9521ec66_239a_11eb_a8bf_7085c2a9ca7arow0_col1,#T_9521ec66_239a_11eb_a8bf_7085c2a9ca7arow1_col1,#T_9521ec66_239a_11eb_a8bf_7085c2a9ca7arow2_col1,#T_9521ec66_239a_11eb_a8bf_7085c2a9ca7arow3_col1,#T_9521ec66_239a_11eb_a8bf_7085c2a9ca7arow4_col1,#T_9521ec66_239a_11eb_a8bf_7085c2a9ca7arow5_col1,#T_9521ec66_239a_11eb_a8bf_7085c2a9ca7arow6_col0,#T_9521ec66_239a_11eb_a8bf_7085c2a9ca7arow7_col1,#T_9521ec66_239a_11eb_a8bf_7085c2a9ca7arow8_col1,#T_9521ec66_239a_11eb_a8bf_7085c2a9ca7arow9_col1,#T_9521ec66_239a_11eb_a8bf_7085c2a9ca7arow10_col1,#T_9521ec66_239a_11eb_a8bf_7085c2a9ca7arow11_col1{\n",
       "            background-color:  #fff7fb;\n",
       "            color:  #000000;\n",
       "        }</style><table id=\"T_9521ec66_239a_11eb_a8bf_7085c2a9ca7a\" ><thead>    <tr>        <th class=\"blank level0\" ></th>        <th class=\"col_heading level0 col0\" >cluster_2</th>        <th class=\"col_heading level0 col1\" >df</th>    </tr></thead><tbody>\n",
       "                <tr>\n",
       "                        <th id=\"T_9521ec66_239a_11eb_a8bf_7085c2a9ca7alevel0_row0\" class=\"row_heading level0 row0\" >pop</th>\n",
       "                        <td id=\"T_9521ec66_239a_11eb_a8bf_7085c2a9ca7arow0_col0\" class=\"data row0 col0\" >1.427673</td>\n",
       "                        <td id=\"T_9521ec66_239a_11eb_a8bf_7085c2a9ca7arow0_col1\" class=\"data row0 col1\" >0.949022</td>\n",
       "            </tr>\n",
       "            <tr>\n",
       "                        <th id=\"T_9521ec66_239a_11eb_a8bf_7085c2a9ca7alevel0_row1\" class=\"row_heading level0 row1\" >rap</th>\n",
       "                        <td id=\"T_9521ec66_239a_11eb_a8bf_7085c2a9ca7arow1_col0\" class=\"data row1 col0\" >1.119497</td>\n",
       "                        <td id=\"T_9521ec66_239a_11eb_a8bf_7085c2a9ca7arow1_col1\" class=\"data row1 col1\" >0.310003</td>\n",
       "            </tr>\n",
       "            <tr>\n",
       "                        <th id=\"T_9521ec66_239a_11eb_a8bf_7085c2a9ca7alevel0_row2\" class=\"row_heading level0 row2\" >hip</th>\n",
       "                        <td id=\"T_9521ec66_239a_11eb_a8bf_7085c2a9ca7arow2_col0\" class=\"data row2 col0\" >0.811321</td>\n",
       "                        <td id=\"T_9521ec66_239a_11eb_a8bf_7085c2a9ca7arow2_col1\" class=\"data row2 col1\" >0.274869</td>\n",
       "            </tr>\n",
       "            <tr>\n",
       "                        <th id=\"T_9521ec66_239a_11eb_a8bf_7085c2a9ca7alevel0_row3\" class=\"row_heading level0 row3\" >hop</th>\n",
       "                        <td id=\"T_9521ec66_239a_11eb_a8bf_7085c2a9ca7arow3_col0\" class=\"data row3 col0\" >0.754717</td>\n",
       "                        <td id=\"T_9521ec66_239a_11eb_a8bf_7085c2a9ca7arow3_col1\" class=\"data row3 col1\" >0.249931</td>\n",
       "            </tr>\n",
       "            <tr>\n",
       "                        <th id=\"T_9521ec66_239a_11eb_a8bf_7085c2a9ca7alevel0_row4\" class=\"row_heading level0 row4\" >trap</th>\n",
       "                        <td id=\"T_9521ec66_239a_11eb_a8bf_7085c2a9ca7arow4_col0\" class=\"data row4 col0\" >0.465409</td>\n",
       "                        <td id=\"T_9521ec66_239a_11eb_a8bf_7085c2a9ca7arow4_col1\" class=\"data row4 col1\" >0.084459</td>\n",
       "            </tr>\n",
       "            <tr>\n",
       "                        <th id=\"T_9521ec66_239a_11eb_a8bf_7085c2a9ca7alevel0_row5\" class=\"row_heading level0 row5\" >r&b</th>\n",
       "                        <td id=\"T_9521ec66_239a_11eb_a8bf_7085c2a9ca7arow5_col0\" class=\"data row5 col0\" >0.402516</td>\n",
       "                        <td id=\"T_9521ec66_239a_11eb_a8bf_7085c2a9ca7arow5_col1\" class=\"data row5 col1\" >0.139157</td>\n",
       "            </tr>\n",
       "            <tr>\n",
       "                        <th id=\"T_9521ec66_239a_11eb_a8bf_7085c2a9ca7alevel0_row6\" class=\"row_heading level0 row6\" >rock</th>\n",
       "                        <td id=\"T_9521ec66_239a_11eb_a8bf_7085c2a9ca7arow6_col0\" class=\"data row6 col0\" >0.327044</td>\n",
       "                        <td id=\"T_9521ec66_239a_11eb_a8bf_7085c2a9ca7arow6_col1\" class=\"data row6 col1\" >0.744282</td>\n",
       "            </tr>\n",
       "            <tr>\n",
       "                        <th id=\"T_9521ec66_239a_11eb_a8bf_7085c2a9ca7alevel0_row7\" class=\"row_heading level0 row7\" >dance</th>\n",
       "                        <td id=\"T_9521ec66_239a_11eb_a8bf_7085c2a9ca7arow7_col0\" class=\"data row7 col0\" >0.295597</td>\n",
       "                        <td id=\"T_9521ec66_239a_11eb_a8bf_7085c2a9ca7arow7_col1\" class=\"data row7 col1\" >0.181455</td>\n",
       "            </tr>\n",
       "            <tr>\n",
       "                        <th id=\"T_9521ec66_239a_11eb_a8bf_7085c2a9ca7alevel0_row8\" class=\"row_heading level0 row8\" >soul</th>\n",
       "                        <td id=\"T_9521ec66_239a_11eb_a8bf_7085c2a9ca7arow8_col0\" class=\"data row8 col0\" >0.207547</td>\n",
       "                        <td id=\"T_9521ec66_239a_11eb_a8bf_7085c2a9ca7arow8_col1\" class=\"data row8 col1\" >0.185864</td>\n",
       "            </tr>\n",
       "            <tr>\n",
       "                        <th id=\"T_9521ec66_239a_11eb_a8bf_7085c2a9ca7alevel0_row9\" class=\"row_heading level0 row9\" >melodic</th>\n",
       "                        <td id=\"T_9521ec66_239a_11eb_a8bf_7085c2a9ca7arow9_col0\" class=\"data row9 col0\" >0.163522</td>\n",
       "                        <td id=\"T_9521ec66_239a_11eb_a8bf_7085c2a9ca7arow9_col1\" class=\"data row9 col1\" >0.059245</td>\n",
       "            </tr>\n",
       "            <tr>\n",
       "                        <th id=\"T_9521ec66_239a_11eb_a8bf_7085c2a9ca7alevel0_row10\" class=\"row_heading level0 row10\" >atl</th>\n",
       "                        <td id=\"T_9521ec66_239a_11eb_a8bf_7085c2a9ca7arow10_col0\" class=\"data row10 col0\" >0.163522</td>\n",
       "                        <td id=\"T_9521ec66_239a_11eb_a8bf_7085c2a9ca7arow10_col1\" class=\"data row10 col1\" >0.024525</td>\n",
       "            </tr>\n",
       "            <tr>\n",
       "                        <th id=\"T_9521ec66_239a_11eb_a8bf_7085c2a9ca7alevel0_row11\" class=\"row_heading level0 row11\" >southern</th>\n",
       "                        <td id=\"T_9521ec66_239a_11eb_a8bf_7085c2a9ca7arow11_col0\" class=\"data row11 col0\" >0.157233</td>\n",
       "                        <td id=\"T_9521ec66_239a_11eb_a8bf_7085c2a9ca7arow11_col1\" class=\"data row11 col1\" >0.042436</td>\n",
       "            </tr>\n",
       "    </tbody></table>"
      ],
      "text/plain": [
       "<pandas.io.formats.style.Styler at 0x237f65d82c8>"
      ]
     },
     "metadata": {},
     "output_type": "display_data"
    },
    {
     "name": "stdout",
     "output_type": "stream",
     "text": [
      "Micro Genre Comparison\n"
     ]
    },
    {
     "data": {
      "text/html": [
       "<style  type=\"text/css\" >\n",
       "#T_9523bfe8_239a_11eb_9413_7085c2a9ca7arow0_col0,#T_9523bfe8_239a_11eb_9413_7085c2a9ca7arow1_col0,#T_9523bfe8_239a_11eb_9413_7085c2a9ca7arow2_col0,#T_9523bfe8_239a_11eb_9413_7085c2a9ca7arow3_col0,#T_9523bfe8_239a_11eb_9413_7085c2a9ca7arow4_col0,#T_9523bfe8_239a_11eb_9413_7085c2a9ca7arow5_col0,#T_9523bfe8_239a_11eb_9413_7085c2a9ca7arow6_col0{\n",
       "            background-color:  #023858;\n",
       "            color:  #f1f1f1;\n",
       "        }#T_9523bfe8_239a_11eb_9413_7085c2a9ca7arow0_col1,#T_9523bfe8_239a_11eb_9413_7085c2a9ca7arow1_col1,#T_9523bfe8_239a_11eb_9413_7085c2a9ca7arow2_col1,#T_9523bfe8_239a_11eb_9413_7085c2a9ca7arow3_col1,#T_9523bfe8_239a_11eb_9413_7085c2a9ca7arow4_col1,#T_9523bfe8_239a_11eb_9413_7085c2a9ca7arow5_col1,#T_9523bfe8_239a_11eb_9413_7085c2a9ca7arow6_col1{\n",
       "            background-color:  #fff7fb;\n",
       "            color:  #000000;\n",
       "        }</style><table id=\"T_9523bfe8_239a_11eb_9413_7085c2a9ca7a\" ><thead>    <tr>        <th class=\"blank level0\" ></th>        <th class=\"col_heading level0 col0\" >cluster_0</th>        <th class=\"col_heading level0 col1\" >df</th>    </tr></thead><tbody>\n",
       "                <tr>\n",
       "                        <th id=\"T_9523bfe8_239a_11eb_9413_7085c2a9ca7alevel0_row0\" class=\"row_heading level0 row0\" >pop</th>\n",
       "                        <td id=\"T_9523bfe8_239a_11eb_9413_7085c2a9ca7arow0_col0\" class=\"data row0 col0\" >0.293930</td>\n",
       "                        <td id=\"T_9523bfe8_239a_11eb_9413_7085c2a9ca7arow0_col1\" class=\"data row0 col1\" >0.170846</td>\n",
       "            </tr>\n",
       "            <tr>\n",
       "                        <th id=\"T_9523bfe8_239a_11eb_9413_7085c2a9ca7alevel0_row1\" class=\"row_heading level0 row1\" >dance pop</th>\n",
       "                        <td id=\"T_9523bfe8_239a_11eb_9413_7085c2a9ca7arow1_col0\" class=\"data row1 col0\" >0.207668</td>\n",
       "                        <td id=\"T_9523bfe8_239a_11eb_9413_7085c2a9ca7arow1_col1\" class=\"data row1 col1\" >0.121659</td>\n",
       "            </tr>\n",
       "            <tr>\n",
       "                        <th id=\"T_9523bfe8_239a_11eb_9413_7085c2a9ca7alevel0_row2\" class=\"row_heading level0 row2\" >urban contemporary</th>\n",
       "                        <td id=\"T_9523bfe8_239a_11eb_9413_7085c2a9ca7arow2_col0\" class=\"data row2 col0\" >0.162939</td>\n",
       "                        <td id=\"T_9523bfe8_239a_11eb_9413_7085c2a9ca7arow2_col1\" class=\"data row2 col1\" >0.054974</td>\n",
       "            </tr>\n",
       "            <tr>\n",
       "                        <th id=\"T_9523bfe8_239a_11eb_9413_7085c2a9ca7alevel0_row3\" class=\"row_heading level0 row3\" >quiet storm</th>\n",
       "                        <td id=\"T_9523bfe8_239a_11eb_9413_7085c2a9ca7arow3_col0\" class=\"data row3 col0\" >0.146965</td>\n",
       "                        <td id=\"T_9523bfe8_239a_11eb_9413_7085c2a9ca7arow3_col1\" class=\"data row3 col1\" >0.044503</td>\n",
       "            </tr>\n",
       "            <tr>\n",
       "                        <th id=\"T_9523bfe8_239a_11eb_9413_7085c2a9ca7alevel0_row4\" class=\"row_heading level0 row4\" >r&b</th>\n",
       "                        <td id=\"T_9523bfe8_239a_11eb_9413_7085c2a9ca7arow4_col0\" class=\"data row4 col0\" >0.146965</td>\n",
       "                        <td id=\"T_9523bfe8_239a_11eb_9413_7085c2a9ca7arow4_col1\" class=\"data row4 col1\" >0.052080</td>\n",
       "            </tr>\n",
       "            <tr>\n",
       "                        <th id=\"T_9523bfe8_239a_11eb_9413_7085c2a9ca7alevel0_row5\" class=\"row_heading level0 row5\" >soul</th>\n",
       "                        <td id=\"T_9523bfe8_239a_11eb_9413_7085c2a9ca7arow5_col0\" class=\"data row5 col0\" >0.146965</td>\n",
       "                        <td id=\"T_9523bfe8_239a_11eb_9413_7085c2a9ca7arow5_col1\" class=\"data row5 col1\" >0.053320</td>\n",
       "            </tr>\n",
       "            <tr>\n",
       "                        <th id=\"T_9523bfe8_239a_11eb_9413_7085c2a9ca7alevel0_row6\" class=\"row_heading level0 row6\" >motown</th>\n",
       "                        <td id=\"T_9523bfe8_239a_11eb_9413_7085c2a9ca7arow6_col0\" class=\"data row6 col0\" >0.124601</td>\n",
       "                        <td id=\"T_9523bfe8_239a_11eb_9413_7085c2a9ca7arow6_col1\" class=\"data row6 col1\" >0.041196</td>\n",
       "            </tr>\n",
       "    </tbody></table>"
      ],
      "text/plain": [
       "<pandas.io.formats.style.Styler at 0x237f5ea4508>"
      ]
     },
     "metadata": {},
     "output_type": "display_data"
    },
    {
     "name": "stdout",
     "output_type": "stream",
     "text": [
      "Keyword Comparison\n"
     ]
    },
    {
     "data": {
      "text/html": [
       "<style  type=\"text/css\" >\n",
       "#T_9526084a_239a_11eb_8728_7085c2a9ca7arow0_col0,#T_9526084a_239a_11eb_8728_7085c2a9ca7arow1_col1,#T_9526084a_239a_11eb_8728_7085c2a9ca7arow2_col0,#T_9526084a_239a_11eb_8728_7085c2a9ca7arow3_col0,#T_9526084a_239a_11eb_8728_7085c2a9ca7arow4_col0,#T_9526084a_239a_11eb_8728_7085c2a9ca7arow5_col1,#T_9526084a_239a_11eb_8728_7085c2a9ca7arow6_col0,#T_9526084a_239a_11eb_8728_7085c2a9ca7arow7_col1,#T_9526084a_239a_11eb_8728_7085c2a9ca7arow8_col1,#T_9526084a_239a_11eb_8728_7085c2a9ca7arow9_col0,#T_9526084a_239a_11eb_8728_7085c2a9ca7arow10_col0,#T_9526084a_239a_11eb_8728_7085c2a9ca7arow11_col0{\n",
       "            background-color:  #023858;\n",
       "            color:  #f1f1f1;\n",
       "        }#T_9526084a_239a_11eb_8728_7085c2a9ca7arow0_col1,#T_9526084a_239a_11eb_8728_7085c2a9ca7arow1_col0,#T_9526084a_239a_11eb_8728_7085c2a9ca7arow2_col1,#T_9526084a_239a_11eb_8728_7085c2a9ca7arow3_col1,#T_9526084a_239a_11eb_8728_7085c2a9ca7arow4_col1,#T_9526084a_239a_11eb_8728_7085c2a9ca7arow5_col0,#T_9526084a_239a_11eb_8728_7085c2a9ca7arow6_col1,#T_9526084a_239a_11eb_8728_7085c2a9ca7arow7_col0,#T_9526084a_239a_11eb_8728_7085c2a9ca7arow8_col0,#T_9526084a_239a_11eb_8728_7085c2a9ca7arow9_col1,#T_9526084a_239a_11eb_8728_7085c2a9ca7arow10_col1,#T_9526084a_239a_11eb_8728_7085c2a9ca7arow11_col1{\n",
       "            background-color:  #fff7fb;\n",
       "            color:  #000000;\n",
       "        }</style><table id=\"T_9526084a_239a_11eb_8728_7085c2a9ca7a\" ><thead>    <tr>        <th class=\"blank level0\" ></th>        <th class=\"col_heading level0 col0\" >cluster_0</th>        <th class=\"col_heading level0 col1\" >df</th>    </tr></thead><tbody>\n",
       "                <tr>\n",
       "                        <th id=\"T_9526084a_239a_11eb_8728_7085c2a9ca7alevel0_row0\" class=\"row_heading level0 row0\" >pop</th>\n",
       "                        <td id=\"T_9526084a_239a_11eb_8728_7085c2a9ca7arow0_col0\" class=\"data row0 col0\" >1.277955</td>\n",
       "                        <td id=\"T_9526084a_239a_11eb_8728_7085c2a9ca7arow0_col1\" class=\"data row0 col1\" >0.949022</td>\n",
       "            </tr>\n",
       "            <tr>\n",
       "                        <th id=\"T_9526084a_239a_11eb_8728_7085c2a9ca7alevel0_row1\" class=\"row_heading level0 row1\" >rock</th>\n",
       "                        <td id=\"T_9526084a_239a_11eb_8728_7085c2a9ca7arow1_col0\" class=\"data row1 col0\" >0.523962</td>\n",
       "                        <td id=\"T_9526084a_239a_11eb_8728_7085c2a9ca7arow1_col1\" class=\"data row1 col1\" >0.744282</td>\n",
       "            </tr>\n",
       "            <tr>\n",
       "                        <th id=\"T_9526084a_239a_11eb_8728_7085c2a9ca7alevel0_row2\" class=\"row_heading level0 row2\" >soul</th>\n",
       "                        <td id=\"T_9526084a_239a_11eb_8728_7085c2a9ca7arow2_col0\" class=\"data row2 col0\" >0.396166</td>\n",
       "                        <td id=\"T_9526084a_239a_11eb_8728_7085c2a9ca7arow2_col1\" class=\"data row2 col1\" >0.185864</td>\n",
       "            </tr>\n",
       "            <tr>\n",
       "                        <th id=\"T_9526084a_239a_11eb_8728_7085c2a9ca7alevel0_row3\" class=\"row_heading level0 row3\" >dance</th>\n",
       "                        <td id=\"T_9526084a_239a_11eb_8728_7085c2a9ca7arow3_col0\" class=\"data row3 col0\" >0.287540</td>\n",
       "                        <td id=\"T_9526084a_239a_11eb_8728_7085c2a9ca7arow3_col1\" class=\"data row3 col1\" >0.181455</td>\n",
       "            </tr>\n",
       "            <tr>\n",
       "                        <th id=\"T_9526084a_239a_11eb_8728_7085c2a9ca7alevel0_row4\" class=\"row_heading level0 row4\" >r&b</th>\n",
       "                        <td id=\"T_9526084a_239a_11eb_8728_7085c2a9ca7arow4_col0\" class=\"data row4 col0\" >0.265176</td>\n",
       "                        <td id=\"T_9526084a_239a_11eb_8728_7085c2a9ca7arow4_col1\" class=\"data row4 col1\" >0.139157</td>\n",
       "            </tr>\n",
       "            <tr>\n",
       "                        <th id=\"T_9526084a_239a_11eb_8728_7085c2a9ca7alevel0_row5\" class=\"row_heading level0 row5\" >rap</th>\n",
       "                        <td id=\"T_9526084a_239a_11eb_8728_7085c2a9ca7arow5_col0\" class=\"data row5 col0\" >0.230032</td>\n",
       "                        <td id=\"T_9526084a_239a_11eb_8728_7085c2a9ca7arow5_col1\" class=\"data row5 col1\" >0.310003</td>\n",
       "            </tr>\n",
       "            <tr>\n",
       "                        <th id=\"T_9526084a_239a_11eb_8728_7085c2a9ca7alevel0_row6\" class=\"row_heading level0 row6\" >contemporary</th>\n",
       "                        <td id=\"T_9526084a_239a_11eb_8728_7085c2a9ca7arow6_col0\" class=\"data row6 col0\" >0.220447</td>\n",
       "                        <td id=\"T_9526084a_239a_11eb_8728_7085c2a9ca7arow6_col1\" class=\"data row6 col1\" >0.119868</td>\n",
       "            </tr>\n",
       "            <tr>\n",
       "                        <th id=\"T_9526084a_239a_11eb_8728_7085c2a9ca7alevel0_row7\" class=\"row_heading level0 row7\" >hip</th>\n",
       "                        <td id=\"T_9526084a_239a_11eb_8728_7085c2a9ca7arow7_col0\" class=\"data row7 col0\" >0.210863</td>\n",
       "                        <td id=\"T_9526084a_239a_11eb_8728_7085c2a9ca7arow7_col1\" class=\"data row7 col1\" >0.274869</td>\n",
       "            </tr>\n",
       "            <tr>\n",
       "                        <th id=\"T_9526084a_239a_11eb_8728_7085c2a9ca7alevel0_row8\" class=\"row_heading level0 row8\" >indie</th>\n",
       "                        <td id=\"T_9526084a_239a_11eb_8728_7085c2a9ca7arow8_col0\" class=\"data row8 col0\" >0.191693</td>\n",
       "                        <td id=\"T_9526084a_239a_11eb_8728_7085c2a9ca7arow8_col1\" class=\"data row8 col1\" >0.285478</td>\n",
       "            </tr>\n",
       "            <tr>\n",
       "                        <th id=\"T_9526084a_239a_11eb_8728_7085c2a9ca7alevel0_row9\" class=\"row_heading level0 row9\" >new</th>\n",
       "                        <td id=\"T_9526084a_239a_11eb_8728_7085c2a9ca7arow9_col0\" class=\"data row9 col0\" >0.188498</td>\n",
       "                        <td id=\"T_9526084a_239a_11eb_8728_7085c2a9ca7arow9_col1\" class=\"data row9 col1\" >0.137779</td>\n",
       "            </tr>\n",
       "            <tr>\n",
       "                        <th id=\"T_9526084a_239a_11eb_8728_7085c2a9ca7alevel0_row10\" class=\"row_heading level0 row10\" >house</th>\n",
       "                        <td id=\"T_9526084a_239a_11eb_8728_7085c2a9ca7arow10_col0\" class=\"data row10 col0\" >0.175719</td>\n",
       "                        <td id=\"T_9526084a_239a_11eb_8728_7085c2a9ca7arow10_col1\" class=\"data row10 col1\" >0.105814</td>\n",
       "            </tr>\n",
       "            <tr>\n",
       "                        <th id=\"T_9526084a_239a_11eb_8728_7085c2a9ca7alevel0_row11\" class=\"row_heading level0 row11\" >urban</th>\n",
       "                        <td id=\"T_9526084a_239a_11eb_8728_7085c2a9ca7arow11_col0\" class=\"data row11 col0\" >0.162939</td>\n",
       "                        <td id=\"T_9526084a_239a_11eb_8728_7085c2a9ca7arow11_col1\" class=\"data row11 col1\" >0.054974</td>\n",
       "            </tr>\n",
       "    </tbody></table>"
      ],
      "text/plain": [
       "<pandas.io.formats.style.Styler at 0x237f65d8248>"
      ]
     },
     "metadata": {},
     "output_type": "display_data"
    },
    {
     "name": "stdout",
     "output_type": "stream",
     "text": [
      "Micro Genre Comparison\n"
     ]
    },
    {
     "data": {
      "text/html": [
       "<style  type=\"text/css\" >\n",
       "#T_952829b0_239a_11eb_8dc0_7085c2a9ca7arow0_col0,#T_952829b0_239a_11eb_8dc0_7085c2a9ca7arow1_col0,#T_952829b0_239a_11eb_8dc0_7085c2a9ca7arow2_col0,#T_952829b0_239a_11eb_8dc0_7085c2a9ca7arow3_col0,#T_952829b0_239a_11eb_8dc0_7085c2a9ca7arow4_col0,#T_952829b0_239a_11eb_8dc0_7085c2a9ca7arow5_col0,#T_952829b0_239a_11eb_8dc0_7085c2a9ca7arow6_col0{\n",
       "            background-color:  #023858;\n",
       "            color:  #f1f1f1;\n",
       "        }#T_952829b0_239a_11eb_8dc0_7085c2a9ca7arow0_col1,#T_952829b0_239a_11eb_8dc0_7085c2a9ca7arow1_col1,#T_952829b0_239a_11eb_8dc0_7085c2a9ca7arow2_col1,#T_952829b0_239a_11eb_8dc0_7085c2a9ca7arow3_col1,#T_952829b0_239a_11eb_8dc0_7085c2a9ca7arow4_col1,#T_952829b0_239a_11eb_8dc0_7085c2a9ca7arow5_col1,#T_952829b0_239a_11eb_8dc0_7085c2a9ca7arow6_col1{\n",
       "            background-color:  #fff7fb;\n",
       "            color:  #000000;\n",
       "        }</style><table id=\"T_952829b0_239a_11eb_8dc0_7085c2a9ca7a\" ><thead>    <tr>        <th class=\"blank level0\" ></th>        <th class=\"col_heading level0 col0\" >cluster_5</th>        <th class=\"col_heading level0 col1\" >df</th>    </tr></thead><tbody>\n",
       "                <tr>\n",
       "                        <th id=\"T_952829b0_239a_11eb_8dc0_7085c2a9ca7alevel0_row0\" class=\"row_heading level0 row0\" >pop</th>\n",
       "                        <td id=\"T_952829b0_239a_11eb_8dc0_7085c2a9ca7arow0_col0\" class=\"data row0 col0\" >0.362162</td>\n",
       "                        <td id=\"T_952829b0_239a_11eb_8dc0_7085c2a9ca7arow0_col1\" class=\"data row0 col1\" >0.170846</td>\n",
       "            </tr>\n",
       "            <tr>\n",
       "                        <th id=\"T_952829b0_239a_11eb_8dc0_7085c2a9ca7alevel0_row1\" class=\"row_heading level0 row1\" >dance pop</th>\n",
       "                        <td id=\"T_952829b0_239a_11eb_8dc0_7085c2a9ca7arow1_col0\" class=\"data row1 col0\" >0.318919</td>\n",
       "                        <td id=\"T_952829b0_239a_11eb_8dc0_7085c2a9ca7arow1_col1\" class=\"data row1 col1\" >0.121659</td>\n",
       "            </tr>\n",
       "            <tr>\n",
       "                        <th id=\"T_952829b0_239a_11eb_8dc0_7085c2a9ca7alevel0_row2\" class=\"row_heading level0 row2\" >urban contemporary</th>\n",
       "                        <td id=\"T_952829b0_239a_11eb_8dc0_7085c2a9ca7arow2_col0\" class=\"data row2 col0\" >0.140541</td>\n",
       "                        <td id=\"T_952829b0_239a_11eb_8dc0_7085c2a9ca7arow2_col1\" class=\"data row2 col1\" >0.054974</td>\n",
       "            </tr>\n",
       "            <tr>\n",
       "                        <th id=\"T_952829b0_239a_11eb_8dc0_7085c2a9ca7alevel0_row3\" class=\"row_heading level0 row3\" >pop rap</th>\n",
       "                        <td id=\"T_952829b0_239a_11eb_8dc0_7085c2a9ca7arow3_col0\" class=\"data row3 col0\" >0.135135</td>\n",
       "                        <td id=\"T_952829b0_239a_11eb_8dc0_7085c2a9ca7arow3_col1\" class=\"data row3 col1\" >0.073298</td>\n",
       "            </tr>\n",
       "            <tr>\n",
       "                        <th id=\"T_952829b0_239a_11eb_8dc0_7085c2a9ca7alevel0_row4\" class=\"row_heading level0 row4\" >r&b</th>\n",
       "                        <td id=\"T_952829b0_239a_11eb_8dc0_7085c2a9ca7arow4_col0\" class=\"data row4 col0\" >0.124324</td>\n",
       "                        <td id=\"T_952829b0_239a_11eb_8dc0_7085c2a9ca7arow4_col1\" class=\"data row4 col1\" >0.052080</td>\n",
       "            </tr>\n",
       "            <tr>\n",
       "                        <th id=\"T_952829b0_239a_11eb_8dc0_7085c2a9ca7alevel0_row5\" class=\"row_heading level0 row5\" >rap</th>\n",
       "                        <td id=\"T_952829b0_239a_11eb_8dc0_7085c2a9ca7arow5_col0\" class=\"data row5 col0\" >0.102703</td>\n",
       "                        <td id=\"T_952829b0_239a_11eb_8dc0_7085c2a9ca7arow5_col1\" class=\"data row5 col1\" >0.077983</td>\n",
       "            </tr>\n",
       "            <tr>\n",
       "                        <th id=\"T_952829b0_239a_11eb_8dc0_7085c2a9ca7alevel0_row6\" class=\"row_heading level0 row6\" >tropical house</th>\n",
       "                        <td id=\"T_952829b0_239a_11eb_8dc0_7085c2a9ca7arow6_col0\" class=\"data row6 col0\" >0.091892</td>\n",
       "                        <td id=\"T_952829b0_239a_11eb_8dc0_7085c2a9ca7arow6_col1\" class=\"data row6 col1\" >0.037338</td>\n",
       "            </tr>\n",
       "    </tbody></table>"
      ],
      "text/plain": [
       "<pandas.io.formats.style.Styler at 0x237d64cb848>"
      ]
     },
     "metadata": {},
     "output_type": "display_data"
    },
    {
     "name": "stdout",
     "output_type": "stream",
     "text": [
      "Keyword Comparison\n"
     ]
    },
    {
     "data": {
      "text/html": [
       "<style  type=\"text/css\" >\n",
       "#T_952a7214_239a_11eb_a207_7085c2a9ca7arow0_col0,#T_952a7214_239a_11eb_a207_7085c2a9ca7arow1_col1,#T_952a7214_239a_11eb_a207_7085c2a9ca7arow2_col0,#T_952a7214_239a_11eb_a207_7085c2a9ca7arow3_col0,#T_952a7214_239a_11eb_a207_7085c2a9ca7arow4_col0,#T_952a7214_239a_11eb_a207_7085c2a9ca7arow5_col0,#T_952a7214_239a_11eb_a207_7085c2a9ca7arow6_col0,#T_952a7214_239a_11eb_a207_7085c2a9ca7arow7_col0,#T_952a7214_239a_11eb_a207_7085c2a9ca7arow8_col0,#T_952a7214_239a_11eb_a207_7085c2a9ca7arow9_col1,#T_952a7214_239a_11eb_a207_7085c2a9ca7arow10_col1,#T_952a7214_239a_11eb_a207_7085c2a9ca7arow11_col0{\n",
       "            background-color:  #023858;\n",
       "            color:  #f1f1f1;\n",
       "        }#T_952a7214_239a_11eb_a207_7085c2a9ca7arow0_col1,#T_952a7214_239a_11eb_a207_7085c2a9ca7arow1_col0,#T_952a7214_239a_11eb_a207_7085c2a9ca7arow2_col1,#T_952a7214_239a_11eb_a207_7085c2a9ca7arow3_col1,#T_952a7214_239a_11eb_a207_7085c2a9ca7arow4_col1,#T_952a7214_239a_11eb_a207_7085c2a9ca7arow5_col1,#T_952a7214_239a_11eb_a207_7085c2a9ca7arow6_col1,#T_952a7214_239a_11eb_a207_7085c2a9ca7arow7_col1,#T_952a7214_239a_11eb_a207_7085c2a9ca7arow8_col1,#T_952a7214_239a_11eb_a207_7085c2a9ca7arow9_col0,#T_952a7214_239a_11eb_a207_7085c2a9ca7arow10_col0,#T_952a7214_239a_11eb_a207_7085c2a9ca7arow11_col1{\n",
       "            background-color:  #fff7fb;\n",
       "            color:  #000000;\n",
       "        }</style><table id=\"T_952a7214_239a_11eb_a207_7085c2a9ca7a\" ><thead>    <tr>        <th class=\"blank level0\" ></th>        <th class=\"col_heading level0 col0\" >cluster_5</th>        <th class=\"col_heading level0 col1\" >df</th>    </tr></thead><tbody>\n",
       "                <tr>\n",
       "                        <th id=\"T_952a7214_239a_11eb_a207_7085c2a9ca7alevel0_row0\" class=\"row_heading level0 row0\" >pop</th>\n",
       "                        <td id=\"T_952a7214_239a_11eb_a207_7085c2a9ca7arow0_col0\" class=\"data row0 col0\" >1.567568</td>\n",
       "                        <td id=\"T_952a7214_239a_11eb_a207_7085c2a9ca7arow0_col1\" class=\"data row0 col1\" >0.949022</td>\n",
       "            </tr>\n",
       "            <tr>\n",
       "                        <th id=\"T_952a7214_239a_11eb_a207_7085c2a9ca7alevel0_row1\" class=\"row_heading level0 row1\" >rock</th>\n",
       "                        <td id=\"T_952a7214_239a_11eb_a207_7085c2a9ca7arow1_col0\" class=\"data row1 col0\" >0.589189</td>\n",
       "                        <td id=\"T_952a7214_239a_11eb_a207_7085c2a9ca7arow1_col1\" class=\"data row1 col1\" >0.744282</td>\n",
       "            </tr>\n",
       "            <tr>\n",
       "                        <th id=\"T_952a7214_239a_11eb_a207_7085c2a9ca7alevel0_row2\" class=\"row_heading level0 row2\" >hip</th>\n",
       "                        <td id=\"T_952a7214_239a_11eb_a207_7085c2a9ca7arow2_col0\" class=\"data row2 col0\" >0.437838</td>\n",
       "                        <td id=\"T_952a7214_239a_11eb_a207_7085c2a9ca7arow2_col1\" class=\"data row2 col1\" >0.274869</td>\n",
       "            </tr>\n",
       "            <tr>\n",
       "                        <th id=\"T_952a7214_239a_11eb_a207_7085c2a9ca7alevel0_row3\" class=\"row_heading level0 row3\" >rap</th>\n",
       "                        <td id=\"T_952a7214_239a_11eb_a207_7085c2a9ca7arow3_col0\" class=\"data row3 col0\" >0.405405</td>\n",
       "                        <td id=\"T_952a7214_239a_11eb_a207_7085c2a9ca7arow3_col1\" class=\"data row3 col1\" >0.310003</td>\n",
       "            </tr>\n",
       "            <tr>\n",
       "                        <th id=\"T_952a7214_239a_11eb_a207_7085c2a9ca7alevel0_row4\" class=\"row_heading level0 row4\" >dance</th>\n",
       "                        <td id=\"T_952a7214_239a_11eb_a207_7085c2a9ca7arow4_col0\" class=\"data row4 col0\" >0.378378</td>\n",
       "                        <td id=\"T_952a7214_239a_11eb_a207_7085c2a9ca7arow4_col1\" class=\"data row4 col1\" >0.181455</td>\n",
       "            </tr>\n",
       "            <tr>\n",
       "                        <th id=\"T_952a7214_239a_11eb_a207_7085c2a9ca7alevel0_row5\" class=\"row_heading level0 row5\" >hop</th>\n",
       "                        <td id=\"T_952a7214_239a_11eb_a207_7085c2a9ca7arow5_col0\" class=\"data row5 col0\" >0.351351</td>\n",
       "                        <td id=\"T_952a7214_239a_11eb_a207_7085c2a9ca7arow5_col1\" class=\"data row5 col1\" >0.249931</td>\n",
       "            </tr>\n",
       "            <tr>\n",
       "                        <th id=\"T_952a7214_239a_11eb_a207_7085c2a9ca7alevel0_row6\" class=\"row_heading level0 row6\" >r&b</th>\n",
       "                        <td id=\"T_952a7214_239a_11eb_a207_7085c2a9ca7arow6_col0\" class=\"data row6 col0\" >0.259459</td>\n",
       "                        <td id=\"T_952a7214_239a_11eb_a207_7085c2a9ca7arow6_col1\" class=\"data row6 col1\" >0.139157</td>\n",
       "            </tr>\n",
       "            <tr>\n",
       "                        <th id=\"T_952a7214_239a_11eb_a207_7085c2a9ca7alevel0_row7\" class=\"row_heading level0 row7\" >house</th>\n",
       "                        <td id=\"T_952a7214_239a_11eb_a207_7085c2a9ca7arow7_col0\" class=\"data row7 col0\" >0.243243</td>\n",
       "                        <td id=\"T_952a7214_239a_11eb_a207_7085c2a9ca7arow7_col1\" class=\"data row7 col1\" >0.105814</td>\n",
       "            </tr>\n",
       "            <tr>\n",
       "                        <th id=\"T_952a7214_239a_11eb_a207_7085c2a9ca7alevel0_row8\" class=\"row_heading level0 row8\" >contemporary</th>\n",
       "                        <td id=\"T_952a7214_239a_11eb_a207_7085c2a9ca7arow8_col0\" class=\"data row8 col0\" >0.200000</td>\n",
       "                        <td id=\"T_952a7214_239a_11eb_a207_7085c2a9ca7arow8_col1\" class=\"data row8 col1\" >0.119868</td>\n",
       "            </tr>\n",
       "            <tr>\n",
       "                        <th id=\"T_952a7214_239a_11eb_a207_7085c2a9ca7alevel0_row9\" class=\"row_heading level0 row9\" >indie</th>\n",
       "                        <td id=\"T_952a7214_239a_11eb_a207_7085c2a9ca7arow9_col0\" class=\"data row9 col0\" >0.183784</td>\n",
       "                        <td id=\"T_952a7214_239a_11eb_a207_7085c2a9ca7arow9_col1\" class=\"data row9 col1\" >0.285478</td>\n",
       "            </tr>\n",
       "            <tr>\n",
       "                        <th id=\"T_952a7214_239a_11eb_a207_7085c2a9ca7alevel0_row10\" class=\"row_heading level0 row10\" >alternative</th>\n",
       "                        <td id=\"T_952a7214_239a_11eb_a207_7085c2a9ca7arow10_col0\" class=\"data row10 col0\" >0.172973</td>\n",
       "                        <td id=\"T_952a7214_239a_11eb_a207_7085c2a9ca7arow10_col1\" class=\"data row10 col1\" >0.184211</td>\n",
       "            </tr>\n",
       "            <tr>\n",
       "                        <th id=\"T_952a7214_239a_11eb_a207_7085c2a9ca7alevel0_row11\" class=\"row_heading level0 row11\" >new</th>\n",
       "                        <td id=\"T_952a7214_239a_11eb_a207_7085c2a9ca7arow11_col0\" class=\"data row11 col0\" >0.156757</td>\n",
       "                        <td id=\"T_952a7214_239a_11eb_a207_7085c2a9ca7arow11_col1\" class=\"data row11 col1\" >0.137779</td>\n",
       "            </tr>\n",
       "    </tbody></table>"
      ],
      "text/plain": [
       "<pandas.io.formats.style.Styler at 0x237f633e088>"
      ]
     },
     "metadata": {},
     "output_type": "display_data"
    },
    {
     "name": "stdout",
     "output_type": "stream",
     "text": [
      "Micro Genre Comparison\n"
     ]
    },
    {
     "data": {
      "text/html": [
       "<style  type=\"text/css\" >\n",
       "#T_952c6c8a_239a_11eb_8c87_7085c2a9ca7arow0_col0,#T_952c6c8a_239a_11eb_8c87_7085c2a9ca7arow1_col0,#T_952c6c8a_239a_11eb_8c87_7085c2a9ca7arow2_col0,#T_952c6c8a_239a_11eb_8c87_7085c2a9ca7arow3_col0,#T_952c6c8a_239a_11eb_8c87_7085c2a9ca7arow4_col0,#T_952c6c8a_239a_11eb_8c87_7085c2a9ca7arow5_col0,#T_952c6c8a_239a_11eb_8c87_7085c2a9ca7arow6_col0{\n",
       "            background-color:  #023858;\n",
       "            color:  #f1f1f1;\n",
       "        }#T_952c6c8a_239a_11eb_8c87_7085c2a9ca7arow0_col1,#T_952c6c8a_239a_11eb_8c87_7085c2a9ca7arow1_col1,#T_952c6c8a_239a_11eb_8c87_7085c2a9ca7arow2_col1,#T_952c6c8a_239a_11eb_8c87_7085c2a9ca7arow3_col1,#T_952c6c8a_239a_11eb_8c87_7085c2a9ca7arow4_col1,#T_952c6c8a_239a_11eb_8c87_7085c2a9ca7arow5_col1,#T_952c6c8a_239a_11eb_8c87_7085c2a9ca7arow6_col1{\n",
       "            background-color:  #fff7fb;\n",
       "            color:  #000000;\n",
       "        }</style><table id=\"T_952c6c8a_239a_11eb_8c87_7085c2a9ca7a\" ><thead>    <tr>        <th class=\"blank level0\" ></th>        <th class=\"col_heading level0 col0\" >cluster_7</th>        <th class=\"col_heading level0 col1\" >df</th>    </tr></thead><tbody>\n",
       "                <tr>\n",
       "                        <th id=\"T_952c6c8a_239a_11eb_8c87_7085c2a9ca7alevel0_row0\" class=\"row_heading level0 row0\" >pop</th>\n",
       "                        <td id=\"T_952c6c8a_239a_11eb_8c87_7085c2a9ca7arow0_col0\" class=\"data row0 col0\" >0.355372</td>\n",
       "                        <td id=\"T_952c6c8a_239a_11eb_8c87_7085c2a9ca7arow0_col1\" class=\"data row0 col1\" >0.170846</td>\n",
       "            </tr>\n",
       "            <tr>\n",
       "                        <th id=\"T_952c6c8a_239a_11eb_8c87_7085c2a9ca7alevel0_row1\" class=\"row_heading level0 row1\" >dance pop</th>\n",
       "                        <td id=\"T_952c6c8a_239a_11eb_8c87_7085c2a9ca7arow1_col0\" class=\"data row1 col0\" >0.305785</td>\n",
       "                        <td id=\"T_952c6c8a_239a_11eb_8c87_7085c2a9ca7arow1_col1\" class=\"data row1 col1\" >0.121659</td>\n",
       "            </tr>\n",
       "            <tr>\n",
       "                        <th id=\"T_952c6c8a_239a_11eb_8c87_7085c2a9ca7alevel0_row2\" class=\"row_heading level0 row2\" >r&b</th>\n",
       "                        <td id=\"T_952c6c8a_239a_11eb_8c87_7085c2a9ca7arow2_col0\" class=\"data row2 col0\" >0.181818</td>\n",
       "                        <td id=\"T_952c6c8a_239a_11eb_8c87_7085c2a9ca7arow2_col1\" class=\"data row2 col1\" >0.052080</td>\n",
       "            </tr>\n",
       "            <tr>\n",
       "                        <th id=\"T_952c6c8a_239a_11eb_8c87_7085c2a9ca7alevel0_row3\" class=\"row_heading level0 row3\" >urban contemporary</th>\n",
       "                        <td id=\"T_952c6c8a_239a_11eb_8c87_7085c2a9ca7arow3_col0\" class=\"data row3 col0\" >0.165289</td>\n",
       "                        <td id=\"T_952c6c8a_239a_11eb_8c87_7085c2a9ca7arow3_col1\" class=\"data row3 col1\" >0.054974</td>\n",
       "            </tr>\n",
       "            <tr>\n",
       "                        <th id=\"T_952c6c8a_239a_11eb_8c87_7085c2a9ca7alevel0_row4\" class=\"row_heading level0 row4\" >post-teen pop</th>\n",
       "                        <td id=\"T_952c6c8a_239a_11eb_8c87_7085c2a9ca7arow4_col0\" class=\"data row4 col0\" >0.165289</td>\n",
       "                        <td id=\"T_952c6c8a_239a_11eb_8c87_7085c2a9ca7arow4_col1\" class=\"data row4 col1\" >0.060485</td>\n",
       "            </tr>\n",
       "            <tr>\n",
       "                        <th id=\"T_952c6c8a_239a_11eb_8c87_7085c2a9ca7alevel0_row5\" class=\"row_heading level0 row5\" >rap</th>\n",
       "                        <td id=\"T_952c6c8a_239a_11eb_8c87_7085c2a9ca7arow5_col0\" class=\"data row5 col0\" >0.140496</td>\n",
       "                        <td id=\"T_952c6c8a_239a_11eb_8c87_7085c2a9ca7arow5_col1\" class=\"data row5 col1\" >0.077983</td>\n",
       "            </tr>\n",
       "            <tr>\n",
       "                        <th id=\"T_952c6c8a_239a_11eb_8c87_7085c2a9ca7alevel0_row6\" class=\"row_heading level0 row6\" >pop rap</th>\n",
       "                        <td id=\"T_952c6c8a_239a_11eb_8c87_7085c2a9ca7arow6_col0\" class=\"data row6 col0\" >0.140496</td>\n",
       "                        <td id=\"T_952c6c8a_239a_11eb_8c87_7085c2a9ca7arow6_col1\" class=\"data row6 col1\" >0.073298</td>\n",
       "            </tr>\n",
       "    </tbody></table>"
      ],
      "text/plain": [
       "<pandas.io.formats.style.Styler at 0x237f5ea47c8>"
      ]
     },
     "metadata": {},
     "output_type": "display_data"
    },
    {
     "name": "stdout",
     "output_type": "stream",
     "text": [
      "Keyword Comparison\n"
     ]
    },
    {
     "data": {
      "text/html": [
       "<style  type=\"text/css\" >\n",
       "#T_952e8df4_239a_11eb_85e9_7085c2a9ca7arow0_col0,#T_952e8df4_239a_11eb_85e9_7085c2a9ca7arow1_col1,#T_952e8df4_239a_11eb_85e9_7085c2a9ca7arow2_col0,#T_952e8df4_239a_11eb_85e9_7085c2a9ca7arow3_col0,#T_952e8df4_239a_11eb_85e9_7085c2a9ca7arow4_col0,#T_952e8df4_239a_11eb_85e9_7085c2a9ca7arow5_col0,#T_952e8df4_239a_11eb_85e9_7085c2a9ca7arow6_col0,#T_952e8df4_239a_11eb_85e9_7085c2a9ca7arow7_col0,#T_952e8df4_239a_11eb_85e9_7085c2a9ca7arow8_col1,#T_952e8df4_239a_11eb_85e9_7085c2a9ca7arow9_col0,#T_952e8df4_239a_11eb_85e9_7085c2a9ca7arow10_col0,#T_952e8df4_239a_11eb_85e9_7085c2a9ca7arow11_col0{\n",
       "            background-color:  #023858;\n",
       "            color:  #f1f1f1;\n",
       "        }#T_952e8df4_239a_11eb_85e9_7085c2a9ca7arow0_col1,#T_952e8df4_239a_11eb_85e9_7085c2a9ca7arow1_col0,#T_952e8df4_239a_11eb_85e9_7085c2a9ca7arow2_col1,#T_952e8df4_239a_11eb_85e9_7085c2a9ca7arow3_col1,#T_952e8df4_239a_11eb_85e9_7085c2a9ca7arow4_col1,#T_952e8df4_239a_11eb_85e9_7085c2a9ca7arow5_col1,#T_952e8df4_239a_11eb_85e9_7085c2a9ca7arow6_col1,#T_952e8df4_239a_11eb_85e9_7085c2a9ca7arow7_col1,#T_952e8df4_239a_11eb_85e9_7085c2a9ca7arow8_col0,#T_952e8df4_239a_11eb_85e9_7085c2a9ca7arow9_col1,#T_952e8df4_239a_11eb_85e9_7085c2a9ca7arow10_col1,#T_952e8df4_239a_11eb_85e9_7085c2a9ca7arow11_col1{\n",
       "            background-color:  #fff7fb;\n",
       "            color:  #000000;\n",
       "        }</style><table id=\"T_952e8df4_239a_11eb_85e9_7085c2a9ca7a\" ><thead>    <tr>        <th class=\"blank level0\" ></th>        <th class=\"col_heading level0 col0\" >cluster_7</th>        <th class=\"col_heading level0 col1\" >df</th>    </tr></thead><tbody>\n",
       "                <tr>\n",
       "                        <th id=\"T_952e8df4_239a_11eb_85e9_7085c2a9ca7alevel0_row0\" class=\"row_heading level0 row0\" >pop</th>\n",
       "                        <td id=\"T_952e8df4_239a_11eb_85e9_7085c2a9ca7arow0_col0\" class=\"data row0 col0\" >1.603306</td>\n",
       "                        <td id=\"T_952e8df4_239a_11eb_85e9_7085c2a9ca7arow0_col1\" class=\"data row0 col1\" >0.949022</td>\n",
       "            </tr>\n",
       "            <tr>\n",
       "                        <th id=\"T_952e8df4_239a_11eb_85e9_7085c2a9ca7alevel0_row1\" class=\"row_heading level0 row1\" >rock</th>\n",
       "                        <td id=\"T_952e8df4_239a_11eb_85e9_7085c2a9ca7arow1_col0\" class=\"data row1 col0\" >0.652893</td>\n",
       "                        <td id=\"T_952e8df4_239a_11eb_85e9_7085c2a9ca7arow1_col1\" class=\"data row1 col1\" >0.744282</td>\n",
       "            </tr>\n",
       "            <tr>\n",
       "                        <th id=\"T_952e8df4_239a_11eb_85e9_7085c2a9ca7alevel0_row2\" class=\"row_heading level0 row2\" >hip</th>\n",
       "                        <td id=\"T_952e8df4_239a_11eb_85e9_7085c2a9ca7arow2_col0\" class=\"data row2 col0\" >0.429752</td>\n",
       "                        <td id=\"T_952e8df4_239a_11eb_85e9_7085c2a9ca7arow2_col1\" class=\"data row2 col1\" >0.274869</td>\n",
       "            </tr>\n",
       "            <tr>\n",
       "                        <th id=\"T_952e8df4_239a_11eb_85e9_7085c2a9ca7alevel0_row3\" class=\"row_heading level0 row3\" >r&b</th>\n",
       "                        <td id=\"T_952e8df4_239a_11eb_85e9_7085c2a9ca7arow3_col0\" class=\"data row3 col0\" >0.421488</td>\n",
       "                        <td id=\"T_952e8df4_239a_11eb_85e9_7085c2a9ca7arow3_col1\" class=\"data row3 col1\" >0.139157</td>\n",
       "            </tr>\n",
       "            <tr>\n",
       "                        <th id=\"T_952e8df4_239a_11eb_85e9_7085c2a9ca7alevel0_row4\" class=\"row_heading level0 row4\" >rap</th>\n",
       "                        <td id=\"T_952e8df4_239a_11eb_85e9_7085c2a9ca7arow4_col0\" class=\"data row4 col0\" >0.388430</td>\n",
       "                        <td id=\"T_952e8df4_239a_11eb_85e9_7085c2a9ca7arow4_col1\" class=\"data row4 col1\" >0.310003</td>\n",
       "            </tr>\n",
       "            <tr>\n",
       "                        <th id=\"T_952e8df4_239a_11eb_85e9_7085c2a9ca7alevel0_row5\" class=\"row_heading level0 row5\" >dance</th>\n",
       "                        <td id=\"T_952e8df4_239a_11eb_85e9_7085c2a9ca7arow5_col0\" class=\"data row5 col0\" >0.388430</td>\n",
       "                        <td id=\"T_952e8df4_239a_11eb_85e9_7085c2a9ca7arow5_col1\" class=\"data row5 col1\" >0.181455</td>\n",
       "            </tr>\n",
       "            <tr>\n",
       "                        <th id=\"T_952e8df4_239a_11eb_85e9_7085c2a9ca7alevel0_row6\" class=\"row_heading level0 row6\" >hop</th>\n",
       "                        <td id=\"T_952e8df4_239a_11eb_85e9_7085c2a9ca7arow6_col0\" class=\"data row6 col0\" >0.338843</td>\n",
       "                        <td id=\"T_952e8df4_239a_11eb_85e9_7085c2a9ca7arow6_col1\" class=\"data row6 col1\" >0.249931</td>\n",
       "            </tr>\n",
       "            <tr>\n",
       "                        <th id=\"T_952e8df4_239a_11eb_85e9_7085c2a9ca7alevel0_row7\" class=\"row_heading level0 row7\" >soul</th>\n",
       "                        <td id=\"T_952e8df4_239a_11eb_85e9_7085c2a9ca7arow7_col0\" class=\"data row7 col0\" >0.289256</td>\n",
       "                        <td id=\"T_952e8df4_239a_11eb_85e9_7085c2a9ca7arow7_col1\" class=\"data row7 col1\" >0.185864</td>\n",
       "            </tr>\n",
       "            <tr>\n",
       "                        <th id=\"T_952e8df4_239a_11eb_85e9_7085c2a9ca7alevel0_row8\" class=\"row_heading level0 row8\" >indie</th>\n",
       "                        <td id=\"T_952e8df4_239a_11eb_85e9_7085c2a9ca7arow8_col0\" class=\"data row8 col0\" >0.256198</td>\n",
       "                        <td id=\"T_952e8df4_239a_11eb_85e9_7085c2a9ca7arow8_col1\" class=\"data row8 col1\" >0.285478</td>\n",
       "            </tr>\n",
       "            <tr>\n",
       "                        <th id=\"T_952e8df4_239a_11eb_85e9_7085c2a9ca7alevel0_row9\" class=\"row_heading level0 row9\" >contemporary</th>\n",
       "                        <td id=\"T_952e8df4_239a_11eb_85e9_7085c2a9ca7arow9_col0\" class=\"data row9 col0\" >0.190083</td>\n",
       "                        <td id=\"T_952e8df4_239a_11eb_85e9_7085c2a9ca7arow9_col1\" class=\"data row9 col1\" >0.119868</td>\n",
       "            </tr>\n",
       "            <tr>\n",
       "                        <th id=\"T_952e8df4_239a_11eb_85e9_7085c2a9ca7alevel0_row10\" class=\"row_heading level0 row10\" >new</th>\n",
       "                        <td id=\"T_952e8df4_239a_11eb_85e9_7085c2a9ca7arow10_col0\" class=\"data row10 col0\" >0.173554</td>\n",
       "                        <td id=\"T_952e8df4_239a_11eb_85e9_7085c2a9ca7arow10_col1\" class=\"data row10 col1\" >0.137779</td>\n",
       "            </tr>\n",
       "            <tr>\n",
       "                        <th id=\"T_952e8df4_239a_11eb_85e9_7085c2a9ca7alevel0_row11\" class=\"row_heading level0 row11\" >post-teen</th>\n",
       "                        <td id=\"T_952e8df4_239a_11eb_85e9_7085c2a9ca7arow11_col0\" class=\"data row11 col0\" >0.165289</td>\n",
       "                        <td id=\"T_952e8df4_239a_11eb_85e9_7085c2a9ca7arow11_col1\" class=\"data row11 col1\" >0.060485</td>\n",
       "            </tr>\n",
       "    </tbody></table>"
      ],
      "text/plain": [
       "<pandas.io.formats.style.Styler at 0x237d609c988>"
      ]
     },
     "metadata": {},
     "output_type": "display_data"
    },
    {
     "name": "stdout",
     "output_type": "stream",
     "text": [
      "Micro Genre Comparison\n"
     ]
    },
    {
     "data": {
      "text/html": [
       "<style  type=\"text/css\" >\n",
       "#T_95306170_239a_11eb_a7ae_7085c2a9ca7arow0_col0,#T_95306170_239a_11eb_a7ae_7085c2a9ca7arow1_col0,#T_95306170_239a_11eb_a7ae_7085c2a9ca7arow2_col0,#T_95306170_239a_11eb_a7ae_7085c2a9ca7arow3_col0,#T_95306170_239a_11eb_a7ae_7085c2a9ca7arow4_col0,#T_95306170_239a_11eb_a7ae_7085c2a9ca7arow5_col0,#T_95306170_239a_11eb_a7ae_7085c2a9ca7arow6_col0{\n",
       "            background-color:  #023858;\n",
       "            color:  #f1f1f1;\n",
       "        }#T_95306170_239a_11eb_a7ae_7085c2a9ca7arow0_col1,#T_95306170_239a_11eb_a7ae_7085c2a9ca7arow1_col1,#T_95306170_239a_11eb_a7ae_7085c2a9ca7arow2_col1,#T_95306170_239a_11eb_a7ae_7085c2a9ca7arow3_col1,#T_95306170_239a_11eb_a7ae_7085c2a9ca7arow4_col1,#T_95306170_239a_11eb_a7ae_7085c2a9ca7arow5_col1,#T_95306170_239a_11eb_a7ae_7085c2a9ca7arow6_col1{\n",
       "            background-color:  #fff7fb;\n",
       "            color:  #000000;\n",
       "        }</style><table id=\"T_95306170_239a_11eb_a7ae_7085c2a9ca7a\" ><thead>    <tr>        <th class=\"blank level0\" ></th>        <th class=\"col_heading level0 col0\" >cluster_9</th>        <th class=\"col_heading level0 col1\" >df</th>    </tr></thead><tbody>\n",
       "                <tr>\n",
       "                        <th id=\"T_95306170_239a_11eb_a7ae_7085c2a9ca7alevel0_row0\" class=\"row_heading level0 row0\" >roots reggae</th>\n",
       "                        <td id=\"T_95306170_239a_11eb_a7ae_7085c2a9ca7arow0_col0\" class=\"data row0 col0\" >1.000000</td>\n",
       "                        <td id=\"T_95306170_239a_11eb_a7ae_7085c2a9ca7arow0_col1\" class=\"data row0 col1\" >0.009920</td>\n",
       "            </tr>\n",
       "            <tr>\n",
       "                        <th id=\"T_95306170_239a_11eb_a7ae_7085c2a9ca7alevel0_row1\" class=\"row_heading level0 row1\" >reggae fusion</th>\n",
       "                        <td id=\"T_95306170_239a_11eb_a7ae_7085c2a9ca7arow1_col0\" class=\"data row1 col0\" >1.000000</td>\n",
       "                        <td id=\"T_95306170_239a_11eb_a7ae_7085c2a9ca7arow1_col1\" class=\"data row1 col1\" >0.013916</td>\n",
       "            </tr>\n",
       "            <tr>\n",
       "                        <th id=\"T_95306170_239a_11eb_a7ae_7085c2a9ca7alevel0_row2\" class=\"row_heading level0 row2\" >reggae</th>\n",
       "                        <td id=\"T_95306170_239a_11eb_a7ae_7085c2a9ca7arow2_col0\" class=\"data row2 col0\" >1.000000</td>\n",
       "                        <td id=\"T_95306170_239a_11eb_a7ae_7085c2a9ca7arow2_col1\" class=\"data row2 col1\" >0.013640</td>\n",
       "            </tr>\n",
       "            <tr>\n",
       "                        <th id=\"T_95306170_239a_11eb_a7ae_7085c2a9ca7alevel0_row3\" class=\"row_heading level0 row3\" >pop rap</th>\n",
       "                        <td id=\"T_95306170_239a_11eb_a7ae_7085c2a9ca7arow3_col0\" class=\"data row3 col0\" >1.000000</td>\n",
       "                        <td id=\"T_95306170_239a_11eb_a7ae_7085c2a9ca7arow3_col1\" class=\"data row3 col1\" >0.073298</td>\n",
       "            </tr>\n",
       "            <tr>\n",
       "                        <th id=\"T_95306170_239a_11eb_a7ae_7085c2a9ca7alevel0_row4\" class=\"row_heading level0 row4\" >pop</th>\n",
       "                        <td id=\"T_95306170_239a_11eb_a7ae_7085c2a9ca7arow4_col0\" class=\"data row4 col0\" >1.000000</td>\n",
       "                        <td id=\"T_95306170_239a_11eb_a7ae_7085c2a9ca7arow4_col1\" class=\"data row4 col1\" >0.170846</td>\n",
       "            </tr>\n",
       "            <tr>\n",
       "                        <th id=\"T_95306170_239a_11eb_a7ae_7085c2a9ca7alevel0_row5\" class=\"row_heading level0 row5\" >modern reggae</th>\n",
       "                        <td id=\"T_95306170_239a_11eb_a7ae_7085c2a9ca7arow5_col0\" class=\"data row5 col0\" >1.000000</td>\n",
       "                        <td id=\"T_95306170_239a_11eb_a7ae_7085c2a9ca7arow5_col1\" class=\"data row5 col1\" >0.015293</td>\n",
       "            </tr>\n",
       "            <tr>\n",
       "                        <th id=\"T_95306170_239a_11eb_a7ae_7085c2a9ca7alevel0_row6\" class=\"row_heading level0 row6\" >lovers rock</th>\n",
       "                        <td id=\"T_95306170_239a_11eb_a7ae_7085c2a9ca7arow6_col0\" class=\"data row6 col0\" >1.000000</td>\n",
       "                        <td id=\"T_95306170_239a_11eb_a7ae_7085c2a9ca7arow6_col1\" class=\"data row6 col1\" >0.009093</td>\n",
       "            </tr>\n",
       "    </tbody></table>"
      ],
      "text/plain": [
       "<pandas.io.formats.style.Styler at 0x237d64cbb48>"
      ]
     },
     "metadata": {},
     "output_type": "display_data"
    },
    {
     "name": "stdout",
     "output_type": "stream",
     "text": [
      "Keyword Comparison\n"
     ]
    },
    {
     "data": {
      "text/html": [
       "<style  type=\"text/css\" >\n",
       "#T_9532a9cc_239a_11eb_bb6f_7085c2a9ca7arow0_col0,#T_9532a9cc_239a_11eb_bb6f_7085c2a9ca7arow1_col0,#T_9532a9cc_239a_11eb_bb6f_7085c2a9ca7arow2_col0,#T_9532a9cc_239a_11eb_bb6f_7085c2a9ca7arow3_col0,#T_9532a9cc_239a_11eb_bb6f_7085c2a9ca7arow4_col0,#T_9532a9cc_239a_11eb_bb6f_7085c2a9ca7arow5_col0,#T_9532a9cc_239a_11eb_bb6f_7085c2a9ca7arow6_col0,#T_9532a9cc_239a_11eb_bb6f_7085c2a9ca7arow7_col0,#T_9532a9cc_239a_11eb_bb6f_7085c2a9ca7arow8_col0{\n",
       "            background-color:  #023858;\n",
       "            color:  #f1f1f1;\n",
       "        }#T_9532a9cc_239a_11eb_bb6f_7085c2a9ca7arow0_col1,#T_9532a9cc_239a_11eb_bb6f_7085c2a9ca7arow1_col1,#T_9532a9cc_239a_11eb_bb6f_7085c2a9ca7arow2_col1,#T_9532a9cc_239a_11eb_bb6f_7085c2a9ca7arow3_col1,#T_9532a9cc_239a_11eb_bb6f_7085c2a9ca7arow4_col1,#T_9532a9cc_239a_11eb_bb6f_7085c2a9ca7arow5_col1,#T_9532a9cc_239a_11eb_bb6f_7085c2a9ca7arow6_col1,#T_9532a9cc_239a_11eb_bb6f_7085c2a9ca7arow7_col1,#T_9532a9cc_239a_11eb_bb6f_7085c2a9ca7arow8_col1,#T_9532a9cc_239a_11eb_bb6f_7085c2a9ca7arow9_col0,#T_9532a9cc_239a_11eb_bb6f_7085c2a9ca7arow9_col1,#T_9532a9cc_239a_11eb_bb6f_7085c2a9ca7arow10_col0,#T_9532a9cc_239a_11eb_bb6f_7085c2a9ca7arow10_col1,#T_9532a9cc_239a_11eb_bb6f_7085c2a9ca7arow11_col0,#T_9532a9cc_239a_11eb_bb6f_7085c2a9ca7arow11_col1{\n",
       "            background-color:  #fff7fb;\n",
       "            color:  #000000;\n",
       "        }</style><table id=\"T_9532a9cc_239a_11eb_bb6f_7085c2a9ca7a\" ><thead>    <tr>        <th class=\"blank level0\" ></th>        <th class=\"col_heading level0 col0\" >cluster_9</th>        <th class=\"col_heading level0 col1\" >df</th>    </tr></thead><tbody>\n",
       "                <tr>\n",
       "                        <th id=\"T_9532a9cc_239a_11eb_bb6f_7085c2a9ca7alevel0_row0\" class=\"row_heading level0 row0\" >reggae</th>\n",
       "                        <td id=\"T_9532a9cc_239a_11eb_bb6f_7085c2a9ca7arow0_col0\" class=\"data row0 col0\" >4.000000</td>\n",
       "                        <td id=\"T_9532a9cc_239a_11eb_bb6f_7085c2a9ca7arow0_col1\" class=\"data row0 col1\" >0.060347</td>\n",
       "            </tr>\n",
       "            <tr>\n",
       "                        <th id=\"T_9532a9cc_239a_11eb_bb6f_7085c2a9ca7alevel0_row1\" class=\"row_heading level0 row1\" >pop</th>\n",
       "                        <td id=\"T_9532a9cc_239a_11eb_bb6f_7085c2a9ca7arow1_col0\" class=\"data row1 col0\" >2.000000</td>\n",
       "                        <td id=\"T_9532a9cc_239a_11eb_bb6f_7085c2a9ca7arow1_col1\" class=\"data row1 col1\" >0.949022</td>\n",
       "            </tr>\n",
       "            <tr>\n",
       "                        <th id=\"T_9532a9cc_239a_11eb_bb6f_7085c2a9ca7alevel0_row2\" class=\"row_heading level0 row2\" >roots</th>\n",
       "                        <td id=\"T_9532a9cc_239a_11eb_bb6f_7085c2a9ca7arow2_col0\" class=\"data row2 col0\" >1.000000</td>\n",
       "                        <td id=\"T_9532a9cc_239a_11eb_bb6f_7085c2a9ca7arow2_col1\" class=\"data row2 col1\" >0.029347</td>\n",
       "            </tr>\n",
       "            <tr>\n",
       "                        <th id=\"T_9532a9cc_239a_11eb_bb6f_7085c2a9ca7alevel0_row3\" class=\"row_heading level0 row3\" >rock</th>\n",
       "                        <td id=\"T_9532a9cc_239a_11eb_bb6f_7085c2a9ca7arow3_col0\" class=\"data row3 col0\" >1.000000</td>\n",
       "                        <td id=\"T_9532a9cc_239a_11eb_bb6f_7085c2a9ca7arow3_col1\" class=\"data row3 col1\" >0.744282</td>\n",
       "            </tr>\n",
       "            <tr>\n",
       "                        <th id=\"T_9532a9cc_239a_11eb_bb6f_7085c2a9ca7alevel0_row4\" class=\"row_heading level0 row4\" >rap</th>\n",
       "                        <td id=\"T_9532a9cc_239a_11eb_bb6f_7085c2a9ca7arow4_col0\" class=\"data row4 col0\" >1.000000</td>\n",
       "                        <td id=\"T_9532a9cc_239a_11eb_bb6f_7085c2a9ca7arow4_col1\" class=\"data row4 col1\" >0.310003</td>\n",
       "            </tr>\n",
       "            <tr>\n",
       "                        <th id=\"T_9532a9cc_239a_11eb_bb6f_7085c2a9ca7alevel0_row5\" class=\"row_heading level0 row5\" >modern</th>\n",
       "                        <td id=\"T_9532a9cc_239a_11eb_bb6f_7085c2a9ca7arow5_col0\" class=\"data row5 col0\" >1.000000</td>\n",
       "                        <td id=\"T_9532a9cc_239a_11eb_bb6f_7085c2a9ca7arow5_col1\" class=\"data row5 col1\" >0.126481</td>\n",
       "            </tr>\n",
       "            <tr>\n",
       "                        <th id=\"T_9532a9cc_239a_11eb_bb6f_7085c2a9ca7alevel0_row6\" class=\"row_heading level0 row6\" >lovers</th>\n",
       "                        <td id=\"T_9532a9cc_239a_11eb_bb6f_7085c2a9ca7arow6_col0\" class=\"data row6 col0\" >1.000000</td>\n",
       "                        <td id=\"T_9532a9cc_239a_11eb_bb6f_7085c2a9ca7arow6_col1\" class=\"data row6 col1\" >0.009093</td>\n",
       "            </tr>\n",
       "            <tr>\n",
       "                        <th id=\"T_9532a9cc_239a_11eb_bb6f_7085c2a9ca7alevel0_row7\" class=\"row_heading level0 row7\" >fusion</th>\n",
       "                        <td id=\"T_9532a9cc_239a_11eb_bb6f_7085c2a9ca7arow7_col0\" class=\"data row7 col0\" >1.000000</td>\n",
       "                        <td id=\"T_9532a9cc_239a_11eb_bb6f_7085c2a9ca7arow7_col1\" class=\"data row7 col1\" >0.022045</td>\n",
       "            </tr>\n",
       "            <tr>\n",
       "                        <th id=\"T_9532a9cc_239a_11eb_bb6f_7085c2a9ca7alevel0_row8\" class=\"row_heading level0 row8\" >dancehall</th>\n",
       "                        <td id=\"T_9532a9cc_239a_11eb_bb6f_7085c2a9ca7arow8_col0\" class=\"data row8 col0\" >1.000000</td>\n",
       "                        <td id=\"T_9532a9cc_239a_11eb_bb6f_7085c2a9ca7arow8_col1\" class=\"data row8 col1\" >0.037889</td>\n",
       "            </tr>\n",
       "            <tr>\n",
       "                        <th id=\"T_9532a9cc_239a_11eb_bb6f_7085c2a9ca7alevel0_row9\" class=\"row_heading level0 row9\" >\"australian</th>\n",
       "                        <td id=\"T_9532a9cc_239a_11eb_bb6f_7085c2a9ca7arow9_col0\" class=\"data row9 col0\" >nan</td>\n",
       "                        <td id=\"T_9532a9cc_239a_11eb_bb6f_7085c2a9ca7arow9_col1\" class=\"data row9 col1\" >0.000138</td>\n",
       "            </tr>\n",
       "            <tr>\n",
       "                        <th id=\"T_9532a9cc_239a_11eb_bb6f_7085c2a9ca7alevel0_row10\" class=\"row_heading level0 row10\" >\"black</th>\n",
       "                        <td id=\"T_9532a9cc_239a_11eb_bb6f_7085c2a9ca7arow10_col0\" class=\"data row10 col0\" >nan</td>\n",
       "                        <td id=\"T_9532a9cc_239a_11eb_bb6f_7085c2a9ca7arow10_col1\" class=\"data row10 col1\" >0.000138</td>\n",
       "            </tr>\n",
       "            <tr>\n",
       "                        <th id=\"T_9532a9cc_239a_11eb_bb6f_7085c2a9ca7alevel0_row11\" class=\"row_heading level0 row11\" >\"canadian</th>\n",
       "                        <td id=\"T_9532a9cc_239a_11eb_bb6f_7085c2a9ca7arow11_col0\" class=\"data row11 col0\" >nan</td>\n",
       "                        <td id=\"T_9532a9cc_239a_11eb_bb6f_7085c2a9ca7arow11_col1\" class=\"data row11 col1\" >0.000413</td>\n",
       "            </tr>\n",
       "    </tbody></table>"
      ],
      "text/plain": [
       "<pandas.io.formats.style.Styler at 0x237c04a8688>"
      ]
     },
     "metadata": {},
     "output_type": "display_data"
    },
    {
     "name": "stdout",
     "output_type": "stream",
     "text": [
      "Micro Genre Comparison\n"
     ]
    },
    {
     "data": {
      "text/html": [
       "<style  type=\"text/css\" >\n",
       "#T_9534a442_239a_11eb_8c47_7085c2a9ca7arow0_col0,#T_9534a442_239a_11eb_8c47_7085c2a9ca7arow1_col0,#T_9534a442_239a_11eb_8c47_7085c2a9ca7arow2_col0,#T_9534a442_239a_11eb_8c47_7085c2a9ca7arow3_col0,#T_9534a442_239a_11eb_8c47_7085c2a9ca7arow4_col0,#T_9534a442_239a_11eb_8c47_7085c2a9ca7arow5_col0,#T_9534a442_239a_11eb_8c47_7085c2a9ca7arow6_col0{\n",
       "            background-color:  #023858;\n",
       "            color:  #f1f1f1;\n",
       "        }#T_9534a442_239a_11eb_8c47_7085c2a9ca7arow0_col1,#T_9534a442_239a_11eb_8c47_7085c2a9ca7arow1_col1,#T_9534a442_239a_11eb_8c47_7085c2a9ca7arow2_col1,#T_9534a442_239a_11eb_8c47_7085c2a9ca7arow3_col1,#T_9534a442_239a_11eb_8c47_7085c2a9ca7arow4_col1,#T_9534a442_239a_11eb_8c47_7085c2a9ca7arow5_col1,#T_9534a442_239a_11eb_8c47_7085c2a9ca7arow6_col1{\n",
       "            background-color:  #fff7fb;\n",
       "            color:  #000000;\n",
       "        }</style><table id=\"T_9534a442_239a_11eb_8c47_7085c2a9ca7a\" ><thead>    <tr>        <th class=\"blank level0\" ></th>        <th class=\"col_heading level0 col0\" >cluster_8</th>        <th class=\"col_heading level0 col1\" >df</th>    </tr></thead><tbody>\n",
       "                <tr>\n",
       "                        <th id=\"T_9534a442_239a_11eb_8c47_7085c2a9ca7alevel0_row0\" class=\"row_heading level0 row0\" >dance pop</th>\n",
       "                        <td id=\"T_9534a442_239a_11eb_8c47_7085c2a9ca7arow0_col0\" class=\"data row0 col0\" >0.275862</td>\n",
       "                        <td id=\"T_9534a442_239a_11eb_8c47_7085c2a9ca7arow0_col1\" class=\"data row0 col1\" >0.121659</td>\n",
       "            </tr>\n",
       "            <tr>\n",
       "                        <th id=\"T_9534a442_239a_11eb_8c47_7085c2a9ca7alevel0_row1\" class=\"row_heading level0 row1\" >pop</th>\n",
       "                        <td id=\"T_9534a442_239a_11eb_8c47_7085c2a9ca7arow1_col0\" class=\"data row1 col0\" >0.241379</td>\n",
       "                        <td id=\"T_9534a442_239a_11eb_8c47_7085c2a9ca7arow1_col1\" class=\"data row1 col1\" >0.170846</td>\n",
       "            </tr>\n",
       "            <tr>\n",
       "                        <th id=\"T_9534a442_239a_11eb_8c47_7085c2a9ca7alevel0_row2\" class=\"row_heading level0 row2\" >soul</th>\n",
       "                        <td id=\"T_9534a442_239a_11eb_8c47_7085c2a9ca7arow2_col0\" class=\"data row2 col0\" >0.241379</td>\n",
       "                        <td id=\"T_9534a442_239a_11eb_8c47_7085c2a9ca7arow2_col1\" class=\"data row2 col1\" >0.053320</td>\n",
       "            </tr>\n",
       "            <tr>\n",
       "                        <th id=\"T_9534a442_239a_11eb_8c47_7085c2a9ca7alevel0_row3\" class=\"row_heading level0 row3\" >funk</th>\n",
       "                        <td id=\"T_9534a442_239a_11eb_8c47_7085c2a9ca7arow3_col0\" class=\"data row3 col0\" >0.241379</td>\n",
       "                        <td id=\"T_9534a442_239a_11eb_8c47_7085c2a9ca7arow3_col1\" class=\"data row3 col1\" >0.048636</td>\n",
       "            </tr>\n",
       "            <tr>\n",
       "                        <th id=\"T_9534a442_239a_11eb_8c47_7085c2a9ca7alevel0_row4\" class=\"row_heading level0 row4\" >pop rap</th>\n",
       "                        <td id=\"T_9534a442_239a_11eb_8c47_7085c2a9ca7arow4_col0\" class=\"data row4 col0\" >0.224138</td>\n",
       "                        <td id=\"T_9534a442_239a_11eb_8c47_7085c2a9ca7arow4_col1\" class=\"data row4 col1\" >0.073298</td>\n",
       "            </tr>\n",
       "            <tr>\n",
       "                        <th id=\"T_9534a442_239a_11eb_8c47_7085c2a9ca7alevel0_row5\" class=\"row_heading level0 row5\" >hip hop</th>\n",
       "                        <td id=\"T_9534a442_239a_11eb_8c47_7085c2a9ca7arow5_col0\" class=\"data row5 col0\" >0.189655</td>\n",
       "                        <td id=\"T_9534a442_239a_11eb_8c47_7085c2a9ca7arow5_col1\" class=\"data row5 col1\" >0.057316</td>\n",
       "            </tr>\n",
       "            <tr>\n",
       "                        <th id=\"T_9534a442_239a_11eb_8c47_7085c2a9ca7alevel0_row6\" class=\"row_heading level0 row6\" >urban contemporary</th>\n",
       "                        <td id=\"T_9534a442_239a_11eb_8c47_7085c2a9ca7arow6_col0\" class=\"data row6 col0\" >0.189655</td>\n",
       "                        <td id=\"T_9534a442_239a_11eb_8c47_7085c2a9ca7arow6_col1\" class=\"data row6 col1\" >0.054974</td>\n",
       "            </tr>\n",
       "    </tbody></table>"
      ],
      "text/plain": [
       "<pandas.io.formats.style.Styler at 0x237f633e5c8>"
      ]
     },
     "metadata": {},
     "output_type": "display_data"
    },
    {
     "name": "stdout",
     "output_type": "stream",
     "text": [
      "Keyword Comparison\n"
     ]
    },
    {
     "data": {
      "text/html": [
       "<style  type=\"text/css\" >\n",
       "#T_9536ecb0_239a_11eb_a186_7085c2a9ca7arow0_col0,#T_9536ecb0_239a_11eb_a186_7085c2a9ca7arow1_col0,#T_9536ecb0_239a_11eb_a186_7085c2a9ca7arow2_col0,#T_9536ecb0_239a_11eb_a186_7085c2a9ca7arow3_col0,#T_9536ecb0_239a_11eb_a186_7085c2a9ca7arow4_col0,#T_9536ecb0_239a_11eb_a186_7085c2a9ca7arow5_col1,#T_9536ecb0_239a_11eb_a186_7085c2a9ca7arow6_col0,#T_9536ecb0_239a_11eb_a186_7085c2a9ca7arow7_col0,#T_9536ecb0_239a_11eb_a186_7085c2a9ca7arow8_col0,#T_9536ecb0_239a_11eb_a186_7085c2a9ca7arow9_col0,#T_9536ecb0_239a_11eb_a186_7085c2a9ca7arow10_col0,#T_9536ecb0_239a_11eb_a186_7085c2a9ca7arow11_col0{\n",
       "            background-color:  #023858;\n",
       "            color:  #f1f1f1;\n",
       "        }#T_9536ecb0_239a_11eb_a186_7085c2a9ca7arow0_col1,#T_9536ecb0_239a_11eb_a186_7085c2a9ca7arow1_col1,#T_9536ecb0_239a_11eb_a186_7085c2a9ca7arow2_col1,#T_9536ecb0_239a_11eb_a186_7085c2a9ca7arow3_col1,#T_9536ecb0_239a_11eb_a186_7085c2a9ca7arow4_col1,#T_9536ecb0_239a_11eb_a186_7085c2a9ca7arow5_col0,#T_9536ecb0_239a_11eb_a186_7085c2a9ca7arow6_col1,#T_9536ecb0_239a_11eb_a186_7085c2a9ca7arow7_col1,#T_9536ecb0_239a_11eb_a186_7085c2a9ca7arow8_col1,#T_9536ecb0_239a_11eb_a186_7085c2a9ca7arow9_col1,#T_9536ecb0_239a_11eb_a186_7085c2a9ca7arow10_col1,#T_9536ecb0_239a_11eb_a186_7085c2a9ca7arow11_col1{\n",
       "            background-color:  #fff7fb;\n",
       "            color:  #000000;\n",
       "        }</style><table id=\"T_9536ecb0_239a_11eb_a186_7085c2a9ca7a\" ><thead>    <tr>        <th class=\"blank level0\" ></th>        <th class=\"col_heading level0 col0\" >cluster_8</th>        <th class=\"col_heading level0 col1\" >df</th>    </tr></thead><tbody>\n",
       "                <tr>\n",
       "                        <th id=\"T_9536ecb0_239a_11eb_a186_7085c2a9ca7alevel0_row0\" class=\"row_heading level0 row0\" >pop</th>\n",
       "                        <td id=\"T_9536ecb0_239a_11eb_a186_7085c2a9ca7arow0_col0\" class=\"data row0 col0\" >1.172414</td>\n",
       "                        <td id=\"T_9536ecb0_239a_11eb_a186_7085c2a9ca7arow0_col1\" class=\"data row0 col1\" >0.949022</td>\n",
       "            </tr>\n",
       "            <tr>\n",
       "                        <th id=\"T_9536ecb0_239a_11eb_a186_7085c2a9ca7alevel0_row1\" class=\"row_heading level0 row1\" >hip</th>\n",
       "                        <td id=\"T_9536ecb0_239a_11eb_a186_7085c2a9ca7arow1_col0\" class=\"data row1 col0\" >0.844828</td>\n",
       "                        <td id=\"T_9536ecb0_239a_11eb_a186_7085c2a9ca7arow1_col1\" class=\"data row1 col1\" >0.274869</td>\n",
       "            </tr>\n",
       "            <tr>\n",
       "                        <th id=\"T_9536ecb0_239a_11eb_a186_7085c2a9ca7alevel0_row2\" class=\"row_heading level0 row2\" >rap</th>\n",
       "                        <td id=\"T_9536ecb0_239a_11eb_a186_7085c2a9ca7arow2_col0\" class=\"data row2 col0\" >0.724138</td>\n",
       "                        <td id=\"T_9536ecb0_239a_11eb_a186_7085c2a9ca7arow2_col1\" class=\"data row2 col1\" >0.310003</td>\n",
       "            </tr>\n",
       "            <tr>\n",
       "                        <th id=\"T_9536ecb0_239a_11eb_a186_7085c2a9ca7alevel0_row3\" class=\"row_heading level0 row3\" >hop</th>\n",
       "                        <td id=\"T_9536ecb0_239a_11eb_a186_7085c2a9ca7arow3_col0\" class=\"data row3 col0\" >0.706897</td>\n",
       "                        <td id=\"T_9536ecb0_239a_11eb_a186_7085c2a9ca7arow3_col1\" class=\"data row3 col1\" >0.249931</td>\n",
       "            </tr>\n",
       "            <tr>\n",
       "                        <th id=\"T_9536ecb0_239a_11eb_a186_7085c2a9ca7alevel0_row4\" class=\"row_heading level0 row4\" >soul</th>\n",
       "                        <td id=\"T_9536ecb0_239a_11eb_a186_7085c2a9ca7arow4_col0\" class=\"data row4 col0\" >0.431034</td>\n",
       "                        <td id=\"T_9536ecb0_239a_11eb_a186_7085c2a9ca7arow4_col1\" class=\"data row4 col1\" >0.185864</td>\n",
       "            </tr>\n",
       "            <tr>\n",
       "                        <th id=\"T_9536ecb0_239a_11eb_a186_7085c2a9ca7alevel0_row5\" class=\"row_heading level0 row5\" >rock</th>\n",
       "                        <td id=\"T_9536ecb0_239a_11eb_a186_7085c2a9ca7arow5_col0\" class=\"data row5 col0\" >0.413793</td>\n",
       "                        <td id=\"T_9536ecb0_239a_11eb_a186_7085c2a9ca7arow5_col1\" class=\"data row5 col1\" >0.744282</td>\n",
       "            </tr>\n",
       "            <tr>\n",
       "                        <th id=\"T_9536ecb0_239a_11eb_a186_7085c2a9ca7alevel0_row6\" class=\"row_heading level0 row6\" >funk</th>\n",
       "                        <td id=\"T_9536ecb0_239a_11eb_a186_7085c2a9ca7arow6_col0\" class=\"data row6 col0\" >0.379310</td>\n",
       "                        <td id=\"T_9536ecb0_239a_11eb_a186_7085c2a9ca7arow6_col1\" class=\"data row6 col1\" >0.090934</td>\n",
       "            </tr>\n",
       "            <tr>\n",
       "                        <th id=\"T_9536ecb0_239a_11eb_a186_7085c2a9ca7alevel0_row7\" class=\"row_heading level0 row7\" >dance</th>\n",
       "                        <td id=\"T_9536ecb0_239a_11eb_a186_7085c2a9ca7arow7_col0\" class=\"data row7 col0\" >0.310345</td>\n",
       "                        <td id=\"T_9536ecb0_239a_11eb_a186_7085c2a9ca7arow7_col1\" class=\"data row7 col1\" >0.181455</td>\n",
       "            </tr>\n",
       "            <tr>\n",
       "                        <th id=\"T_9536ecb0_239a_11eb_a186_7085c2a9ca7alevel0_row8\" class=\"row_heading level0 row8\" >contemporary</th>\n",
       "                        <td id=\"T_9536ecb0_239a_11eb_a186_7085c2a9ca7arow8_col0\" class=\"data row8 col0\" >0.224138</td>\n",
       "                        <td id=\"T_9536ecb0_239a_11eb_a186_7085c2a9ca7arow8_col1\" class=\"data row8 col1\" >0.119868</td>\n",
       "            </tr>\n",
       "            <tr>\n",
       "                        <th id=\"T_9536ecb0_239a_11eb_a186_7085c2a9ca7alevel0_row9\" class=\"row_heading level0 row9\" >metal</th>\n",
       "                        <td id=\"T_9536ecb0_239a_11eb_a186_7085c2a9ca7arow9_col0\" class=\"data row9 col0\" >0.189655</td>\n",
       "                        <td id=\"T_9536ecb0_239a_11eb_a186_7085c2a9ca7arow9_col1\" class=\"data row9 col1\" >0.151832</td>\n",
       "            </tr>\n",
       "            <tr>\n",
       "                        <th id=\"T_9536ecb0_239a_11eb_a186_7085c2a9ca7alevel0_row10\" class=\"row_heading level0 row10\" >urban</th>\n",
       "                        <td id=\"T_9536ecb0_239a_11eb_a186_7085c2a9ca7arow10_col0\" class=\"data row10 col0\" >0.189655</td>\n",
       "                        <td id=\"T_9536ecb0_239a_11eb_a186_7085c2a9ca7arow10_col1\" class=\"data row10 col1\" >0.054974</td>\n",
       "            </tr>\n",
       "            <tr>\n",
       "                        <th id=\"T_9536ecb0_239a_11eb_a186_7085c2a9ca7alevel0_row11\" class=\"row_heading level0 row11\" >house</th>\n",
       "                        <td id=\"T_9536ecb0_239a_11eb_a186_7085c2a9ca7arow11_col0\" class=\"data row11 col0\" >0.189655</td>\n",
       "                        <td id=\"T_9536ecb0_239a_11eb_a186_7085c2a9ca7arow11_col1\" class=\"data row11 col1\" >0.105814</td>\n",
       "            </tr>\n",
       "    </tbody></table>"
      ],
      "text/plain": [
       "<pandas.io.formats.style.Styler at 0x237f65c5648>"
      ]
     },
     "metadata": {},
     "output_type": "display_data"
    },
    {
     "name": "stdout",
     "output_type": "stream",
     "text": [
      "Micro Genre Comparison\n"
     ]
    },
    {
     "data": {
      "text/html": [
       "<style  type=\"text/css\" >\n",
       "#T_9538e718_239a_11eb_910a_7085c2a9ca7arow0_col0,#T_9538e718_239a_11eb_910a_7085c2a9ca7arow1_col0,#T_9538e718_239a_11eb_910a_7085c2a9ca7arow2_col0,#T_9538e718_239a_11eb_910a_7085c2a9ca7arow3_col0,#T_9538e718_239a_11eb_910a_7085c2a9ca7arow4_col0,#T_9538e718_239a_11eb_910a_7085c2a9ca7arow5_col0,#T_9538e718_239a_11eb_910a_7085c2a9ca7arow6_col0{\n",
       "            background-color:  #023858;\n",
       "            color:  #f1f1f1;\n",
       "        }#T_9538e718_239a_11eb_910a_7085c2a9ca7arow0_col1,#T_9538e718_239a_11eb_910a_7085c2a9ca7arow1_col1,#T_9538e718_239a_11eb_910a_7085c2a9ca7arow2_col1,#T_9538e718_239a_11eb_910a_7085c2a9ca7arow3_col1,#T_9538e718_239a_11eb_910a_7085c2a9ca7arow4_col1,#T_9538e718_239a_11eb_910a_7085c2a9ca7arow5_col1,#T_9538e718_239a_11eb_910a_7085c2a9ca7arow6_col1{\n",
       "            background-color:  #fff7fb;\n",
       "            color:  #000000;\n",
       "        }</style><table id=\"T_9538e718_239a_11eb_910a_7085c2a9ca7a\" ><thead>    <tr>        <th class=\"blank level0\" ></th>        <th class=\"col_heading level0 col0\" >cluster_6</th>        <th class=\"col_heading level0 col1\" >df</th>    </tr></thead><tbody>\n",
       "                <tr>\n",
       "                        <th id=\"T_9538e718_239a_11eb_910a_7085c2a9ca7alevel0_row0\" class=\"row_heading level0 row0\" >rock</th>\n",
       "                        <td id=\"T_9538e718_239a_11eb_910a_7085c2a9ca7arow0_col0\" class=\"data row0 col0\" >0.454545</td>\n",
       "                        <td id=\"T_9538e718_239a_11eb_910a_7085c2a9ca7arow0_col1\" class=\"data row0 col1\" >0.102508</td>\n",
       "            </tr>\n",
       "            <tr>\n",
       "                        <th id=\"T_9538e718_239a_11eb_910a_7085c2a9ca7alevel0_row1\" class=\"row_heading level0 row1\" >art rock</th>\n",
       "                        <td id=\"T_9538e718_239a_11eb_910a_7085c2a9ca7arow1_col0\" class=\"data row1 col0\" >0.363636</td>\n",
       "                        <td id=\"T_9538e718_239a_11eb_910a_7085c2a9ca7arow1_col1\" class=\"data row1 col1\" >0.025351</td>\n",
       "            </tr>\n",
       "            <tr>\n",
       "                        <th id=\"T_9538e718_239a_11eb_910a_7085c2a9ca7alevel0_row2\" class=\"row_heading level0 row2\" >classic rock</th>\n",
       "                        <td id=\"T_9538e718_239a_11eb_910a_7085c2a9ca7arow2_col0\" class=\"data row2 col0\" >0.363636</td>\n",
       "                        <td id=\"T_9538e718_239a_11eb_910a_7085c2a9ca7arow2_col1\" class=\"data row2 col1\" >0.032654</td>\n",
       "            </tr>\n",
       "            <tr>\n",
       "                        <th id=\"T_9538e718_239a_11eb_910a_7085c2a9ca7alevel0_row3\" class=\"row_heading level0 row3\" >dance rock</th>\n",
       "                        <td id=\"T_9538e718_239a_11eb_910a_7085c2a9ca7arow3_col0\" class=\"data row3 col0\" >0.363636</td>\n",
       "                        <td id=\"T_9538e718_239a_11eb_910a_7085c2a9ca7arow3_col1\" class=\"data row3 col1\" >0.031276</td>\n",
       "            </tr>\n",
       "            <tr>\n",
       "                        <th id=\"T_9538e718_239a_11eb_910a_7085c2a9ca7alevel0_row4\" class=\"row_heading level0 row4\" >alternative rock</th>\n",
       "                        <td id=\"T_9538e718_239a_11eb_910a_7085c2a9ca7arow4_col0\" class=\"data row4 col0\" >0.272727</td>\n",
       "                        <td id=\"T_9538e718_239a_11eb_910a_7085c2a9ca7arow4_col1\" class=\"data row4 col1\" >0.050703</td>\n",
       "            </tr>\n",
       "            <tr>\n",
       "                        <th id=\"T_9538e718_239a_11eb_910a_7085c2a9ca7alevel0_row5\" class=\"row_heading level0 row5\" >folk rock</th>\n",
       "                        <td id=\"T_9538e718_239a_11eb_910a_7085c2a9ca7arow5_col0\" class=\"data row5 col0\" >0.272727</td>\n",
       "                        <td id=\"T_9538e718_239a_11eb_910a_7085c2a9ca7arow5_col1\" class=\"data row5 col1\" >0.031276</td>\n",
       "            </tr>\n",
       "            <tr>\n",
       "                        <th id=\"T_9538e718_239a_11eb_910a_7085c2a9ca7alevel0_row6\" class=\"row_heading level0 row6\" >post-punk</th>\n",
       "                        <td id=\"T_9538e718_239a_11eb_910a_7085c2a9ca7arow6_col0\" class=\"data row6 col0\" >0.272727</td>\n",
       "                        <td id=\"T_9538e718_239a_11eb_910a_7085c2a9ca7arow6_col1\" class=\"data row6 col1\" >0.011160</td>\n",
       "            </tr>\n",
       "    </tbody></table>"
      ],
      "text/plain": [
       "<pandas.io.formats.style.Styler at 0x237d644dac8>"
      ]
     },
     "metadata": {},
     "output_type": "display_data"
    },
    {
     "name": "stdout",
     "output_type": "stream",
     "text": [
      "Keyword Comparison\n"
     ]
    },
    {
     "data": {
      "text/html": [
       "<style  type=\"text/css\" >\n",
       "#T_953bf24c_239a_11eb_9e43_7085c2a9ca7arow0_col0,#T_953bf24c_239a_11eb_9e43_7085c2a9ca7arow1_col0,#T_953bf24c_239a_11eb_9e43_7085c2a9ca7arow2_col0,#T_953bf24c_239a_11eb_9e43_7085c2a9ca7arow3_col1,#T_953bf24c_239a_11eb_9e43_7085c2a9ca7arow4_col0,#T_953bf24c_239a_11eb_9e43_7085c2a9ca7arow5_col0,#T_953bf24c_239a_11eb_9e43_7085c2a9ca7arow6_col0,#T_953bf24c_239a_11eb_9e43_7085c2a9ca7arow7_col0,#T_953bf24c_239a_11eb_9e43_7085c2a9ca7arow8_col0,#T_953bf24c_239a_11eb_9e43_7085c2a9ca7arow9_col0,#T_953bf24c_239a_11eb_9e43_7085c2a9ca7arow10_col0,#T_953bf24c_239a_11eb_9e43_7085c2a9ca7arow11_col0{\n",
       "            background-color:  #023858;\n",
       "            color:  #f1f1f1;\n",
       "        }#T_953bf24c_239a_11eb_9e43_7085c2a9ca7arow0_col1,#T_953bf24c_239a_11eb_9e43_7085c2a9ca7arow1_col1,#T_953bf24c_239a_11eb_9e43_7085c2a9ca7arow2_col1,#T_953bf24c_239a_11eb_9e43_7085c2a9ca7arow3_col0,#T_953bf24c_239a_11eb_9e43_7085c2a9ca7arow4_col1,#T_953bf24c_239a_11eb_9e43_7085c2a9ca7arow5_col1,#T_953bf24c_239a_11eb_9e43_7085c2a9ca7arow6_col1,#T_953bf24c_239a_11eb_9e43_7085c2a9ca7arow7_col1,#T_953bf24c_239a_11eb_9e43_7085c2a9ca7arow8_col1,#T_953bf24c_239a_11eb_9e43_7085c2a9ca7arow9_col1,#T_953bf24c_239a_11eb_9e43_7085c2a9ca7arow10_col1,#T_953bf24c_239a_11eb_9e43_7085c2a9ca7arow11_col1{\n",
       "            background-color:  #fff7fb;\n",
       "            color:  #000000;\n",
       "        }</style><table id=\"T_953bf24c_239a_11eb_9e43_7085c2a9ca7a\" ><thead>    <tr>        <th class=\"blank level0\" ></th>        <th class=\"col_heading level0 col0\" >cluster_6</th>        <th class=\"col_heading level0 col1\" >df</th>    </tr></thead><tbody>\n",
       "                <tr>\n",
       "                        <th id=\"T_953bf24c_239a_11eb_9e43_7085c2a9ca7alevel0_row0\" class=\"row_heading level0 row0\" >rock</th>\n",
       "                        <td id=\"T_953bf24c_239a_11eb_9e43_7085c2a9ca7arow0_col0\" class=\"data row0 col0\" >3.181818</td>\n",
       "                        <td id=\"T_953bf24c_239a_11eb_9e43_7085c2a9ca7arow0_col1\" class=\"data row0 col1\" >0.744282</td>\n",
       "            </tr>\n",
       "            <tr>\n",
       "                        <th id=\"T_953bf24c_239a_11eb_9e43_7085c2a9ca7alevel0_row1\" class=\"row_heading level0 row1\" >folk</th>\n",
       "                        <td id=\"T_953bf24c_239a_11eb_9e43_7085c2a9ca7arow1_col0\" class=\"data row1 col0\" >0.727273</td>\n",
       "                        <td id=\"T_953bf24c_239a_11eb_9e43_7085c2a9ca7arow1_col1\" class=\"data row1 col1\" >0.146735</td>\n",
       "            </tr>\n",
       "            <tr>\n",
       "                        <th id=\"T_953bf24c_239a_11eb_9e43_7085c2a9ca7alevel0_row2\" class=\"row_heading level0 row2\" >art</th>\n",
       "                        <td id=\"T_953bf24c_239a_11eb_9e43_7085c2a9ca7arow2_col0\" class=\"data row2 col0\" >0.545455</td>\n",
       "                        <td id=\"T_953bf24c_239a_11eb_9e43_7085c2a9ca7arow2_col1\" class=\"data row2 col1\" >0.047534</td>\n",
       "            </tr>\n",
       "            <tr>\n",
       "                        <th id=\"T_953bf24c_239a_11eb_9e43_7085c2a9ca7alevel0_row3\" class=\"row_heading level0 row3\" >pop</th>\n",
       "                        <td id=\"T_953bf24c_239a_11eb_9e43_7085c2a9ca7arow3_col0\" class=\"data row3 col0\" >0.454545</td>\n",
       "                        <td id=\"T_953bf24c_239a_11eb_9e43_7085c2a9ca7arow3_col1\" class=\"data row3 col1\" >0.949022</td>\n",
       "            </tr>\n",
       "            <tr>\n",
       "                        <th id=\"T_953bf24c_239a_11eb_9e43_7085c2a9ca7alevel0_row4\" class=\"row_heading level0 row4\" >wave</th>\n",
       "                        <td id=\"T_953bf24c_239a_11eb_9e43_7085c2a9ca7arow4_col0\" class=\"data row4 col0\" >0.363636</td>\n",
       "                        <td id=\"T_953bf24c_239a_11eb_9e43_7085c2a9ca7arow4_col1\" class=\"data row4 col1\" >0.084872</td>\n",
       "            </tr>\n",
       "            <tr>\n",
       "                        <th id=\"T_953bf24c_239a_11eb_9e43_7085c2a9ca7alevel0_row5\" class=\"row_heading level0 row5\" >indie</th>\n",
       "                        <td id=\"T_953bf24c_239a_11eb_9e43_7085c2a9ca7arow5_col0\" class=\"data row5 col0\" >0.363636</td>\n",
       "                        <td id=\"T_953bf24c_239a_11eb_9e43_7085c2a9ca7arow5_col1\" class=\"data row5 col1\" >0.285478</td>\n",
       "            </tr>\n",
       "            <tr>\n",
       "                        <th id=\"T_953bf24c_239a_11eb_9e43_7085c2a9ca7alevel0_row6\" class=\"row_heading level0 row6\" >classic</th>\n",
       "                        <td id=\"T_953bf24c_239a_11eb_9e43_7085c2a9ca7arow6_col0\" class=\"data row6 col0\" >0.363636</td>\n",
       "                        <td id=\"T_953bf24c_239a_11eb_9e43_7085c2a9ca7arow6_col1\" class=\"data row6 col1\" >0.078672</td>\n",
       "            </tr>\n",
       "            <tr>\n",
       "                        <th id=\"T_953bf24c_239a_11eb_9e43_7085c2a9ca7alevel0_row7\" class=\"row_heading level0 row7\" >dance</th>\n",
       "                        <td id=\"T_953bf24c_239a_11eb_9e43_7085c2a9ca7arow7_col0\" class=\"data row7 col0\" >0.363636</td>\n",
       "                        <td id=\"T_953bf24c_239a_11eb_9e43_7085c2a9ca7arow7_col1\" class=\"data row7 col1\" >0.181455</td>\n",
       "            </tr>\n",
       "            <tr>\n",
       "                        <th id=\"T_953bf24c_239a_11eb_9e43_7085c2a9ca7alevel0_row8\" class=\"row_heading level0 row8\" >alternative</th>\n",
       "                        <td id=\"T_953bf24c_239a_11eb_9e43_7085c2a9ca7arow8_col0\" class=\"data row8 col0\" >0.272727</td>\n",
       "                        <td id=\"T_953bf24c_239a_11eb_9e43_7085c2a9ca7arow8_col1\" class=\"data row8 col1\" >0.184211</td>\n",
       "            </tr>\n",
       "            <tr>\n",
       "                        <th id=\"T_953bf24c_239a_11eb_9e43_7085c2a9ca7alevel0_row9\" class=\"row_heading level0 row9\" >reggae</th>\n",
       "                        <td id=\"T_953bf24c_239a_11eb_9e43_7085c2a9ca7arow9_col0\" class=\"data row9 col0\" >0.272727</td>\n",
       "                        <td id=\"T_953bf24c_239a_11eb_9e43_7085c2a9ca7arow9_col1\" class=\"data row9 col1\" >0.060347</td>\n",
       "            </tr>\n",
       "            <tr>\n",
       "                        <th id=\"T_953bf24c_239a_11eb_9e43_7085c2a9ca7alevel0_row10\" class=\"row_heading level0 row10\" >post-punk</th>\n",
       "                        <td id=\"T_953bf24c_239a_11eb_9e43_7085c2a9ca7arow10_col0\" class=\"data row10 col0\" >0.272727</td>\n",
       "                        <td id=\"T_953bf24c_239a_11eb_9e43_7085c2a9ca7arow10_col1\" class=\"data row10 col1\" >0.016120</td>\n",
       "            </tr>\n",
       "            <tr>\n",
       "                        <th id=\"T_953bf24c_239a_11eb_9e43_7085c2a9ca7alevel0_row11\" class=\"row_heading level0 row11\" >experimental</th>\n",
       "                        <td id=\"T_953bf24c_239a_11eb_9e43_7085c2a9ca7arow11_col0\" class=\"data row11 col0\" >0.181818</td>\n",
       "                        <td id=\"T_953bf24c_239a_11eb_9e43_7085c2a9ca7arow11_col1\" class=\"data row11 col1\" >0.010196</td>\n",
       "            </tr>\n",
       "    </tbody></table>"
      ],
      "text/plain": [
       "<pandas.io.formats.style.Styler at 0x237d5e197c8>"
      ]
     },
     "metadata": {},
     "output_type": "display_data"
    },
    {
     "name": "stdout",
     "output_type": "stream",
     "text": [
      "Micro Genre Comparison\n"
     ]
    },
    {
     "data": {
      "text/html": [
       "<style  type=\"text/css\" >\n",
       "#T_953e13ba_239a_11eb_90f3_7085c2a9ca7arow0_col0,#T_953e13ba_239a_11eb_90f3_7085c2a9ca7arow1_col0,#T_953e13ba_239a_11eb_90f3_7085c2a9ca7arow2_col0,#T_953e13ba_239a_11eb_90f3_7085c2a9ca7arow3_col0,#T_953e13ba_239a_11eb_90f3_7085c2a9ca7arow4_col0,#T_953e13ba_239a_11eb_90f3_7085c2a9ca7arow5_col0,#T_953e13ba_239a_11eb_90f3_7085c2a9ca7arow6_col0{\n",
       "            background-color:  #023858;\n",
       "            color:  #f1f1f1;\n",
       "        }#T_953e13ba_239a_11eb_90f3_7085c2a9ca7arow0_col1,#T_953e13ba_239a_11eb_90f3_7085c2a9ca7arow1_col1,#T_953e13ba_239a_11eb_90f3_7085c2a9ca7arow2_col1,#T_953e13ba_239a_11eb_90f3_7085c2a9ca7arow3_col1,#T_953e13ba_239a_11eb_90f3_7085c2a9ca7arow4_col1,#T_953e13ba_239a_11eb_90f3_7085c2a9ca7arow5_col1,#T_953e13ba_239a_11eb_90f3_7085c2a9ca7arow6_col1{\n",
       "            background-color:  #fff7fb;\n",
       "            color:  #000000;\n",
       "        }</style><table id=\"T_953e13ba_239a_11eb_90f3_7085c2a9ca7a\" ><thead>    <tr>        <th class=\"blank level0\" ></th>        <th class=\"col_heading level0 col0\" >cluster_10</th>        <th class=\"col_heading level0 col1\" >df</th>    </tr></thead><tbody>\n",
       "                <tr>\n",
       "                        <th id=\"T_953e13ba_239a_11eb_90f3_7085c2a9ca7alevel0_row0\" class=\"row_heading level0 row0\" >southern soul</th>\n",
       "                        <td id=\"T_953e13ba_239a_11eb_90f3_7085c2a9ca7arow0_col0\" class=\"data row0 col0\" >1.000000</td>\n",
       "                        <td id=\"T_953e13ba_239a_11eb_90f3_7085c2a9ca7arow0_col1\" class=\"data row0 col1\" >0.013089</td>\n",
       "            </tr>\n",
       "            <tr>\n",
       "                        <th id=\"T_953e13ba_239a_11eb_90f3_7085c2a9ca7alevel0_row1\" class=\"row_heading level0 row1\" >soul</th>\n",
       "                        <td id=\"T_953e13ba_239a_11eb_90f3_7085c2a9ca7arow1_col0\" class=\"data row1 col0\" >1.000000</td>\n",
       "                        <td id=\"T_953e13ba_239a_11eb_90f3_7085c2a9ca7arow1_col1\" class=\"data row1 col1\" >0.053320</td>\n",
       "            </tr>\n",
       "            <tr>\n",
       "                        <th id=\"T_953e13ba_239a_11eb_90f3_7085c2a9ca7alevel0_row2\" class=\"row_heading level0 row2\" >soft rock</th>\n",
       "                        <td id=\"T_953e13ba_239a_11eb_90f3_7085c2a9ca7arow2_col0\" class=\"data row2 col0\" >1.000000</td>\n",
       "                        <td id=\"T_953e13ba_239a_11eb_90f3_7085c2a9ca7arow2_col1\" class=\"data row2 col1\" >0.033894</td>\n",
       "            </tr>\n",
       "            <tr>\n",
       "                        <th id=\"T_953e13ba_239a_11eb_90f3_7085c2a9ca7alevel0_row3\" class=\"row_heading level0 row3\" >quiet storm</th>\n",
       "                        <td id=\"T_953e13ba_239a_11eb_90f3_7085c2a9ca7arow3_col0\" class=\"data row3 col0\" >1.000000</td>\n",
       "                        <td id=\"T_953e13ba_239a_11eb_90f3_7085c2a9ca7arow3_col1\" class=\"data row3 col1\" >0.044503</td>\n",
       "            </tr>\n",
       "            <tr>\n",
       "                        <th id=\"T_953e13ba_239a_11eb_90f3_7085c2a9ca7alevel0_row4\" class=\"row_heading level0 row4\" >philly soul</th>\n",
       "                        <td id=\"T_953e13ba_239a_11eb_90f3_7085c2a9ca7arow4_col0\" class=\"data row4 col0\" >1.000000</td>\n",
       "                        <td id=\"T_953e13ba_239a_11eb_90f3_7085c2a9ca7arow4_col1\" class=\"data row4 col1\" >0.001378</td>\n",
       "            </tr>\n",
       "            <tr>\n",
       "                        <th id=\"T_953e13ba_239a_11eb_90f3_7085c2a9ca7alevel0_row5\" class=\"row_heading level0 row5\" >motown</th>\n",
       "                        <td id=\"T_953e13ba_239a_11eb_90f3_7085c2a9ca7arow5_col0\" class=\"data row5 col0\" >1.000000</td>\n",
       "                        <td id=\"T_953e13ba_239a_11eb_90f3_7085c2a9ca7arow5_col1\" class=\"data row5 col1\" >0.041196</td>\n",
       "            </tr>\n",
       "            <tr>\n",
       "                        <th id=\"T_953e13ba_239a_11eb_90f3_7085c2a9ca7alevel0_row6\" class=\"row_heading level0 row6\" >funk</th>\n",
       "                        <td id=\"T_953e13ba_239a_11eb_90f3_7085c2a9ca7arow6_col0\" class=\"data row6 col0\" >1.000000</td>\n",
       "                        <td id=\"T_953e13ba_239a_11eb_90f3_7085c2a9ca7arow6_col1\" class=\"data row6 col1\" >0.048636</td>\n",
       "            </tr>\n",
       "    </tbody></table>"
      ],
      "text/plain": [
       "<pandas.io.formats.style.Styler at 0x237d5e19e88>"
      ]
     },
     "metadata": {},
     "output_type": "display_data"
    },
    {
     "name": "stdout",
     "output_type": "stream",
     "text": [
      "Keyword Comparison\n"
     ]
    },
    {
     "data": {
      "text/html": [
       "<style  type=\"text/css\" >\n",
       "#T_95405c14_239a_11eb_90e1_7085c2a9ca7arow0_col0,#T_95405c14_239a_11eb_90e1_7085c2a9ca7arow1_col0,#T_95405c14_239a_11eb_90e1_7085c2a9ca7arow2_col0,#T_95405c14_239a_11eb_90e1_7085c2a9ca7arow3_col0,#T_95405c14_239a_11eb_90e1_7085c2a9ca7arow4_col0,#T_95405c14_239a_11eb_90e1_7085c2a9ca7arow5_col0,#T_95405c14_239a_11eb_90e1_7085c2a9ca7arow6_col0,#T_95405c14_239a_11eb_90e1_7085c2a9ca7arow7_col0,#T_95405c14_239a_11eb_90e1_7085c2a9ca7arow8_col0,#T_95405c14_239a_11eb_90e1_7085c2a9ca7arow9_col0,#T_95405c14_239a_11eb_90e1_7085c2a9ca7arow10_col0{\n",
       "            background-color:  #023858;\n",
       "            color:  #f1f1f1;\n",
       "        }#T_95405c14_239a_11eb_90e1_7085c2a9ca7arow0_col1,#T_95405c14_239a_11eb_90e1_7085c2a9ca7arow1_col1,#T_95405c14_239a_11eb_90e1_7085c2a9ca7arow2_col1,#T_95405c14_239a_11eb_90e1_7085c2a9ca7arow3_col1,#T_95405c14_239a_11eb_90e1_7085c2a9ca7arow4_col1,#T_95405c14_239a_11eb_90e1_7085c2a9ca7arow5_col1,#T_95405c14_239a_11eb_90e1_7085c2a9ca7arow6_col1,#T_95405c14_239a_11eb_90e1_7085c2a9ca7arow7_col1,#T_95405c14_239a_11eb_90e1_7085c2a9ca7arow8_col1,#T_95405c14_239a_11eb_90e1_7085c2a9ca7arow9_col1,#T_95405c14_239a_11eb_90e1_7085c2a9ca7arow10_col1,#T_95405c14_239a_11eb_90e1_7085c2a9ca7arow11_col0,#T_95405c14_239a_11eb_90e1_7085c2a9ca7arow11_col1{\n",
       "            background-color:  #fff7fb;\n",
       "            color:  #000000;\n",
       "        }</style><table id=\"T_95405c14_239a_11eb_90e1_7085c2a9ca7a\" ><thead>    <tr>        <th class=\"blank level0\" ></th>        <th class=\"col_heading level0 col0\" >cluster_10</th>        <th class=\"col_heading level0 col1\" >df</th>    </tr></thead><tbody>\n",
       "                <tr>\n",
       "                        <th id=\"T_95405c14_239a_11eb_90e1_7085c2a9ca7alevel0_row0\" class=\"row_heading level0 row0\" >soul</th>\n",
       "                        <td id=\"T_95405c14_239a_11eb_90e1_7085c2a9ca7arow0_col0\" class=\"data row0 col0\" >4.000000</td>\n",
       "                        <td id=\"T_95405c14_239a_11eb_90e1_7085c2a9ca7arow0_col1\" class=\"data row0 col1\" >0.185864</td>\n",
       "            </tr>\n",
       "            <tr>\n",
       "                        <th id=\"T_95405c14_239a_11eb_90e1_7085c2a9ca7alevel0_row1\" class=\"row_heading level0 row1\" >storm</th>\n",
       "                        <td id=\"T_95405c14_239a_11eb_90e1_7085c2a9ca7arow1_col0\" class=\"data row1 col0\" >1.000000</td>\n",
       "                        <td id=\"T_95405c14_239a_11eb_90e1_7085c2a9ca7arow1_col1\" class=\"data row1 col1\" >0.044503</td>\n",
       "            </tr>\n",
       "            <tr>\n",
       "                        <th id=\"T_95405c14_239a_11eb_90e1_7085c2a9ca7alevel0_row2\" class=\"row_heading level0 row2\" >southern</th>\n",
       "                        <td id=\"T_95405c14_239a_11eb_90e1_7085c2a9ca7arow2_col0\" class=\"data row2 col0\" >1.000000</td>\n",
       "                        <td id=\"T_95405c14_239a_11eb_90e1_7085c2a9ca7arow2_col1\" class=\"data row2 col1\" >0.042436</td>\n",
       "            </tr>\n",
       "            <tr>\n",
       "                        <th id=\"T_95405c14_239a_11eb_90e1_7085c2a9ca7alevel0_row3\" class=\"row_heading level0 row3\" >soft</th>\n",
       "                        <td id=\"T_95405c14_239a_11eb_90e1_7085c2a9ca7arow3_col0\" class=\"data row3 col0\" >1.000000</td>\n",
       "                        <td id=\"T_95405c14_239a_11eb_90e1_7085c2a9ca7arow3_col1\" class=\"data row3 col1\" >0.033894</td>\n",
       "            </tr>\n",
       "            <tr>\n",
       "                        <th id=\"T_95405c14_239a_11eb_90e1_7085c2a9ca7alevel0_row4\" class=\"row_heading level0 row4\" >rock</th>\n",
       "                        <td id=\"T_95405c14_239a_11eb_90e1_7085c2a9ca7arow4_col0\" class=\"data row4 col0\" >1.000000</td>\n",
       "                        <td id=\"T_95405c14_239a_11eb_90e1_7085c2a9ca7arow4_col1\" class=\"data row4 col1\" >0.744282</td>\n",
       "            </tr>\n",
       "            <tr>\n",
       "                        <th id=\"T_95405c14_239a_11eb_90e1_7085c2a9ca7alevel0_row5\" class=\"row_heading level0 row5\" >quiet</th>\n",
       "                        <td id=\"T_95405c14_239a_11eb_90e1_7085c2a9ca7arow5_col0\" class=\"data row5 col0\" >1.000000</td>\n",
       "                        <td id=\"T_95405c14_239a_11eb_90e1_7085c2a9ca7arow5_col1\" class=\"data row5 col1\" >0.044503</td>\n",
       "            </tr>\n",
       "            <tr>\n",
       "                        <th id=\"T_95405c14_239a_11eb_90e1_7085c2a9ca7alevel0_row6\" class=\"row_heading level0 row6\" >philly</th>\n",
       "                        <td id=\"T_95405c14_239a_11eb_90e1_7085c2a9ca7arow6_col0\" class=\"data row6 col0\" >1.000000</td>\n",
       "                        <td id=\"T_95405c14_239a_11eb_90e1_7085c2a9ca7arow6_col1\" class=\"data row6 col1\" >0.005649</td>\n",
       "            </tr>\n",
       "            <tr>\n",
       "                        <th id=\"T_95405c14_239a_11eb_90e1_7085c2a9ca7alevel0_row7\" class=\"row_heading level0 row7\" >motown</th>\n",
       "                        <td id=\"T_95405c14_239a_11eb_90e1_7085c2a9ca7arow7_col0\" class=\"data row7 col0\" >1.000000</td>\n",
       "                        <td id=\"T_95405c14_239a_11eb_90e1_7085c2a9ca7arow7_col1\" class=\"data row7 col1\" >0.041334</td>\n",
       "            </tr>\n",
       "            <tr>\n",
       "                        <th id=\"T_95405c14_239a_11eb_90e1_7085c2a9ca7alevel0_row8\" class=\"row_heading level0 row8\" >funk</th>\n",
       "                        <td id=\"T_95405c14_239a_11eb_90e1_7085c2a9ca7arow8_col0\" class=\"data row8 col0\" >1.000000</td>\n",
       "                        <td id=\"T_95405c14_239a_11eb_90e1_7085c2a9ca7arow8_col1\" class=\"data row8 col1\" >0.090934</td>\n",
       "            </tr>\n",
       "            <tr>\n",
       "                        <th id=\"T_95405c14_239a_11eb_90e1_7085c2a9ca7alevel0_row9\" class=\"row_heading level0 row9\" >disco</th>\n",
       "                        <td id=\"T_95405c14_239a_11eb_90e1_7085c2a9ca7arow9_col0\" class=\"data row9 col0\" >1.000000</td>\n",
       "                        <td id=\"T_95405c14_239a_11eb_90e1_7085c2a9ca7arow9_col1\" class=\"data row9 col1\" >0.026040</td>\n",
       "            </tr>\n",
       "            <tr>\n",
       "                        <th id=\"T_95405c14_239a_11eb_90e1_7085c2a9ca7alevel0_row10\" class=\"row_heading level0 row10\" >classic</th>\n",
       "                        <td id=\"T_95405c14_239a_11eb_90e1_7085c2a9ca7arow10_col0\" class=\"data row10 col0\" >1.000000</td>\n",
       "                        <td id=\"T_95405c14_239a_11eb_90e1_7085c2a9ca7arow10_col1\" class=\"data row10 col1\" >0.078672</td>\n",
       "            </tr>\n",
       "            <tr>\n",
       "                        <th id=\"T_95405c14_239a_11eb_90e1_7085c2a9ca7alevel0_row11\" class=\"row_heading level0 row11\" >\"australian</th>\n",
       "                        <td id=\"T_95405c14_239a_11eb_90e1_7085c2a9ca7arow11_col0\" class=\"data row11 col0\" >nan</td>\n",
       "                        <td id=\"T_95405c14_239a_11eb_90e1_7085c2a9ca7arow11_col1\" class=\"data row11 col1\" >0.000138</td>\n",
       "            </tr>\n",
       "    </tbody></table>"
      ],
      "text/plain": [
       "<pandas.io.formats.style.Styler at 0x237f65d0608>"
      ]
     },
     "metadata": {},
     "output_type": "display_data"
    },
    {
     "data": {
      "application/javascript": [
       "\n",
       "            setTimeout(function() {\n",
       "                var nbb_cell_id = 83;\n",
       "                var nbb_unformatted_code = \"all_top_7 = []\\nall_top_12 = []\\nfor col in cluster_genre_df.columns:\\n    # find the 7 genres that occur most frequently in the cluster\\n    top_7_g = cluster_genre_df[col].sort_values(ascending=False)[0:7]\\n    # reference the index to find the values for the whole data frame\\n    top_7_comp = whole_df_m_genre_rep[top_7_g.index]\\n    print(\\\"Micro Genre Comparison\\\")\\n    display(\\n        pd.DataFrame(\\n            [top_7_g, top_7_comp], index=[col, \\\"df\\\"]\\n        ).T.style.background_gradient(axis=1)\\n    )\\n    # store to help create another plotting df\\n    all_top_7 += list(top_7_g.index)\\n    top_12_w = cluster_keyword_df[col].sort_values(ascending=False)[0:12]\\n    top_12_comp = whole_df_w_count_rep[top_12_w.index]\\n    print(\\\"Keyword Comparison\\\")\\n    display(\\n        pd.DataFrame(\\n            [top_12_w, top_12_comp], index=[col, \\\"df\\\"]\\n        ).T.style.background_gradient(axis=1)\\n    )\\n    all_top_12 += list(top_12_w.index)\\n\\n\\n# -----------------------------------------------------------------\\n# Here you can see the frequency a genre or word shows up in\\n# a single cluster vs the frequency it shows up in the whole dataframe\\n# scroll further for a more friendly visual representation of this.\";\n",
       "                var nbb_formatted_code = \"all_top_7 = []\\nall_top_12 = []\\nfor col in cluster_genre_df.columns:\\n    # find the 7 genres that occur most frequently in the cluster\\n    top_7_g = cluster_genre_df[col].sort_values(ascending=False)[0:7]\\n    # reference the index to find the values for the whole data frame\\n    top_7_comp = whole_df_m_genre_rep[top_7_g.index]\\n    print(\\\"Micro Genre Comparison\\\")\\n    display(\\n        pd.DataFrame(\\n            [top_7_g, top_7_comp], index=[col, \\\"df\\\"]\\n        ).T.style.background_gradient(axis=1)\\n    )\\n    # store to help create another plotting df\\n    all_top_7 += list(top_7_g.index)\\n    top_12_w = cluster_keyword_df[col].sort_values(ascending=False)[0:12]\\n    top_12_comp = whole_df_w_count_rep[top_12_w.index]\\n    print(\\\"Keyword Comparison\\\")\\n    display(\\n        pd.DataFrame(\\n            [top_12_w, top_12_comp], index=[col, \\\"df\\\"]\\n        ).T.style.background_gradient(axis=1)\\n    )\\n    all_top_12 += list(top_12_w.index)\\n\\n\\n# -----------------------------------------------------------------\\n# Here you can see the frequency a genre or word shows up in\\n# a single cluster vs the frequency it shows up in the whole dataframe\\n# scroll further for a more friendly visual representation of this.\";\n",
       "                var nbb_cells = Jupyter.notebook.get_cells();\n",
       "                for (var i = 0; i < nbb_cells.length; ++i) {\n",
       "                    if (nbb_cells[i].input_prompt_number == nbb_cell_id) {\n",
       "                        if (nbb_cells[i].get_text() == nbb_unformatted_code) {\n",
       "                             nbb_cells[i].set_text(nbb_formatted_code);\n",
       "                        }\n",
       "                        break;\n",
       "                    }\n",
       "                }\n",
       "            }, 500);\n",
       "            "
      ],
      "text/plain": [
       "<IPython.core.display.Javascript object>"
      ]
     },
     "metadata": {},
     "output_type": "display_data"
    },
    {
     "data": {
      "application/javascript": [
       "\n",
       "            setTimeout(function() {\n",
       "                var nbb_cell_id = 83;\n",
       "                var nbb_unformatted_code = \"all_top_7 = []\\nall_top_12 = []\\nfor col in cluster_genre_df.columns:\\n    # find the 7 genres that occur most frequently in the cluster\\n    top_7_g = cluster_genre_df[col].sort_values(ascending=False)[0:7]\\n    # reference the index to find the values for the whole data frame\\n    top_7_comp = whole_df_m_genre_rep[top_7_g.index]\\n    print(\\\"Micro Genre Comparison\\\")\\n    display(\\n        pd.DataFrame(\\n            [top_7_g, top_7_comp], index=[col, \\\"df\\\"]\\n        ).T.style.background_gradient(axis=1)\\n    )\\n    # store to help create another plotting df\\n    all_top_7 += list(top_7_g.index)\\n    top_12_w = cluster_keyword_df[col].sort_values(ascending=False)[0:12]\\n    top_12_comp = whole_df_w_count_rep[top_12_w.index]\\n    print(\\\"Keyword Comparison\\\")\\n    display(\\n        pd.DataFrame(\\n            [top_12_w, top_12_comp], index=[col, \\\"df\\\"]\\n        ).T.style.background_gradient(axis=1)\\n    )\\n    all_top_12 += list(top_12_w.index)\\n\\n\\n# -----------------------------------------------------------------\\n# Here you can see the frequency a genre or word shows up in\\n# a single cluster vs the frequency it shows up in the whole dataframe\\n# scroll further for a more friendly visual representation of this.\";\n",
       "                var nbb_formatted_code = \"all_top_7 = []\\nall_top_12 = []\\nfor col in cluster_genre_df.columns:\\n    # find the 7 genres that occur most frequently in the cluster\\n    top_7_g = cluster_genre_df[col].sort_values(ascending=False)[0:7]\\n    # reference the index to find the values for the whole data frame\\n    top_7_comp = whole_df_m_genre_rep[top_7_g.index]\\n    print(\\\"Micro Genre Comparison\\\")\\n    display(\\n        pd.DataFrame(\\n            [top_7_g, top_7_comp], index=[col, \\\"df\\\"]\\n        ).T.style.background_gradient(axis=1)\\n    )\\n    # store to help create another plotting df\\n    all_top_7 += list(top_7_g.index)\\n    top_12_w = cluster_keyword_df[col].sort_values(ascending=False)[0:12]\\n    top_12_comp = whole_df_w_count_rep[top_12_w.index]\\n    print(\\\"Keyword Comparison\\\")\\n    display(\\n        pd.DataFrame(\\n            [top_12_w, top_12_comp], index=[col, \\\"df\\\"]\\n        ).T.style.background_gradient(axis=1)\\n    )\\n    all_top_12 += list(top_12_w.index)\\n\\n\\n# -----------------------------------------------------------------\\n# Here you can see the frequency a genre or word shows up in\\n# a single cluster vs the frequency it shows up in the whole dataframe\\n# scroll further for a more friendly visual representation of this.\";\n",
       "                var nbb_cells = Jupyter.notebook.get_cells();\n",
       "                for (var i = 0; i < nbb_cells.length; ++i) {\n",
       "                    if (nbb_cells[i].input_prompt_number == nbb_cell_id) {\n",
       "                        if (nbb_cells[i].get_text() == nbb_unformatted_code) {\n",
       "                             nbb_cells[i].set_text(nbb_formatted_code);\n",
       "                        }\n",
       "                        break;\n",
       "                    }\n",
       "                }\n",
       "            }, 500);\n",
       "            "
      ],
      "text/plain": [
       "<IPython.core.display.Javascript object>"
      ]
     },
     "metadata": {},
     "output_type": "display_data"
    }
   ],
   "source": [
    "all_top_7 = []\n",
    "all_top_12 = []\n",
    "for col in cluster_genre_df.columns:\n",
    "    # find the 7 genres that occur most frequently in the cluster\n",
    "    top_7_g = cluster_genre_df[col].sort_values(ascending=False)[0:7]\n",
    "    # reference the index to find the values for the whole data frame\n",
    "    top_7_comp = whole_df_m_genre_rep[top_7_g.index]\n",
    "    print(\"Micro Genre Comparison\")\n",
    "    display(\n",
    "        pd.DataFrame(\n",
    "            [top_7_g, top_7_comp], index=[col, \"df\"]\n",
    "        ).T.style.background_gradient(axis=1)\n",
    "    )\n",
    "    # store to help create another plotting df\n",
    "    all_top_7 += list(top_7_g.index)\n",
    "    top_12_w = cluster_keyword_df[col].sort_values(ascending=False)[0:12]\n",
    "    top_12_comp = whole_df_w_count_rep[top_12_w.index]\n",
    "    print(\"Keyword Comparison\")\n",
    "    display(\n",
    "        pd.DataFrame(\n",
    "            [top_12_w, top_12_comp], index=[col, \"df\"]\n",
    "        ).T.style.background_gradient(axis=1)\n",
    "    )\n",
    "    all_top_12 += list(top_12_w.index)\n",
    "\n",
    "\n",
    "# -----------------------------------------------------------------\n",
    "# Here you can see the frequency a genre or word shows up in\n",
    "# a single cluster vs the frequency it shows up in the whole dataframe\n",
    "# scroll further for a more friendly visual representation of this."
   ]
  },
  {
   "cell_type": "code",
   "execution_count": 85,
   "metadata": {},
   "outputs": [
    {
     "data": {
      "application/javascript": [
       "\n",
       "            setTimeout(function() {\n",
       "                var nbb_cell_id = 85;\n",
       "                var nbb_unformatted_code = \"num_keywords = 5\\nnum_topics = 11\";\n",
       "                var nbb_formatted_code = \"num_keywords = 5\\nnum_topics = 11\";\n",
       "                var nbb_cells = Jupyter.notebook.get_cells();\n",
       "                for (var i = 0; i < nbb_cells.length; ++i) {\n",
       "                    if (nbb_cells[i].input_prompt_number == nbb_cell_id) {\n",
       "                        if (nbb_cells[i].get_text() == nbb_unformatted_code) {\n",
       "                             nbb_cells[i].set_text(nbb_formatted_code);\n",
       "                        }\n",
       "                        break;\n",
       "                    }\n",
       "                }\n",
       "            }, 500);\n",
       "            "
      ],
      "text/plain": [
       "<IPython.core.display.Javascript object>"
      ]
     },
     "metadata": {},
     "output_type": "display_data"
    },
    {
     "data": {
      "application/javascript": [
       "\n",
       "            setTimeout(function() {\n",
       "                var nbb_cell_id = 85;\n",
       "                var nbb_unformatted_code = \"num_keywords = 5\\nnum_topics = 11\";\n",
       "                var nbb_formatted_code = \"num_keywords = 5\\nnum_topics = 11\";\n",
       "                var nbb_cells = Jupyter.notebook.get_cells();\n",
       "                for (var i = 0; i < nbb_cells.length; ++i) {\n",
       "                    if (nbb_cells[i].input_prompt_number == nbb_cell_id) {\n",
       "                        if (nbb_cells[i].get_text() == nbb_unformatted_code) {\n",
       "                             nbb_cells[i].set_text(nbb_formatted_code);\n",
       "                        }\n",
       "                        break;\n",
       "                    }\n",
       "                }\n",
       "            }, 500);\n",
       "            "
      ],
      "text/plain": [
       "<IPython.core.display.Javascript object>"
      ]
     },
     "metadata": {},
     "output_type": "display_data"
    }
   ],
   "source": [
    "num_keywords = 5\n",
    "num_topics = 11"
   ]
  },
  {
   "cell_type": "code",
   "execution_count": 86,
   "metadata": {},
   "outputs": [
    {
     "data": {
      "text/plain": [
       "[['ya', 'call', 'without', 'parti', 'le'],\n",
       " ['good', 'man', 'get', 'shake', 'like'],\n",
       " ['high', 'burn', 'fire', 'sun', 'fli'],\n",
       " ['rose', 'nobodi', 'turn', 'might', 'alreadi'],\n",
       " ['la', 'mi', 'dem', 'di', 'yuh'],\n",
       " ['rain', 'eh', 'funk', 'ladi', 'thunder'],\n",
       " ['hey', 'ah', 'rock', 'danc', 'follow'],\n",
       " ['chorus', 'know', 'vers', 'time', 'never'],\n",
       " ['love', 'na', 'oh', 'yeah', 'babi'],\n",
       " ['got', 'like', 'yeah', 'get', 'ai'],\n",
       " ['go', 'run', 'away', 'dey', 'give']]"
      ]
     },
     "execution_count": 86,
     "metadata": {},
     "output_type": "execute_result"
    },
    {
     "data": {
      "application/javascript": [
       "\n",
       "            setTimeout(function() {\n",
       "                var nbb_cell_id = 86;\n",
       "                var nbb_unformatted_code = \"vectorizer = CountVectorizer()\\nmodel = LatentDirichletAllocation(n_components=num_topics, learning_method=\\\"online\\\")\\n\\nvectorized = vectorizer.fit_transform(preprocessed)\\nmodel.fit_transform(vectorized)\\n\\nresults = [\\n    [\\n        (vectorizer.get_feature_names()[i], topic[i])\\n        for i in topic.argsort()[: -num_keywords - 1 : -1]\\n    ]\\n    for topic in model.components_\\n]\\n\\ntopics = [[x[0] for x in i] for i in results]\\ntopics\";\n",
       "                var nbb_formatted_code = \"vectorizer = CountVectorizer()\\nmodel = LatentDirichletAllocation(n_components=num_topics, learning_method=\\\"online\\\")\\n\\nvectorized = vectorizer.fit_transform(preprocessed)\\nmodel.fit_transform(vectorized)\\n\\nresults = [\\n    [\\n        (vectorizer.get_feature_names()[i], topic[i])\\n        for i in topic.argsort()[: -num_keywords - 1 : -1]\\n    ]\\n    for topic in model.components_\\n]\\n\\ntopics = [[x[0] for x in i] for i in results]\\ntopics\";\n",
       "                var nbb_cells = Jupyter.notebook.get_cells();\n",
       "                for (var i = 0; i < nbb_cells.length; ++i) {\n",
       "                    if (nbb_cells[i].input_prompt_number == nbb_cell_id) {\n",
       "                        if (nbb_cells[i].get_text() == nbb_unformatted_code) {\n",
       "                             nbb_cells[i].set_text(nbb_formatted_code);\n",
       "                        }\n",
       "                        break;\n",
       "                    }\n",
       "                }\n",
       "            }, 500);\n",
       "            "
      ],
      "text/plain": [
       "<IPython.core.display.Javascript object>"
      ]
     },
     "metadata": {},
     "output_type": "display_data"
    },
    {
     "data": {
      "application/javascript": [
       "\n",
       "            setTimeout(function() {\n",
       "                var nbb_cell_id = 86;\n",
       "                var nbb_unformatted_code = \"vectorizer = CountVectorizer()\\nmodel = LatentDirichletAllocation(n_components=num_topics, learning_method=\\\"online\\\")\\n\\nvectorized = vectorizer.fit_transform(preprocessed)\\nmodel.fit_transform(vectorized)\\n\\nresults = [\\n    [\\n        (vectorizer.get_feature_names()[i], topic[i])\\n        for i in topic.argsort()[: -num_keywords - 1 : -1]\\n    ]\\n    for topic in model.components_\\n]\\n\\ntopics = [[x[0] for x in i] for i in results]\\ntopics\";\n",
       "                var nbb_formatted_code = \"vectorizer = CountVectorizer()\\nmodel = LatentDirichletAllocation(n_components=num_topics, learning_method=\\\"online\\\")\\n\\nvectorized = vectorizer.fit_transform(preprocessed)\\nmodel.fit_transform(vectorized)\\n\\nresults = [\\n    [\\n        (vectorizer.get_feature_names()[i], topic[i])\\n        for i in topic.argsort()[: -num_keywords - 1 : -1]\\n    ]\\n    for topic in model.components_\\n]\\n\\ntopics = [[x[0] for x in i] for i in results]\\ntopics\";\n",
       "                var nbb_cells = Jupyter.notebook.get_cells();\n",
       "                for (var i = 0; i < nbb_cells.length; ++i) {\n",
       "                    if (nbb_cells[i].input_prompt_number == nbb_cell_id) {\n",
       "                        if (nbb_cells[i].get_text() == nbb_unformatted_code) {\n",
       "                             nbb_cells[i].set_text(nbb_formatted_code);\n",
       "                        }\n",
       "                        break;\n",
       "                    }\n",
       "                }\n",
       "            }, 500);\n",
       "            "
      ],
      "text/plain": [
       "<IPython.core.display.Javascript object>"
      ]
     },
     "metadata": {},
     "output_type": "display_data"
    }
   ],
   "source": [
    "vectorizer = CountVectorizer()\n",
    "model = LatentDirichletAllocation(n_components=num_topics, learning_method=\"online\")\n",
    "\n",
    "vectorized = vectorizer.fit_transform(preprocessed)\n",
    "model.fit_transform(vectorized)\n",
    "\n",
    "results = [\n",
    "    [\n",
    "        (vectorizer.get_feature_names()[i], topic[i])\n",
    "        for i in topic.argsort()[: -num_keywords - 1 : -1]\n",
    "    ]\n",
    "    for topic in model.components_\n",
    "]\n",
    "\n",
    "topics = [[x[0] for x in i] for i in results]\n",
    "topics"
   ]
  },
  {
   "cell_type": "code",
   "execution_count": null,
   "metadata": {},
   "outputs": [],
   "source": []
  }
 ],
 "metadata": {
  "kernelspec": {
   "display_name": "Python 3",
   "language": "python",
   "name": "python3"
  },
  "language_info": {
   "codemirror_mode": {
    "name": "ipython",
    "version": 3
   },
   "file_extension": ".py",
   "mimetype": "text/x-python",
   "name": "python",
   "nbconvert_exporter": "python",
   "pygments_lexer": "ipython3",
   "version": "3.7.9"
  }
 },
 "nbformat": 4,
 "nbformat_minor": 4
}
