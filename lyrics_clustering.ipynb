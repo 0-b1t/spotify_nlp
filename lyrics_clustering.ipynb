{
 "cells": [
  {
   "cell_type": "code",
   "execution_count": 1,
   "metadata": {},
   "outputs": [
    {
     "data": {
      "application/javascript": [
       "\n",
       "            setTimeout(function() {\n",
       "                var nbb_cell_id = 1;\n",
       "                var nbb_unformatted_code = \"%reload_ext nb_black\";\n",
       "                var nbb_formatted_code = \"%reload_ext nb_black\";\n",
       "                var nbb_cells = Jupyter.notebook.get_cells();\n",
       "                for (var i = 0; i < nbb_cells.length; ++i) {\n",
       "                    if (nbb_cells[i].input_prompt_number == nbb_cell_id) {\n",
       "                        if (nbb_cells[i].get_text() == nbb_unformatted_code) {\n",
       "                             nbb_cells[i].set_text(nbb_formatted_code);\n",
       "                        }\n",
       "                        break;\n",
       "                    }\n",
       "                }\n",
       "            }, 500);\n",
       "            "
      ],
      "text/plain": [
       "<IPython.core.display.Javascript object>"
      ]
     },
     "metadata": {},
     "output_type": "display_data"
    }
   ],
   "source": [
    "%reload_ext nb_black"
   ]
  },
  {
   "cell_type": "code",
   "execution_count": 2,
   "metadata": {},
   "outputs": [
    {
     "data": {
      "application/javascript": [
       "\n",
       "            setTimeout(function() {\n",
       "                var nbb_cell_id = 2;\n",
       "                var nbb_unformatted_code = \"import pandas as pd\\nimport time\\nimport re\\nimport numpy as np\\nimport spacy\\n\\nfrom nltk import word_tokenize\\nfrom nltk.corpus import stopwords\\nfrom nltk.stem.snowball import SnowballStemmer\\nfrom nltk.stem.wordnet import WordNetLemmatizer\\nfrom nltk.corpus.reader.plaintext import (\\n    PlaintextCorpusReader,\\n    CategorizedPlaintextCorpusReader,\\n)\\nfrom sklearn.cluster import KMeans\\nfrom sklearn.cluster import AgglomerativeClustering\\nfrom sklearn.feature_extraction.text import TfidfVectorizer, CountVectorizer\\nfrom sklearn.decomposition import NMF, LatentDirichletAllocation, TruncatedSVD\\nimport matplotlib.pyplot as plt\\nfrom yellowbrick.cluster import KElbowVisualizer\\n\\nfrom umap import UMAP\\nfrom sklearn.decomposition import PCA\\nfrom sklearn.preprocessing import StandardScaler, MinMaxScaler\\nfrom sklearn.cluster import DBSCAN, KMeans\\nimport seaborn as sns\";\n",
       "                var nbb_formatted_code = \"import pandas as pd\\nimport time\\nimport re\\nimport numpy as np\\nimport spacy\\n\\nfrom nltk import word_tokenize\\nfrom nltk.corpus import stopwords\\nfrom nltk.stem.snowball import SnowballStemmer\\nfrom nltk.stem.wordnet import WordNetLemmatizer\\nfrom nltk.corpus.reader.plaintext import (\\n    PlaintextCorpusReader,\\n    CategorizedPlaintextCorpusReader,\\n)\\nfrom sklearn.cluster import KMeans\\nfrom sklearn.cluster import AgglomerativeClustering\\nfrom sklearn.feature_extraction.text import TfidfVectorizer, CountVectorizer\\nfrom sklearn.decomposition import NMF, LatentDirichletAllocation, TruncatedSVD\\nimport matplotlib.pyplot as plt\\nfrom yellowbrick.cluster import KElbowVisualizer\\n\\nfrom umap import UMAP\\nfrom sklearn.decomposition import PCA\\nfrom sklearn.preprocessing import StandardScaler, MinMaxScaler\\nfrom sklearn.cluster import DBSCAN, KMeans\\nimport seaborn as sns\";\n",
       "                var nbb_cells = Jupyter.notebook.get_cells();\n",
       "                for (var i = 0; i < nbb_cells.length; ++i) {\n",
       "                    if (nbb_cells[i].input_prompt_number == nbb_cell_id) {\n",
       "                        if (nbb_cells[i].get_text() == nbb_unformatted_code) {\n",
       "                             nbb_cells[i].set_text(nbb_formatted_code);\n",
       "                        }\n",
       "                        break;\n",
       "                    }\n",
       "                }\n",
       "            }, 500);\n",
       "            "
      ],
      "text/plain": [
       "<IPython.core.display.Javascript object>"
      ]
     },
     "metadata": {},
     "output_type": "display_data"
    }
   ],
   "source": [
    "import pandas as pd\n",
    "import time\n",
    "import re\n",
    "import numpy as np\n",
    "import spacy\n",
    "import pickle\n",
    "\n",
    "from nltk import word_tokenize\n",
    "from nltk.corpus import stopwords\n",
    "from nltk.stem.snowball import SnowballStemmer\n",
    "from nltk.stem.wordnet import WordNetLemmatizer\n",
    "from nltk.corpus.reader.plaintext import (\n",
    "    PlaintextCorpusReader,\n",
    "    CategorizedPlaintextCorpusReader,\n",
    ")\n",
    "from sklearn.cluster import KMeans\n",
    "from sklearn.cluster import AgglomerativeClustering\n",
    "from sklearn.feature_extraction.text import TfidfVectorizer, CountVectorizer\n",
    "from sklearn.decomposition import NMF, LatentDirichletAllocation, TruncatedSVD\n",
    "import matplotlib.pyplot as plt\n",
    "from yellowbrick.cluster import KElbowVisualizer\n",
    "\n",
    "from umap import UMAP\n",
    "from sklearn.decomposition import PCA\n",
    "from sklearn.preprocessing import StandardScaler, MinMaxScaler\n",
    "from sklearn.cluster import DBSCAN, KMeans\n",
    "import seaborn as sns"
   ]
  },
  {
   "cell_type": "code",
   "execution_count": null,
   "metadata": {},
   "outputs": [],
   "source": [
    "tracks = pd.read_csv(\"data/tracks_with_lyrics.csv\", index_col=0)"
   ]
  },
  {
   "cell_type": "markdown",
   "metadata": {},
   "source": [
    "This data has been gathered by me over the course of the boot camp. I did an unsupervised learning project comparing the frequency spectrum between songs. Originally I used solely the Spotify API to gather data. I used the lyric genius api to gather lyrics on as many songs as I could. I then used the google translate API to tag the languages. A lot of work needs to be done before I can use nlp on multiple languages but this notebook only uses songs that were tagged as english."
   ]
  },
  {
   "cell_type": "code",
   "execution_count": 4,
   "metadata": {},
   "outputs": [
    {
     "data": {
      "text/plain": [
       "0         en\n",
       "1         en\n",
       "2         en\n",
       "3         en\n",
       "4         en\n",
       "        ... \n",
       "13066     ko\n",
       "13067     ko\n",
       "13068     ko\n",
       "13069    NaN\n",
       "13070     ko\n",
       "Name: lang, Length: 13071, dtype: object"
      ]
     },
     "execution_count": 4,
     "metadata": {},
     "output_type": "execute_result"
    },
    {
     "data": {
      "application/javascript": [
       "\n",
       "            setTimeout(function() {\n",
       "                var nbb_cell_id = 4;\n",
       "                var nbb_unformatted_code = \"tracks[\\\"lang\\\"]\";\n",
       "                var nbb_formatted_code = \"tracks[\\\"lang\\\"]\";\n",
       "                var nbb_cells = Jupyter.notebook.get_cells();\n",
       "                for (var i = 0; i < nbb_cells.length; ++i) {\n",
       "                    if (nbb_cells[i].input_prompt_number == nbb_cell_id) {\n",
       "                        if (nbb_cells[i].get_text() == nbb_unformatted_code) {\n",
       "                             nbb_cells[i].set_text(nbb_formatted_code);\n",
       "                        }\n",
       "                        break;\n",
       "                    }\n",
       "                }\n",
       "            }, 500);\n",
       "            "
      ],
      "text/plain": [
       "<IPython.core.display.Javascript object>"
      ]
     },
     "metadata": {},
     "output_type": "display_data"
    }
   ],
   "source": [
    "tracks[\"lang\"]"
   ]
  },
  {
   "cell_type": "code",
   "execution_count": 5,
   "metadata": {},
   "outputs": [
    {
     "data": {
      "application/javascript": [
       "\n",
       "            setTimeout(function() {\n",
       "                var nbb_cell_id = 5;\n",
       "                var nbb_unformatted_code = \"lyr_tracks = tracks[\\n    ((tracks[\\\"lyrics\\\"].isna() == False) & (tracks[\\\"lang\\\"] == \\\"en\\\"))\\n].reset_index()\";\n",
       "                var nbb_formatted_code = \"lyr_tracks = tracks[\\n    ((tracks[\\\"lyrics\\\"].isna() == False) & (tracks[\\\"lang\\\"] == \\\"en\\\"))\\n].reset_index()\";\n",
       "                var nbb_cells = Jupyter.notebook.get_cells();\n",
       "                for (var i = 0; i < nbb_cells.length; ++i) {\n",
       "                    if (nbb_cells[i].input_prompt_number == nbb_cell_id) {\n",
       "                        if (nbb_cells[i].get_text() == nbb_unformatted_code) {\n",
       "                             nbb_cells[i].set_text(nbb_formatted_code);\n",
       "                        }\n",
       "                        break;\n",
       "                    }\n",
       "                }\n",
       "            }, 500);\n",
       "            "
      ],
      "text/plain": [
       "<IPython.core.display.Javascript object>"
      ]
     },
     "metadata": {},
     "output_type": "display_data"
    }
   ],
   "source": [
    "lyr_tracks = tracks[\n",
    "    ((tracks[\"lyrics\"].isna() == False) & (tracks[\"lang\"] == \"en\"))\n",
    "].reset_index()"
   ]
  },
  {
   "cell_type": "code",
   "execution_count": 6,
   "metadata": {
    "scrolled": true
   },
   "outputs": [
    {
     "data": {
      "application/javascript": [
       "\n",
       "            setTimeout(function() {\n",
       "                var nbb_cell_id = 6;\n",
       "                var nbb_unformatted_code = \"px_df = lyr_tracks[[\\\"lyrics\\\", \\\"lang\\\", \\\"id\\\", \\\"genres\\\"]]\";\n",
       "                var nbb_formatted_code = \"px_df = lyr_tracks[[\\\"lyrics\\\", \\\"lang\\\", \\\"id\\\", \\\"genres\\\"]]\";\n",
       "                var nbb_cells = Jupyter.notebook.get_cells();\n",
       "                for (var i = 0; i < nbb_cells.length; ++i) {\n",
       "                    if (nbb_cells[i].input_prompt_number == nbb_cell_id) {\n",
       "                        if (nbb_cells[i].get_text() == nbb_unformatted_code) {\n",
       "                             nbb_cells[i].set_text(nbb_formatted_code);\n",
       "                        }\n",
       "                        break;\n",
       "                    }\n",
       "                }\n",
       "            }, 500);\n",
       "            "
      ],
      "text/plain": [
       "<IPython.core.display.Javascript object>"
      ]
     },
     "metadata": {},
     "output_type": "display_data"
    }
   ],
   "source": [
    "px_df = lyr_tracks[[\"lyrics\", \"lang\", \"id\", \"genres\"]]"
   ]
  },
  {
   "cell_type": "code",
   "execution_count": 7,
   "metadata": {},
   "outputs": [
    {
     "data": {
      "application/javascript": [
       "\n",
       "            setTimeout(function() {\n",
       "                var nbb_cell_id = 7;\n",
       "                var nbb_unformatted_code = \"docs = [l.replace(\\\"\\\\n\\\", \\\" \\\") for l in lyr_tracks[\\\"lyrics\\\"]]\";\n",
       "                var nbb_formatted_code = \"docs = [l.replace(\\\"\\\\n\\\", \\\" \\\") for l in lyr_tracks[\\\"lyrics\\\"]]\";\n",
       "                var nbb_cells = Jupyter.notebook.get_cells();\n",
       "                for (var i = 0; i < nbb_cells.length; ++i) {\n",
       "                    if (nbb_cells[i].input_prompt_number == nbb_cell_id) {\n",
       "                        if (nbb_cells[i].get_text() == nbb_unformatted_code) {\n",
       "                             nbb_cells[i].set_text(nbb_formatted_code);\n",
       "                        }\n",
       "                        break;\n",
       "                    }\n",
       "                }\n",
       "            }, 500);\n",
       "            "
      ],
      "text/plain": [
       "<IPython.core.display.Javascript object>"
      ]
     },
     "metadata": {},
     "output_type": "display_data"
    }
   ],
   "source": [
    "docs = [l.replace(\"\\n\", \" \") for l in lyr_tracks[\"lyrics\"]]"
   ]
  },
  {
   "cell_type": "code",
   "execution_count": 8,
   "metadata": {},
   "outputs": [
    {
     "name": "stderr",
     "output_type": "stream",
     "text": [
      "C:\\ProgramData\\Anaconda3\\lib\\site-packages\\ipykernel_launcher.py:1: DeprecationWarning: Flags not at the start of the expression \"r'\\\\[.*?\\\\]|(?i)\\\\[[a-z\" (truncated)\n",
      "  \"\"\"Entry point for launching an IPython kernel.\n"
     ]
    },
    {
     "data": {
      "application/javascript": [
       "\n",
       "            setTimeout(function() {\n",
       "                var nbb_cell_id = 8;\n",
       "                var nbb_unformatted_code = \"docs = [re.sub(\\\"r'\\\\[.*?\\\\]|(?i)\\\\[[a-z]+ [0-9]+\\\\]|\\\\[[a-z]+\\\\]'\\\", \\\" \\\", doc) for doc in docs]\";\n",
       "                var nbb_formatted_code = \"docs = [re.sub(\\\"r'\\\\[.*?\\\\]|(?i)\\\\[[a-z]+ [0-9]+\\\\]|\\\\[[a-z]+\\\\]'\\\", \\\" \\\", doc) for doc in docs]\";\n",
       "                var nbb_cells = Jupyter.notebook.get_cells();\n",
       "                for (var i = 0; i < nbb_cells.length; ++i) {\n",
       "                    if (nbb_cells[i].input_prompt_number == nbb_cell_id) {\n",
       "                        if (nbb_cells[i].get_text() == nbb_unformatted_code) {\n",
       "                             nbb_cells[i].set_text(nbb_formatted_code);\n",
       "                        }\n",
       "                        break;\n",
       "                    }\n",
       "                }\n",
       "            }, 500);\n",
       "            "
      ],
      "text/plain": [
       "<IPython.core.display.Javascript object>"
      ]
     },
     "metadata": {},
     "output_type": "display_data"
    }
   ],
   "source": [
    "docs = [re.sub(\"r'\\[.*?\\]|(?i)\\[[a-z]+ [0-9]+\\]|\\[[a-z]+\\]'\", \" \", doc) for doc in docs]"
   ]
  },
  {
   "cell_type": "code",
   "execution_count": 9,
   "metadata": {},
   "outputs": [
    {
     "data": {
      "application/javascript": [
       "\n",
       "            setTimeout(function() {\n",
       "                var nbb_cell_id = 9;\n",
       "                var nbb_unformatted_code = \"# for doc in docs:\\n#     print(re.findall(r'\\\\[(?:[^|\\\\]]*\\\\|)?([^\\\\]]*)]', doc))\";\n",
       "                var nbb_formatted_code = \"# for doc in docs:\\n#     print(re.findall(r'\\\\[(?:[^|\\\\]]*\\\\|)?([^\\\\]]*)]', doc))\";\n",
       "                var nbb_cells = Jupyter.notebook.get_cells();\n",
       "                for (var i = 0; i < nbb_cells.length; ++i) {\n",
       "                    if (nbb_cells[i].input_prompt_number == nbb_cell_id) {\n",
       "                        if (nbb_cells[i].get_text() == nbb_unformatted_code) {\n",
       "                             nbb_cells[i].set_text(nbb_formatted_code);\n",
       "                        }\n",
       "                        break;\n",
       "                    }\n",
       "                }\n",
       "            }, 500);\n",
       "            "
      ],
      "text/plain": [
       "<IPython.core.display.Javascript object>"
      ]
     },
     "metadata": {},
     "output_type": "display_data"
    }
   ],
   "source": [
    "# for doc in docs:\n",
    "#     print(re.findall(r'\\[(?:[^|\\]]*\\|)?([^\\]]*)]', doc))"
   ]
  },
  {
   "cell_type": "code",
   "execution_count": 10,
   "metadata": {},
   "outputs": [
    {
     "data": {
      "application/javascript": [
       "\n",
       "            setTimeout(function() {\n",
       "                var nbb_cell_id = 10;\n",
       "                var nbb_unformatted_code = \"# for doc in docs:\\n#     print(re.findall('(?i)\\\\[[a-z]+ [0-9]+\\\\]|\\\\[[a-z]+\\\\]', doc))\";\n",
       "                var nbb_formatted_code = \"# for doc in docs:\\n#     print(re.findall('(?i)\\\\[[a-z]+ [0-9]+\\\\]|\\\\[[a-z]+\\\\]', doc))\";\n",
       "                var nbb_cells = Jupyter.notebook.get_cells();\n",
       "                for (var i = 0; i < nbb_cells.length; ++i) {\n",
       "                    if (nbb_cells[i].input_prompt_number == nbb_cell_id) {\n",
       "                        if (nbb_cells[i].get_text() == nbb_unformatted_code) {\n",
       "                             nbb_cells[i].set_text(nbb_formatted_code);\n",
       "                        }\n",
       "                        break;\n",
       "                    }\n",
       "                }\n",
       "            }, 500);\n",
       "            "
      ],
      "text/plain": [
       "<IPython.core.display.Javascript object>"
      ]
     },
     "metadata": {},
     "output_type": "display_data"
    }
   ],
   "source": [
    "# for doc in docs:\n",
    "#     print(re.findall('(?i)\\[[a-z]+ [0-9]+\\]|\\[[a-z]+\\]', doc))\n"
   ]
  },
  {
   "cell_type": "code",
   "execution_count": 11,
   "metadata": {},
   "outputs": [
    {
     "data": {
      "application/javascript": [
       "\n",
       "            setTimeout(function() {\n",
       "                var nbb_cell_id = 11;\n",
       "                var nbb_unformatted_code = \"# for doc in docs:\\n#     print(re.findall(r'\\\\[.*?\\\\]|(?i)\\\\[[a-z]+ [0-9]+\\\\]|\\\\[[a-z]+\\\\]', doc))\";\n",
       "                var nbb_formatted_code = \"# for doc in docs:\\n#     print(re.findall(r'\\\\[.*?\\\\]|(?i)\\\\[[a-z]+ [0-9]+\\\\]|\\\\[[a-z]+\\\\]', doc))\";\n",
       "                var nbb_cells = Jupyter.notebook.get_cells();\n",
       "                for (var i = 0; i < nbb_cells.length; ++i) {\n",
       "                    if (nbb_cells[i].input_prompt_number == nbb_cell_id) {\n",
       "                        if (nbb_cells[i].get_text() == nbb_unformatted_code) {\n",
       "                             nbb_cells[i].set_text(nbb_formatted_code);\n",
       "                        }\n",
       "                        break;\n",
       "                    }\n",
       "                }\n",
       "            }, 500);\n",
       "            "
      ],
      "text/plain": [
       "<IPython.core.display.Javascript object>"
      ]
     },
     "metadata": {},
     "output_type": "display_data"
    }
   ],
   "source": [
    "# for doc in docs:\n",
    "#     print(re.findall(r'\\[.*?\\]|(?i)\\[[a-z]+ [0-9]+\\]|\\[[a-z]+\\]', doc))\n"
   ]
  },
  {
   "cell_type": "code",
   "execution_count": 12,
   "metadata": {},
   "outputs": [
    {
     "data": {
      "application/javascript": [
       "\n",
       "            setTimeout(function() {\n",
       "                var nbb_cell_id = 12;\n",
       "                var nbb_unformatted_code = \"def preprocess(docs):\\n    lemmatizer = WordNetLemmatizer()\\n    stemmer = SnowballStemmer(\\\"english\\\")\\n    preprocessed = []\\n\\n    for doc in docs:\\n        tokenized = word_tokenize(doc)\\n\\n        cleaned = [\\n            stemmer.stem(lemmatizer.lemmatize(token.lower()))\\n            for token in tokenized\\n            if not token.lower() in stopwords.words(\\\"english\\\")\\n            if token.isalpha()\\n        ]\\n        untokenized = \\\" \\\".join(cleaned)\\n        preprocessed.append(untokenized)\\n\\n    return preprocessed\";\n",
       "                var nbb_formatted_code = \"def preprocess(docs):\\n    lemmatizer = WordNetLemmatizer()\\n    stemmer = SnowballStemmer(\\\"english\\\")\\n    preprocessed = []\\n\\n    for doc in docs:\\n        tokenized = word_tokenize(doc)\\n\\n        cleaned = [\\n            stemmer.stem(lemmatizer.lemmatize(token.lower()))\\n            for token in tokenized\\n            if not token.lower() in stopwords.words(\\\"english\\\")\\n            if token.isalpha()\\n        ]\\n        untokenized = \\\" \\\".join(cleaned)\\n        preprocessed.append(untokenized)\\n\\n    return preprocessed\";\n",
       "                var nbb_cells = Jupyter.notebook.get_cells();\n",
       "                for (var i = 0; i < nbb_cells.length; ++i) {\n",
       "                    if (nbb_cells[i].input_prompt_number == nbb_cell_id) {\n",
       "                        if (nbb_cells[i].get_text() == nbb_unformatted_code) {\n",
       "                             nbb_cells[i].set_text(nbb_formatted_code);\n",
       "                        }\n",
       "                        break;\n",
       "                    }\n",
       "                }\n",
       "            }, 500);\n",
       "            "
      ],
      "text/plain": [
       "<IPython.core.display.Javascript object>"
      ]
     },
     "metadata": {},
     "output_type": "display_data"
    }
   ],
   "source": [
    "def preprocess(docs):\n",
    "    lemmatizer = WordNetLemmatizer()\n",
    "    stemmer = SnowballStemmer(\"english\")\n",
    "    preprocessed = []\n",
    "\n",
    "    for doc in docs:\n",
    "        tokenized = word_tokenize(doc)\n",
    "\n",
    "        cleaned = [\n",
    "            stemmer.stem(lemmatizer.lemmatize(token.lower()))\n",
    "            for token in tokenized\n",
    "            if not token.lower() in stopwords.words(\"english\")\n",
    "            if token.isalpha()\n",
    "        ]\n",
    "        untokenized = \" \".join(cleaned)\n",
    "        preprocessed.append(untokenized)\n",
    "\n",
    "    return preprocessed"
   ]
  },
  {
   "cell_type": "code",
   "execution_count": 49,
   "metadata": {},
   "outputs": [
    {
     "data": {
      "application/javascript": [
       "\n",
       "            setTimeout(function() {\n",
       "                var nbb_cell_id = 49;\n",
       "                var nbb_unformatted_code = \"import pickle\\nwith open('data/preprocessed.pickle', 'wb') as f:\\n    pickle.dump(preprocessed, f)\";\n",
       "                var nbb_formatted_code = \"import pickle\\n\\nwith open(\\\"data/preprocessed.pickle\\\", \\\"wb\\\") as f:\\n    pickle.dump(preprocessed, f)\";\n",
       "                var nbb_cells = Jupyter.notebook.get_cells();\n",
       "                for (var i = 0; i < nbb_cells.length; ++i) {\n",
       "                    if (nbb_cells[i].input_prompt_number == nbb_cell_id) {\n",
       "                        if (nbb_cells[i].get_text() == nbb_unformatted_code) {\n",
       "                             nbb_cells[i].set_text(nbb_formatted_code);\n",
       "                        }\n",
       "                        break;\n",
       "                    }\n",
       "                }\n",
       "            }, 500);\n",
       "            "
      ],
      "text/plain": [
       "<IPython.core.display.Javascript object>"
      ]
     },
     "metadata": {},
     "output_type": "display_data"
    }
   ],
   "source": [
    "#----------------------------------------------------------------------------\n",
    "#This is the process I used to clean the docs. It takes forever so I saved it to a pickle\n",
    "#--------------------------------------------------------------------------------------\n",
    "\n",
    "# preprocessed = preprocess(docs)\n",
    "\n",
    "# with open(\"data/preprocessed.pickle\", \"wb\") as f:\n",
    "#     pickle.dump(preprocessed, f)"
   ]
  },
  {
   "cell_type": "code",
   "execution_count": 50,
   "metadata": {},
   "outputs": [
    {
     "data": {
      "application/javascript": [
       "\n",
       "            setTimeout(function() {\n",
       "                var nbb_cell_id = 50;\n",
       "                var nbb_unformatted_code = \"with open('data/preprocessed.pickle', 'rb') as f:\\n    preprocessed= pickle.load(f)\";\n",
       "                var nbb_formatted_code = \"with open(\\\"data/preprocessed.pickle\\\", \\\"rb\\\") as f:\\n    preprocessed = pickle.load(f)\";\n",
       "                var nbb_cells = Jupyter.notebook.get_cells();\n",
       "                for (var i = 0; i < nbb_cells.length; ++i) {\n",
       "                    if (nbb_cells[i].input_prompt_number == nbb_cell_id) {\n",
       "                        if (nbb_cells[i].get_text() == nbb_unformatted_code) {\n",
       "                             nbb_cells[i].set_text(nbb_formatted_code);\n",
       "                        }\n",
       "                        break;\n",
       "                    }\n",
       "                }\n",
       "            }, 500);\n",
       "            "
      ],
      "text/plain": [
       "<IPython.core.display.Javascript object>"
      ]
     },
     "metadata": {},
     "output_type": "display_data"
    }
   ],
   "source": [
    "with open(\"data/preprocessed.pickle\", \"rb\") as f:\n",
    "    preprocessed = pickle.load(f)"
   ]
  },
  {
   "cell_type": "code",
   "execution_count": 51,
   "metadata": {},
   "outputs": [
    {
     "data": {
      "application/javascript": [
       "\n",
       "            setTimeout(function() {\n",
       "                var nbb_cell_id = 51;\n",
       "                var nbb_unformatted_code = \"tfidf = TfidfVectorizer(min_df=2)\\nvectorized = tfidf.fit_transform(preprocessed)\";\n",
       "                var nbb_formatted_code = \"tfidf = TfidfVectorizer(min_df=2)\\nvectorized = tfidf.fit_transform(preprocessed)\";\n",
       "                var nbb_cells = Jupyter.notebook.get_cells();\n",
       "                for (var i = 0; i < nbb_cells.length; ++i) {\n",
       "                    if (nbb_cells[i].input_prompt_number == nbb_cell_id) {\n",
       "                        if (nbb_cells[i].get_text() == nbb_unformatted_code) {\n",
       "                             nbb_cells[i].set_text(nbb_formatted_code);\n",
       "                        }\n",
       "                        break;\n",
       "                    }\n",
       "                }\n",
       "            }, 500);\n",
       "            "
      ],
      "text/plain": [
       "<IPython.core.display.Javascript object>"
      ]
     },
     "metadata": {},
     "output_type": "display_data"
    }
   ],
   "source": [
    "tfidf = TfidfVectorizer(min_df=2)\n",
    "vectorized = tfidf.fit_transform(preprocessed)"
   ]
  },
  {
   "cell_type": "code",
   "execution_count": 15,
   "metadata": {},
   "outputs": [
    {
     "data": {
      "application/javascript": [
       "\n",
       "            setTimeout(function() {\n",
       "                var nbb_cell_id = 15;\n",
       "                var nbb_unformatted_code = \"tfidf_df = pd.DataFrame(vectorized.toarray(), columns=tfidf.get_feature_names())\";\n",
       "                var nbb_formatted_code = \"tfidf_df = pd.DataFrame(vectorized.toarray(), columns=tfidf.get_feature_names())\";\n",
       "                var nbb_cells = Jupyter.notebook.get_cells();\n",
       "                for (var i = 0; i < nbb_cells.length; ++i) {\n",
       "                    if (nbb_cells[i].input_prompt_number == nbb_cell_id) {\n",
       "                        if (nbb_cells[i].get_text() == nbb_unformatted_code) {\n",
       "                             nbb_cells[i].set_text(nbb_formatted_code);\n",
       "                        }\n",
       "                        break;\n",
       "                    }\n",
       "                }\n",
       "            }, 500);\n",
       "            "
      ],
      "text/plain": [
       "<IPython.core.display.Javascript object>"
      ]
     },
     "metadata": {},
     "output_type": "display_data"
    }
   ],
   "source": [
    "tfidf_df = pd.DataFrame(vectorized.toarray(), columns=tfidf.get_feature_names())"
   ]
  },
  {
   "cell_type": "code",
   "execution_count": 16,
   "metadata": {},
   "outputs": [
    {
     "data": {
      "text/html": [
       "<div>\n",
       "<style scoped>\n",
       "    .dataframe tbody tr th:only-of-type {\n",
       "        vertical-align: middle;\n",
       "    }\n",
       "\n",
       "    .dataframe tbody tr th {\n",
       "        vertical-align: top;\n",
       "    }\n",
       "\n",
       "    .dataframe thead th {\n",
       "        text-align: right;\n",
       "    }\n",
       "</style>\n",
       "<table border=\"1\" class=\"dataframe\">\n",
       "  <thead>\n",
       "    <tr style=\"text-align: right;\">\n",
       "      <th></th>\n",
       "      <th>aa</th>\n",
       "      <th>aaa</th>\n",
       "      <th>aaaaaaaaaaaaaaaaaaaw</th>\n",
       "      <th>aaaah</th>\n",
       "      <th>aaaahhh</th>\n",
       "      <th>aaahhhh</th>\n",
       "      <th>aah</th>\n",
       "      <th>aahhh</th>\n",
       "      <th>aak</th>\n",
       "      <th>aalegra</th>\n",
       "      <th>...</th>\n",
       "      <th>자꾸</th>\n",
       "      <th>절대</th>\n",
       "      <th>중독</th>\n",
       "      <th>지금</th>\n",
       "      <th>표정</th>\n",
       "      <th>품에</th>\n",
       "      <th>피터팬</th>\n",
       "      <th>하나</th>\n",
       "      <th>혹시</th>\n",
       "      <th>흐린</th>\n",
       "    </tr>\n",
       "  </thead>\n",
       "  <tbody>\n",
       "    <tr>\n",
       "      <th>0</th>\n",
       "      <td>0.0</td>\n",
       "      <td>0.0</td>\n",
       "      <td>0.0</td>\n",
       "      <td>0.0</td>\n",
       "      <td>0.0</td>\n",
       "      <td>0.0</td>\n",
       "      <td>0.0</td>\n",
       "      <td>0.0</td>\n",
       "      <td>0.0</td>\n",
       "      <td>0.0</td>\n",
       "      <td>...</td>\n",
       "      <td>0.0</td>\n",
       "      <td>0.0</td>\n",
       "      <td>0.0</td>\n",
       "      <td>0.0</td>\n",
       "      <td>0.0</td>\n",
       "      <td>0.0</td>\n",
       "      <td>0.0</td>\n",
       "      <td>0.0</td>\n",
       "      <td>0.0</td>\n",
       "      <td>0.00000</td>\n",
       "    </tr>\n",
       "    <tr>\n",
       "      <th>1</th>\n",
       "      <td>0.0</td>\n",
       "      <td>0.0</td>\n",
       "      <td>0.0</td>\n",
       "      <td>0.0</td>\n",
       "      <td>0.0</td>\n",
       "      <td>0.0</td>\n",
       "      <td>0.0</td>\n",
       "      <td>0.0</td>\n",
       "      <td>0.0</td>\n",
       "      <td>0.0</td>\n",
       "      <td>...</td>\n",
       "      <td>0.0</td>\n",
       "      <td>0.0</td>\n",
       "      <td>0.0</td>\n",
       "      <td>0.0</td>\n",
       "      <td>0.0</td>\n",
       "      <td>0.0</td>\n",
       "      <td>0.0</td>\n",
       "      <td>0.0</td>\n",
       "      <td>0.0</td>\n",
       "      <td>0.00000</td>\n",
       "    </tr>\n",
       "    <tr>\n",
       "      <th>2</th>\n",
       "      <td>0.0</td>\n",
       "      <td>0.0</td>\n",
       "      <td>0.0</td>\n",
       "      <td>0.0</td>\n",
       "      <td>0.0</td>\n",
       "      <td>0.0</td>\n",
       "      <td>0.0</td>\n",
       "      <td>0.0</td>\n",
       "      <td>0.0</td>\n",
       "      <td>0.0</td>\n",
       "      <td>...</td>\n",
       "      <td>0.0</td>\n",
       "      <td>0.0</td>\n",
       "      <td>0.0</td>\n",
       "      <td>0.0</td>\n",
       "      <td>0.0</td>\n",
       "      <td>0.0</td>\n",
       "      <td>0.0</td>\n",
       "      <td>0.0</td>\n",
       "      <td>0.0</td>\n",
       "      <td>0.00000</td>\n",
       "    </tr>\n",
       "    <tr>\n",
       "      <th>3</th>\n",
       "      <td>0.0</td>\n",
       "      <td>0.0</td>\n",
       "      <td>0.0</td>\n",
       "      <td>0.0</td>\n",
       "      <td>0.0</td>\n",
       "      <td>0.0</td>\n",
       "      <td>0.0</td>\n",
       "      <td>0.0</td>\n",
       "      <td>0.0</td>\n",
       "      <td>0.0</td>\n",
       "      <td>...</td>\n",
       "      <td>0.0</td>\n",
       "      <td>0.0</td>\n",
       "      <td>0.0</td>\n",
       "      <td>0.0</td>\n",
       "      <td>0.0</td>\n",
       "      <td>0.0</td>\n",
       "      <td>0.0</td>\n",
       "      <td>0.0</td>\n",
       "      <td>0.0</td>\n",
       "      <td>0.00000</td>\n",
       "    </tr>\n",
       "    <tr>\n",
       "      <th>4</th>\n",
       "      <td>0.0</td>\n",
       "      <td>0.0</td>\n",
       "      <td>0.0</td>\n",
       "      <td>0.0</td>\n",
       "      <td>0.0</td>\n",
       "      <td>0.0</td>\n",
       "      <td>0.0</td>\n",
       "      <td>0.0</td>\n",
       "      <td>0.0</td>\n",
       "      <td>0.0</td>\n",
       "      <td>...</td>\n",
       "      <td>0.0</td>\n",
       "      <td>0.0</td>\n",
       "      <td>0.0</td>\n",
       "      <td>0.0</td>\n",
       "      <td>0.0</td>\n",
       "      <td>0.0</td>\n",
       "      <td>0.0</td>\n",
       "      <td>0.0</td>\n",
       "      <td>0.0</td>\n",
       "      <td>0.00000</td>\n",
       "    </tr>\n",
       "    <tr>\n",
       "      <th>...</th>\n",
       "      <td>...</td>\n",
       "      <td>...</td>\n",
       "      <td>...</td>\n",
       "      <td>...</td>\n",
       "      <td>...</td>\n",
       "      <td>...</td>\n",
       "      <td>...</td>\n",
       "      <td>...</td>\n",
       "      <td>...</td>\n",
       "      <td>...</td>\n",
       "      <td>...</td>\n",
       "      <td>...</td>\n",
       "      <td>...</td>\n",
       "      <td>...</td>\n",
       "      <td>...</td>\n",
       "      <td>...</td>\n",
       "      <td>...</td>\n",
       "      <td>...</td>\n",
       "      <td>...</td>\n",
       "      <td>...</td>\n",
       "      <td>...</td>\n",
       "    </tr>\n",
       "    <tr>\n",
       "      <th>7253</th>\n",
       "      <td>0.0</td>\n",
       "      <td>0.0</td>\n",
       "      <td>0.0</td>\n",
       "      <td>0.0</td>\n",
       "      <td>0.0</td>\n",
       "      <td>0.0</td>\n",
       "      <td>0.0</td>\n",
       "      <td>0.0</td>\n",
       "      <td>0.0</td>\n",
       "      <td>0.0</td>\n",
       "      <td>...</td>\n",
       "      <td>0.0</td>\n",
       "      <td>0.0</td>\n",
       "      <td>0.0</td>\n",
       "      <td>0.0</td>\n",
       "      <td>0.0</td>\n",
       "      <td>0.0</td>\n",
       "      <td>0.0</td>\n",
       "      <td>0.0</td>\n",
       "      <td>0.0</td>\n",
       "      <td>0.12522</td>\n",
       "    </tr>\n",
       "    <tr>\n",
       "      <th>7254</th>\n",
       "      <td>0.0</td>\n",
       "      <td>0.0</td>\n",
       "      <td>0.0</td>\n",
       "      <td>0.0</td>\n",
       "      <td>0.0</td>\n",
       "      <td>0.0</td>\n",
       "      <td>0.0</td>\n",
       "      <td>0.0</td>\n",
       "      <td>0.0</td>\n",
       "      <td>0.0</td>\n",
       "      <td>...</td>\n",
       "      <td>0.0</td>\n",
       "      <td>0.0</td>\n",
       "      <td>0.0</td>\n",
       "      <td>0.0</td>\n",
       "      <td>0.0</td>\n",
       "      <td>0.0</td>\n",
       "      <td>0.0</td>\n",
       "      <td>0.0</td>\n",
       "      <td>0.0</td>\n",
       "      <td>0.00000</td>\n",
       "    </tr>\n",
       "    <tr>\n",
       "      <th>7255</th>\n",
       "      <td>0.0</td>\n",
       "      <td>0.0</td>\n",
       "      <td>0.0</td>\n",
       "      <td>0.0</td>\n",
       "      <td>0.0</td>\n",
       "      <td>0.0</td>\n",
       "      <td>0.0</td>\n",
       "      <td>0.0</td>\n",
       "      <td>0.0</td>\n",
       "      <td>0.0</td>\n",
       "      <td>...</td>\n",
       "      <td>0.0</td>\n",
       "      <td>0.0</td>\n",
       "      <td>0.0</td>\n",
       "      <td>0.0</td>\n",
       "      <td>0.0</td>\n",
       "      <td>0.0</td>\n",
       "      <td>0.0</td>\n",
       "      <td>0.0</td>\n",
       "      <td>0.0</td>\n",
       "      <td>0.00000</td>\n",
       "    </tr>\n",
       "    <tr>\n",
       "      <th>7256</th>\n",
       "      <td>0.0</td>\n",
       "      <td>0.0</td>\n",
       "      <td>0.0</td>\n",
       "      <td>0.0</td>\n",
       "      <td>0.0</td>\n",
       "      <td>0.0</td>\n",
       "      <td>0.0</td>\n",
       "      <td>0.0</td>\n",
       "      <td>0.0</td>\n",
       "      <td>0.0</td>\n",
       "      <td>...</td>\n",
       "      <td>0.0</td>\n",
       "      <td>0.0</td>\n",
       "      <td>0.0</td>\n",
       "      <td>0.0</td>\n",
       "      <td>0.0</td>\n",
       "      <td>0.0</td>\n",
       "      <td>0.0</td>\n",
       "      <td>0.0</td>\n",
       "      <td>0.0</td>\n",
       "      <td>0.00000</td>\n",
       "    </tr>\n",
       "    <tr>\n",
       "      <th>7257</th>\n",
       "      <td>0.0</td>\n",
       "      <td>0.0</td>\n",
       "      <td>0.0</td>\n",
       "      <td>0.0</td>\n",
       "      <td>0.0</td>\n",
       "      <td>0.0</td>\n",
       "      <td>0.0</td>\n",
       "      <td>0.0</td>\n",
       "      <td>0.0</td>\n",
       "      <td>0.0</td>\n",
       "      <td>...</td>\n",
       "      <td>0.0</td>\n",
       "      <td>0.0</td>\n",
       "      <td>0.0</td>\n",
       "      <td>0.0</td>\n",
       "      <td>0.0</td>\n",
       "      <td>0.0</td>\n",
       "      <td>0.0</td>\n",
       "      <td>0.0</td>\n",
       "      <td>0.0</td>\n",
       "      <td>0.00000</td>\n",
       "    </tr>\n",
       "  </tbody>\n",
       "</table>\n",
       "<p>7258 rows × 12169 columns</p>\n",
       "</div>"
      ],
      "text/plain": [
       "       aa  aaa  aaaaaaaaaaaaaaaaaaaw  aaaah  aaaahhh  aaahhhh  aah  aahhh  \\\n",
       "0     0.0  0.0                   0.0    0.0      0.0      0.0  0.0    0.0   \n",
       "1     0.0  0.0                   0.0    0.0      0.0      0.0  0.0    0.0   \n",
       "2     0.0  0.0                   0.0    0.0      0.0      0.0  0.0    0.0   \n",
       "3     0.0  0.0                   0.0    0.0      0.0      0.0  0.0    0.0   \n",
       "4     0.0  0.0                   0.0    0.0      0.0      0.0  0.0    0.0   \n",
       "...   ...  ...                   ...    ...      ...      ...  ...    ...   \n",
       "7253  0.0  0.0                   0.0    0.0      0.0      0.0  0.0    0.0   \n",
       "7254  0.0  0.0                   0.0    0.0      0.0      0.0  0.0    0.0   \n",
       "7255  0.0  0.0                   0.0    0.0      0.0      0.0  0.0    0.0   \n",
       "7256  0.0  0.0                   0.0    0.0      0.0      0.0  0.0    0.0   \n",
       "7257  0.0  0.0                   0.0    0.0      0.0      0.0  0.0    0.0   \n",
       "\n",
       "      aak  aalegra  ...   자꾸   절대   중독   지금   표정   품에  피터팬   하나   혹시       흐린  \n",
       "0     0.0      0.0  ...  0.0  0.0  0.0  0.0  0.0  0.0  0.0  0.0  0.0  0.00000  \n",
       "1     0.0      0.0  ...  0.0  0.0  0.0  0.0  0.0  0.0  0.0  0.0  0.0  0.00000  \n",
       "2     0.0      0.0  ...  0.0  0.0  0.0  0.0  0.0  0.0  0.0  0.0  0.0  0.00000  \n",
       "3     0.0      0.0  ...  0.0  0.0  0.0  0.0  0.0  0.0  0.0  0.0  0.0  0.00000  \n",
       "4     0.0      0.0  ...  0.0  0.0  0.0  0.0  0.0  0.0  0.0  0.0  0.0  0.00000  \n",
       "...   ...      ...  ...  ...  ...  ...  ...  ...  ...  ...  ...  ...      ...  \n",
       "7253  0.0      0.0  ...  0.0  0.0  0.0  0.0  0.0  0.0  0.0  0.0  0.0  0.12522  \n",
       "7254  0.0      0.0  ...  0.0  0.0  0.0  0.0  0.0  0.0  0.0  0.0  0.0  0.00000  \n",
       "7255  0.0      0.0  ...  0.0  0.0  0.0  0.0  0.0  0.0  0.0  0.0  0.0  0.00000  \n",
       "7256  0.0      0.0  ...  0.0  0.0  0.0  0.0  0.0  0.0  0.0  0.0  0.0  0.00000  \n",
       "7257  0.0      0.0  ...  0.0  0.0  0.0  0.0  0.0  0.0  0.0  0.0  0.0  0.00000  \n",
       "\n",
       "[7258 rows x 12169 columns]"
      ]
     },
     "execution_count": 16,
     "metadata": {},
     "output_type": "execute_result"
    },
    {
     "data": {
      "application/javascript": [
       "\n",
       "            setTimeout(function() {\n",
       "                var nbb_cell_id = 16;\n",
       "                var nbb_unformatted_code = \"tfidf_df\";\n",
       "                var nbb_formatted_code = \"tfidf_df\";\n",
       "                var nbb_cells = Jupyter.notebook.get_cells();\n",
       "                for (var i = 0; i < nbb_cells.length; ++i) {\n",
       "                    if (nbb_cells[i].input_prompt_number == nbb_cell_id) {\n",
       "                        if (nbb_cells[i].get_text() == nbb_unformatted_code) {\n",
       "                             nbb_cells[i].set_text(nbb_formatted_code);\n",
       "                        }\n",
       "                        break;\n",
       "                    }\n",
       "                }\n",
       "            }, 500);\n",
       "            "
      ],
      "text/plain": [
       "<IPython.core.display.Javascript object>"
      ]
     },
     "metadata": {},
     "output_type": "display_data"
    }
   ],
   "source": [
    "tfidf_df\n",
    "#the program I used to tag the language got some of it wrong so \n",
    "#there needs to be some more data cleaning earlier on in the process.\n"
   ]
  },
  {
   "cell_type": "code",
   "execution_count": 53,
   "metadata": {
    "scrolled": false
   },
   "outputs": [
    {
     "name": "stderr",
     "output_type": "stream",
     "text": [
      "C:\\ProgramData\\Anaconda3\\lib\\site-packages\\sklearn\\cluster\\_kmeans.py:939: FutureWarning: 'n_jobs' was deprecated in version 0.23 and will be removed in 0.25.\n",
      "  \" removed in 0.25.\", FutureWarning)\n",
      "C:\\ProgramData\\Anaconda3\\lib\\site-packages\\sklearn\\cluster\\_kmeans.py:939: FutureWarning: 'n_jobs' was deprecated in version 0.23 and will be removed in 0.25.\n",
      "  \" removed in 0.25.\", FutureWarning)\n",
      "C:\\ProgramData\\Anaconda3\\lib\\site-packages\\sklearn\\cluster\\_kmeans.py:939: FutureWarning: 'n_jobs' was deprecated in version 0.23 and will be removed in 0.25.\n",
      "  \" removed in 0.25.\", FutureWarning)\n",
      "C:\\ProgramData\\Anaconda3\\lib\\site-packages\\sklearn\\cluster\\_kmeans.py:939: FutureWarning: 'n_jobs' was deprecated in version 0.23 and will be removed in 0.25.\n",
      "  \" removed in 0.25.\", FutureWarning)\n",
      "C:\\ProgramData\\Anaconda3\\lib\\site-packages\\yellowbrick\\utils\\kneed.py:140: YellowbrickWarning: No 'knee' or 'elbow point' detected This could be due to bad clustering, no actual clusters being formed etc.\n",
      "  warnings.warn(warning_message, YellowbrickWarning)\n",
      "C:\\ProgramData\\Anaconda3\\lib\\site-packages\\yellowbrick\\cluster\\elbow.py:343: YellowbrickWarning: No 'knee' or 'elbow' point detected, pass `locate_elbow=False` to remove the warning\n",
      "  warnings.warn(warning_message, YellowbrickWarning)\n",
      "C:\\ProgramData\\Anaconda3\\lib\\site-packages\\sklearn\\base.py:213: FutureWarning: From version 0.24, get_params will raise an AttributeError if a parameter cannot be retrieved as an instance attribute. Previously it would return None.\n",
      "  FutureWarning)\n"
     ]
    },
    {
     "data": {
      "text/plain": [
       "KElbowVisualizer(ax=<AxesSubplot:>, k=None, metric='silhouette', model=None)"
      ]
     },
     "execution_count": 53,
     "metadata": {},
     "output_type": "execute_result"
    },
    {
     "data": {
      "image/png": "[encoded data removed]",
      "text/plain": [
       "<Figure size 576x396 with 2 Axes>"
      ]
     },
     "metadata": {},
     "output_type": "display_data"
    },
    {
     "data": {
      "application/javascript": [
       "\n",
       "            setTimeout(function() {\n",
       "                var nbb_cell_id = 53;\n",
       "                var nbb_unformatted_code = \"#this also takes awhile so run at your own risk\\n#originally this dataset was used in unsupervised learning on different parameters\\n\\nmodel = KMeans(n_jobs=-1)\\nvisualizer = KElbowVisualizer(model=model, k=(13, 17), metric=\\\"silhouette\\\",)\\n\\nvisualizer.fit(tfidf_df)\";\n",
       "                var nbb_formatted_code = \"# this also takes awhile so run at your own risk\\n# originally this dataset was used in unsupervised learning on different parameters\\n\\nmodel = KMeans(n_jobs=-1)\\nvisualizer = KElbowVisualizer(model=model, k=(13, 17), metric=\\\"silhouette\\\",)\\n\\nvisualizer.fit(tfidf_df)\";\n",
       "                var nbb_cells = Jupyter.notebook.get_cells();\n",
       "                for (var i = 0; i < nbb_cells.length; ++i) {\n",
       "                    if (nbb_cells[i].input_prompt_number == nbb_cell_id) {\n",
       "                        if (nbb_cells[i].get_text() == nbb_unformatted_code) {\n",
       "                             nbb_cells[i].set_text(nbb_formatted_code);\n",
       "                        }\n",
       "                        break;\n",
       "                    }\n",
       "                }\n",
       "            }, 500);\n",
       "            "
      ],
      "text/plain": [
       "<IPython.core.display.Javascript object>"
      ]
     },
     "metadata": {},
     "output_type": "display_data"
    }
   ],
   "source": [
    "#this also takes awhile so run at your own risk\n",
    "#originally this dataset was used in unsupervised learning on different parameters\n",
    "#clustered into 29 before.\n",
    "#-------------------------\n",
    "\n",
    "# model = KMeans(n_jobs=-1)\n",
    "# visualizer = KElbowVisualizer(model=model, k=(13, 17), metric=\"silhouette\",)\n",
    "\n",
    "# visualizer.fit(tfidf_df)"
   ]
  },
  {
   "cell_type": "code",
   "execution_count": 32,
   "metadata": {},
   "outputs": [
    {
     "name": "stderr",
     "output_type": "stream",
     "text": [
      "C:\\ProgramData\\Anaconda3\\lib\\site-packages\\sklearn\\cluster\\_kmeans.py:939: FutureWarning: 'n_jobs' was deprecated in version 0.23 and will be removed in 0.25.\n",
      "  \" removed in 0.25.\", FutureWarning)\n"
     ]
    },
    {
     "data": {
      "application/javascript": [
       "\n",
       "            setTimeout(function() {\n",
       "                var nbb_cell_id = 32;\n",
       "                var nbb_unformatted_code = \"model = KMeans(n_clusters=17, n_jobs=-1)\\nclusters = model.fit_predict(vectorized.toarray())\";\n",
       "                var nbb_formatted_code = \"model = KMeans(n_clusters=17, n_jobs=-1)\\nclusters = model.fit_predict(vectorized.toarray())\";\n",
       "                var nbb_cells = Jupyter.notebook.get_cells();\n",
       "                for (var i = 0; i < nbb_cells.length; ++i) {\n",
       "                    if (nbb_cells[i].input_prompt_number == nbb_cell_id) {\n",
       "                        if (nbb_cells[i].get_text() == nbb_unformatted_code) {\n",
       "                             nbb_cells[i].set_text(nbb_formatted_code);\n",
       "                        }\n",
       "                        break;\n",
       "                    }\n",
       "                }\n",
       "            }, 500);\n",
       "            "
      ],
      "text/plain": [
       "<IPython.core.display.Javascript object>"
      ]
     },
     "metadata": {},
     "output_type": "display_data"
    }
   ],
   "source": [
    "model = KMeans(n_clusters=17, n_jobs=-1)\n",
    "clusters = model.fit_predict(vectorized.toarray())"
   ]
  },
  {
   "cell_type": "code",
   "execution_count": 33,
   "metadata": {},
   "outputs": [
    {
     "name": "stderr",
     "output_type": "stream",
     "text": [
      "C:\\ProgramData\\Anaconda3\\lib\\site-packages\\ipykernel_launcher.py:1: SettingWithCopyWarning: \n",
      "A value is trying to be set on a copy of a slice from a DataFrame.\n",
      "Try using .loc[row_indexer,col_indexer] = value instead\n",
      "\n",
      "See the caveats in the documentation: https://pandas.pydata.org/pandas-docs/stable/user_guide/indexing.html#returning-a-view-versus-a-copy\n",
      "  \"\"\"Entry point for launching an IPython kernel.\n"
     ]
    },
    {
     "data": {
      "application/javascript": [
       "\n",
       "            setTimeout(function() {\n",
       "                var nbb_cell_id = 33;\n",
       "                var nbb_unformatted_code = \"px_df[\\\"clst_label\\\"] = clusters\";\n",
       "                var nbb_formatted_code = \"px_df[\\\"clst_label\\\"] = clusters\";\n",
       "                var nbb_cells = Jupyter.notebook.get_cells();\n",
       "                for (var i = 0; i < nbb_cells.length; ++i) {\n",
       "                    if (nbb_cells[i].input_prompt_number == nbb_cell_id) {\n",
       "                        if (nbb_cells[i].get_text() == nbb_unformatted_code) {\n",
       "                             nbb_cells[i].set_text(nbb_formatted_code);\n",
       "                        }\n",
       "                        break;\n",
       "                    }\n",
       "                }\n",
       "            }, 500);\n",
       "            "
      ],
      "text/plain": [
       "<IPython.core.display.Javascript object>"
      ]
     },
     "metadata": {},
     "output_type": "display_data"
    }
   ],
   "source": [
    "px_df[\"clst_label\"] = clusters"
   ]
  },
  {
   "cell_type": "code",
   "execution_count": 34,
   "metadata": {},
   "outputs": [
    {
     "data": {
      "text/plain": [
       "8     4094\n",
       "1     1751\n",
       "3      299\n",
       "14     293\n",
       "6      260\n",
       "7      210\n",
       "9      108\n",
       "4       95\n",
       "2       58\n",
       "12      46\n",
       "5       24\n",
       "11       9\n",
       "10       4\n",
       "0        3\n",
       "15       2\n",
       "16       1\n",
       "13       1\n",
       "Name: clst_label, dtype: int64"
      ]
     },
     "execution_count": 34,
     "metadata": {},
     "output_type": "execute_result"
    },
    {
     "data": {
      "application/javascript": [
       "\n",
       "            setTimeout(function() {\n",
       "                var nbb_cell_id = 34;\n",
       "                var nbb_unformatted_code = \"px_df[\\\"clst_label\\\"].value_counts()\";\n",
       "                var nbb_formatted_code = \"px_df[\\\"clst_label\\\"].value_counts()\";\n",
       "                var nbb_cells = Jupyter.notebook.get_cells();\n",
       "                for (var i = 0; i < nbb_cells.length; ++i) {\n",
       "                    if (nbb_cells[i].input_prompt_number == nbb_cell_id) {\n",
       "                        if (nbb_cells[i].get_text() == nbb_unformatted_code) {\n",
       "                             nbb_cells[i].set_text(nbb_formatted_code);\n",
       "                        }\n",
       "                        break;\n",
       "                    }\n",
       "                }\n",
       "            }, 500);\n",
       "            "
      ],
      "text/plain": [
       "<IPython.core.display.Javascript object>"
      ]
     },
     "metadata": {},
     "output_type": "display_data"
    }
   ],
   "source": [
    "px_df[\"clst_label\"].value_counts()"
   ]
  },
  {
   "cell_type": "code",
   "execution_count": 36,
   "metadata": {},
   "outputs": [
    {
     "data": {
      "application/javascript": [
       "\n",
       "            setTimeout(function() {\n",
       "                var nbb_cell_id = 36;\n",
       "                var nbb_unformatted_code = \"def get_keyword_counts(data):\\n    micro_genre_count = {}\\n    word_count = {}\\n    for x in data[\\\"genres\\\"]:\\n        m_genres = x.split(\\\", \\\")\\n        for m in m_genres:\\n            if m not in micro_genre_count:\\n                micro_genre_count[m] = 1\\n            else:\\n                micro_genre_count[m] += 1\\n            words = m.split(\\\" \\\")\\n            for word in words:\\n                if word not in word_count:\\n                    word_count[word] = 1\\n                else:\\n                    word_count[word] += 1\\n    try:\\n        del micro_genre_count[\\\"\\\"]\\n        del word_count[\\\"\\\"]\\n    except:\\n        pass\\n    return micro_genre_count, word_count\";\n",
       "                var nbb_formatted_code = \"def get_keyword_counts(data):\\n    micro_genre_count = {}\\n    word_count = {}\\n    for x in data[\\\"genres\\\"]:\\n        m_genres = x.split(\\\", \\\")\\n        for m in m_genres:\\n            if m not in micro_genre_count:\\n                micro_genre_count[m] = 1\\n            else:\\n                micro_genre_count[m] += 1\\n            words = m.split(\\\" \\\")\\n            for word in words:\\n                if word not in word_count:\\n                    word_count[word] = 1\\n                else:\\n                    word_count[word] += 1\\n    try:\\n        del micro_genre_count[\\\"\\\"]\\n        del word_count[\\\"\\\"]\\n    except:\\n        pass\\n    return micro_genre_count, word_count\";\n",
       "                var nbb_cells = Jupyter.notebook.get_cells();\n",
       "                for (var i = 0; i < nbb_cells.length; ++i) {\n",
       "                    if (nbb_cells[i].input_prompt_number == nbb_cell_id) {\n",
       "                        if (nbb_cells[i].get_text() == nbb_unformatted_code) {\n",
       "                             nbb_cells[i].set_text(nbb_formatted_code);\n",
       "                        }\n",
       "                        break;\n",
       "                    }\n",
       "                }\n",
       "            }, 500);\n",
       "            "
      ],
      "text/plain": [
       "<IPython.core.display.Javascript object>"
      ]
     },
     "metadata": {},
     "output_type": "display_data"
    }
   ],
   "source": [
    "def get_keyword_counts(data):\n",
    "    micro_genre_count = {}\n",
    "    word_count = {}\n",
    "    for x in data[\"genres\"]:\n",
    "        m_genres = x.split(\", \")\n",
    "        for m in m_genres:\n",
    "            if m not in micro_genre_count:\n",
    "                micro_genre_count[m] = 1\n",
    "            else:\n",
    "                micro_genre_count[m] += 1\n",
    "            words = m.split(\" \")\n",
    "            for word in words:\n",
    "                if word not in word_count:\n",
    "                    word_count[word] = 1\n",
    "                else:\n",
    "                    word_count[word] += 1\n",
    "    try:\n",
    "        del micro_genre_count[\"\"]\n",
    "        del word_count[\"\"]\n",
    "    except:\n",
    "        pass\n",
    "    return micro_genre_count, word_count"
   ]
  },
  {
   "cell_type": "code",
   "execution_count": 37,
   "metadata": {},
   "outputs": [
    {
     "name": "stderr",
     "output_type": "stream",
     "text": [
      "C:\\ProgramData\\Anaconda3\\lib\\site-packages\\ipykernel_launcher.py:1: SettingWithCopyWarning: \n",
      "A value is trying to be set on a copy of a slice from a DataFrame.\n",
      "Try using .loc[row_indexer,col_indexer] = value instead\n",
      "\n",
      "See the caveats in the documentation: https://pandas.pydata.org/pandas-docs/stable/user_guide/indexing.html#returning-a-view-versus-a-copy\n",
      "  \"\"\"Entry point for launching an IPython kernel.\n"
     ]
    },
    {
     "data": {
      "application/javascript": [
       "\n",
       "            setTimeout(function() {\n",
       "                var nbb_cell_id = 37;\n",
       "                var nbb_unformatted_code = \"px_df[\\\"genres\\\"] = px_df[\\\"genres\\\"].fillna(\\\"not listed\\\")\";\n",
       "                var nbb_formatted_code = \"px_df[\\\"genres\\\"] = px_df[\\\"genres\\\"].fillna(\\\"not listed\\\")\";\n",
       "                var nbb_cells = Jupyter.notebook.get_cells();\n",
       "                for (var i = 0; i < nbb_cells.length; ++i) {\n",
       "                    if (nbb_cells[i].input_prompt_number == nbb_cell_id) {\n",
       "                        if (nbb_cells[i].get_text() == nbb_unformatted_code) {\n",
       "                             nbb_cells[i].set_text(nbb_formatted_code);\n",
       "                        }\n",
       "                        break;\n",
       "                    }\n",
       "                }\n",
       "            }, 500);\n",
       "            "
      ],
      "text/plain": [
       "<IPython.core.display.Javascript object>"
      ]
     },
     "metadata": {},
     "output_type": "display_data"
    }
   ],
   "source": [
    "px_df[\"genres\"] = px_df[\"genres\"].fillna(\"not listed\")"
   ]
  },
  {
   "cell_type": "code",
   "execution_count": 38,
   "metadata": {},
   "outputs": [
    {
     "data": {
      "application/javascript": [
       "\n",
       "            setTimeout(function() {\n",
       "                var nbb_cell_id = 38;\n",
       "                var nbb_unformatted_code = \"micro_genre_count, word_count = get_keyword_counts(px_df)\";\n",
       "                var nbb_formatted_code = \"micro_genre_count, word_count = get_keyword_counts(px_df)\";\n",
       "                var nbb_cells = Jupyter.notebook.get_cells();\n",
       "                for (var i = 0; i < nbb_cells.length; ++i) {\n",
       "                    if (nbb_cells[i].input_prompt_number == nbb_cell_id) {\n",
       "                        if (nbb_cells[i].get_text() == nbb_unformatted_code) {\n",
       "                             nbb_cells[i].set_text(nbb_formatted_code);\n",
       "                        }\n",
       "                        break;\n",
       "                    }\n",
       "                }\n",
       "            }, 500);\n",
       "            "
      ],
      "text/plain": [
       "<IPython.core.display.Javascript object>"
      ]
     },
     "metadata": {},
     "output_type": "display_data"
    }
   ],
   "source": [
    "micro_genre_count, word_count = get_keyword_counts(px_df)"
   ]
  },
  {
   "cell_type": "code",
   "execution_count": 39,
   "metadata": {},
   "outputs": [
    {
     "data": {
      "application/javascript": [
       "\n",
       "            setTimeout(function() {\n",
       "                var nbb_cell_id = 39;\n",
       "                var nbb_unformatted_code = \"m_genre_series = pd.Series(micro_genre_count)\\nword_count_series = pd.Series(word_count)\";\n",
       "                var nbb_formatted_code = \"m_genre_series = pd.Series(micro_genre_count)\\nword_count_series = pd.Series(word_count)\";\n",
       "                var nbb_cells = Jupyter.notebook.get_cells();\n",
       "                for (var i = 0; i < nbb_cells.length; ++i) {\n",
       "                    if (nbb_cells[i].input_prompt_number == nbb_cell_id) {\n",
       "                        if (nbb_cells[i].get_text() == nbb_unformatted_code) {\n",
       "                             nbb_cells[i].set_text(nbb_formatted_code);\n",
       "                        }\n",
       "                        break;\n",
       "                    }\n",
       "                }\n",
       "            }, 500);\n",
       "            "
      ],
      "text/plain": [
       "<IPython.core.display.Javascript object>"
      ]
     },
     "metadata": {},
     "output_type": "display_data"
    }
   ],
   "source": [
    "m_genre_series = pd.Series(micro_genre_count)\n",
    "word_count_series = pd.Series(word_count)"
   ]
  },
  {
   "cell_type": "code",
   "execution_count": 40,
   "metadata": {},
   "outputs": [
    {
     "data": {
      "application/javascript": [
       "\n",
       "            setTimeout(function() {\n",
       "                var nbb_cell_id = 40;\n",
       "                var nbb_unformatted_code = \"whole_df_m_genre_rep = m_genre_series / px_df.shape[0]\\nwhole_df_w_count_rep = word_count_series / px_df.shape[0]\";\n",
       "                var nbb_formatted_code = \"whole_df_m_genre_rep = m_genre_series / px_df.shape[0]\\nwhole_df_w_count_rep = word_count_series / px_df.shape[0]\";\n",
       "                var nbb_cells = Jupyter.notebook.get_cells();\n",
       "                for (var i = 0; i < nbb_cells.length; ++i) {\n",
       "                    if (nbb_cells[i].input_prompt_number == nbb_cell_id) {\n",
       "                        if (nbb_cells[i].get_text() == nbb_unformatted_code) {\n",
       "                             nbb_cells[i].set_text(nbb_formatted_code);\n",
       "                        }\n",
       "                        break;\n",
       "                    }\n",
       "                }\n",
       "            }, 500);\n",
       "            "
      ],
      "text/plain": [
       "<IPython.core.display.Javascript object>"
      ]
     },
     "metadata": {},
     "output_type": "display_data"
    }
   ],
   "source": [
    "whole_df_m_genre_rep = m_genre_series / px_df.shape[0]\n",
    "whole_df_w_count_rep = word_count_series / px_df.shape[0]"
   ]
  },
  {
   "cell_type": "code",
   "execution_count": 41,
   "metadata": {},
   "outputs": [
    {
     "data": {
      "application/javascript": [
       "\n",
       "            setTimeout(function() {\n",
       "                var nbb_cell_id = 41;\n",
       "                var nbb_unformatted_code = \"clust_genre_dict = {}\\nclust_word_dict = {}\\n# this counts up every time a genre or a word shows up in a single cluster\\nfor cl in px_df[\\\"clst_label\\\"].unique():\\n    cluster_sub_df = px_df[px_df[\\\"clst_label\\\"] == cl]\\n    micro_genre_count, word_count = get_keyword_counts(cluster_sub_df)\\n\\n    m_genre_series = pd.Series(micro_genre_count)\\n    word_series = pd.Series(word_count)\\n\\n    m_genre_rep = m_genre_series / cluster_sub_df.shape[0]\\n    w_count_rep = word_series / cluster_sub_df.shape[0]\\n\\n    clust_genre_dict[\\\"cluster_\\\" + str(cl)] = m_genre_rep\\n    clust_word_dict[\\\"cluster_\\\" + str(cl)] = w_count_rep\";\n",
       "                var nbb_formatted_code = \"clust_genre_dict = {}\\nclust_word_dict = {}\\n# this counts up every time a genre or a word shows up in a single cluster\\nfor cl in px_df[\\\"clst_label\\\"].unique():\\n    cluster_sub_df = px_df[px_df[\\\"clst_label\\\"] == cl]\\n    micro_genre_count, word_count = get_keyword_counts(cluster_sub_df)\\n\\n    m_genre_series = pd.Series(micro_genre_count)\\n    word_series = pd.Series(word_count)\\n\\n    m_genre_rep = m_genre_series / cluster_sub_df.shape[0]\\n    w_count_rep = word_series / cluster_sub_df.shape[0]\\n\\n    clust_genre_dict[\\\"cluster_\\\" + str(cl)] = m_genre_rep\\n    clust_word_dict[\\\"cluster_\\\" + str(cl)] = w_count_rep\";\n",
       "                var nbb_cells = Jupyter.notebook.get_cells();\n",
       "                for (var i = 0; i < nbb_cells.length; ++i) {\n",
       "                    if (nbb_cells[i].input_prompt_number == nbb_cell_id) {\n",
       "                        if (nbb_cells[i].get_text() == nbb_unformatted_code) {\n",
       "                             nbb_cells[i].set_text(nbb_formatted_code);\n",
       "                        }\n",
       "                        break;\n",
       "                    }\n",
       "                }\n",
       "            }, 500);\n",
       "            "
      ],
      "text/plain": [
       "<IPython.core.display.Javascript object>"
      ]
     },
     "metadata": {},
     "output_type": "display_data"
    }
   ],
   "source": [
    "clust_genre_dict = {}\n",
    "clust_word_dict = {}\n",
    "# this counts up every time a genre or a word shows up in a single cluster\n",
    "for cl in px_df[\"clst_label\"].unique():\n",
    "    cluster_sub_df = px_df[px_df[\"clst_label\"] == cl]\n",
    "    micro_genre_count, word_count = get_keyword_counts(cluster_sub_df)\n",
    "\n",
    "    m_genre_series = pd.Series(micro_genre_count)\n",
    "    word_series = pd.Series(word_count)\n",
    "\n",
    "    m_genre_rep = m_genre_series / cluster_sub_df.shape[0]\n",
    "    w_count_rep = word_series / cluster_sub_df.shape[0]\n",
    "\n",
    "    clust_genre_dict[\"cluster_\" + str(cl)] = m_genre_rep\n",
    "    clust_word_dict[\"cluster_\" + str(cl)] = w_count_rep"
   ]
  },
  {
   "cell_type": "code",
   "execution_count": 42,
   "metadata": {},
   "outputs": [
    {
     "data": {
      "application/javascript": [
       "\n",
       "            setTimeout(function() {\n",
       "                var nbb_cell_id = 42;\n",
       "                var nbb_unformatted_code = \"cluster_genre_df = pd.DataFrame(clust_genre_dict)\\ncluster_keyword_df = pd.DataFrame(clust_word_dict)\";\n",
       "                var nbb_formatted_code = \"cluster_genre_df = pd.DataFrame(clust_genre_dict)\\ncluster_keyword_df = pd.DataFrame(clust_word_dict)\";\n",
       "                var nbb_cells = Jupyter.notebook.get_cells();\n",
       "                for (var i = 0; i < nbb_cells.length; ++i) {\n",
       "                    if (nbb_cells[i].input_prompt_number == nbb_cell_id) {\n",
       "                        if (nbb_cells[i].get_text() == nbb_unformatted_code) {\n",
       "                             nbb_cells[i].set_text(nbb_formatted_code);\n",
       "                        }\n",
       "                        break;\n",
       "                    }\n",
       "                }\n",
       "            }, 500);\n",
       "            "
      ],
      "text/plain": [
       "<IPython.core.display.Javascript object>"
      ]
     },
     "metadata": {},
     "output_type": "display_data"
    }
   ],
   "source": [
    "cluster_genre_df = pd.DataFrame(clust_genre_dict)\n",
    "cluster_keyword_df = pd.DataFrame(clust_word_dict)"
   ]
  },
  {
   "cell_type": "code",
   "execution_count": 43,
   "metadata": {},
   "outputs": [
    {
     "name": "stdout",
     "output_type": "stream",
     "text": [
      "Micro Genre Comparison\n"
     ]
    },
    {
     "data": {
      "text/html": [
       "<style  type=\"text/css\" >\n",
       "#T_9efa9f90_246f_11eb_a616_7085c2a9ca7arow0_col0,#T_9efa9f90_246f_11eb_a616_7085c2a9ca7arow1_col0,#T_9efa9f90_246f_11eb_a616_7085c2a9ca7arow2_col0,#T_9efa9f90_246f_11eb_a616_7085c2a9ca7arow3_col0,#T_9efa9f90_246f_11eb_a616_7085c2a9ca7arow4_col0,#T_9efa9f90_246f_11eb_a616_7085c2a9ca7arow5_col0,#T_9efa9f90_246f_11eb_a616_7085c2a9ca7arow6_col0{\n",
       "            background-color:  #023858;\n",
       "            color:  #f1f1f1;\n",
       "        }#T_9efa9f90_246f_11eb_a616_7085c2a9ca7arow0_col1,#T_9efa9f90_246f_11eb_a616_7085c2a9ca7arow1_col1,#T_9efa9f90_246f_11eb_a616_7085c2a9ca7arow2_col1,#T_9efa9f90_246f_11eb_a616_7085c2a9ca7arow3_col1,#T_9efa9f90_246f_11eb_a616_7085c2a9ca7arow4_col1,#T_9efa9f90_246f_11eb_a616_7085c2a9ca7arow5_col1,#T_9efa9f90_246f_11eb_a616_7085c2a9ca7arow6_col1{\n",
       "            background-color:  #fff7fb;\n",
       "            color:  #000000;\n",
       "        }</style><table id=\"T_9efa9f90_246f_11eb_a616_7085c2a9ca7a\" ><thead>    <tr>        <th class=\"blank level0\" ></th>        <th class=\"col_heading level0 col0\" >cluster_6</th>        <th class=\"col_heading level0 col1\" >df</th>    </tr></thead><tbody>\n",
       "                <tr>\n",
       "                        <th id=\"T_9efa9f90_246f_11eb_a616_7085c2a9ca7alevel0_row0\" class=\"row_heading level0 row0\" >pop</th>\n",
       "                        <td id=\"T_9efa9f90_246f_11eb_a616_7085c2a9ca7arow0_col0\" class=\"data row0 col0\" >0.330769</td>\n",
       "                        <td id=\"T_9efa9f90_246f_11eb_a616_7085c2a9ca7arow0_col1\" class=\"data row0 col1\" >0.170846</td>\n",
       "            </tr>\n",
       "            <tr>\n",
       "                        <th id=\"T_9efa9f90_246f_11eb_a616_7085c2a9ca7alevel0_row1\" class=\"row_heading level0 row1\" >rap</th>\n",
       "                        <td id=\"T_9efa9f90_246f_11eb_a616_7085c2a9ca7arow1_col0\" class=\"data row1 col0\" >0.315385</td>\n",
       "                        <td id=\"T_9efa9f90_246f_11eb_a616_7085c2a9ca7arow1_col1\" class=\"data row1 col1\" >0.077983</td>\n",
       "            </tr>\n",
       "            <tr>\n",
       "                        <th id=\"T_9efa9f90_246f_11eb_a616_7085c2a9ca7alevel0_row2\" class=\"row_heading level0 row2\" >dance pop</th>\n",
       "                        <td id=\"T_9efa9f90_246f_11eb_a616_7085c2a9ca7arow2_col0\" class=\"data row2 col0\" >0.276923</td>\n",
       "                        <td id=\"T_9efa9f90_246f_11eb_a616_7085c2a9ca7arow2_col1\" class=\"data row2 col1\" >0.121659</td>\n",
       "            </tr>\n",
       "            <tr>\n",
       "                        <th id=\"T_9efa9f90_246f_11eb_a616_7085c2a9ca7alevel0_row3\" class=\"row_heading level0 row3\" >pop rap</th>\n",
       "                        <td id=\"T_9efa9f90_246f_11eb_a616_7085c2a9ca7arow3_col0\" class=\"data row3 col0\" >0.265385</td>\n",
       "                        <td id=\"T_9efa9f90_246f_11eb_a616_7085c2a9ca7arow3_col1\" class=\"data row3 col1\" >0.073298</td>\n",
       "            </tr>\n",
       "            <tr>\n",
       "                        <th id=\"T_9efa9f90_246f_11eb_a616_7085c2a9ca7alevel0_row4\" class=\"row_heading level0 row4\" >trap</th>\n",
       "                        <td id=\"T_9efa9f90_246f_11eb_a616_7085c2a9ca7arow4_col0\" class=\"data row4 col0\" >0.230769</td>\n",
       "                        <td id=\"T_9efa9f90_246f_11eb_a616_7085c2a9ca7arow4_col1\" class=\"data row4 col1\" >0.041058</td>\n",
       "            </tr>\n",
       "            <tr>\n",
       "                        <th id=\"T_9efa9f90_246f_11eb_a616_7085c2a9ca7alevel0_row5\" class=\"row_heading level0 row5\" >hip hop</th>\n",
       "                        <td id=\"T_9efa9f90_246f_11eb_a616_7085c2a9ca7arow5_col0\" class=\"data row5 col0\" >0.153846</td>\n",
       "                        <td id=\"T_9efa9f90_246f_11eb_a616_7085c2a9ca7arow5_col1\" class=\"data row5 col1\" >0.057316</td>\n",
       "            </tr>\n",
       "            <tr>\n",
       "                        <th id=\"T_9efa9f90_246f_11eb_a616_7085c2a9ca7alevel0_row6\" class=\"row_heading level0 row6\" >melodic rap</th>\n",
       "                        <td id=\"T_9efa9f90_246f_11eb_a616_7085c2a9ca7arow6_col0\" class=\"data row6 col0\" >0.146154</td>\n",
       "                        <td id=\"T_9efa9f90_246f_11eb_a616_7085c2a9ca7arow6_col1\" class=\"data row6 col1\" >0.028934</td>\n",
       "            </tr>\n",
       "    </tbody></table>"
      ],
      "text/plain": [
       "<pandas.io.formats.style.Styler at 0x2955636f7c8>"
      ]
     },
     "metadata": {},
     "output_type": "display_data"
    },
    {
     "name": "stdout",
     "output_type": "stream",
     "text": [
      "Keyword Comparison\n"
     ]
    },
    {
     "data": {
      "text/html": [
       "<style  type=\"text/css\" >\n",
       "#T_9efce8ba_246f_11eb_8214_7085c2a9ca7arow0_col0,#T_9efce8ba_246f_11eb_8214_7085c2a9ca7arow1_col0,#T_9efce8ba_246f_11eb_8214_7085c2a9ca7arow2_col0,#T_9efce8ba_246f_11eb_8214_7085c2a9ca7arow3_col0,#T_9efce8ba_246f_11eb_8214_7085c2a9ca7arow4_col0,#T_9efce8ba_246f_11eb_8214_7085c2a9ca7arow5_col0,#T_9efce8ba_246f_11eb_8214_7085c2a9ca7arow6_col1,#T_9efce8ba_246f_11eb_8214_7085c2a9ca7arow7_col0,#T_9efce8ba_246f_11eb_8214_7085c2a9ca7arow8_col0,#T_9efce8ba_246f_11eb_8214_7085c2a9ca7arow9_col0,#T_9efce8ba_246f_11eb_8214_7085c2a9ca7arow10_col0,#T_9efce8ba_246f_11eb_8214_7085c2a9ca7arow11_col0{\n",
       "            background-color:  #023858;\n",
       "            color:  #f1f1f1;\n",
       "        }#T_9efce8ba_246f_11eb_8214_7085c2a9ca7arow0_col1,#T_9efce8ba_246f_11eb_8214_7085c2a9ca7arow1_col1,#T_9efce8ba_246f_11eb_8214_7085c2a9ca7arow2_col1,#T_9efce8ba_246f_11eb_8214_7085c2a9ca7arow3_col1,#T_9efce8ba_246f_11eb_8214_7085c2a9ca7arow4_col1,#T_9efce8ba_246f_11eb_8214_7085c2a9ca7arow5_col1,#T_9efce8ba_246f_11eb_8214_7085c2a9ca7arow6_col0,#T_9efce8ba_246f_11eb_8214_7085c2a9ca7arow7_col1,#T_9efce8ba_246f_11eb_8214_7085c2a9ca7arow8_col1,#T_9efce8ba_246f_11eb_8214_7085c2a9ca7arow9_col1,#T_9efce8ba_246f_11eb_8214_7085c2a9ca7arow10_col1,#T_9efce8ba_246f_11eb_8214_7085c2a9ca7arow11_col1{\n",
       "            background-color:  #fff7fb;\n",
       "            color:  #000000;\n",
       "        }</style><table id=\"T_9efce8ba_246f_11eb_8214_7085c2a9ca7a\" ><thead>    <tr>        <th class=\"blank level0\" ></th>        <th class=\"col_heading level0 col0\" >cluster_6</th>        <th class=\"col_heading level0 col1\" >df</th>    </tr></thead><tbody>\n",
       "                <tr>\n",
       "                        <th id=\"T_9efce8ba_246f_11eb_8214_7085c2a9ca7alevel0_row0\" class=\"row_heading level0 row0\" >pop</th>\n",
       "                        <td id=\"T_9efce8ba_246f_11eb_8214_7085c2a9ca7arow0_col0\" class=\"data row0 col0\" >1.465385</td>\n",
       "                        <td id=\"T_9efce8ba_246f_11eb_8214_7085c2a9ca7arow0_col1\" class=\"data row0 col1\" >0.949022</td>\n",
       "            </tr>\n",
       "            <tr>\n",
       "                        <th id=\"T_9efce8ba_246f_11eb_8214_7085c2a9ca7alevel0_row1\" class=\"row_heading level0 row1\" >rap</th>\n",
       "                        <td id=\"T_9efce8ba_246f_11eb_8214_7085c2a9ca7arow1_col0\" class=\"data row1 col0\" >1.088462</td>\n",
       "                        <td id=\"T_9efce8ba_246f_11eb_8214_7085c2a9ca7arow1_col1\" class=\"data row1 col1\" >0.310003</td>\n",
       "            </tr>\n",
       "            <tr>\n",
       "                        <th id=\"T_9efce8ba_246f_11eb_8214_7085c2a9ca7alevel0_row2\" class=\"row_heading level0 row2\" >hip</th>\n",
       "                        <td id=\"T_9efce8ba_246f_11eb_8214_7085c2a9ca7arow2_col0\" class=\"data row2 col0\" >0.796154</td>\n",
       "                        <td id=\"T_9efce8ba_246f_11eb_8214_7085c2a9ca7arow2_col1\" class=\"data row2 col1\" >0.274869</td>\n",
       "            </tr>\n",
       "            <tr>\n",
       "                        <th id=\"T_9efce8ba_246f_11eb_8214_7085c2a9ca7alevel0_row3\" class=\"row_heading level0 row3\" >hop</th>\n",
       "                        <td id=\"T_9efce8ba_246f_11eb_8214_7085c2a9ca7arow3_col0\" class=\"data row3 col0\" >0.761538</td>\n",
       "                        <td id=\"T_9efce8ba_246f_11eb_8214_7085c2a9ca7arow3_col1\" class=\"data row3 col1\" >0.249931</td>\n",
       "            </tr>\n",
       "            <tr>\n",
       "                        <th id=\"T_9efce8ba_246f_11eb_8214_7085c2a9ca7alevel0_row4\" class=\"row_heading level0 row4\" >trap</th>\n",
       "                        <td id=\"T_9efce8ba_246f_11eb_8214_7085c2a9ca7arow4_col0\" class=\"data row4 col0\" >0.469231</td>\n",
       "                        <td id=\"T_9efce8ba_246f_11eb_8214_7085c2a9ca7arow4_col1\" class=\"data row4 col1\" >0.084459</td>\n",
       "            </tr>\n",
       "            <tr>\n",
       "                        <th id=\"T_9efce8ba_246f_11eb_8214_7085c2a9ca7alevel0_row5\" class=\"row_heading level0 row5\" >r&b</th>\n",
       "                        <td id=\"T_9efce8ba_246f_11eb_8214_7085c2a9ca7arow5_col0\" class=\"data row5 col0\" >0.396154</td>\n",
       "                        <td id=\"T_9efce8ba_246f_11eb_8214_7085c2a9ca7arow5_col1\" class=\"data row5 col1\" >0.139157</td>\n",
       "            </tr>\n",
       "            <tr>\n",
       "                        <th id=\"T_9efce8ba_246f_11eb_8214_7085c2a9ca7alevel0_row6\" class=\"row_heading level0 row6\" >rock</th>\n",
       "                        <td id=\"T_9efce8ba_246f_11eb_8214_7085c2a9ca7arow6_col0\" class=\"data row6 col0\" >0.376923</td>\n",
       "                        <td id=\"T_9efce8ba_246f_11eb_8214_7085c2a9ca7arow6_col1\" class=\"data row6 col1\" >0.744282</td>\n",
       "            </tr>\n",
       "            <tr>\n",
       "                        <th id=\"T_9efce8ba_246f_11eb_8214_7085c2a9ca7alevel0_row7\" class=\"row_heading level0 row7\" >dance</th>\n",
       "                        <td id=\"T_9efce8ba_246f_11eb_8214_7085c2a9ca7arow7_col0\" class=\"data row7 col0\" >0.280769</td>\n",
       "                        <td id=\"T_9efce8ba_246f_11eb_8214_7085c2a9ca7arow7_col1\" class=\"data row7 col1\" >0.181455</td>\n",
       "            </tr>\n",
       "            <tr>\n",
       "                        <th id=\"T_9efce8ba_246f_11eb_8214_7085c2a9ca7alevel0_row8\" class=\"row_heading level0 row8\" >soul</th>\n",
       "                        <td id=\"T_9efce8ba_246f_11eb_8214_7085c2a9ca7arow8_col0\" class=\"data row8 col0\" >0.238462</td>\n",
       "                        <td id=\"T_9efce8ba_246f_11eb_8214_7085c2a9ca7arow8_col1\" class=\"data row8 col1\" >0.185864</td>\n",
       "            </tr>\n",
       "            <tr>\n",
       "                        <th id=\"T_9efce8ba_246f_11eb_8214_7085c2a9ca7alevel0_row9\" class=\"row_heading level0 row9\" >atl</th>\n",
       "                        <td id=\"T_9efce8ba_246f_11eb_8214_7085c2a9ca7arow9_col0\" class=\"data row9 col0\" >0.157692</td>\n",
       "                        <td id=\"T_9efce8ba_246f_11eb_8214_7085c2a9ca7arow9_col1\" class=\"data row9 col1\" >0.024525</td>\n",
       "            </tr>\n",
       "            <tr>\n",
       "                        <th id=\"T_9efce8ba_246f_11eb_8214_7085c2a9ca7alevel0_row10\" class=\"row_heading level0 row10\" >contemporary</th>\n",
       "                        <td id=\"T_9efce8ba_246f_11eb_8214_7085c2a9ca7arow10_col0\" class=\"data row10 col0\" >0.153846</td>\n",
       "                        <td id=\"T_9efce8ba_246f_11eb_8214_7085c2a9ca7arow10_col1\" class=\"data row10 col1\" >0.119868</td>\n",
       "            </tr>\n",
       "            <tr>\n",
       "                        <th id=\"T_9efce8ba_246f_11eb_8214_7085c2a9ca7alevel0_row11\" class=\"row_heading level0 row11\" >canadian</th>\n",
       "                        <td id=\"T_9efce8ba_246f_11eb_8214_7085c2a9ca7arow11_col0\" class=\"data row11 col0\" >0.153846</td>\n",
       "                        <td id=\"T_9efce8ba_246f_11eb_8214_7085c2a9ca7arow11_col1\" class=\"data row11 col1\" >0.068063</td>\n",
       "            </tr>\n",
       "    </tbody></table>"
      ],
      "text/plain": [
       "<pandas.io.formats.style.Styler at 0x29557c11e88>"
      ]
     },
     "metadata": {},
     "output_type": "display_data"
    },
    {
     "name": "stdout",
     "output_type": "stream",
     "text": [
      "Micro Genre Comparison\n"
     ]
    },
    {
     "data": {
      "text/html": [
       "<style  type=\"text/css\" >\n",
       "#T_9efee264_246f_11eb_afdc_7085c2a9ca7arow0_col0,#T_9efee264_246f_11eb_afdc_7085c2a9ca7arow1_col0,#T_9efee264_246f_11eb_afdc_7085c2a9ca7arow2_col0,#T_9efee264_246f_11eb_afdc_7085c2a9ca7arow3_col0,#T_9efee264_246f_11eb_afdc_7085c2a9ca7arow4_col0,#T_9efee264_246f_11eb_afdc_7085c2a9ca7arow5_col0,#T_9efee264_246f_11eb_afdc_7085c2a9ca7arow6_col0{\n",
       "            background-color:  #023858;\n",
       "            color:  #f1f1f1;\n",
       "        }#T_9efee264_246f_11eb_afdc_7085c2a9ca7arow0_col1,#T_9efee264_246f_11eb_afdc_7085c2a9ca7arow1_col1,#T_9efee264_246f_11eb_afdc_7085c2a9ca7arow2_col1,#T_9efee264_246f_11eb_afdc_7085c2a9ca7arow3_col1,#T_9efee264_246f_11eb_afdc_7085c2a9ca7arow4_col1,#T_9efee264_246f_11eb_afdc_7085c2a9ca7arow5_col1,#T_9efee264_246f_11eb_afdc_7085c2a9ca7arow6_col1{\n",
       "            background-color:  #fff7fb;\n",
       "            color:  #000000;\n",
       "        }</style><table id=\"T_9efee264_246f_11eb_afdc_7085c2a9ca7a\" ><thead>    <tr>        <th class=\"blank level0\" ></th>        <th class=\"col_heading level0 col0\" >cluster_1</th>        <th class=\"col_heading level0 col1\" >df</th>    </tr></thead><tbody>\n",
       "                <tr>\n",
       "                        <th id=\"T_9efee264_246f_11eb_afdc_7085c2a9ca7alevel0_row0\" class=\"row_heading level0 row0\" >pop</th>\n",
       "                        <td id=\"T_9efee264_246f_11eb_afdc_7085c2a9ca7arow0_col0\" class=\"data row0 col0\" >0.278127</td>\n",
       "                        <td id=\"T_9efee264_246f_11eb_afdc_7085c2a9ca7arow0_col1\" class=\"data row0 col1\" >0.170846</td>\n",
       "            </tr>\n",
       "            <tr>\n",
       "                        <th id=\"T_9efee264_246f_11eb_afdc_7085c2a9ca7alevel0_row1\" class=\"row_heading level0 row1\" >dance pop</th>\n",
       "                        <td id=\"T_9efee264_246f_11eb_afdc_7085c2a9ca7arow1_col0\" class=\"data row1 col0\" >0.201599</td>\n",
       "                        <td id=\"T_9efee264_246f_11eb_afdc_7085c2a9ca7arow1_col1\" class=\"data row1 col1\" >0.121659</td>\n",
       "            </tr>\n",
       "            <tr>\n",
       "                        <th id=\"T_9efee264_246f_11eb_afdc_7085c2a9ca7alevel0_row2\" class=\"row_heading level0 row2\" >pop rap</th>\n",
       "                        <td id=\"T_9efee264_246f_11eb_afdc_7085c2a9ca7arow2_col0\" class=\"data row2 col0\" >0.113078</td>\n",
       "                        <td id=\"T_9efee264_246f_11eb_afdc_7085c2a9ca7arow2_col1\" class=\"data row2 col1\" >0.073298</td>\n",
       "            </tr>\n",
       "            <tr>\n",
       "                        <th id=\"T_9efee264_246f_11eb_afdc_7085c2a9ca7alevel0_row3\" class=\"row_heading level0 row3\" >post-teen pop</th>\n",
       "                        <td id=\"T_9efee264_246f_11eb_afdc_7085c2a9ca7arow3_col0\" class=\"data row3 col0\" >0.113078</td>\n",
       "                        <td id=\"T_9efee264_246f_11eb_afdc_7085c2a9ca7arow3_col1\" class=\"data row3 col1\" >0.060485</td>\n",
       "            </tr>\n",
       "            <tr>\n",
       "                        <th id=\"T_9efee264_246f_11eb_afdc_7085c2a9ca7alevel0_row4\" class=\"row_heading level0 row4\" >rap</th>\n",
       "                        <td id=\"T_9efee264_246f_11eb_afdc_7085c2a9ca7arow4_col0\" class=\"data row4 col0\" >0.111936</td>\n",
       "                        <td id=\"T_9efee264_246f_11eb_afdc_7085c2a9ca7arow4_col1\" class=\"data row4 col1\" >0.077983</td>\n",
       "            </tr>\n",
       "            <tr>\n",
       "                        <th id=\"T_9efee264_246f_11eb_afdc_7085c2a9ca7alevel0_row5\" class=\"row_heading level0 row5\" >urban contemporary</th>\n",
       "                        <td id=\"T_9efee264_246f_11eb_afdc_7085c2a9ca7arow5_col0\" class=\"data row5 col0\" >0.095374</td>\n",
       "                        <td id=\"T_9efee264_246f_11eb_afdc_7085c2a9ca7arow5_col1\" class=\"data row5 col1\" >0.054974</td>\n",
       "            </tr>\n",
       "            <tr>\n",
       "                        <th id=\"T_9efee264_246f_11eb_afdc_7085c2a9ca7alevel0_row6\" class=\"row_heading level0 row6\" >r&b</th>\n",
       "                        <td id=\"T_9efee264_246f_11eb_afdc_7085c2a9ca7arow6_col0\" class=\"data row6 col0\" >0.094803</td>\n",
       "                        <td id=\"T_9efee264_246f_11eb_afdc_7085c2a9ca7arow6_col1\" class=\"data row6 col1\" >0.052080</td>\n",
       "            </tr>\n",
       "    </tbody></table>"
      ],
      "text/plain": [
       "<pandas.io.formats.style.Styler at 0x29557c35c08>"
      ]
     },
     "metadata": {},
     "output_type": "display_data"
    },
    {
     "name": "stdout",
     "output_type": "stream",
     "text": [
      "Keyword Comparison\n"
     ]
    },
    {
     "data": {
      "text/html": [
       "<style  type=\"text/css\" >\n",
       "#T_9f012ac2_246f_11eb_8c7f_7085c2a9ca7arow0_col0,#T_9f012ac2_246f_11eb_8c7f_7085c2a9ca7arow1_col1,#T_9f012ac2_246f_11eb_8c7f_7085c2a9ca7arow2_col0,#T_9f012ac2_246f_11eb_8c7f_7085c2a9ca7arow3_col0,#T_9f012ac2_246f_11eb_8c7f_7085c2a9ca7arow4_col0,#T_9f012ac2_246f_11eb_8c7f_7085c2a9ca7arow5_col0,#T_9f012ac2_246f_11eb_8c7f_7085c2a9ca7arow6_col0,#T_9f012ac2_246f_11eb_8c7f_7085c2a9ca7arow7_col0,#T_9f012ac2_246f_11eb_8c7f_7085c2a9ca7arow8_col0,#T_9f012ac2_246f_11eb_8c7f_7085c2a9ca7arow9_col1,#T_9f012ac2_246f_11eb_8c7f_7085c2a9ca7arow10_col0,#T_9f012ac2_246f_11eb_8c7f_7085c2a9ca7arow11_col1{\n",
       "            background-color:  #023858;\n",
       "            color:  #f1f1f1;\n",
       "        }#T_9f012ac2_246f_11eb_8c7f_7085c2a9ca7arow0_col1,#T_9f012ac2_246f_11eb_8c7f_7085c2a9ca7arow1_col0,#T_9f012ac2_246f_11eb_8c7f_7085c2a9ca7arow2_col1,#T_9f012ac2_246f_11eb_8c7f_7085c2a9ca7arow3_col1,#T_9f012ac2_246f_11eb_8c7f_7085c2a9ca7arow4_col1,#T_9f012ac2_246f_11eb_8c7f_7085c2a9ca7arow5_col1,#T_9f012ac2_246f_11eb_8c7f_7085c2a9ca7arow6_col1,#T_9f012ac2_246f_11eb_8c7f_7085c2a9ca7arow7_col1,#T_9f012ac2_246f_11eb_8c7f_7085c2a9ca7arow8_col1,#T_9f012ac2_246f_11eb_8c7f_7085c2a9ca7arow9_col0,#T_9f012ac2_246f_11eb_8c7f_7085c2a9ca7arow10_col1,#T_9f012ac2_246f_11eb_8c7f_7085c2a9ca7arow11_col0{\n",
       "            background-color:  #fff7fb;\n",
       "            color:  #000000;\n",
       "        }</style><table id=\"T_9f012ac2_246f_11eb_8c7f_7085c2a9ca7a\" ><thead>    <tr>        <th class=\"blank level0\" ></th>        <th class=\"col_heading level0 col0\" >cluster_1</th>        <th class=\"col_heading level0 col1\" >df</th>    </tr></thead><tbody>\n",
       "                <tr>\n",
       "                        <th id=\"T_9f012ac2_246f_11eb_8c7f_7085c2a9ca7alevel0_row0\" class=\"row_heading level0 row0\" >pop</th>\n",
       "                        <td id=\"T_9f012ac2_246f_11eb_8c7f_7085c2a9ca7arow0_col0\" class=\"data row0 col0\" >1.305540</td>\n",
       "                        <td id=\"T_9f012ac2_246f_11eb_8c7f_7085c2a9ca7arow0_col1\" class=\"data row0 col1\" >0.949022</td>\n",
       "            </tr>\n",
       "            <tr>\n",
       "                        <th id=\"T_9f012ac2_246f_11eb_8c7f_7085c2a9ca7alevel0_row1\" class=\"row_heading level0 row1\" >rock</th>\n",
       "                        <td id=\"T_9f012ac2_246f_11eb_8c7f_7085c2a9ca7arow1_col0\" class=\"data row1 col0\" >0.518561</td>\n",
       "                        <td id=\"T_9f012ac2_246f_11eb_8c7f_7085c2a9ca7arow1_col1\" class=\"data row1 col1\" >0.744282</td>\n",
       "            </tr>\n",
       "            <tr>\n",
       "                        <th id=\"T_9f012ac2_246f_11eb_8c7f_7085c2a9ca7alevel0_row2\" class=\"row_heading level0 row2\" >rap</th>\n",
       "                        <td id=\"T_9f012ac2_246f_11eb_8c7f_7085c2a9ca7arow2_col0\" class=\"data row2 col0\" >0.447744</td>\n",
       "                        <td id=\"T_9f012ac2_246f_11eb_8c7f_7085c2a9ca7arow2_col1\" class=\"data row2 col1\" >0.310003</td>\n",
       "            </tr>\n",
       "            <tr>\n",
       "                        <th id=\"T_9f012ac2_246f_11eb_8c7f_7085c2a9ca7alevel0_row3\" class=\"row_heading level0 row3\" >hip</th>\n",
       "                        <td id=\"T_9f012ac2_246f_11eb_8c7f_7085c2a9ca7arow3_col0\" class=\"data row3 col0\" >0.414620</td>\n",
       "                        <td id=\"T_9f012ac2_246f_11eb_8c7f_7085c2a9ca7arow3_col1\" class=\"data row3 col1\" >0.274869</td>\n",
       "            </tr>\n",
       "            <tr>\n",
       "                        <th id=\"T_9f012ac2_246f_11eb_8c7f_7085c2a9ca7alevel0_row4\" class=\"row_heading level0 row4\" >hop</th>\n",
       "                        <td id=\"T_9f012ac2_246f_11eb_8c7f_7085c2a9ca7arow4_col0\" class=\"data row4 col0\" >0.370074</td>\n",
       "                        <td id=\"T_9f012ac2_246f_11eb_8c7f_7085c2a9ca7arow4_col1\" class=\"data row4 col1\" >0.249931</td>\n",
       "            </tr>\n",
       "            <tr>\n",
       "                        <th id=\"T_9f012ac2_246f_11eb_8c7f_7085c2a9ca7alevel0_row5\" class=\"row_heading level0 row5\" >r&b</th>\n",
       "                        <td id=\"T_9f012ac2_246f_11eb_8c7f_7085c2a9ca7arow5_col0\" class=\"data row5 col0\" >0.250714</td>\n",
       "                        <td id=\"T_9f012ac2_246f_11eb_8c7f_7085c2a9ca7arow5_col1\" class=\"data row5 col1\" >0.139157</td>\n",
       "            </tr>\n",
       "            <tr>\n",
       "                        <th id=\"T_9f012ac2_246f_11eb_8c7f_7085c2a9ca7alevel0_row6\" class=\"row_heading level0 row6\" >dance</th>\n",
       "                        <td id=\"T_9f012ac2_246f_11eb_8c7f_7085c2a9ca7arow6_col0\" class=\"data row6 col0\" >0.249001</td>\n",
       "                        <td id=\"T_9f012ac2_246f_11eb_8c7f_7085c2a9ca7arow6_col1\" class=\"data row6 col1\" >0.181455</td>\n",
       "            </tr>\n",
       "            <tr>\n",
       "                        <th id=\"T_9f012ac2_246f_11eb_8c7f_7085c2a9ca7alevel0_row7\" class=\"row_heading level0 row7\" >soul</th>\n",
       "                        <td id=\"T_9f012ac2_246f_11eb_8c7f_7085c2a9ca7arow7_col0\" class=\"data row7 col0\" >0.219874</td>\n",
       "                        <td id=\"T_9f012ac2_246f_11eb_8c7f_7085c2a9ca7arow7_col1\" class=\"data row7 col1\" >0.185864</td>\n",
       "            </tr>\n",
       "            <tr>\n",
       "                        <th id=\"T_9f012ac2_246f_11eb_8c7f_7085c2a9ca7alevel0_row8\" class=\"row_heading level0 row8\" >country</th>\n",
       "                        <td id=\"T_9f012ac2_246f_11eb_8c7f_7085c2a9ca7arow8_col0\" class=\"data row8 col0\" >0.214163</td>\n",
       "                        <td id=\"T_9f012ac2_246f_11eb_8c7f_7085c2a9ca7arow8_col1\" class=\"data row8 col1\" >0.188068</td>\n",
       "            </tr>\n",
       "            <tr>\n",
       "                        <th id=\"T_9f012ac2_246f_11eb_8c7f_7085c2a9ca7alevel0_row9\" class=\"row_heading level0 row9\" >indie</th>\n",
       "                        <td id=\"T_9f012ac2_246f_11eb_8c7f_7085c2a9ca7arow9_col0\" class=\"data row9 col0\" >0.207310</td>\n",
       "                        <td id=\"T_9f012ac2_246f_11eb_8c7f_7085c2a9ca7arow9_col1\" class=\"data row9 col1\" >0.285478</td>\n",
       "            </tr>\n",
       "            <tr>\n",
       "                        <th id=\"T_9f012ac2_246f_11eb_8c7f_7085c2a9ca7alevel0_row10\" class=\"row_heading level0 row10\" >contemporary</th>\n",
       "                        <td id=\"T_9f012ac2_246f_11eb_8c7f_7085c2a9ca7arow10_col0\" class=\"data row10 col0\" >0.183324</td>\n",
       "                        <td id=\"T_9f012ac2_246f_11eb_8c7f_7085c2a9ca7arow10_col1\" class=\"data row10 col1\" >0.119868</td>\n",
       "            </tr>\n",
       "            <tr>\n",
       "                        <th id=\"T_9f012ac2_246f_11eb_8c7f_7085c2a9ca7alevel0_row11\" class=\"row_heading level0 row11\" >alternative</th>\n",
       "                        <td id=\"T_9f012ac2_246f_11eb_8c7f_7085c2a9ca7arow11_col0\" class=\"data row11 col0\" >0.163906</td>\n",
       "                        <td id=\"T_9f012ac2_246f_11eb_8c7f_7085c2a9ca7arow11_col1\" class=\"data row11 col1\" >0.184211</td>\n",
       "            </tr>\n",
       "    </tbody></table>"
      ],
      "text/plain": [
       "<pandas.io.formats.style.Styler at 0x29556252108>"
      ]
     },
     "metadata": {},
     "output_type": "display_data"
    },
    {
     "name": "stdout",
     "output_type": "stream",
     "text": [
      "Micro Genre Comparison\n"
     ]
    },
    {
     "data": {
      "text/html": [
       "<style  type=\"text/css\" >\n",
       "#T_9f032540_246f_11eb_aa87_7085c2a9ca7arow0_col0,#T_9f032540_246f_11eb_aa87_7085c2a9ca7arow1_col1,#T_9f032540_246f_11eb_aa87_7085c2a9ca7arow2_col0,#T_9f032540_246f_11eb_aa87_7085c2a9ca7arow3_col0,#T_9f032540_246f_11eb_aa87_7085c2a9ca7arow4_col0,#T_9f032540_246f_11eb_aa87_7085c2a9ca7arow5_col0,#T_9f032540_246f_11eb_aa87_7085c2a9ca7arow6_col0{\n",
       "            background-color:  #023858;\n",
       "            color:  #f1f1f1;\n",
       "        }#T_9f032540_246f_11eb_aa87_7085c2a9ca7arow0_col1,#T_9f032540_246f_11eb_aa87_7085c2a9ca7arow1_col0,#T_9f032540_246f_11eb_aa87_7085c2a9ca7arow2_col1,#T_9f032540_246f_11eb_aa87_7085c2a9ca7arow3_col1,#T_9f032540_246f_11eb_aa87_7085c2a9ca7arow4_col1,#T_9f032540_246f_11eb_aa87_7085c2a9ca7arow5_col1,#T_9f032540_246f_11eb_aa87_7085c2a9ca7arow6_col1{\n",
       "            background-color:  #fff7fb;\n",
       "            color:  #000000;\n",
       "        }</style><table id=\"T_9f032540_246f_11eb_aa87_7085c2a9ca7a\" ><thead>    <tr>        <th class=\"blank level0\" ></th>        <th class=\"col_heading level0 col0\" >cluster_8</th>        <th class=\"col_heading level0 col1\" >df</th>    </tr></thead><tbody>\n",
       "                <tr>\n",
       "                        <th id=\"T_9f032540_246f_11eb_aa87_7085c2a9ca7alevel0_row0\" class=\"row_heading level0 row0\" >rock</th>\n",
       "                        <td id=\"T_9f032540_246f_11eb_aa87_7085c2a9ca7arow0_col0\" class=\"data row0 col0\" >0.135076</td>\n",
       "                        <td id=\"T_9f032540_246f_11eb_aa87_7085c2a9ca7arow0_col1\" class=\"data row0 col1\" >0.102508</td>\n",
       "            </tr>\n",
       "            <tr>\n",
       "                        <th id=\"T_9f032540_246f_11eb_aa87_7085c2a9ca7alevel0_row1\" class=\"row_heading level0 row1\" >pop</th>\n",
       "                        <td id=\"T_9f032540_246f_11eb_aa87_7085c2a9ca7arow1_col0\" class=\"data row1 col0\" >0.088911</td>\n",
       "                        <td id=\"T_9f032540_246f_11eb_aa87_7085c2a9ca7arow1_col1\" class=\"data row1 col1\" >0.170846</td>\n",
       "            </tr>\n",
       "            <tr>\n",
       "                        <th id=\"T_9f032540_246f_11eb_aa87_7085c2a9ca7alevel0_row2\" class=\"row_heading level0 row2\" >indie folk</th>\n",
       "                        <td id=\"T_9f032540_246f_11eb_aa87_7085c2a9ca7arow2_col0\" class=\"data row2 col0\" >0.082071</td>\n",
       "                        <td id=\"T_9f032540_246f_11eb_aa87_7085c2a9ca7arow2_col1\" class=\"data row2 col1\" >0.051392</td>\n",
       "            </tr>\n",
       "            <tr>\n",
       "                        <th id=\"T_9f032540_246f_11eb_aa87_7085c2a9ca7alevel0_row3\" class=\"row_heading level0 row3\" >modern rock</th>\n",
       "                        <td id=\"T_9f032540_246f_11eb_aa87_7085c2a9ca7arow3_col0\" class=\"data row3 col0\" >0.071324</td>\n",
       "                        <td id=\"T_9f032540_246f_11eb_aa87_7085c2a9ca7arow3_col1\" class=\"data row3 col1\" >0.058005</td>\n",
       "            </tr>\n",
       "            <tr>\n",
       "                        <th id=\"T_9f032540_246f_11eb_aa87_7085c2a9ca7alevel0_row4\" class=\"row_heading level0 row4\" >alternative rock</th>\n",
       "                        <td id=\"T_9f032540_246f_11eb_aa87_7085c2a9ca7arow4_col0\" class=\"data row4 col0\" >0.070347</td>\n",
       "                        <td id=\"T_9f032540_246f_11eb_aa87_7085c2a9ca7arow4_col1\" class=\"data row4 col1\" >0.050703</td>\n",
       "            </tr>\n",
       "            <tr>\n",
       "                        <th id=\"T_9f032540_246f_11eb_aa87_7085c2a9ca7alevel0_row5\" class=\"row_heading level0 row5\" >pop rock</th>\n",
       "                        <td id=\"T_9f032540_246f_11eb_aa87_7085c2a9ca7arow5_col0\" class=\"data row5 col0\" >0.069614</td>\n",
       "                        <td id=\"T_9f032540_246f_11eb_aa87_7085c2a9ca7arow5_col1\" class=\"data row5 col1\" >0.065445</td>\n",
       "            </tr>\n",
       "            <tr>\n",
       "                        <th id=\"T_9f032540_246f_11eb_aa87_7085c2a9ca7alevel0_row6\" class=\"row_heading level0 row6\" >indie pop</th>\n",
       "                        <td id=\"T_9f032540_246f_11eb_aa87_7085c2a9ca7arow6_col0\" class=\"data row6 col0\" >0.057157</td>\n",
       "                        <td id=\"T_9f032540_246f_11eb_aa87_7085c2a9ca7arow6_col1\" class=\"data row6 col1\" >0.040094</td>\n",
       "            </tr>\n",
       "    </tbody></table>"
      ],
      "text/plain": [
       "<pandas.io.formats.style.Styler at 0x29556264388>"
      ]
     },
     "metadata": {},
     "output_type": "display_data"
    },
    {
     "name": "stdout",
     "output_type": "stream",
     "text": [
      "Keyword Comparison\n"
     ]
    },
    {
     "data": {
      "text/html": [
       "<style  type=\"text/css\" >\n",
       "#T_9f0546a8_246f_11eb_9745_7085c2a9ca7arow0_col0,#T_9f0546a8_246f_11eb_9745_7085c2a9ca7arow1_col1,#T_9f0546a8_246f_11eb_9745_7085c2a9ca7arow2_col0,#T_9f0546a8_246f_11eb_9745_7085c2a9ca7arow3_col0,#T_9f0546a8_246f_11eb_9745_7085c2a9ca7arow4_col0,#T_9f0546a8_246f_11eb_9745_7085c2a9ca7arow5_col0,#T_9f0546a8_246f_11eb_9745_7085c2a9ca7arow6_col0,#T_9f0546a8_246f_11eb_9745_7085c2a9ca7arow7_col0,#T_9f0546a8_246f_11eb_9745_7085c2a9ca7arow8_col0,#T_9f0546a8_246f_11eb_9745_7085c2a9ca7arow9_col1,#T_9f0546a8_246f_11eb_9745_7085c2a9ca7arow10_col0,#T_9f0546a8_246f_11eb_9745_7085c2a9ca7arow11_col0{\n",
       "            background-color:  #023858;\n",
       "            color:  #f1f1f1;\n",
       "        }#T_9f0546a8_246f_11eb_9745_7085c2a9ca7arow0_col1,#T_9f0546a8_246f_11eb_9745_7085c2a9ca7arow1_col0,#T_9f0546a8_246f_11eb_9745_7085c2a9ca7arow2_col1,#T_9f0546a8_246f_11eb_9745_7085c2a9ca7arow3_col1,#T_9f0546a8_246f_11eb_9745_7085c2a9ca7arow4_col1,#T_9f0546a8_246f_11eb_9745_7085c2a9ca7arow5_col1,#T_9f0546a8_246f_11eb_9745_7085c2a9ca7arow6_col1,#T_9f0546a8_246f_11eb_9745_7085c2a9ca7arow7_col1,#T_9f0546a8_246f_11eb_9745_7085c2a9ca7arow8_col1,#T_9f0546a8_246f_11eb_9745_7085c2a9ca7arow9_col0,#T_9f0546a8_246f_11eb_9745_7085c2a9ca7arow10_col1,#T_9f0546a8_246f_11eb_9745_7085c2a9ca7arow11_col1{\n",
       "            background-color:  #fff7fb;\n",
       "            color:  #000000;\n",
       "        }</style><table id=\"T_9f0546a8_246f_11eb_9745_7085c2a9ca7a\" ><thead>    <tr>        <th class=\"blank level0\" ></th>        <th class=\"col_heading level0 col0\" >cluster_8</th>        <th class=\"col_heading level0 col1\" >df</th>    </tr></thead><tbody>\n",
       "                <tr>\n",
       "                        <th id=\"T_9f0546a8_246f_11eb_9745_7085c2a9ca7alevel0_row0\" class=\"row_heading level0 row0\" >rock</th>\n",
       "                        <td id=\"T_9f0546a8_246f_11eb_9745_7085c2a9ca7arow0_col0\" class=\"data row0 col0\" >0.957499</td>\n",
       "                        <td id=\"T_9f0546a8_246f_11eb_9745_7085c2a9ca7arow0_col1\" class=\"data row0 col1\" >0.744282</td>\n",
       "            </tr>\n",
       "            <tr>\n",
       "                        <th id=\"T_9f0546a8_246f_11eb_9745_7085c2a9ca7alevel0_row1\" class=\"row_heading level0 row1\" >pop</th>\n",
       "                        <td id=\"T_9f0546a8_246f_11eb_9745_7085c2a9ca7arow1_col0\" class=\"data row1 col0\" >0.697606</td>\n",
       "                        <td id=\"T_9f0546a8_246f_11eb_9745_7085c2a9ca7arow1_col1\" class=\"data row1 col1\" >0.949022</td>\n",
       "            </tr>\n",
       "            <tr>\n",
       "                        <th id=\"T_9f0546a8_246f_11eb_9745_7085c2a9ca7alevel0_row2\" class=\"row_heading level0 row2\" >indie</th>\n",
       "                        <td id=\"T_9f0546a8_246f_11eb_9745_7085c2a9ca7arow2_col0\" class=\"data row2 col0\" >0.367855</td>\n",
       "                        <td id=\"T_9f0546a8_246f_11eb_9745_7085c2a9ca7arow2_col1\" class=\"data row2 col1\" >0.285478</td>\n",
       "            </tr>\n",
       "            <tr>\n",
       "                        <th id=\"T_9f0546a8_246f_11eb_9745_7085c2a9ca7alevel0_row3\" class=\"row_heading level0 row3\" >folk</th>\n",
       "                        <td id=\"T_9f0546a8_246f_11eb_9745_7085c2a9ca7arow3_col0\" class=\"data row3 col0\" >0.224475</td>\n",
       "                        <td id=\"T_9f0546a8_246f_11eb_9745_7085c2a9ca7arow3_col1\" class=\"data row3 col1\" >0.146735</td>\n",
       "            </tr>\n",
       "            <tr>\n",
       "                        <th id=\"T_9f0546a8_246f_11eb_9745_7085c2a9ca7alevel0_row4\" class=\"row_heading level0 row4\" >alternative</th>\n",
       "                        <td id=\"T_9f0546a8_246f_11eb_9745_7085c2a9ca7arow4_col0\" class=\"data row4 col0\" >0.217636</td>\n",
       "                        <td id=\"T_9f0546a8_246f_11eb_9745_7085c2a9ca7arow4_col1\" class=\"data row4 col1\" >0.184211</td>\n",
       "            </tr>\n",
       "            <tr>\n",
       "                        <th id=\"T_9f0546a8_246f_11eb_9745_7085c2a9ca7alevel0_row5\" class=\"row_heading level0 row5\" >country</th>\n",
       "                        <td id=\"T_9f0546a8_246f_11eb_9745_7085c2a9ca7arow5_col0\" class=\"data row5 col0\" >0.216659</td>\n",
       "                        <td id=\"T_9f0546a8_246f_11eb_9745_7085c2a9ca7arow5_col1\" class=\"data row5 col1\" >0.188068</td>\n",
       "            </tr>\n",
       "            <tr>\n",
       "                        <th id=\"T_9f0546a8_246f_11eb_9745_7085c2a9ca7alevel0_row6\" class=\"row_heading level0 row6\" >metal</th>\n",
       "                        <td id=\"T_9f0546a8_246f_11eb_9745_7085c2a9ca7arow6_col0\" class=\"data row6 col0\" >0.214460</td>\n",
       "                        <td id=\"T_9f0546a8_246f_11eb_9745_7085c2a9ca7arow6_col1\" class=\"data row6 col1\" >0.151832</td>\n",
       "            </tr>\n",
       "            <tr>\n",
       "                        <th id=\"T_9f0546a8_246f_11eb_9745_7085c2a9ca7alevel0_row7\" class=\"row_heading level0 row7\" >punk</th>\n",
       "                        <td id=\"T_9f0546a8_246f_11eb_9745_7085c2a9ca7arow7_col0\" class=\"data row7 col0\" >0.164387</td>\n",
       "                        <td id=\"T_9f0546a8_246f_11eb_9745_7085c2a9ca7arow7_col1\" class=\"data row7 col1\" >0.124001</td>\n",
       "            </tr>\n",
       "            <tr>\n",
       "                        <th id=\"T_9f0546a8_246f_11eb_9745_7085c2a9ca7alevel0_row8\" class=\"row_heading level0 row8\" >new</th>\n",
       "                        <td id=\"T_9f0546a8_246f_11eb_9745_7085c2a9ca7arow8_col0\" class=\"data row8 col0\" >0.162433</td>\n",
       "                        <td id=\"T_9f0546a8_246f_11eb_9745_7085c2a9ca7arow8_col1\" class=\"data row8 col1\" >0.137779</td>\n",
       "            </tr>\n",
       "            <tr>\n",
       "                        <th id=\"T_9f0546a8_246f_11eb_9745_7085c2a9ca7alevel0_row9\" class=\"row_heading level0 row9\" >soul</th>\n",
       "                        <td id=\"T_9f0546a8_246f_11eb_9745_7085c2a9ca7arow9_col0\" class=\"data row9 col0\" >0.157792</td>\n",
       "                        <td id=\"T_9f0546a8_246f_11eb_9745_7085c2a9ca7arow9_col1\" class=\"data row9 col1\" >0.185864</td>\n",
       "            </tr>\n",
       "            <tr>\n",
       "                        <th id=\"T_9f0546a8_246f_11eb_9745_7085c2a9ca7alevel0_row10\" class=\"row_heading level0 row10\" >jazz</th>\n",
       "                        <td id=\"T_9f0546a8_246f_11eb_9745_7085c2a9ca7arow10_col0\" class=\"data row10 col0\" >0.155349</td>\n",
       "                        <td id=\"T_9f0546a8_246f_11eb_9745_7085c2a9ca7arow10_col1\" class=\"data row10 col1\" >0.099476</td>\n",
       "            </tr>\n",
       "            <tr>\n",
       "                        <th id=\"T_9f0546a8_246f_11eb_9745_7085c2a9ca7alevel0_row11\" class=\"row_heading level0 row11\" >modern</th>\n",
       "                        <td id=\"T_9f0546a8_246f_11eb_9745_7085c2a9ca7arow11_col0\" class=\"data row11 col0\" >0.142159</td>\n",
       "                        <td id=\"T_9f0546a8_246f_11eb_9745_7085c2a9ca7arow11_col1\" class=\"data row11 col1\" >0.126481</td>\n",
       "            </tr>\n",
       "    </tbody></table>"
      ],
      "text/plain": [
       "<pandas.io.formats.style.Styler at 0x29556264788>"
      ]
     },
     "metadata": {},
     "output_type": "display_data"
    },
    {
     "name": "stdout",
     "output_type": "stream",
     "text": [
      "Micro Genre Comparison\n"
     ]
    },
    {
     "data": {
      "text/html": [
       "<style  type=\"text/css\" >\n",
       "#T_9f074118_246f_11eb_a45b_7085c2a9ca7arow0_col0,#T_9f074118_246f_11eb_a45b_7085c2a9ca7arow1_col0,#T_9f074118_246f_11eb_a45b_7085c2a9ca7arow2_col0,#T_9f074118_246f_11eb_a45b_7085c2a9ca7arow3_col0,#T_9f074118_246f_11eb_a45b_7085c2a9ca7arow4_col0,#T_9f074118_246f_11eb_a45b_7085c2a9ca7arow5_col0,#T_9f074118_246f_11eb_a45b_7085c2a9ca7arow6_col0{\n",
       "            background-color:  #023858;\n",
       "            color:  #f1f1f1;\n",
       "        }#T_9f074118_246f_11eb_a45b_7085c2a9ca7arow0_col1,#T_9f074118_246f_11eb_a45b_7085c2a9ca7arow1_col1,#T_9f074118_246f_11eb_a45b_7085c2a9ca7arow2_col1,#T_9f074118_246f_11eb_a45b_7085c2a9ca7arow3_col1,#T_9f074118_246f_11eb_a45b_7085c2a9ca7arow4_col1,#T_9f074118_246f_11eb_a45b_7085c2a9ca7arow5_col1,#T_9f074118_246f_11eb_a45b_7085c2a9ca7arow6_col1{\n",
       "            background-color:  #fff7fb;\n",
       "            color:  #000000;\n",
       "        }</style><table id=\"T_9f074118_246f_11eb_a45b_7085c2a9ca7a\" ><thead>    <tr>        <th class=\"blank level0\" ></th>        <th class=\"col_heading level0 col0\" >cluster_14</th>        <th class=\"col_heading level0 col1\" >df</th>    </tr></thead><tbody>\n",
       "                <tr>\n",
       "                        <th id=\"T_9f074118_246f_11eb_a45b_7085c2a9ca7alevel0_row0\" class=\"row_heading level0 row0\" >pop</th>\n",
       "                        <td id=\"T_9f074118_246f_11eb_a45b_7085c2a9ca7arow0_col0\" class=\"data row0 col0\" >0.283276</td>\n",
       "                        <td id=\"T_9f074118_246f_11eb_a45b_7085c2a9ca7arow0_col1\" class=\"data row0 col1\" >0.170846</td>\n",
       "            </tr>\n",
       "            <tr>\n",
       "                        <th id=\"T_9f074118_246f_11eb_a45b_7085c2a9ca7alevel0_row1\" class=\"row_heading level0 row1\" >dance pop</th>\n",
       "                        <td id=\"T_9f074118_246f_11eb_a45b_7085c2a9ca7arow1_col0\" class=\"data row1 col0\" >0.204778</td>\n",
       "                        <td id=\"T_9f074118_246f_11eb_a45b_7085c2a9ca7arow1_col1\" class=\"data row1 col1\" >0.121659</td>\n",
       "            </tr>\n",
       "            <tr>\n",
       "                        <th id=\"T_9f074118_246f_11eb_a45b_7085c2a9ca7alevel0_row2\" class=\"row_heading level0 row2\" >urban contemporary</th>\n",
       "                        <td id=\"T_9f074118_246f_11eb_a45b_7085c2a9ca7arow2_col0\" class=\"data row2 col0\" >0.156997</td>\n",
       "                        <td id=\"T_9f074118_246f_11eb_a45b_7085c2a9ca7arow2_col1\" class=\"data row2 col1\" >0.054974</td>\n",
       "            </tr>\n",
       "            <tr>\n",
       "                        <th id=\"T_9f074118_246f_11eb_a45b_7085c2a9ca7alevel0_row3\" class=\"row_heading level0 row3\" >quiet storm</th>\n",
       "                        <td id=\"T_9f074118_246f_11eb_a45b_7085c2a9ca7arow3_col0\" class=\"data row3 col0\" >0.150171</td>\n",
       "                        <td id=\"T_9f074118_246f_11eb_a45b_7085c2a9ca7arow3_col1\" class=\"data row3 col1\" >0.044503</td>\n",
       "            </tr>\n",
       "            <tr>\n",
       "                        <th id=\"T_9f074118_246f_11eb_a45b_7085c2a9ca7alevel0_row4\" class=\"row_heading level0 row4\" >r&b</th>\n",
       "                        <td id=\"T_9f074118_246f_11eb_a45b_7085c2a9ca7arow4_col0\" class=\"data row4 col0\" >0.150171</td>\n",
       "                        <td id=\"T_9f074118_246f_11eb_a45b_7085c2a9ca7arow4_col1\" class=\"data row4 col1\" >0.052080</td>\n",
       "            </tr>\n",
       "            <tr>\n",
       "                        <th id=\"T_9f074118_246f_11eb_a45b_7085c2a9ca7alevel0_row5\" class=\"row_heading level0 row5\" >soul</th>\n",
       "                        <td id=\"T_9f074118_246f_11eb_a45b_7085c2a9ca7arow5_col0\" class=\"data row5 col0\" >0.150171</td>\n",
       "                        <td id=\"T_9f074118_246f_11eb_a45b_7085c2a9ca7arow5_col1\" class=\"data row5 col1\" >0.053320</td>\n",
       "            </tr>\n",
       "            <tr>\n",
       "                        <th id=\"T_9f074118_246f_11eb_a45b_7085c2a9ca7alevel0_row6\" class=\"row_heading level0 row6\" >motown</th>\n",
       "                        <td id=\"T_9f074118_246f_11eb_a45b_7085c2a9ca7arow6_col0\" class=\"data row6 col0\" >0.126280</td>\n",
       "                        <td id=\"T_9f074118_246f_11eb_a45b_7085c2a9ca7arow6_col1\" class=\"data row6 col1\" >0.041196</td>\n",
       "            </tr>\n",
       "    </tbody></table>"
      ],
      "text/plain": [
       "<pandas.io.formats.style.Styler at 0x29557bf2f48>"
      ]
     },
     "metadata": {},
     "output_type": "display_data"
    },
    {
     "name": "stdout",
     "output_type": "stream",
     "text": [
      "Keyword Comparison\n"
     ]
    },
    {
     "data": {
      "text/html": [
       "<style  type=\"text/css\" >\n",
       "#T_9f098978_246f_11eb_b0a6_7085c2a9ca7arow0_col0,#T_9f098978_246f_11eb_b0a6_7085c2a9ca7arow1_col1,#T_9f098978_246f_11eb_b0a6_7085c2a9ca7arow2_col0,#T_9f098978_246f_11eb_b0a6_7085c2a9ca7arow3_col0,#T_9f098978_246f_11eb_b0a6_7085c2a9ca7arow4_col0,#T_9f098978_246f_11eb_b0a6_7085c2a9ca7arow5_col1,#T_9f098978_246f_11eb_b0a6_7085c2a9ca7arow6_col1,#T_9f098978_246f_11eb_b0a6_7085c2a9ca7arow7_col0,#T_9f098978_246f_11eb_b0a6_7085c2a9ca7arow8_col1,#T_9f098978_246f_11eb_b0a6_7085c2a9ca7arow9_col0,#T_9f098978_246f_11eb_b0a6_7085c2a9ca7arow10_col0,#T_9f098978_246f_11eb_b0a6_7085c2a9ca7arow11_col0{\n",
       "            background-color:  #023858;\n",
       "            color:  #f1f1f1;\n",
       "        }#T_9f098978_246f_11eb_b0a6_7085c2a9ca7arow0_col1,#T_9f098978_246f_11eb_b0a6_7085c2a9ca7arow1_col0,#T_9f098978_246f_11eb_b0a6_7085c2a9ca7arow2_col1,#T_9f098978_246f_11eb_b0a6_7085c2a9ca7arow3_col1,#T_9f098978_246f_11eb_b0a6_7085c2a9ca7arow4_col1,#T_9f098978_246f_11eb_b0a6_7085c2a9ca7arow5_col0,#T_9f098978_246f_11eb_b0a6_7085c2a9ca7arow6_col0,#T_9f098978_246f_11eb_b0a6_7085c2a9ca7arow7_col1,#T_9f098978_246f_11eb_b0a6_7085c2a9ca7arow8_col0,#T_9f098978_246f_11eb_b0a6_7085c2a9ca7arow9_col1,#T_9f098978_246f_11eb_b0a6_7085c2a9ca7arow10_col1,#T_9f098978_246f_11eb_b0a6_7085c2a9ca7arow11_col1{\n",
       "            background-color:  #fff7fb;\n",
       "            color:  #000000;\n",
       "        }</style><table id=\"T_9f098978_246f_11eb_b0a6_7085c2a9ca7a\" ><thead>    <tr>        <th class=\"blank level0\" ></th>        <th class=\"col_heading level0 col0\" >cluster_14</th>        <th class=\"col_heading level0 col1\" >df</th>    </tr></thead><tbody>\n",
       "                <tr>\n",
       "                        <th id=\"T_9f098978_246f_11eb_b0a6_7085c2a9ca7alevel0_row0\" class=\"row_heading level0 row0\" >pop</th>\n",
       "                        <td id=\"T_9f098978_246f_11eb_b0a6_7085c2a9ca7arow0_col0\" class=\"data row0 col0\" >1.266212</td>\n",
       "                        <td id=\"T_9f098978_246f_11eb_b0a6_7085c2a9ca7arow0_col1\" class=\"data row0 col1\" >0.949022</td>\n",
       "            </tr>\n",
       "            <tr>\n",
       "                        <th id=\"T_9f098978_246f_11eb_b0a6_7085c2a9ca7alevel0_row1\" class=\"row_heading level0 row1\" >rock</th>\n",
       "                        <td id=\"T_9f098978_246f_11eb_b0a6_7085c2a9ca7arow1_col0\" class=\"data row1 col0\" >0.508532</td>\n",
       "                        <td id=\"T_9f098978_246f_11eb_b0a6_7085c2a9ca7arow1_col1\" class=\"data row1 col1\" >0.744282</td>\n",
       "            </tr>\n",
       "            <tr>\n",
       "                        <th id=\"T_9f098978_246f_11eb_b0a6_7085c2a9ca7alevel0_row2\" class=\"row_heading level0 row2\" >soul</th>\n",
       "                        <td id=\"T_9f098978_246f_11eb_b0a6_7085c2a9ca7arow2_col0\" class=\"data row2 col0\" >0.406143</td>\n",
       "                        <td id=\"T_9f098978_246f_11eb_b0a6_7085c2a9ca7arow2_col1\" class=\"data row2 col1\" >0.185864</td>\n",
       "            </tr>\n",
       "            <tr>\n",
       "                        <th id=\"T_9f098978_246f_11eb_b0a6_7085c2a9ca7alevel0_row3\" class=\"row_heading level0 row3\" >dance</th>\n",
       "                        <td id=\"T_9f098978_246f_11eb_b0a6_7085c2a9ca7arow3_col0\" class=\"data row3 col0\" >0.290102</td>\n",
       "                        <td id=\"T_9f098978_246f_11eb_b0a6_7085c2a9ca7arow3_col1\" class=\"data row3 col1\" >0.181455</td>\n",
       "            </tr>\n",
       "            <tr>\n",
       "                        <th id=\"T_9f098978_246f_11eb_b0a6_7085c2a9ca7alevel0_row4\" class=\"row_heading level0 row4\" >r&b</th>\n",
       "                        <td id=\"T_9f098978_246f_11eb_b0a6_7085c2a9ca7arow4_col0\" class=\"data row4 col0\" >0.276451</td>\n",
       "                        <td id=\"T_9f098978_246f_11eb_b0a6_7085c2a9ca7arow4_col1\" class=\"data row4 col1\" >0.139157</td>\n",
       "            </tr>\n",
       "            <tr>\n",
       "                        <th id=\"T_9f098978_246f_11eb_b0a6_7085c2a9ca7alevel0_row5\" class=\"row_heading level0 row5\" >rap</th>\n",
       "                        <td id=\"T_9f098978_246f_11eb_b0a6_7085c2a9ca7arow5_col0\" class=\"data row5 col0\" >0.221843</td>\n",
       "                        <td id=\"T_9f098978_246f_11eb_b0a6_7085c2a9ca7arow5_col1\" class=\"data row5 col1\" >0.310003</td>\n",
       "            </tr>\n",
       "            <tr>\n",
       "                        <th id=\"T_9f098978_246f_11eb_b0a6_7085c2a9ca7alevel0_row6\" class=\"row_heading level0 row6\" >hip</th>\n",
       "                        <td id=\"T_9f098978_246f_11eb_b0a6_7085c2a9ca7arow6_col0\" class=\"data row6 col0\" >0.218430</td>\n",
       "                        <td id=\"T_9f098978_246f_11eb_b0a6_7085c2a9ca7arow6_col1\" class=\"data row6 col1\" >0.274869</td>\n",
       "            </tr>\n",
       "            <tr>\n",
       "                        <th id=\"T_9f098978_246f_11eb_b0a6_7085c2a9ca7alevel0_row7\" class=\"row_heading level0 row7\" >contemporary</th>\n",
       "                        <td id=\"T_9f098978_246f_11eb_b0a6_7085c2a9ca7arow7_col0\" class=\"data row7 col0\" >0.218430</td>\n",
       "                        <td id=\"T_9f098978_246f_11eb_b0a6_7085c2a9ca7arow7_col1\" class=\"data row7 col1\" >0.119868</td>\n",
       "            </tr>\n",
       "            <tr>\n",
       "                        <th id=\"T_9f098978_246f_11eb_b0a6_7085c2a9ca7alevel0_row8\" class=\"row_heading level0 row8\" >indie</th>\n",
       "                        <td id=\"T_9f098978_246f_11eb_b0a6_7085c2a9ca7arow8_col0\" class=\"data row8 col0\" >0.201365</td>\n",
       "                        <td id=\"T_9f098978_246f_11eb_b0a6_7085c2a9ca7arow8_col1\" class=\"data row8 col1\" >0.285478</td>\n",
       "            </tr>\n",
       "            <tr>\n",
       "                        <th id=\"T_9f098978_246f_11eb_b0a6_7085c2a9ca7alevel0_row9\" class=\"row_heading level0 row9\" >new</th>\n",
       "                        <td id=\"T_9f098978_246f_11eb_b0a6_7085c2a9ca7arow9_col0\" class=\"data row9 col0\" >0.187713</td>\n",
       "                        <td id=\"T_9f098978_246f_11eb_b0a6_7085c2a9ca7arow9_col1\" class=\"data row9 col1\" >0.137779</td>\n",
       "            </tr>\n",
       "            <tr>\n",
       "                        <th id=\"T_9f098978_246f_11eb_b0a6_7085c2a9ca7alevel0_row10\" class=\"row_heading level0 row10\" >house</th>\n",
       "                        <td id=\"T_9f098978_246f_11eb_b0a6_7085c2a9ca7arow10_col0\" class=\"data row10 col0\" >0.177474</td>\n",
       "                        <td id=\"T_9f098978_246f_11eb_b0a6_7085c2a9ca7arow10_col1\" class=\"data row10 col1\" >0.105814</td>\n",
       "            </tr>\n",
       "            <tr>\n",
       "                        <th id=\"T_9f098978_246f_11eb_b0a6_7085c2a9ca7alevel0_row11\" class=\"row_heading level0 row11\" >urban</th>\n",
       "                        <td id=\"T_9f098978_246f_11eb_b0a6_7085c2a9ca7arow11_col0\" class=\"data row11 col0\" >0.156997</td>\n",
       "                        <td id=\"T_9f098978_246f_11eb_b0a6_7085c2a9ca7arow11_col1\" class=\"data row11 col1\" >0.054974</td>\n",
       "            </tr>\n",
       "    </tbody></table>"
      ],
      "text/plain": [
       "<pandas.io.formats.style.Styler at 0x29556379948>"
      ]
     },
     "metadata": {},
     "output_type": "display_data"
    },
    {
     "name": "stdout",
     "output_type": "stream",
     "text": [
      "Micro Genre Comparison\n"
     ]
    },
    {
     "data": {
      "text/html": [
       "<style  type=\"text/css\" >\n",
       "#T_9f0baae6_246f_11eb_9e90_7085c2a9ca7arow0_col0,#T_9f0baae6_246f_11eb_9e90_7085c2a9ca7arow1_col0,#T_9f0baae6_246f_11eb_9e90_7085c2a9ca7arow2_col0,#T_9f0baae6_246f_11eb_9e90_7085c2a9ca7arow3_col0,#T_9f0baae6_246f_11eb_9e90_7085c2a9ca7arow4_col0,#T_9f0baae6_246f_11eb_9e90_7085c2a9ca7arow5_col0,#T_9f0baae6_246f_11eb_9e90_7085c2a9ca7arow6_col1{\n",
       "            background-color:  #023858;\n",
       "            color:  #f1f1f1;\n",
       "        }#T_9f0baae6_246f_11eb_9e90_7085c2a9ca7arow0_col1,#T_9f0baae6_246f_11eb_9e90_7085c2a9ca7arow1_col1,#T_9f0baae6_246f_11eb_9e90_7085c2a9ca7arow2_col1,#T_9f0baae6_246f_11eb_9e90_7085c2a9ca7arow3_col1,#T_9f0baae6_246f_11eb_9e90_7085c2a9ca7arow4_col1,#T_9f0baae6_246f_11eb_9e90_7085c2a9ca7arow5_col1,#T_9f0baae6_246f_11eb_9e90_7085c2a9ca7arow6_col0{\n",
       "            background-color:  #fff7fb;\n",
       "            color:  #000000;\n",
       "        }</style><table id=\"T_9f0baae6_246f_11eb_9e90_7085c2a9ca7a\" ><thead>    <tr>        <th class=\"blank level0\" ></th>        <th class=\"col_heading level0 col0\" >cluster_7</th>        <th class=\"col_heading level0 col1\" >df</th>    </tr></thead><tbody>\n",
       "                <tr>\n",
       "                        <th id=\"T_9f0baae6_246f_11eb_9e90_7085c2a9ca7alevel0_row0\" class=\"row_heading level0 row0\" >pop</th>\n",
       "                        <td id=\"T_9f0baae6_246f_11eb_9e90_7085c2a9ca7arow0_col0\" class=\"data row0 col0\" >0.376190</td>\n",
       "                        <td id=\"T_9f0baae6_246f_11eb_9e90_7085c2a9ca7arow0_col1\" class=\"data row0 col1\" >0.170846</td>\n",
       "            </tr>\n",
       "            <tr>\n",
       "                        <th id=\"T_9f0baae6_246f_11eb_9e90_7085c2a9ca7alevel0_row1\" class=\"row_heading level0 row1\" >dance pop</th>\n",
       "                        <td id=\"T_9f0baae6_246f_11eb_9e90_7085c2a9ca7arow1_col0\" class=\"data row1 col0\" >0.323810</td>\n",
       "                        <td id=\"T_9f0baae6_246f_11eb_9e90_7085c2a9ca7arow1_col1\" class=\"data row1 col1\" >0.121659</td>\n",
       "            </tr>\n",
       "            <tr>\n",
       "                        <th id=\"T_9f0baae6_246f_11eb_9e90_7085c2a9ca7alevel0_row2\" class=\"row_heading level0 row2\" >urban contemporary</th>\n",
       "                        <td id=\"T_9f0baae6_246f_11eb_9e90_7085c2a9ca7arow2_col0\" class=\"data row2 col0\" >0.147619</td>\n",
       "                        <td id=\"T_9f0baae6_246f_11eb_9e90_7085c2a9ca7arow2_col1\" class=\"data row2 col1\" >0.054974</td>\n",
       "            </tr>\n",
       "            <tr>\n",
       "                        <th id=\"T_9f0baae6_246f_11eb_9e90_7085c2a9ca7alevel0_row3\" class=\"row_heading level0 row3\" >pop rap</th>\n",
       "                        <td id=\"T_9f0baae6_246f_11eb_9e90_7085c2a9ca7arow3_col0\" class=\"data row3 col0\" >0.142857</td>\n",
       "                        <td id=\"T_9f0baae6_246f_11eb_9e90_7085c2a9ca7arow3_col1\" class=\"data row3 col1\" >0.073298</td>\n",
       "            </tr>\n",
       "            <tr>\n",
       "                        <th id=\"T_9f0baae6_246f_11eb_9e90_7085c2a9ca7alevel0_row4\" class=\"row_heading level0 row4\" >r&b</th>\n",
       "                        <td id=\"T_9f0baae6_246f_11eb_9e90_7085c2a9ca7arow4_col0\" class=\"data row4 col0\" >0.109524</td>\n",
       "                        <td id=\"T_9f0baae6_246f_11eb_9e90_7085c2a9ca7arow4_col1\" class=\"data row4 col1\" >0.052080</td>\n",
       "            </tr>\n",
       "            <tr>\n",
       "                        <th id=\"T_9f0baae6_246f_11eb_9e90_7085c2a9ca7alevel0_row5\" class=\"row_heading level0 row5\" >rap</th>\n",
       "                        <td id=\"T_9f0baae6_246f_11eb_9e90_7085c2a9ca7arow5_col0\" class=\"data row5 col0\" >0.100000</td>\n",
       "                        <td id=\"T_9f0baae6_246f_11eb_9e90_7085c2a9ca7arow5_col1\" class=\"data row5 col1\" >0.077983</td>\n",
       "            </tr>\n",
       "            <tr>\n",
       "                        <th id=\"T_9f0baae6_246f_11eb_9e90_7085c2a9ca7alevel0_row6\" class=\"row_heading level0 row6\" >rock</th>\n",
       "                        <td id=\"T_9f0baae6_246f_11eb_9e90_7085c2a9ca7arow6_col0\" class=\"data row6 col0\" >0.090476</td>\n",
       "                        <td id=\"T_9f0baae6_246f_11eb_9e90_7085c2a9ca7arow6_col1\" class=\"data row6 col1\" >0.102508</td>\n",
       "            </tr>\n",
       "    </tbody></table>"
      ],
      "text/plain": [
       "<pandas.io.formats.style.Styler at 0x29556279448>"
      ]
     },
     "metadata": {},
     "output_type": "display_data"
    },
    {
     "name": "stdout",
     "output_type": "stream",
     "text": [
      "Keyword Comparison\n"
     ]
    },
    {
     "data": {
      "text/html": [
       "<style  type=\"text/css\" >\n",
       "#T_9f0e4130_246f_11eb_8b84_7085c2a9ca7arow0_col0,#T_9f0e4130_246f_11eb_8b84_7085c2a9ca7arow1_col1,#T_9f0e4130_246f_11eb_8b84_7085c2a9ca7arow2_col0,#T_9f0e4130_246f_11eb_8b84_7085c2a9ca7arow3_col0,#T_9f0e4130_246f_11eb_8b84_7085c2a9ca7arow4_col0,#T_9f0e4130_246f_11eb_8b84_7085c2a9ca7arow5_col0,#T_9f0e4130_246f_11eb_8b84_7085c2a9ca7arow6_col0,#T_9f0e4130_246f_11eb_8b84_7085c2a9ca7arow7_col0,#T_9f0e4130_246f_11eb_8b84_7085c2a9ca7arow8_col0,#T_9f0e4130_246f_11eb_8b84_7085c2a9ca7arow9_col1,#T_9f0e4130_246f_11eb_8b84_7085c2a9ca7arow10_col1,#T_9f0e4130_246f_11eb_8b84_7085c2a9ca7arow11_col1{\n",
       "            background-color:  #023858;\n",
       "            color:  #f1f1f1;\n",
       "        }#T_9f0e4130_246f_11eb_8b84_7085c2a9ca7arow0_col1,#T_9f0e4130_246f_11eb_8b84_7085c2a9ca7arow1_col0,#T_9f0e4130_246f_11eb_8b84_7085c2a9ca7arow2_col1,#T_9f0e4130_246f_11eb_8b84_7085c2a9ca7arow3_col1,#T_9f0e4130_246f_11eb_8b84_7085c2a9ca7arow4_col1,#T_9f0e4130_246f_11eb_8b84_7085c2a9ca7arow5_col1,#T_9f0e4130_246f_11eb_8b84_7085c2a9ca7arow6_col1,#T_9f0e4130_246f_11eb_8b84_7085c2a9ca7arow7_col1,#T_9f0e4130_246f_11eb_8b84_7085c2a9ca7arow8_col1,#T_9f0e4130_246f_11eb_8b84_7085c2a9ca7arow9_col0,#T_9f0e4130_246f_11eb_8b84_7085c2a9ca7arow10_col0,#T_9f0e4130_246f_11eb_8b84_7085c2a9ca7arow11_col0{\n",
       "            background-color:  #fff7fb;\n",
       "            color:  #000000;\n",
       "        }</style><table id=\"T_9f0e4130_246f_11eb_8b84_7085c2a9ca7a\" ><thead>    <tr>        <th class=\"blank level0\" ></th>        <th class=\"col_heading level0 col0\" >cluster_7</th>        <th class=\"col_heading level0 col1\" >df</th>    </tr></thead><tbody>\n",
       "                <tr>\n",
       "                        <th id=\"T_9f0e4130_246f_11eb_8b84_7085c2a9ca7alevel0_row0\" class=\"row_heading level0 row0\" >pop</th>\n",
       "                        <td id=\"T_9f0e4130_246f_11eb_8b84_7085c2a9ca7arow0_col0\" class=\"data row0 col0\" >1.557143</td>\n",
       "                        <td id=\"T_9f0e4130_246f_11eb_8b84_7085c2a9ca7arow0_col1\" class=\"data row0 col1\" >0.949022</td>\n",
       "            </tr>\n",
       "            <tr>\n",
       "                        <th id=\"T_9f0e4130_246f_11eb_8b84_7085c2a9ca7alevel0_row1\" class=\"row_heading level0 row1\" >rock</th>\n",
       "                        <td id=\"T_9f0e4130_246f_11eb_8b84_7085c2a9ca7arow1_col0\" class=\"data row1 col0\" >0.628571</td>\n",
       "                        <td id=\"T_9f0e4130_246f_11eb_8b84_7085c2a9ca7arow1_col1\" class=\"data row1 col1\" >0.744282</td>\n",
       "            </tr>\n",
       "            <tr>\n",
       "                        <th id=\"T_9f0e4130_246f_11eb_8b84_7085c2a9ca7alevel0_row2\" class=\"row_heading level0 row2\" >hip</th>\n",
       "                        <td id=\"T_9f0e4130_246f_11eb_8b84_7085c2a9ca7arow2_col0\" class=\"data row2 col0\" >0.400000</td>\n",
       "                        <td id=\"T_9f0e4130_246f_11eb_8b84_7085c2a9ca7arow2_col1\" class=\"data row2 col1\" >0.274869</td>\n",
       "            </tr>\n",
       "            <tr>\n",
       "                        <th id=\"T_9f0e4130_246f_11eb_8b84_7085c2a9ca7alevel0_row3\" class=\"row_heading level0 row3\" >rap</th>\n",
       "                        <td id=\"T_9f0e4130_246f_11eb_8b84_7085c2a9ca7arow3_col0\" class=\"data row3 col0\" >0.395238</td>\n",
       "                        <td id=\"T_9f0e4130_246f_11eb_8b84_7085c2a9ca7arow3_col1\" class=\"data row3 col1\" >0.310003</td>\n",
       "            </tr>\n",
       "            <tr>\n",
       "                        <th id=\"T_9f0e4130_246f_11eb_8b84_7085c2a9ca7alevel0_row4\" class=\"row_heading level0 row4\" >dance</th>\n",
       "                        <td id=\"T_9f0e4130_246f_11eb_8b84_7085c2a9ca7arow4_col0\" class=\"data row4 col0\" >0.376190</td>\n",
       "                        <td id=\"T_9f0e4130_246f_11eb_8b84_7085c2a9ca7arow4_col1\" class=\"data row4 col1\" >0.181455</td>\n",
       "            </tr>\n",
       "            <tr>\n",
       "                        <th id=\"T_9f0e4130_246f_11eb_8b84_7085c2a9ca7alevel0_row5\" class=\"row_heading level0 row5\" >hop</th>\n",
       "                        <td id=\"T_9f0e4130_246f_11eb_8b84_7085c2a9ca7arow5_col0\" class=\"data row5 col0\" >0.323810</td>\n",
       "                        <td id=\"T_9f0e4130_246f_11eb_8b84_7085c2a9ca7arow5_col1\" class=\"data row5 col1\" >0.249931</td>\n",
       "            </tr>\n",
       "            <tr>\n",
       "                        <th id=\"T_9f0e4130_246f_11eb_8b84_7085c2a9ca7alevel0_row6\" class=\"row_heading level0 row6\" >r&b</th>\n",
       "                        <td id=\"T_9f0e4130_246f_11eb_8b84_7085c2a9ca7arow6_col0\" class=\"data row6 col0\" >0.228571</td>\n",
       "                        <td id=\"T_9f0e4130_246f_11eb_8b84_7085c2a9ca7arow6_col1\" class=\"data row6 col1\" >0.139157</td>\n",
       "            </tr>\n",
       "            <tr>\n",
       "                        <th id=\"T_9f0e4130_246f_11eb_8b84_7085c2a9ca7alevel0_row7\" class=\"row_heading level0 row7\" >house</th>\n",
       "                        <td id=\"T_9f0e4130_246f_11eb_8b84_7085c2a9ca7arow7_col0\" class=\"data row7 col0\" >0.228571</td>\n",
       "                        <td id=\"T_9f0e4130_246f_11eb_8b84_7085c2a9ca7arow7_col1\" class=\"data row7 col1\" >0.105814</td>\n",
       "            </tr>\n",
       "            <tr>\n",
       "                        <th id=\"T_9f0e4130_246f_11eb_8b84_7085c2a9ca7alevel0_row8\" class=\"row_heading level0 row8\" >contemporary</th>\n",
       "                        <td id=\"T_9f0e4130_246f_11eb_8b84_7085c2a9ca7arow8_col0\" class=\"data row8 col0\" >0.214286</td>\n",
       "                        <td id=\"T_9f0e4130_246f_11eb_8b84_7085c2a9ca7arow8_col1\" class=\"data row8 col1\" >0.119868</td>\n",
       "            </tr>\n",
       "            <tr>\n",
       "                        <th id=\"T_9f0e4130_246f_11eb_8b84_7085c2a9ca7alevel0_row9\" class=\"row_heading level0 row9\" >indie</th>\n",
       "                        <td id=\"T_9f0e4130_246f_11eb_8b84_7085c2a9ca7arow9_col0\" class=\"data row9 col0\" >0.185714</td>\n",
       "                        <td id=\"T_9f0e4130_246f_11eb_8b84_7085c2a9ca7arow9_col1\" class=\"data row9 col1\" >0.285478</td>\n",
       "            </tr>\n",
       "            <tr>\n",
       "                        <th id=\"T_9f0e4130_246f_11eb_8b84_7085c2a9ca7alevel0_row10\" class=\"row_heading level0 row10\" >country</th>\n",
       "                        <td id=\"T_9f0e4130_246f_11eb_8b84_7085c2a9ca7arow10_col0\" class=\"data row10 col0\" >0.180952</td>\n",
       "                        <td id=\"T_9f0e4130_246f_11eb_8b84_7085c2a9ca7arow10_col1\" class=\"data row10 col1\" >0.188068</td>\n",
       "            </tr>\n",
       "            <tr>\n",
       "                        <th id=\"T_9f0e4130_246f_11eb_8b84_7085c2a9ca7alevel0_row11\" class=\"row_heading level0 row11\" >alternative</th>\n",
       "                        <td id=\"T_9f0e4130_246f_11eb_8b84_7085c2a9ca7arow11_col0\" class=\"data row11 col0\" >0.157143</td>\n",
       "                        <td id=\"T_9f0e4130_246f_11eb_8b84_7085c2a9ca7arow11_col1\" class=\"data row11 col1\" >0.184211</td>\n",
       "            </tr>\n",
       "    </tbody></table>"
      ],
      "text/plain": [
       "<pandas.io.formats.style.Styler at 0x29556424408>"
      ]
     },
     "metadata": {},
     "output_type": "display_data"
    },
    {
     "name": "stdout",
     "output_type": "stream",
     "text": [
      "Micro Genre Comparison\n"
     ]
    },
    {
     "data": {
      "text/html": [
       "<style  type=\"text/css\" >\n",
       "#T_9f103b9e_246f_11eb_bdf1_7085c2a9ca7arow0_col0,#T_9f103b9e_246f_11eb_bdf1_7085c2a9ca7arow1_col0,#T_9f103b9e_246f_11eb_bdf1_7085c2a9ca7arow2_col0,#T_9f103b9e_246f_11eb_bdf1_7085c2a9ca7arow3_col0,#T_9f103b9e_246f_11eb_bdf1_7085c2a9ca7arow4_col0,#T_9f103b9e_246f_11eb_bdf1_7085c2a9ca7arow5_col0,#T_9f103b9e_246f_11eb_bdf1_7085c2a9ca7arow6_col0{\n",
       "            background-color:  #023858;\n",
       "            color:  #f1f1f1;\n",
       "        }#T_9f103b9e_246f_11eb_bdf1_7085c2a9ca7arow0_col1,#T_9f103b9e_246f_11eb_bdf1_7085c2a9ca7arow1_col1,#T_9f103b9e_246f_11eb_bdf1_7085c2a9ca7arow2_col1,#T_9f103b9e_246f_11eb_bdf1_7085c2a9ca7arow3_col1,#T_9f103b9e_246f_11eb_bdf1_7085c2a9ca7arow4_col1,#T_9f103b9e_246f_11eb_bdf1_7085c2a9ca7arow5_col1,#T_9f103b9e_246f_11eb_bdf1_7085c2a9ca7arow6_col1{\n",
       "            background-color:  #fff7fb;\n",
       "            color:  #000000;\n",
       "        }</style><table id=\"T_9f103b9e_246f_11eb_bdf1_7085c2a9ca7a\" ><thead>    <tr>        <th class=\"blank level0\" ></th>        <th class=\"col_heading level0 col0\" >cluster_3</th>        <th class=\"col_heading level0 col1\" >df</th>    </tr></thead><tbody>\n",
       "                <tr>\n",
       "                        <th id=\"T_9f103b9e_246f_11eb_bdf1_7085c2a9ca7alevel0_row0\" class=\"row_heading level0 row0\" >rap</th>\n",
       "                        <td id=\"T_9f103b9e_246f_11eb_bdf1_7085c2a9ca7arow0_col0\" class=\"data row0 col0\" >0.501672</td>\n",
       "                        <td id=\"T_9f103b9e_246f_11eb_bdf1_7085c2a9ca7arow0_col1\" class=\"data row0 col1\" >0.077983</td>\n",
       "            </tr>\n",
       "            <tr>\n",
       "                        <th id=\"T_9f103b9e_246f_11eb_bdf1_7085c2a9ca7alevel0_row1\" class=\"row_heading level0 row1\" >hip hop</th>\n",
       "                        <td id=\"T_9f103b9e_246f_11eb_bdf1_7085c2a9ca7arow1_col0\" class=\"data row1 col0\" >0.334448</td>\n",
       "                        <td id=\"T_9f103b9e_246f_11eb_bdf1_7085c2a9ca7arow1_col1\" class=\"data row1 col1\" >0.057316</td>\n",
       "            </tr>\n",
       "            <tr>\n",
       "                        <th id=\"T_9f103b9e_246f_11eb_bdf1_7085c2a9ca7alevel0_row2\" class=\"row_heading level0 row2\" >pop rap</th>\n",
       "                        <td id=\"T_9f103b9e_246f_11eb_bdf1_7085c2a9ca7arow2_col0\" class=\"data row2 col0\" >0.324415</td>\n",
       "                        <td id=\"T_9f103b9e_246f_11eb_bdf1_7085c2a9ca7arow2_col1\" class=\"data row2 col1\" >0.073298</td>\n",
       "            </tr>\n",
       "            <tr>\n",
       "                        <th id=\"T_9f103b9e_246f_11eb_bdf1_7085c2a9ca7alevel0_row3\" class=\"row_heading level0 row3\" >trap</th>\n",
       "                        <td id=\"T_9f103b9e_246f_11eb_bdf1_7085c2a9ca7arow3_col0\" class=\"data row3 col0\" >0.317726</td>\n",
       "                        <td id=\"T_9f103b9e_246f_11eb_bdf1_7085c2a9ca7arow3_col1\" class=\"data row3 col1\" >0.041058</td>\n",
       "            </tr>\n",
       "            <tr>\n",
       "                        <th id=\"T_9f103b9e_246f_11eb_bdf1_7085c2a9ca7alevel0_row4\" class=\"row_heading level0 row4\" >melodic rap</th>\n",
       "                        <td id=\"T_9f103b9e_246f_11eb_bdf1_7085c2a9ca7arow4_col0\" class=\"data row4 col0\" >0.200669</td>\n",
       "                        <td id=\"T_9f103b9e_246f_11eb_bdf1_7085c2a9ca7arow4_col1\" class=\"data row4 col1\" >0.028934</td>\n",
       "            </tr>\n",
       "            <tr>\n",
       "                        <th id=\"T_9f103b9e_246f_11eb_bdf1_7085c2a9ca7alevel0_row5\" class=\"row_heading level0 row5\" >southern hip hop</th>\n",
       "                        <td id=\"T_9f103b9e_246f_11eb_bdf1_7085c2a9ca7arow5_col0\" class=\"data row5 col0\" >0.200669</td>\n",
       "                        <td id=\"T_9f103b9e_246f_11eb_bdf1_7085c2a9ca7arow5_col1\" class=\"data row5 col1\" >0.026867</td>\n",
       "            </tr>\n",
       "            <tr>\n",
       "                        <th id=\"T_9f103b9e_246f_11eb_bdf1_7085c2a9ca7alevel0_row6\" class=\"row_heading level0 row6\" >canadian hip hop</th>\n",
       "                        <td id=\"T_9f103b9e_246f_11eb_bdf1_7085c2a9ca7arow6_col0\" class=\"data row6 col0\" >0.167224</td>\n",
       "                        <td id=\"T_9f103b9e_246f_11eb_bdf1_7085c2a9ca7arow6_col1\" class=\"data row6 col1\" >0.019014</td>\n",
       "            </tr>\n",
       "    </tbody></table>"
      ],
      "text/plain": [
       "<pandas.io.formats.style.Styler at 0x29556279608>"
      ]
     },
     "metadata": {},
     "output_type": "display_data"
    },
    {
     "name": "stdout",
     "output_type": "stream",
     "text": [
      "Keyword Comparison\n"
     ]
    },
    {
     "data": {
      "text/html": [
       "<style  type=\"text/css\" >\n",
       "#T_9f125d10_246f_11eb_b907_7085c2a9ca7arow0_col0,#T_9f125d10_246f_11eb_b907_7085c2a9ca7arow1_col0,#T_9f125d10_246f_11eb_b907_7085c2a9ca7arow2_col0,#T_9f125d10_246f_11eb_b907_7085c2a9ca7arow3_col1,#T_9f125d10_246f_11eb_b907_7085c2a9ca7arow4_col0,#T_9f125d10_246f_11eb_b907_7085c2a9ca7arow5_col0,#T_9f125d10_246f_11eb_b907_7085c2a9ca7arow6_col0,#T_9f125d10_246f_11eb_b907_7085c2a9ca7arow7_col0,#T_9f125d10_246f_11eb_b907_7085c2a9ca7arow8_col0,#T_9f125d10_246f_11eb_b907_7085c2a9ca7arow9_col0,#T_9f125d10_246f_11eb_b907_7085c2a9ca7arow10_col0,#T_9f125d10_246f_11eb_b907_7085c2a9ca7arow11_col0{\n",
       "            background-color:  #023858;\n",
       "            color:  #f1f1f1;\n",
       "        }#T_9f125d10_246f_11eb_b907_7085c2a9ca7arow0_col1,#T_9f125d10_246f_11eb_b907_7085c2a9ca7arow1_col1,#T_9f125d10_246f_11eb_b907_7085c2a9ca7arow2_col1,#T_9f125d10_246f_11eb_b907_7085c2a9ca7arow3_col0,#T_9f125d10_246f_11eb_b907_7085c2a9ca7arow4_col1,#T_9f125d10_246f_11eb_b907_7085c2a9ca7arow5_col1,#T_9f125d10_246f_11eb_b907_7085c2a9ca7arow6_col1,#T_9f125d10_246f_11eb_b907_7085c2a9ca7arow7_col1,#T_9f125d10_246f_11eb_b907_7085c2a9ca7arow8_col1,#T_9f125d10_246f_11eb_b907_7085c2a9ca7arow9_col1,#T_9f125d10_246f_11eb_b907_7085c2a9ca7arow10_col1,#T_9f125d10_246f_11eb_b907_7085c2a9ca7arow11_col1{\n",
       "            background-color:  #fff7fb;\n",
       "            color:  #000000;\n",
       "        }</style><table id=\"T_9f125d10_246f_11eb_b907_7085c2a9ca7a\" ><thead>    <tr>        <th class=\"blank level0\" ></th>        <th class=\"col_heading level0 col0\" >cluster_3</th>        <th class=\"col_heading level0 col1\" >df</th>    </tr></thead><tbody>\n",
       "                <tr>\n",
       "                        <th id=\"T_9f125d10_246f_11eb_b907_7085c2a9ca7alevel0_row0\" class=\"row_heading level0 row0\" >rap</th>\n",
       "                        <td id=\"T_9f125d10_246f_11eb_b907_7085c2a9ca7arow0_col0\" class=\"data row0 col0\" >1.819398</td>\n",
       "                        <td id=\"T_9f125d10_246f_11eb_b907_7085c2a9ca7arow0_col1\" class=\"data row0 col1\" >0.310003</td>\n",
       "            </tr>\n",
       "            <tr>\n",
       "                        <th id=\"T_9f125d10_246f_11eb_b907_7085c2a9ca7alevel0_row1\" class=\"row_heading level0 row1\" >hip</th>\n",
       "                        <td id=\"T_9f125d10_246f_11eb_b907_7085c2a9ca7arow1_col0\" class=\"data row1 col0\" >1.521739</td>\n",
       "                        <td id=\"T_9f125d10_246f_11eb_b907_7085c2a9ca7arow1_col1\" class=\"data row1 col1\" >0.274869</td>\n",
       "            </tr>\n",
       "            <tr>\n",
       "                        <th id=\"T_9f125d10_246f_11eb_b907_7085c2a9ca7alevel0_row2\" class=\"row_heading level0 row2\" >hop</th>\n",
       "                        <td id=\"T_9f125d10_246f_11eb_b907_7085c2a9ca7arow2_col0\" class=\"data row2 col0\" >1.464883</td>\n",
       "                        <td id=\"T_9f125d10_246f_11eb_b907_7085c2a9ca7arow2_col1\" class=\"data row2 col1\" >0.249931</td>\n",
       "            </tr>\n",
       "            <tr>\n",
       "                        <th id=\"T_9f125d10_246f_11eb_b907_7085c2a9ca7alevel0_row3\" class=\"row_heading level0 row3\" >pop</th>\n",
       "                        <td id=\"T_9f125d10_246f_11eb_b907_7085c2a9ca7arow3_col0\" class=\"data row3 col0\" >0.802676</td>\n",
       "                        <td id=\"T_9f125d10_246f_11eb_b907_7085c2a9ca7arow3_col1\" class=\"data row3 col1\" >0.949022</td>\n",
       "            </tr>\n",
       "            <tr>\n",
       "                        <th id=\"T_9f125d10_246f_11eb_b907_7085c2a9ca7alevel0_row4\" class=\"row_heading level0 row4\" >trap</th>\n",
       "                        <td id=\"T_9f125d10_246f_11eb_b907_7085c2a9ca7arow4_col0\" class=\"data row4 col0\" >0.635452</td>\n",
       "                        <td id=\"T_9f125d10_246f_11eb_b907_7085c2a9ca7arow4_col1\" class=\"data row4 col1\" >0.084459</td>\n",
       "            </tr>\n",
       "            <tr>\n",
       "                        <th id=\"T_9f125d10_246f_11eb_b907_7085c2a9ca7alevel0_row5\" class=\"row_heading level0 row5\" >drill</th>\n",
       "                        <td id=\"T_9f125d10_246f_11eb_b907_7085c2a9ca7arow5_col0\" class=\"data row5 col0\" >0.234114</td>\n",
       "                        <td id=\"T_9f125d10_246f_11eb_b907_7085c2a9ca7arow5_col1\" class=\"data row5 col1\" >0.015569</td>\n",
       "            </tr>\n",
       "            <tr>\n",
       "                        <th id=\"T_9f125d10_246f_11eb_b907_7085c2a9ca7alevel0_row6\" class=\"row_heading level0 row6\" >melodic</th>\n",
       "                        <td id=\"T_9f125d10_246f_11eb_b907_7085c2a9ca7arow6_col0\" class=\"data row6 col0\" >0.200669</td>\n",
       "                        <td id=\"T_9f125d10_246f_11eb_b907_7085c2a9ca7arow6_col1\" class=\"data row6 col1\" >0.059245</td>\n",
       "            </tr>\n",
       "            <tr>\n",
       "                        <th id=\"T_9f125d10_246f_11eb_b907_7085c2a9ca7alevel0_row7\" class=\"row_heading level0 row7\" >southern</th>\n",
       "                        <td id=\"T_9f125d10_246f_11eb_b907_7085c2a9ca7arow7_col0\" class=\"data row7 col0\" >0.200669</td>\n",
       "                        <td id=\"T_9f125d10_246f_11eb_b907_7085c2a9ca7arow7_col1\" class=\"data row7 col1\" >0.042436</td>\n",
       "            </tr>\n",
       "            <tr>\n",
       "                        <th id=\"T_9f125d10_246f_11eb_b907_7085c2a9ca7alevel0_row8\" class=\"row_heading level0 row8\" >canadian</th>\n",
       "                        <td id=\"T_9f125d10_246f_11eb_b907_7085c2a9ca7arow8_col0\" class=\"data row8 col0\" >0.193980</td>\n",
       "                        <td id=\"T_9f125d10_246f_11eb_b907_7085c2a9ca7arow8_col1\" class=\"data row8 col1\" >0.068063</td>\n",
       "            </tr>\n",
       "            <tr>\n",
       "                        <th id=\"T_9f125d10_246f_11eb_b907_7085c2a9ca7alevel0_row9\" class=\"row_heading level0 row9\" >atl</th>\n",
       "                        <td id=\"T_9f125d10_246f_11eb_b907_7085c2a9ca7arow9_col0\" class=\"data row9 col0\" >0.187291</td>\n",
       "                        <td id=\"T_9f125d10_246f_11eb_b907_7085c2a9ca7arow9_col1\" class=\"data row9 col1\" >0.024525</td>\n",
       "            </tr>\n",
       "            <tr>\n",
       "                        <th id=\"T_9f125d10_246f_11eb_b907_7085c2a9ca7alevel0_row10\" class=\"row_heading level0 row10\" >r&b</th>\n",
       "                        <td id=\"T_9f125d10_246f_11eb_b907_7085c2a9ca7arow10_col0\" class=\"data row10 col0\" >0.177258</td>\n",
       "                        <td id=\"T_9f125d10_246f_11eb_b907_7085c2a9ca7arow10_col1\" class=\"data row10 col1\" >0.139157</td>\n",
       "            </tr>\n",
       "            <tr>\n",
       "                        <th id=\"T_9f125d10_246f_11eb_b907_7085c2a9ca7alevel0_row11\" class=\"row_heading level0 row11\" >toronto</th>\n",
       "                        <td id=\"T_9f125d10_246f_11eb_b907_7085c2a9ca7arow11_col0\" class=\"data row11 col0\" >0.150502</td>\n",
       "                        <td id=\"T_9f125d10_246f_11eb_b907_7085c2a9ca7arow11_col1\" class=\"data row11 col1\" >0.014880</td>\n",
       "            </tr>\n",
       "    </tbody></table>"
      ],
      "text/plain": [
       "<pandas.io.formats.style.Styler at 0x29556370888>"
      ]
     },
     "metadata": {},
     "output_type": "display_data"
    },
    {
     "name": "stdout",
     "output_type": "stream",
     "text": [
      "Micro Genre Comparison\n"
     ]
    },
    {
     "data": {
      "text/html": [
       "<style  type=\"text/css\" >\n",
       "#T_9f140992_246f_11eb_9ed8_7085c2a9ca7arow0_col0,#T_9f140992_246f_11eb_9ed8_7085c2a9ca7arow1_col0,#T_9f140992_246f_11eb_9ed8_7085c2a9ca7arow2_col0,#T_9f140992_246f_11eb_9ed8_7085c2a9ca7arow3_col0,#T_9f140992_246f_11eb_9ed8_7085c2a9ca7arow4_col0,#T_9f140992_246f_11eb_9ed8_7085c2a9ca7arow5_col0,#T_9f140992_246f_11eb_9ed8_7085c2a9ca7arow6_col0{\n",
       "            background-color:  #023858;\n",
       "            color:  #f1f1f1;\n",
       "        }#T_9f140992_246f_11eb_9ed8_7085c2a9ca7arow0_col1,#T_9f140992_246f_11eb_9ed8_7085c2a9ca7arow1_col1,#T_9f140992_246f_11eb_9ed8_7085c2a9ca7arow2_col1,#T_9f140992_246f_11eb_9ed8_7085c2a9ca7arow3_col1,#T_9f140992_246f_11eb_9ed8_7085c2a9ca7arow4_col1,#T_9f140992_246f_11eb_9ed8_7085c2a9ca7arow5_col1,#T_9f140992_246f_11eb_9ed8_7085c2a9ca7arow6_col1{\n",
       "            background-color:  #fff7fb;\n",
       "            color:  #000000;\n",
       "        }</style><table id=\"T_9f140992_246f_11eb_9ed8_7085c2a9ca7a\" ><thead>    <tr>        <th class=\"blank level0\" ></th>        <th class=\"col_heading level0 col0\" >cluster_9</th>        <th class=\"col_heading level0 col1\" >df</th>    </tr></thead><tbody>\n",
       "                <tr>\n",
       "                        <th id=\"T_9f140992_246f_11eb_9ed8_7085c2a9ca7alevel0_row0\" class=\"row_heading level0 row0\" >pop</th>\n",
       "                        <td id=\"T_9f140992_246f_11eb_9ed8_7085c2a9ca7arow0_col0\" class=\"data row0 col0\" >0.351852</td>\n",
       "                        <td id=\"T_9f140992_246f_11eb_9ed8_7085c2a9ca7arow0_col1\" class=\"data row0 col1\" >0.170846</td>\n",
       "            </tr>\n",
       "            <tr>\n",
       "                        <th id=\"T_9f140992_246f_11eb_9ed8_7085c2a9ca7alevel0_row1\" class=\"row_heading level0 row1\" >dance pop</th>\n",
       "                        <td id=\"T_9f140992_246f_11eb_9ed8_7085c2a9ca7arow1_col0\" class=\"data row1 col0\" >0.305556</td>\n",
       "                        <td id=\"T_9f140992_246f_11eb_9ed8_7085c2a9ca7arow1_col1\" class=\"data row1 col1\" >0.121659</td>\n",
       "            </tr>\n",
       "            <tr>\n",
       "                        <th id=\"T_9f140992_246f_11eb_9ed8_7085c2a9ca7alevel0_row2\" class=\"row_heading level0 row2\" >r&b</th>\n",
       "                        <td id=\"T_9f140992_246f_11eb_9ed8_7085c2a9ca7arow2_col0\" class=\"data row2 col0\" >0.175926</td>\n",
       "                        <td id=\"T_9f140992_246f_11eb_9ed8_7085c2a9ca7arow2_col1\" class=\"data row2 col1\" >0.052080</td>\n",
       "            </tr>\n",
       "            <tr>\n",
       "                        <th id=\"T_9f140992_246f_11eb_9ed8_7085c2a9ca7alevel0_row3\" class=\"row_heading level0 row3\" >post-teen pop</th>\n",
       "                        <td id=\"T_9f140992_246f_11eb_9ed8_7085c2a9ca7arow3_col0\" class=\"data row3 col0\" >0.175926</td>\n",
       "                        <td id=\"T_9f140992_246f_11eb_9ed8_7085c2a9ca7arow3_col1\" class=\"data row3 col1\" >0.060485</td>\n",
       "            </tr>\n",
       "            <tr>\n",
       "                        <th id=\"T_9f140992_246f_11eb_9ed8_7085c2a9ca7alevel0_row4\" class=\"row_heading level0 row4\" >urban contemporary</th>\n",
       "                        <td id=\"T_9f140992_246f_11eb_9ed8_7085c2a9ca7arow4_col0\" class=\"data row4 col0\" >0.166667</td>\n",
       "                        <td id=\"T_9f140992_246f_11eb_9ed8_7085c2a9ca7arow4_col1\" class=\"data row4 col1\" >0.054974</td>\n",
       "            </tr>\n",
       "            <tr>\n",
       "                        <th id=\"T_9f140992_246f_11eb_9ed8_7085c2a9ca7alevel0_row5\" class=\"row_heading level0 row5\" >rap</th>\n",
       "                        <td id=\"T_9f140992_246f_11eb_9ed8_7085c2a9ca7arow5_col0\" class=\"data row5 col0\" >0.129630</td>\n",
       "                        <td id=\"T_9f140992_246f_11eb_9ed8_7085c2a9ca7arow5_col1\" class=\"data row5 col1\" >0.077983</td>\n",
       "            </tr>\n",
       "            <tr>\n",
       "                        <th id=\"T_9f140992_246f_11eb_9ed8_7085c2a9ca7alevel0_row6\" class=\"row_heading level0 row6\" >pop rap</th>\n",
       "                        <td id=\"T_9f140992_246f_11eb_9ed8_7085c2a9ca7arow6_col0\" class=\"data row6 col0\" >0.120370</td>\n",
       "                        <td id=\"T_9f140992_246f_11eb_9ed8_7085c2a9ca7arow6_col1\" class=\"data row6 col1\" >0.073298</td>\n",
       "            </tr>\n",
       "    </tbody></table>"
      ],
      "text/plain": [
       "<pandas.io.formats.style.Styler at 0x295564245c8>"
      ]
     },
     "metadata": {},
     "output_type": "display_data"
    },
    {
     "name": "stdout",
     "output_type": "stream",
     "text": [
      "Keyword Comparison\n"
     ]
    },
    {
     "data": {
      "text/html": [
       "<style  type=\"text/css\" >\n",
       "#T_9f1651f4_246f_11eb_99cc_7085c2a9ca7arow0_col0,#T_9f1651f4_246f_11eb_99cc_7085c2a9ca7arow1_col1,#T_9f1651f4_246f_11eb_99cc_7085c2a9ca7arow2_col0,#T_9f1651f4_246f_11eb_99cc_7085c2a9ca7arow3_col0,#T_9f1651f4_246f_11eb_99cc_7085c2a9ca7arow4_col0,#T_9f1651f4_246f_11eb_99cc_7085c2a9ca7arow5_col0,#T_9f1651f4_246f_11eb_99cc_7085c2a9ca7arow6_col0,#T_9f1651f4_246f_11eb_99cc_7085c2a9ca7arow7_col0,#T_9f1651f4_246f_11eb_99cc_7085c2a9ca7arow8_col1,#T_9f1651f4_246f_11eb_99cc_7085c2a9ca7arow9_col0,#T_9f1651f4_246f_11eb_99cc_7085c2a9ca7arow10_col0,#T_9f1651f4_246f_11eb_99cc_7085c2a9ca7arow11_col0{\n",
       "            background-color:  #023858;\n",
       "            color:  #f1f1f1;\n",
       "        }#T_9f1651f4_246f_11eb_99cc_7085c2a9ca7arow0_col1,#T_9f1651f4_246f_11eb_99cc_7085c2a9ca7arow1_col0,#T_9f1651f4_246f_11eb_99cc_7085c2a9ca7arow2_col1,#T_9f1651f4_246f_11eb_99cc_7085c2a9ca7arow3_col1,#T_9f1651f4_246f_11eb_99cc_7085c2a9ca7arow4_col1,#T_9f1651f4_246f_11eb_99cc_7085c2a9ca7arow5_col1,#T_9f1651f4_246f_11eb_99cc_7085c2a9ca7arow6_col1,#T_9f1651f4_246f_11eb_99cc_7085c2a9ca7arow7_col1,#T_9f1651f4_246f_11eb_99cc_7085c2a9ca7arow8_col0,#T_9f1651f4_246f_11eb_99cc_7085c2a9ca7arow9_col1,#T_9f1651f4_246f_11eb_99cc_7085c2a9ca7arow10_col1,#T_9f1651f4_246f_11eb_99cc_7085c2a9ca7arow11_col1{\n",
       "            background-color:  #fff7fb;\n",
       "            color:  #000000;\n",
       "        }</style><table id=\"T_9f1651f4_246f_11eb_99cc_7085c2a9ca7a\" ><thead>    <tr>        <th class=\"blank level0\" ></th>        <th class=\"col_heading level0 col0\" >cluster_9</th>        <th class=\"col_heading level0 col1\" >df</th>    </tr></thead><tbody>\n",
       "                <tr>\n",
       "                        <th id=\"T_9f1651f4_246f_11eb_99cc_7085c2a9ca7alevel0_row0\" class=\"row_heading level0 row0\" >pop</th>\n",
       "                        <td id=\"T_9f1651f4_246f_11eb_99cc_7085c2a9ca7arow0_col0\" class=\"data row0 col0\" >1.574074</td>\n",
       "                        <td id=\"T_9f1651f4_246f_11eb_99cc_7085c2a9ca7arow0_col1\" class=\"data row0 col1\" >0.949022</td>\n",
       "            </tr>\n",
       "            <tr>\n",
       "                        <th id=\"T_9f1651f4_246f_11eb_99cc_7085c2a9ca7alevel0_row1\" class=\"row_heading level0 row1\" >rock</th>\n",
       "                        <td id=\"T_9f1651f4_246f_11eb_99cc_7085c2a9ca7arow1_col0\" class=\"data row1 col0\" >0.546296</td>\n",
       "                        <td id=\"T_9f1651f4_246f_11eb_99cc_7085c2a9ca7arow1_col1\" class=\"data row1 col1\" >0.744282</td>\n",
       "            </tr>\n",
       "            <tr>\n",
       "                        <th id=\"T_9f1651f4_246f_11eb_99cc_7085c2a9ca7alevel0_row2\" class=\"row_heading level0 row2\" >hip</th>\n",
       "                        <td id=\"T_9f1651f4_246f_11eb_99cc_7085c2a9ca7arow2_col0\" class=\"data row2 col0\" >0.435185</td>\n",
       "                        <td id=\"T_9f1651f4_246f_11eb_99cc_7085c2a9ca7arow2_col1\" class=\"data row2 col1\" >0.274869</td>\n",
       "            </tr>\n",
       "            <tr>\n",
       "                        <th id=\"T_9f1651f4_246f_11eb_99cc_7085c2a9ca7alevel0_row3\" class=\"row_heading level0 row3\" >r&b</th>\n",
       "                        <td id=\"T_9f1651f4_246f_11eb_99cc_7085c2a9ca7arow3_col0\" class=\"data row3 col0\" >0.425926</td>\n",
       "                        <td id=\"T_9f1651f4_246f_11eb_99cc_7085c2a9ca7arow3_col1\" class=\"data row3 col1\" >0.139157</td>\n",
       "            </tr>\n",
       "            <tr>\n",
       "                        <th id=\"T_9f1651f4_246f_11eb_99cc_7085c2a9ca7alevel0_row4\" class=\"row_heading level0 row4\" >dance</th>\n",
       "                        <td id=\"T_9f1651f4_246f_11eb_99cc_7085c2a9ca7arow4_col0\" class=\"data row4 col0\" >0.379630</td>\n",
       "                        <td id=\"T_9f1651f4_246f_11eb_99cc_7085c2a9ca7arow4_col1\" class=\"data row4 col1\" >0.181455</td>\n",
       "            </tr>\n",
       "            <tr>\n",
       "                        <th id=\"T_9f1651f4_246f_11eb_99cc_7085c2a9ca7alevel0_row5\" class=\"row_heading level0 row5\" >hop</th>\n",
       "                        <td id=\"T_9f1651f4_246f_11eb_99cc_7085c2a9ca7arow5_col0\" class=\"data row5 col0\" >0.333333</td>\n",
       "                        <td id=\"T_9f1651f4_246f_11eb_99cc_7085c2a9ca7arow5_col1\" class=\"data row5 col1\" >0.249931</td>\n",
       "            </tr>\n",
       "            <tr>\n",
       "                        <th id=\"T_9f1651f4_246f_11eb_99cc_7085c2a9ca7alevel0_row6\" class=\"row_heading level0 row6\" >rap</th>\n",
       "                        <td id=\"T_9f1651f4_246f_11eb_99cc_7085c2a9ca7arow6_col0\" class=\"data row6 col0\" >0.333333</td>\n",
       "                        <td id=\"T_9f1651f4_246f_11eb_99cc_7085c2a9ca7arow6_col1\" class=\"data row6 col1\" >0.310003</td>\n",
       "            </tr>\n",
       "            <tr>\n",
       "                        <th id=\"T_9f1651f4_246f_11eb_99cc_7085c2a9ca7alevel0_row7\" class=\"row_heading level0 row7\" >soul</th>\n",
       "                        <td id=\"T_9f1651f4_246f_11eb_99cc_7085c2a9ca7arow7_col0\" class=\"data row7 col0\" >0.296296</td>\n",
       "                        <td id=\"T_9f1651f4_246f_11eb_99cc_7085c2a9ca7arow7_col1\" class=\"data row7 col1\" >0.185864</td>\n",
       "            </tr>\n",
       "            <tr>\n",
       "                        <th id=\"T_9f1651f4_246f_11eb_99cc_7085c2a9ca7alevel0_row8\" class=\"row_heading level0 row8\" >indie</th>\n",
       "                        <td id=\"T_9f1651f4_246f_11eb_99cc_7085c2a9ca7arow8_col0\" class=\"data row8 col0\" >0.277778</td>\n",
       "                        <td id=\"T_9f1651f4_246f_11eb_99cc_7085c2a9ca7arow8_col1\" class=\"data row8 col1\" >0.285478</td>\n",
       "            </tr>\n",
       "            <tr>\n",
       "                        <th id=\"T_9f1651f4_246f_11eb_99cc_7085c2a9ca7alevel0_row9\" class=\"row_heading level0 row9\" >contemporary</th>\n",
       "                        <td id=\"T_9f1651f4_246f_11eb_99cc_7085c2a9ca7arow9_col0\" class=\"data row9 col0\" >0.194444</td>\n",
       "                        <td id=\"T_9f1651f4_246f_11eb_99cc_7085c2a9ca7arow9_col1\" class=\"data row9 col1\" >0.119868</td>\n",
       "            </tr>\n",
       "            <tr>\n",
       "                        <th id=\"T_9f1651f4_246f_11eb_99cc_7085c2a9ca7alevel0_row10\" class=\"row_heading level0 row10\" >post-teen</th>\n",
       "                        <td id=\"T_9f1651f4_246f_11eb_99cc_7085c2a9ca7arow10_col0\" class=\"data row10 col0\" >0.175926</td>\n",
       "                        <td id=\"T_9f1651f4_246f_11eb_99cc_7085c2a9ca7arow10_col1\" class=\"data row10 col1\" >0.060485</td>\n",
       "            </tr>\n",
       "            <tr>\n",
       "                        <th id=\"T_9f1651f4_246f_11eb_99cc_7085c2a9ca7alevel0_row11\" class=\"row_heading level0 row11\" >urban</th>\n",
       "                        <td id=\"T_9f1651f4_246f_11eb_99cc_7085c2a9ca7arow11_col0\" class=\"data row11 col0\" >0.166667</td>\n",
       "                        <td id=\"T_9f1651f4_246f_11eb_99cc_7085c2a9ca7arow11_col1\" class=\"data row11 col1\" >0.054974</td>\n",
       "            </tr>\n",
       "    </tbody></table>"
      ],
      "text/plain": [
       "<pandas.io.formats.style.Styler at 0x29557c0b108>"
      ]
     },
     "metadata": {},
     "output_type": "display_data"
    },
    {
     "name": "stdout",
     "output_type": "stream",
     "text": [
      "Micro Genre Comparison\n"
     ]
    },
    {
     "data": {
      "text/html": [
       "<style  type=\"text/css\" >\n",
       "#T_9f187364_246f_11eb_bd3e_7085c2a9ca7arow0_col0,#T_9f187364_246f_11eb_bd3e_7085c2a9ca7arow1_col0,#T_9f187364_246f_11eb_bd3e_7085c2a9ca7arow2_col0,#T_9f187364_246f_11eb_bd3e_7085c2a9ca7arow3_col0,#T_9f187364_246f_11eb_bd3e_7085c2a9ca7arow4_col0,#T_9f187364_246f_11eb_bd3e_7085c2a9ca7arow5_col0,#T_9f187364_246f_11eb_bd3e_7085c2a9ca7arow6_col0{\n",
       "            background-color:  #023858;\n",
       "            color:  #f1f1f1;\n",
       "        }#T_9f187364_246f_11eb_bd3e_7085c2a9ca7arow0_col1,#T_9f187364_246f_11eb_bd3e_7085c2a9ca7arow1_col1,#T_9f187364_246f_11eb_bd3e_7085c2a9ca7arow2_col1,#T_9f187364_246f_11eb_bd3e_7085c2a9ca7arow3_col1,#T_9f187364_246f_11eb_bd3e_7085c2a9ca7arow4_col1,#T_9f187364_246f_11eb_bd3e_7085c2a9ca7arow5_col1,#T_9f187364_246f_11eb_bd3e_7085c2a9ca7arow6_col1{\n",
       "            background-color:  #fff7fb;\n",
       "            color:  #000000;\n",
       "        }</style><table id=\"T_9f187364_246f_11eb_bd3e_7085c2a9ca7a\" ><thead>    <tr>        <th class=\"blank level0\" ></th>        <th class=\"col_heading level0 col0\" >cluster_4</th>        <th class=\"col_heading level0 col1\" >df</th>    </tr></thead><tbody>\n",
       "                <tr>\n",
       "                        <th id=\"T_9f187364_246f_11eb_bd3e_7085c2a9ca7alevel0_row0\" class=\"row_heading level0 row0\" >pop</th>\n",
       "                        <td id=\"T_9f187364_246f_11eb_bd3e_7085c2a9ca7arow0_col0\" class=\"data row0 col0\" >0.326316</td>\n",
       "                        <td id=\"T_9f187364_246f_11eb_bd3e_7085c2a9ca7arow0_col1\" class=\"data row0 col1\" >0.170846</td>\n",
       "            </tr>\n",
       "            <tr>\n",
       "                        <th id=\"T_9f187364_246f_11eb_bd3e_7085c2a9ca7alevel0_row1\" class=\"row_heading level0 row1\" >rap</th>\n",
       "                        <td id=\"T_9f187364_246f_11eb_bd3e_7085c2a9ca7arow1_col0\" class=\"data row1 col0\" >0.252632</td>\n",
       "                        <td id=\"T_9f187364_246f_11eb_bd3e_7085c2a9ca7arow1_col1\" class=\"data row1 col1\" >0.077983</td>\n",
       "            </tr>\n",
       "            <tr>\n",
       "                        <th id=\"T_9f187364_246f_11eb_bd3e_7085c2a9ca7alevel0_row2\" class=\"row_heading level0 row2\" >dance pop</th>\n",
       "                        <td id=\"T_9f187364_246f_11eb_bd3e_7085c2a9ca7arow2_col0\" class=\"data row2 col0\" >0.252632</td>\n",
       "                        <td id=\"T_9f187364_246f_11eb_bd3e_7085c2a9ca7arow2_col1\" class=\"data row2 col1\" >0.121659</td>\n",
       "            </tr>\n",
       "            <tr>\n",
       "                        <th id=\"T_9f187364_246f_11eb_bd3e_7085c2a9ca7alevel0_row3\" class=\"row_heading level0 row3\" >hip hop</th>\n",
       "                        <td id=\"T_9f187364_246f_11eb_bd3e_7085c2a9ca7arow3_col0\" class=\"data row3 col0\" >0.200000</td>\n",
       "                        <td id=\"T_9f187364_246f_11eb_bd3e_7085c2a9ca7arow3_col1\" class=\"data row3 col1\" >0.057316</td>\n",
       "            </tr>\n",
       "            <tr>\n",
       "                        <th id=\"T_9f187364_246f_11eb_bd3e_7085c2a9ca7alevel0_row4\" class=\"row_heading level0 row4\" >pop rap</th>\n",
       "                        <td id=\"T_9f187364_246f_11eb_bd3e_7085c2a9ca7arow4_col0\" class=\"data row4 col0\" >0.189474</td>\n",
       "                        <td id=\"T_9f187364_246f_11eb_bd3e_7085c2a9ca7arow4_col1\" class=\"data row4 col1\" >0.073298</td>\n",
       "            </tr>\n",
       "            <tr>\n",
       "                        <th id=\"T_9f187364_246f_11eb_bd3e_7085c2a9ca7alevel0_row5\" class=\"row_heading level0 row5\" >post-teen pop</th>\n",
       "                        <td id=\"T_9f187364_246f_11eb_bd3e_7085c2a9ca7arow5_col0\" class=\"data row5 col0\" >0.126316</td>\n",
       "                        <td id=\"T_9f187364_246f_11eb_bd3e_7085c2a9ca7arow5_col1\" class=\"data row5 col1\" >0.060485</td>\n",
       "            </tr>\n",
       "            <tr>\n",
       "                        <th id=\"T_9f187364_246f_11eb_bd3e_7085c2a9ca7alevel0_row6\" class=\"row_heading level0 row6\" >hip pop</th>\n",
       "                        <td id=\"T_9f187364_246f_11eb_bd3e_7085c2a9ca7arow6_col0\" class=\"data row6 col0\" >0.105263</td>\n",
       "                        <td id=\"T_9f187364_246f_11eb_bd3e_7085c2a9ca7arow6_col1\" class=\"data row6 col1\" >0.024249</td>\n",
       "            </tr>\n",
       "    </tbody></table>"
      ],
      "text/plain": [
       "<pandas.io.formats.style.Styler at 0x29556271688>"
      ]
     },
     "metadata": {},
     "output_type": "display_data"
    },
    {
     "name": "stdout",
     "output_type": "stream",
     "text": [
      "Keyword Comparison\n"
     ]
    },
    {
     "data": {
      "text/html": [
       "<style  type=\"text/css\" >\n",
       "#T_9f1abbc6_246f_11eb_979b_7085c2a9ca7arow0_col0,#T_9f1abbc6_246f_11eb_979b_7085c2a9ca7arow1_col0,#T_9f1abbc6_246f_11eb_979b_7085c2a9ca7arow2_col0,#T_9f1abbc6_246f_11eb_979b_7085c2a9ca7arow3_col0,#T_9f1abbc6_246f_11eb_979b_7085c2a9ca7arow4_col1,#T_9f1abbc6_246f_11eb_979b_7085c2a9ca7arow5_col0,#T_9f1abbc6_246f_11eb_979b_7085c2a9ca7arow6_col0,#T_9f1abbc6_246f_11eb_979b_7085c2a9ca7arow7_col0,#T_9f1abbc6_246f_11eb_979b_7085c2a9ca7arow8_col0,#T_9f1abbc6_246f_11eb_979b_7085c2a9ca7arow9_col0,#T_9f1abbc6_246f_11eb_979b_7085c2a9ca7arow10_col0,#T_9f1abbc6_246f_11eb_979b_7085c2a9ca7arow11_col1{\n",
       "            background-color:  #023858;\n",
       "            color:  #f1f1f1;\n",
       "        }#T_9f1abbc6_246f_11eb_979b_7085c2a9ca7arow0_col1,#T_9f1abbc6_246f_11eb_979b_7085c2a9ca7arow1_col1,#T_9f1abbc6_246f_11eb_979b_7085c2a9ca7arow2_col1,#T_9f1abbc6_246f_11eb_979b_7085c2a9ca7arow3_col1,#T_9f1abbc6_246f_11eb_979b_7085c2a9ca7arow4_col0,#T_9f1abbc6_246f_11eb_979b_7085c2a9ca7arow5_col1,#T_9f1abbc6_246f_11eb_979b_7085c2a9ca7arow6_col1,#T_9f1abbc6_246f_11eb_979b_7085c2a9ca7arow7_col1,#T_9f1abbc6_246f_11eb_979b_7085c2a9ca7arow8_col1,#T_9f1abbc6_246f_11eb_979b_7085c2a9ca7arow9_col1,#T_9f1abbc6_246f_11eb_979b_7085c2a9ca7arow10_col1,#T_9f1abbc6_246f_11eb_979b_7085c2a9ca7arow11_col0{\n",
       "            background-color:  #fff7fb;\n",
       "            color:  #000000;\n",
       "        }</style><table id=\"T_9f1abbc6_246f_11eb_979b_7085c2a9ca7a\" ><thead>    <tr>        <th class=\"blank level0\" ></th>        <th class=\"col_heading level0 col0\" >cluster_4</th>        <th class=\"col_heading level0 col1\" >df</th>    </tr></thead><tbody>\n",
       "                <tr>\n",
       "                        <th id=\"T_9f1abbc6_246f_11eb_979b_7085c2a9ca7alevel0_row0\" class=\"row_heading level0 row0\" >pop</th>\n",
       "                        <td id=\"T_9f1abbc6_246f_11eb_979b_7085c2a9ca7arow0_col0\" class=\"data row0 col0\" >1.431579</td>\n",
       "                        <td id=\"T_9f1abbc6_246f_11eb_979b_7085c2a9ca7arow0_col1\" class=\"data row0 col1\" >0.949022</td>\n",
       "            </tr>\n",
       "            <tr>\n",
       "                        <th id=\"T_9f1abbc6_246f_11eb_979b_7085c2a9ca7alevel0_row1\" class=\"row_heading level0 row1\" >rap</th>\n",
       "                        <td id=\"T_9f1abbc6_246f_11eb_979b_7085c2a9ca7arow1_col0\" class=\"data row1 col0\" >0.747368</td>\n",
       "                        <td id=\"T_9f1abbc6_246f_11eb_979b_7085c2a9ca7arow1_col1\" class=\"data row1 col1\" >0.310003</td>\n",
       "            </tr>\n",
       "            <tr>\n",
       "                        <th id=\"T_9f1abbc6_246f_11eb_979b_7085c2a9ca7alevel0_row2\" class=\"row_heading level0 row2\" >hip</th>\n",
       "                        <td id=\"T_9f1abbc6_246f_11eb_979b_7085c2a9ca7arow2_col0\" class=\"data row2 col0\" >0.715789</td>\n",
       "                        <td id=\"T_9f1abbc6_246f_11eb_979b_7085c2a9ca7arow2_col1\" class=\"data row2 col1\" >0.274869</td>\n",
       "            </tr>\n",
       "            <tr>\n",
       "                        <th id=\"T_9f1abbc6_246f_11eb_979b_7085c2a9ca7alevel0_row3\" class=\"row_heading level0 row3\" >hop</th>\n",
       "                        <td id=\"T_9f1abbc6_246f_11eb_979b_7085c2a9ca7arow3_col0\" class=\"data row3 col0\" >0.600000</td>\n",
       "                        <td id=\"T_9f1abbc6_246f_11eb_979b_7085c2a9ca7arow3_col1\" class=\"data row3 col1\" >0.249931</td>\n",
       "            </tr>\n",
       "            <tr>\n",
       "                        <th id=\"T_9f1abbc6_246f_11eb_979b_7085c2a9ca7alevel0_row4\" class=\"row_heading level0 row4\" >rock</th>\n",
       "                        <td id=\"T_9f1abbc6_246f_11eb_979b_7085c2a9ca7arow4_col0\" class=\"data row4 col0\" >0.578947</td>\n",
       "                        <td id=\"T_9f1abbc6_246f_11eb_979b_7085c2a9ca7arow4_col1\" class=\"data row4 col1\" >0.744282</td>\n",
       "            </tr>\n",
       "            <tr>\n",
       "                        <th id=\"T_9f1abbc6_246f_11eb_979b_7085c2a9ca7alevel0_row5\" class=\"row_heading level0 row5\" >dance</th>\n",
       "                        <td id=\"T_9f1abbc6_246f_11eb_979b_7085c2a9ca7arow5_col0\" class=\"data row5 col0\" >0.305263</td>\n",
       "                        <td id=\"T_9f1abbc6_246f_11eb_979b_7085c2a9ca7arow5_col1\" class=\"data row5 col1\" >0.181455</td>\n",
       "            </tr>\n",
       "            <tr>\n",
       "                        <th id=\"T_9f1abbc6_246f_11eb_979b_7085c2a9ca7alevel0_row6\" class=\"row_heading level0 row6\" >soul</th>\n",
       "                        <td id=\"T_9f1abbc6_246f_11eb_979b_7085c2a9ca7arow6_col0\" class=\"data row6 col0\" >0.252632</td>\n",
       "                        <td id=\"T_9f1abbc6_246f_11eb_979b_7085c2a9ca7arow6_col1\" class=\"data row6 col1\" >0.185864</td>\n",
       "            </tr>\n",
       "            <tr>\n",
       "                        <th id=\"T_9f1abbc6_246f_11eb_979b_7085c2a9ca7alevel0_row7\" class=\"row_heading level0 row7\" >trap</th>\n",
       "                        <td id=\"T_9f1abbc6_246f_11eb_979b_7085c2a9ca7arow7_col0\" class=\"data row7 col0\" >0.221053</td>\n",
       "                        <td id=\"T_9f1abbc6_246f_11eb_979b_7085c2a9ca7arow7_col1\" class=\"data row7 col1\" >0.084459</td>\n",
       "            </tr>\n",
       "            <tr>\n",
       "                        <th id=\"T_9f1abbc6_246f_11eb_979b_7085c2a9ca7alevel0_row8\" class=\"row_heading level0 row8\" >r&b</th>\n",
       "                        <td id=\"T_9f1abbc6_246f_11eb_979b_7085c2a9ca7arow8_col0\" class=\"data row8 col0\" >0.200000</td>\n",
       "                        <td id=\"T_9f1abbc6_246f_11eb_979b_7085c2a9ca7arow8_col1\" class=\"data row8 col1\" >0.139157</td>\n",
       "            </tr>\n",
       "            <tr>\n",
       "                        <th id=\"T_9f1abbc6_246f_11eb_979b_7085c2a9ca7alevel0_row9\" class=\"row_heading level0 row9\" >funk</th>\n",
       "                        <td id=\"T_9f1abbc6_246f_11eb_979b_7085c2a9ca7arow9_col0\" class=\"data row9 col0\" >0.189474</td>\n",
       "                        <td id=\"T_9f1abbc6_246f_11eb_979b_7085c2a9ca7arow9_col1\" class=\"data row9 col1\" >0.090934</td>\n",
       "            </tr>\n",
       "            <tr>\n",
       "                        <th id=\"T_9f1abbc6_246f_11eb_979b_7085c2a9ca7alevel0_row10\" class=\"row_heading level0 row10\" >house</th>\n",
       "                        <td id=\"T_9f1abbc6_246f_11eb_979b_7085c2a9ca7arow10_col0\" class=\"data row10 col0\" >0.147368</td>\n",
       "                        <td id=\"T_9f1abbc6_246f_11eb_979b_7085c2a9ca7arow10_col1\" class=\"data row10 col1\" >0.105814</td>\n",
       "            </tr>\n",
       "            <tr>\n",
       "                        <th id=\"T_9f1abbc6_246f_11eb_979b_7085c2a9ca7alevel0_row11\" class=\"row_heading level0 row11\" >indie</th>\n",
       "                        <td id=\"T_9f1abbc6_246f_11eb_979b_7085c2a9ca7arow11_col0\" class=\"data row11 col0\" >0.136842</td>\n",
       "                        <td id=\"T_9f1abbc6_246f_11eb_979b_7085c2a9ca7arow11_col1\" class=\"data row11 col1\" >0.285478</td>\n",
       "            </tr>\n",
       "    </tbody></table>"
      ],
      "text/plain": [
       "<pandas.io.formats.style.Styler at 0x29557bfb848>"
      ]
     },
     "metadata": {},
     "output_type": "display_data"
    },
    {
     "name": "stdout",
     "output_type": "stream",
     "text": [
      "Micro Genre Comparison\n"
     ]
    },
    {
     "data": {
      "text/html": [
       "<style  type=\"text/css\" >\n",
       "#T_9f1cb636_246f_11eb_a234_7085c2a9ca7arow0_col0,#T_9f1cb636_246f_11eb_a234_7085c2a9ca7arow1_col0,#T_9f1cb636_246f_11eb_a234_7085c2a9ca7arow2_col0,#T_9f1cb636_246f_11eb_a234_7085c2a9ca7arow3_col0,#T_9f1cb636_246f_11eb_a234_7085c2a9ca7arow4_col0,#T_9f1cb636_246f_11eb_a234_7085c2a9ca7arow5_col0,#T_9f1cb636_246f_11eb_a234_7085c2a9ca7arow6_col0{\n",
       "            background-color:  #023858;\n",
       "            color:  #f1f1f1;\n",
       "        }#T_9f1cb636_246f_11eb_a234_7085c2a9ca7arow0_col1,#T_9f1cb636_246f_11eb_a234_7085c2a9ca7arow1_col1,#T_9f1cb636_246f_11eb_a234_7085c2a9ca7arow2_col1,#T_9f1cb636_246f_11eb_a234_7085c2a9ca7arow3_col1,#T_9f1cb636_246f_11eb_a234_7085c2a9ca7arow4_col1,#T_9f1cb636_246f_11eb_a234_7085c2a9ca7arow5_col1,#T_9f1cb636_246f_11eb_a234_7085c2a9ca7arow6_col1{\n",
       "            background-color:  #fff7fb;\n",
       "            color:  #000000;\n",
       "        }</style><table id=\"T_9f1cb636_246f_11eb_a234_7085c2a9ca7a\" ><thead>    <tr>        <th class=\"blank level0\" ></th>        <th class=\"col_heading level0 col0\" >cluster_5</th>        <th class=\"col_heading level0 col1\" >df</th>    </tr></thead><tbody>\n",
       "                <tr>\n",
       "                        <th id=\"T_9f1cb636_246f_11eb_a234_7085c2a9ca7alevel0_row0\" class=\"row_heading level0 row0\" >pop</th>\n",
       "                        <td id=\"T_9f1cb636_246f_11eb_a234_7085c2a9ca7arow0_col0\" class=\"data row0 col0\" >0.500000</td>\n",
       "                        <td id=\"T_9f1cb636_246f_11eb_a234_7085c2a9ca7arow0_col1\" class=\"data row0 col1\" >0.170846</td>\n",
       "            </tr>\n",
       "            <tr>\n",
       "                        <th id=\"T_9f1cb636_246f_11eb_a234_7085c2a9ca7alevel0_row1\" class=\"row_heading level0 row1\" >dance pop</th>\n",
       "                        <td id=\"T_9f1cb636_246f_11eb_a234_7085c2a9ca7arow1_col0\" class=\"data row1 col0\" >0.458333</td>\n",
       "                        <td id=\"T_9f1cb636_246f_11eb_a234_7085c2a9ca7arow1_col1\" class=\"data row1 col1\" >0.121659</td>\n",
       "            </tr>\n",
       "            <tr>\n",
       "                        <th id=\"T_9f1cb636_246f_11eb_a234_7085c2a9ca7alevel0_row2\" class=\"row_heading level0 row2\" >urban contemporary</th>\n",
       "                        <td id=\"T_9f1cb636_246f_11eb_a234_7085c2a9ca7arow2_col0\" class=\"data row2 col0\" >0.291667</td>\n",
       "                        <td id=\"T_9f1cb636_246f_11eb_a234_7085c2a9ca7arow2_col1\" class=\"data row2 col1\" >0.054974</td>\n",
       "            </tr>\n",
       "            <tr>\n",
       "                        <th id=\"T_9f1cb636_246f_11eb_a234_7085c2a9ca7alevel0_row3\" class=\"row_heading level0 row3\" >r&b</th>\n",
       "                        <td id=\"T_9f1cb636_246f_11eb_a234_7085c2a9ca7arow3_col0\" class=\"data row3 col0\" >0.291667</td>\n",
       "                        <td id=\"T_9f1cb636_246f_11eb_a234_7085c2a9ca7arow3_col1\" class=\"data row3 col1\" >0.052080</td>\n",
       "            </tr>\n",
       "            <tr>\n",
       "                        <th id=\"T_9f1cb636_246f_11eb_a234_7085c2a9ca7alevel0_row4\" class=\"row_heading level0 row4\" >trap</th>\n",
       "                        <td id=\"T_9f1cb636_246f_11eb_a234_7085c2a9ca7arow4_col0\" class=\"data row4 col0\" >0.250000</td>\n",
       "                        <td id=\"T_9f1cb636_246f_11eb_a234_7085c2a9ca7arow4_col1\" class=\"data row4 col1\" >0.041058</td>\n",
       "            </tr>\n",
       "            <tr>\n",
       "                        <th id=\"T_9f1cb636_246f_11eb_a234_7085c2a9ca7alevel0_row5\" class=\"row_heading level0 row5\" >rap</th>\n",
       "                        <td id=\"T_9f1cb636_246f_11eb_a234_7085c2a9ca7arow5_col0\" class=\"data row5 col0\" >0.250000</td>\n",
       "                        <td id=\"T_9f1cb636_246f_11eb_a234_7085c2a9ca7arow5_col1\" class=\"data row5 col1\" >0.077983</td>\n",
       "            </tr>\n",
       "            <tr>\n",
       "                        <th id=\"T_9f1cb636_246f_11eb_a234_7085c2a9ca7alevel0_row6\" class=\"row_heading level0 row6\" >pop rap</th>\n",
       "                        <td id=\"T_9f1cb636_246f_11eb_a234_7085c2a9ca7arow6_col0\" class=\"data row6 col0\" >0.208333</td>\n",
       "                        <td id=\"T_9f1cb636_246f_11eb_a234_7085c2a9ca7arow6_col1\" class=\"data row6 col1\" >0.073298</td>\n",
       "            </tr>\n",
       "    </tbody></table>"
      ],
      "text/plain": [
       "<pandas.io.formats.style.Styler at 0x2954a585d48>"
      ]
     },
     "metadata": {},
     "output_type": "display_data"
    },
    {
     "name": "stdout",
     "output_type": "stream",
     "text": [
      "Keyword Comparison\n"
     ]
    },
    {
     "data": {
      "text/html": [
       "<style  type=\"text/css\" >\n",
       "#T_9f1ed7a4_246f_11eb_804e_7085c2a9ca7arow0_col0,#T_9f1ed7a4_246f_11eb_804e_7085c2a9ca7arow1_col0,#T_9f1ed7a4_246f_11eb_804e_7085c2a9ca7arow2_col0,#T_9f1ed7a4_246f_11eb_804e_7085c2a9ca7arow3_col0,#T_9f1ed7a4_246f_11eb_804e_7085c2a9ca7arow4_col0,#T_9f1ed7a4_246f_11eb_804e_7085c2a9ca7arow5_col0,#T_9f1ed7a4_246f_11eb_804e_7085c2a9ca7arow6_col1,#T_9f1ed7a4_246f_11eb_804e_7085c2a9ca7arow7_col0,#T_9f1ed7a4_246f_11eb_804e_7085c2a9ca7arow8_col0,#T_9f1ed7a4_246f_11eb_804e_7085c2a9ca7arow9_col0,#T_9f1ed7a4_246f_11eb_804e_7085c2a9ca7arow10_col0,#T_9f1ed7a4_246f_11eb_804e_7085c2a9ca7arow11_col0{\n",
       "            background-color:  #023858;\n",
       "            color:  #f1f1f1;\n",
       "        }#T_9f1ed7a4_246f_11eb_804e_7085c2a9ca7arow0_col1,#T_9f1ed7a4_246f_11eb_804e_7085c2a9ca7arow1_col1,#T_9f1ed7a4_246f_11eb_804e_7085c2a9ca7arow2_col1,#T_9f1ed7a4_246f_11eb_804e_7085c2a9ca7arow3_col1,#T_9f1ed7a4_246f_11eb_804e_7085c2a9ca7arow4_col1,#T_9f1ed7a4_246f_11eb_804e_7085c2a9ca7arow5_col1,#T_9f1ed7a4_246f_11eb_804e_7085c2a9ca7arow6_col0,#T_9f1ed7a4_246f_11eb_804e_7085c2a9ca7arow7_col1,#T_9f1ed7a4_246f_11eb_804e_7085c2a9ca7arow8_col1,#T_9f1ed7a4_246f_11eb_804e_7085c2a9ca7arow9_col1,#T_9f1ed7a4_246f_11eb_804e_7085c2a9ca7arow10_col1,#T_9f1ed7a4_246f_11eb_804e_7085c2a9ca7arow11_col1{\n",
       "            background-color:  #fff7fb;\n",
       "            color:  #000000;\n",
       "        }</style><table id=\"T_9f1ed7a4_246f_11eb_804e_7085c2a9ca7a\" ><thead>    <tr>        <th class=\"blank level0\" ></th>        <th class=\"col_heading level0 col0\" >cluster_5</th>        <th class=\"col_heading level0 col1\" >df</th>    </tr></thead><tbody>\n",
       "                <tr>\n",
       "                        <th id=\"T_9f1ed7a4_246f_11eb_804e_7085c2a9ca7alevel0_row0\" class=\"row_heading level0 row0\" >pop</th>\n",
       "                        <td id=\"T_9f1ed7a4_246f_11eb_804e_7085c2a9ca7arow0_col0\" class=\"data row0 col0\" >1.833333</td>\n",
       "                        <td id=\"T_9f1ed7a4_246f_11eb_804e_7085c2a9ca7arow0_col1\" class=\"data row0 col1\" >0.949022</td>\n",
       "            </tr>\n",
       "            <tr>\n",
       "                        <th id=\"T_9f1ed7a4_246f_11eb_804e_7085c2a9ca7alevel0_row1\" class=\"row_heading level0 row1\" >hip</th>\n",
       "                        <td id=\"T_9f1ed7a4_246f_11eb_804e_7085c2a9ca7arow1_col0\" class=\"data row1 col0\" >0.791667</td>\n",
       "                        <td id=\"T_9f1ed7a4_246f_11eb_804e_7085c2a9ca7arow1_col1\" class=\"data row1 col1\" >0.274869</td>\n",
       "            </tr>\n",
       "            <tr>\n",
       "                        <th id=\"T_9f1ed7a4_246f_11eb_804e_7085c2a9ca7alevel0_row2\" class=\"row_heading level0 row2\" >rap</th>\n",
       "                        <td id=\"T_9f1ed7a4_246f_11eb_804e_7085c2a9ca7arow2_col0\" class=\"data row2 col0\" >0.750000</td>\n",
       "                        <td id=\"T_9f1ed7a4_246f_11eb_804e_7085c2a9ca7arow2_col1\" class=\"data row2 col1\" >0.310003</td>\n",
       "            </tr>\n",
       "            <tr>\n",
       "                        <th id=\"T_9f1ed7a4_246f_11eb_804e_7085c2a9ca7alevel0_row3\" class=\"row_heading level0 row3\" >hop</th>\n",
       "                        <td id=\"T_9f1ed7a4_246f_11eb_804e_7085c2a9ca7arow3_col0\" class=\"data row3 col0\" >0.625000</td>\n",
       "                        <td id=\"T_9f1ed7a4_246f_11eb_804e_7085c2a9ca7arow3_col1\" class=\"data row3 col1\" >0.249931</td>\n",
       "            </tr>\n",
       "            <tr>\n",
       "                        <th id=\"T_9f1ed7a4_246f_11eb_804e_7085c2a9ca7alevel0_row4\" class=\"row_heading level0 row4\" >dance</th>\n",
       "                        <td id=\"T_9f1ed7a4_246f_11eb_804e_7085c2a9ca7arow4_col0\" class=\"data row4 col0\" >0.541667</td>\n",
       "                        <td id=\"T_9f1ed7a4_246f_11eb_804e_7085c2a9ca7arow4_col1\" class=\"data row4 col1\" >0.181455</td>\n",
       "            </tr>\n",
       "            <tr>\n",
       "                        <th id=\"T_9f1ed7a4_246f_11eb_804e_7085c2a9ca7alevel0_row5\" class=\"row_heading level0 row5\" >r&b</th>\n",
       "                        <td id=\"T_9f1ed7a4_246f_11eb_804e_7085c2a9ca7arow5_col0\" class=\"data row5 col0\" >0.458333</td>\n",
       "                        <td id=\"T_9f1ed7a4_246f_11eb_804e_7085c2a9ca7arow5_col1\" class=\"data row5 col1\" >0.139157</td>\n",
       "            </tr>\n",
       "            <tr>\n",
       "                        <th id=\"T_9f1ed7a4_246f_11eb_804e_7085c2a9ca7alevel0_row6\" class=\"row_heading level0 row6\" >rock</th>\n",
       "                        <td id=\"T_9f1ed7a4_246f_11eb_804e_7085c2a9ca7arow6_col0\" class=\"data row6 col0\" >0.416667</td>\n",
       "                        <td id=\"T_9f1ed7a4_246f_11eb_804e_7085c2a9ca7arow6_col1\" class=\"data row6 col1\" >0.744282</td>\n",
       "            </tr>\n",
       "            <tr>\n",
       "                        <th id=\"T_9f1ed7a4_246f_11eb_804e_7085c2a9ca7alevel0_row7\" class=\"row_heading level0 row7\" >contemporary</th>\n",
       "                        <td id=\"T_9f1ed7a4_246f_11eb_804e_7085c2a9ca7arow7_col0\" class=\"data row7 col0\" >0.291667</td>\n",
       "                        <td id=\"T_9f1ed7a4_246f_11eb_804e_7085c2a9ca7arow7_col1\" class=\"data row7 col1\" >0.119868</td>\n",
       "            </tr>\n",
       "            <tr>\n",
       "                        <th id=\"T_9f1ed7a4_246f_11eb_804e_7085c2a9ca7alevel0_row8\" class=\"row_heading level0 row8\" >urban</th>\n",
       "                        <td id=\"T_9f1ed7a4_246f_11eb_804e_7085c2a9ca7arow8_col0\" class=\"data row8 col0\" >0.291667</td>\n",
       "                        <td id=\"T_9f1ed7a4_246f_11eb_804e_7085c2a9ca7arow8_col1\" class=\"data row8 col1\" >0.054974</td>\n",
       "            </tr>\n",
       "            <tr>\n",
       "                        <th id=\"T_9f1ed7a4_246f_11eb_804e_7085c2a9ca7alevel0_row9\" class=\"row_heading level0 row9\" >trap</th>\n",
       "                        <td id=\"T_9f1ed7a4_246f_11eb_804e_7085c2a9ca7arow9_col0\" class=\"data row9 col0\" >0.250000</td>\n",
       "                        <td id=\"T_9f1ed7a4_246f_11eb_804e_7085c2a9ca7arow9_col1\" class=\"data row9 col1\" >0.084459</td>\n",
       "            </tr>\n",
       "            <tr>\n",
       "                        <th id=\"T_9f1ed7a4_246f_11eb_804e_7085c2a9ca7alevel0_row10\" class=\"row_heading level0 row10\" >house</th>\n",
       "                        <td id=\"T_9f1ed7a4_246f_11eb_804e_7085c2a9ca7arow10_col0\" class=\"data row10 col0\" >0.208333</td>\n",
       "                        <td id=\"T_9f1ed7a4_246f_11eb_804e_7085c2a9ca7arow10_col1\" class=\"data row10 col1\" >0.105814</td>\n",
       "            </tr>\n",
       "            <tr>\n",
       "                        <th id=\"T_9f1ed7a4_246f_11eb_804e_7085c2a9ca7alevel0_row11\" class=\"row_heading level0 row11\" >post-teen</th>\n",
       "                        <td id=\"T_9f1ed7a4_246f_11eb_804e_7085c2a9ca7arow11_col0\" class=\"data row11 col0\" >0.166667</td>\n",
       "                        <td id=\"T_9f1ed7a4_246f_11eb_804e_7085c2a9ca7arow11_col1\" class=\"data row11 col1\" >0.060485</td>\n",
       "            </tr>\n",
       "    </tbody></table>"
      ],
      "text/plain": [
       "<pandas.io.formats.style.Styler at 0x2955637c648>"
      ]
     },
     "metadata": {},
     "output_type": "display_data"
    },
    {
     "name": "stdout",
     "output_type": "stream",
     "text": [
      "Micro Genre Comparison\n"
     ]
    },
    {
     "data": {
      "text/html": [
       "<style  type=\"text/css\" >\n",
       "#T_9f20d212_246f_11eb_bb8d_7085c2a9ca7arow0_col0,#T_9f20d212_246f_11eb_bb8d_7085c2a9ca7arow1_col0,#T_9f20d212_246f_11eb_bb8d_7085c2a9ca7arow2_col0,#T_9f20d212_246f_11eb_bb8d_7085c2a9ca7arow3_col0,#T_9f20d212_246f_11eb_bb8d_7085c2a9ca7arow4_col0,#T_9f20d212_246f_11eb_bb8d_7085c2a9ca7arow5_col0,#T_9f20d212_246f_11eb_bb8d_7085c2a9ca7arow6_col1{\n",
       "            background-color:  #023858;\n",
       "            color:  #f1f1f1;\n",
       "        }#T_9f20d212_246f_11eb_bb8d_7085c2a9ca7arow0_col1,#T_9f20d212_246f_11eb_bb8d_7085c2a9ca7arow1_col1,#T_9f20d212_246f_11eb_bb8d_7085c2a9ca7arow2_col1,#T_9f20d212_246f_11eb_bb8d_7085c2a9ca7arow3_col1,#T_9f20d212_246f_11eb_bb8d_7085c2a9ca7arow4_col1,#T_9f20d212_246f_11eb_bb8d_7085c2a9ca7arow5_col1,#T_9f20d212_246f_11eb_bb8d_7085c2a9ca7arow6_col0{\n",
       "            background-color:  #fff7fb;\n",
       "            color:  #000000;\n",
       "        }</style><table id=\"T_9f20d212_246f_11eb_bb8d_7085c2a9ca7a\" ><thead>    <tr>        <th class=\"blank level0\" ></th>        <th class=\"col_heading level0 col0\" >cluster_2</th>        <th class=\"col_heading level0 col1\" >df</th>    </tr></thead><tbody>\n",
       "                <tr>\n",
       "                        <th id=\"T_9f20d212_246f_11eb_bb8d_7085c2a9ca7alevel0_row0\" class=\"row_heading level0 row0\" >dancehall</th>\n",
       "                        <td id=\"T_9f20d212_246f_11eb_bb8d_7085c2a9ca7arow0_col0\" class=\"data row0 col0\" >0.879310</td>\n",
       "                        <td id=\"T_9f20d212_246f_11eb_bb8d_7085c2a9ca7arow0_col1\" class=\"data row0 col1\" >0.023422</td>\n",
       "            </tr>\n",
       "            <tr>\n",
       "                        <th id=\"T_9f20d212_246f_11eb_bb8d_7085c2a9ca7alevel0_row1\" class=\"row_heading level0 row1\" >reggae fusion</th>\n",
       "                        <td id=\"T_9f20d212_246f_11eb_bb8d_7085c2a9ca7arow1_col0\" class=\"data row1 col0\" >0.534483</td>\n",
       "                        <td id=\"T_9f20d212_246f_11eb_bb8d_7085c2a9ca7arow1_col1\" class=\"data row1 col1\" >0.013916</td>\n",
       "            </tr>\n",
       "            <tr>\n",
       "                        <th id=\"T_9f20d212_246f_11eb_bb8d_7085c2a9ca7alevel0_row2\" class=\"row_heading level0 row2\" >modern reggae</th>\n",
       "                        <td id=\"T_9f20d212_246f_11eb_bb8d_7085c2a9ca7arow2_col0\" class=\"data row2 col0\" >0.413793</td>\n",
       "                        <td id=\"T_9f20d212_246f_11eb_bb8d_7085c2a9ca7arow2_col1\" class=\"data row2 col1\" >0.015293</td>\n",
       "            </tr>\n",
       "            <tr>\n",
       "                        <th id=\"T_9f20d212_246f_11eb_bb8d_7085c2a9ca7alevel0_row3\" class=\"row_heading level0 row3\" >soca</th>\n",
       "                        <td id=\"T_9f20d212_246f_11eb_bb8d_7085c2a9ca7arow3_col0\" class=\"data row3 col0\" >0.172414</td>\n",
       "                        <td id=\"T_9f20d212_246f_11eb_bb8d_7085c2a9ca7arow3_col1\" class=\"data row3 col1\" >0.002756</td>\n",
       "            </tr>\n",
       "            <tr>\n",
       "                        <th id=\"T_9f20d212_246f_11eb_bb8d_7085c2a9ca7alevel0_row4\" class=\"row_heading level0 row4\" >lovers rock</th>\n",
       "                        <td id=\"T_9f20d212_246f_11eb_bb8d_7085c2a9ca7arow4_col0\" class=\"data row4 col0\" >0.137931</td>\n",
       "                        <td id=\"T_9f20d212_246f_11eb_bb8d_7085c2a9ca7arow4_col1\" class=\"data row4 col1\" >0.009093</td>\n",
       "            </tr>\n",
       "            <tr>\n",
       "                        <th id=\"T_9f20d212_246f_11eb_bb8d_7085c2a9ca7alevel0_row5\" class=\"row_heading level0 row5\" >uk dancehall</th>\n",
       "                        <td id=\"T_9f20d212_246f_11eb_bb8d_7085c2a9ca7arow5_col0\" class=\"data row5 col0\" >0.103448</td>\n",
       "                        <td id=\"T_9f20d212_246f_11eb_bb8d_7085c2a9ca7arow5_col1\" class=\"data row5 col1\" >0.003031</td>\n",
       "            </tr>\n",
       "            <tr>\n",
       "                        <th id=\"T_9f20d212_246f_11eb_bb8d_7085c2a9ca7alevel0_row6\" class=\"row_heading level0 row6\" >pop rap</th>\n",
       "                        <td id=\"T_9f20d212_246f_11eb_bb8d_7085c2a9ca7arow6_col0\" class=\"data row6 col0\" >0.068966</td>\n",
       "                        <td id=\"T_9f20d212_246f_11eb_bb8d_7085c2a9ca7arow6_col1\" class=\"data row6 col1\" >0.073298</td>\n",
       "            </tr>\n",
       "    </tbody></table>"
      ],
      "text/plain": [
       "<pandas.io.formats.style.Styler at 0x29556361688>"
      ]
     },
     "metadata": {},
     "output_type": "display_data"
    },
    {
     "name": "stdout",
     "output_type": "stream",
     "text": [
      "Keyword Comparison\n"
     ]
    },
    {
     "data": {
      "text/html": [
       "<style  type=\"text/css\" >\n",
       "#T_9f231a6e_246f_11eb_88c0_7085c2a9ca7arow0_col0,#T_9f231a6e_246f_11eb_88c0_7085c2a9ca7arow1_col0,#T_9f231a6e_246f_11eb_88c0_7085c2a9ca7arow2_col0,#T_9f231a6e_246f_11eb_88c0_7085c2a9ca7arow3_col0,#T_9f231a6e_246f_11eb_88c0_7085c2a9ca7arow4_col1,#T_9f231a6e_246f_11eb_88c0_7085c2a9ca7arow5_col1,#T_9f231a6e_246f_11eb_88c0_7085c2a9ca7arow6_col1,#T_9f231a6e_246f_11eb_88c0_7085c2a9ca7arow7_col0,#T_9f231a6e_246f_11eb_88c0_7085c2a9ca7arow8_col0,#T_9f231a6e_246f_11eb_88c0_7085c2a9ca7arow9_col0,#T_9f231a6e_246f_11eb_88c0_7085c2a9ca7arow10_col1,#T_9f231a6e_246f_11eb_88c0_7085c2a9ca7arow11_col1{\n",
       "            background-color:  #023858;\n",
       "            color:  #f1f1f1;\n",
       "        }#T_9f231a6e_246f_11eb_88c0_7085c2a9ca7arow0_col1,#T_9f231a6e_246f_11eb_88c0_7085c2a9ca7arow1_col1,#T_9f231a6e_246f_11eb_88c0_7085c2a9ca7arow2_col1,#T_9f231a6e_246f_11eb_88c0_7085c2a9ca7arow3_col1,#T_9f231a6e_246f_11eb_88c0_7085c2a9ca7arow4_col0,#T_9f231a6e_246f_11eb_88c0_7085c2a9ca7arow5_col0,#T_9f231a6e_246f_11eb_88c0_7085c2a9ca7arow6_col0,#T_9f231a6e_246f_11eb_88c0_7085c2a9ca7arow7_col1,#T_9f231a6e_246f_11eb_88c0_7085c2a9ca7arow8_col1,#T_9f231a6e_246f_11eb_88c0_7085c2a9ca7arow9_col1,#T_9f231a6e_246f_11eb_88c0_7085c2a9ca7arow10_col0,#T_9f231a6e_246f_11eb_88c0_7085c2a9ca7arow11_col0{\n",
       "            background-color:  #fff7fb;\n",
       "            color:  #000000;\n",
       "        }</style><table id=\"T_9f231a6e_246f_11eb_88c0_7085c2a9ca7a\" ><thead>    <tr>        <th class=\"blank level0\" ></th>        <th class=\"col_heading level0 col0\" >cluster_2</th>        <th class=\"col_heading level0 col1\" >df</th>    </tr></thead><tbody>\n",
       "                <tr>\n",
       "                        <th id=\"T_9f231a6e_246f_11eb_88c0_7085c2a9ca7alevel0_row0\" class=\"row_heading level0 row0\" >reggae</th>\n",
       "                        <td id=\"T_9f231a6e_246f_11eb_88c0_7085c2a9ca7arow0_col0\" class=\"data row0 col0\" >1.086207</td>\n",
       "                        <td id=\"T_9f231a6e_246f_11eb_88c0_7085c2a9ca7arow0_col1\" class=\"data row0 col1\" >0.060347</td>\n",
       "            </tr>\n",
       "            <tr>\n",
       "                        <th id=\"T_9f231a6e_246f_11eb_88c0_7085c2a9ca7alevel0_row1\" class=\"row_heading level0 row1\" >dancehall</th>\n",
       "                        <td id=\"T_9f231a6e_246f_11eb_88c0_7085c2a9ca7arow1_col0\" class=\"data row1 col0\" >1.034483</td>\n",
       "                        <td id=\"T_9f231a6e_246f_11eb_88c0_7085c2a9ca7arow1_col1\" class=\"data row1 col1\" >0.037889</td>\n",
       "            </tr>\n",
       "            <tr>\n",
       "                        <th id=\"T_9f231a6e_246f_11eb_88c0_7085c2a9ca7alevel0_row2\" class=\"row_heading level0 row2\" >fusion</th>\n",
       "                        <td id=\"T_9f231a6e_246f_11eb_88c0_7085c2a9ca7arow2_col0\" class=\"data row2 col0\" >0.534483</td>\n",
       "                        <td id=\"T_9f231a6e_246f_11eb_88c0_7085c2a9ca7arow2_col1\" class=\"data row2 col1\" >0.022045</td>\n",
       "            </tr>\n",
       "            <tr>\n",
       "                        <th id=\"T_9f231a6e_246f_11eb_88c0_7085c2a9ca7alevel0_row3\" class=\"row_heading level0 row3\" >modern</th>\n",
       "                        <td id=\"T_9f231a6e_246f_11eb_88c0_7085c2a9ca7arow3_col0\" class=\"data row3 col0\" >0.413793</td>\n",
       "                        <td id=\"T_9f231a6e_246f_11eb_88c0_7085c2a9ca7arow3_col1\" class=\"data row3 col1\" >0.126481</td>\n",
       "            </tr>\n",
       "            <tr>\n",
       "                        <th id=\"T_9f231a6e_246f_11eb_88c0_7085c2a9ca7alevel0_row4\" class=\"row_heading level0 row4\" >pop</th>\n",
       "                        <td id=\"T_9f231a6e_246f_11eb_88c0_7085c2a9ca7arow4_col0\" class=\"data row4 col0\" >0.241379</td>\n",
       "                        <td id=\"T_9f231a6e_246f_11eb_88c0_7085c2a9ca7arow4_col1\" class=\"data row4 col1\" >0.949022</td>\n",
       "            </tr>\n",
       "            <tr>\n",
       "                        <th id=\"T_9f231a6e_246f_11eb_88c0_7085c2a9ca7alevel0_row5\" class=\"row_heading level0 row5\" >hop</th>\n",
       "                        <td id=\"T_9f231a6e_246f_11eb_88c0_7085c2a9ca7arow5_col0\" class=\"data row5 col0\" >0.206897</td>\n",
       "                        <td id=\"T_9f231a6e_246f_11eb_88c0_7085c2a9ca7arow5_col1\" class=\"data row5 col1\" >0.249931</td>\n",
       "            </tr>\n",
       "            <tr>\n",
       "                        <th id=\"T_9f231a6e_246f_11eb_88c0_7085c2a9ca7alevel0_row6\" class=\"row_heading level0 row6\" >hip</th>\n",
       "                        <td id=\"T_9f231a6e_246f_11eb_88c0_7085c2a9ca7arow6_col0\" class=\"data row6 col0\" >0.206897</td>\n",
       "                        <td id=\"T_9f231a6e_246f_11eb_88c0_7085c2a9ca7arow6_col1\" class=\"data row6 col1\" >0.274869</td>\n",
       "            </tr>\n",
       "            <tr>\n",
       "                        <th id=\"T_9f231a6e_246f_11eb_88c0_7085c2a9ca7alevel0_row7\" class=\"row_heading level0 row7\" >uk</th>\n",
       "                        <td id=\"T_9f231a6e_246f_11eb_88c0_7085c2a9ca7arow7_col0\" class=\"data row7 col0\" >0.172414</td>\n",
       "                        <td id=\"T_9f231a6e_246f_11eb_88c0_7085c2a9ca7arow7_col1\" class=\"data row7 col1\" >0.062138</td>\n",
       "            </tr>\n",
       "            <tr>\n",
       "                        <th id=\"T_9f231a6e_246f_11eb_88c0_7085c2a9ca7alevel0_row8\" class=\"row_heading level0 row8\" >soca</th>\n",
       "                        <td id=\"T_9f231a6e_246f_11eb_88c0_7085c2a9ca7arow8_col0\" class=\"data row8 col0\" >0.172414</td>\n",
       "                        <td id=\"T_9f231a6e_246f_11eb_88c0_7085c2a9ca7arow8_col1\" class=\"data row8 col1\" >0.002756</td>\n",
       "            </tr>\n",
       "            <tr>\n",
       "                        <th id=\"T_9f231a6e_246f_11eb_88c0_7085c2a9ca7alevel0_row9\" class=\"row_heading level0 row9\" >lovers</th>\n",
       "                        <td id=\"T_9f231a6e_246f_11eb_88c0_7085c2a9ca7arow9_col0\" class=\"data row9 col0\" >0.137931</td>\n",
       "                        <td id=\"T_9f231a6e_246f_11eb_88c0_7085c2a9ca7arow9_col1\" class=\"data row9 col1\" >0.009093</td>\n",
       "            </tr>\n",
       "            <tr>\n",
       "                        <th id=\"T_9f231a6e_246f_11eb_88c0_7085c2a9ca7alevel0_row10\" class=\"row_heading level0 row10\" >rock</th>\n",
       "                        <td id=\"T_9f231a6e_246f_11eb_88c0_7085c2a9ca7arow10_col0\" class=\"data row10 col0\" >0.137931</td>\n",
       "                        <td id=\"T_9f231a6e_246f_11eb_88c0_7085c2a9ca7arow10_col1\" class=\"data row10 col1\" >0.744282</td>\n",
       "            </tr>\n",
       "            <tr>\n",
       "                        <th id=\"T_9f231a6e_246f_11eb_88c0_7085c2a9ca7alevel0_row11\" class=\"row_heading level0 row11\" >rap</th>\n",
       "                        <td id=\"T_9f231a6e_246f_11eb_88c0_7085c2a9ca7arow11_col0\" class=\"data row11 col0\" >0.103448</td>\n",
       "                        <td id=\"T_9f231a6e_246f_11eb_88c0_7085c2a9ca7arow11_col1\" class=\"data row11 col1\" >0.310003</td>\n",
       "            </tr>\n",
       "    </tbody></table>"
      ],
      "text/plain": [
       "<pandas.io.formats.style.Styler at 0x29556296988>"
      ]
     },
     "metadata": {},
     "output_type": "display_data"
    },
    {
     "name": "stdout",
     "output_type": "stream",
     "text": [
      "Micro Genre Comparison\n"
     ]
    },
    {
     "data": {
      "text/html": [
       "<style  type=\"text/css\" >\n",
       "#T_9f24edf4_246f_11eb_9d69_7085c2a9ca7arow0_col0,#T_9f24edf4_246f_11eb_9d69_7085c2a9ca7arow1_col0,#T_9f24edf4_246f_11eb_9d69_7085c2a9ca7arow2_col0,#T_9f24edf4_246f_11eb_9d69_7085c2a9ca7arow3_col0,#T_9f24edf4_246f_11eb_9d69_7085c2a9ca7arow4_col0,#T_9f24edf4_246f_11eb_9d69_7085c2a9ca7arow5_col0,#T_9f24edf4_246f_11eb_9d69_7085c2a9ca7arow6_col0{\n",
       "            background-color:  #023858;\n",
       "            color:  #f1f1f1;\n",
       "        }#T_9f24edf4_246f_11eb_9d69_7085c2a9ca7arow0_col1,#T_9f24edf4_246f_11eb_9d69_7085c2a9ca7arow1_col1,#T_9f24edf4_246f_11eb_9d69_7085c2a9ca7arow2_col1,#T_9f24edf4_246f_11eb_9d69_7085c2a9ca7arow3_col1,#T_9f24edf4_246f_11eb_9d69_7085c2a9ca7arow4_col1,#T_9f24edf4_246f_11eb_9d69_7085c2a9ca7arow5_col1,#T_9f24edf4_246f_11eb_9d69_7085c2a9ca7arow6_col1{\n",
       "            background-color:  #fff7fb;\n",
       "            color:  #000000;\n",
       "        }</style><table id=\"T_9f24edf4_246f_11eb_9d69_7085c2a9ca7a\" ><thead>    <tr>        <th class=\"blank level0\" ></th>        <th class=\"col_heading level0 col0\" >cluster_12</th>        <th class=\"col_heading level0 col1\" >df</th>    </tr></thead><tbody>\n",
       "                <tr>\n",
       "                        <th id=\"T_9f24edf4_246f_11eb_9d69_7085c2a9ca7alevel0_row0\" class=\"row_heading level0 row0\" >dance pop</th>\n",
       "                        <td id=\"T_9f24edf4_246f_11eb_9d69_7085c2a9ca7arow0_col0\" class=\"data row0 col0\" >0.260870</td>\n",
       "                        <td id=\"T_9f24edf4_246f_11eb_9d69_7085c2a9ca7arow0_col1\" class=\"data row0 col1\" >0.121659</td>\n",
       "            </tr>\n",
       "            <tr>\n",
       "                        <th id=\"T_9f24edf4_246f_11eb_9d69_7085c2a9ca7alevel0_row1\" class=\"row_heading level0 row1\" >pop</th>\n",
       "                        <td id=\"T_9f24edf4_246f_11eb_9d69_7085c2a9ca7arow1_col0\" class=\"data row1 col0\" >0.260870</td>\n",
       "                        <td id=\"T_9f24edf4_246f_11eb_9d69_7085c2a9ca7arow1_col1\" class=\"data row1 col1\" >0.170846</td>\n",
       "            </tr>\n",
       "            <tr>\n",
       "                        <th id=\"T_9f24edf4_246f_11eb_9d69_7085c2a9ca7alevel0_row2\" class=\"row_heading level0 row2\" >soul</th>\n",
       "                        <td id=\"T_9f24edf4_246f_11eb_9d69_7085c2a9ca7arow2_col0\" class=\"data row2 col0\" >0.239130</td>\n",
       "                        <td id=\"T_9f24edf4_246f_11eb_9d69_7085c2a9ca7arow2_col1\" class=\"data row2 col1\" >0.053320</td>\n",
       "            </tr>\n",
       "            <tr>\n",
       "                        <th id=\"T_9f24edf4_246f_11eb_9d69_7085c2a9ca7alevel0_row3\" class=\"row_heading level0 row3\" >funk</th>\n",
       "                        <td id=\"T_9f24edf4_246f_11eb_9d69_7085c2a9ca7arow3_col0\" class=\"data row3 col0\" >0.239130</td>\n",
       "                        <td id=\"T_9f24edf4_246f_11eb_9d69_7085c2a9ca7arow3_col1\" class=\"data row3 col1\" >0.048636</td>\n",
       "            </tr>\n",
       "            <tr>\n",
       "                        <th id=\"T_9f24edf4_246f_11eb_9d69_7085c2a9ca7alevel0_row4\" class=\"row_heading level0 row4\" >pop rap</th>\n",
       "                        <td id=\"T_9f24edf4_246f_11eb_9d69_7085c2a9ca7arow4_col0\" class=\"data row4 col0\" >0.217391</td>\n",
       "                        <td id=\"T_9f24edf4_246f_11eb_9d69_7085c2a9ca7arow4_col1\" class=\"data row4 col1\" >0.073298</td>\n",
       "            </tr>\n",
       "            <tr>\n",
       "                        <th id=\"T_9f24edf4_246f_11eb_9d69_7085c2a9ca7alevel0_row5\" class=\"row_heading level0 row5\" >hip hop</th>\n",
       "                        <td id=\"T_9f24edf4_246f_11eb_9d69_7085c2a9ca7arow5_col0\" class=\"data row5 col0\" >0.195652</td>\n",
       "                        <td id=\"T_9f24edf4_246f_11eb_9d69_7085c2a9ca7arow5_col1\" class=\"data row5 col1\" >0.057316</td>\n",
       "            </tr>\n",
       "            <tr>\n",
       "                        <th id=\"T_9f24edf4_246f_11eb_9d69_7085c2a9ca7alevel0_row6\" class=\"row_heading level0 row6\" >rap</th>\n",
       "                        <td id=\"T_9f24edf4_246f_11eb_9d69_7085c2a9ca7arow6_col0\" class=\"data row6 col0\" >0.152174</td>\n",
       "                        <td id=\"T_9f24edf4_246f_11eb_9d69_7085c2a9ca7arow6_col1\" class=\"data row6 col1\" >0.077983</td>\n",
       "            </tr>\n",
       "    </tbody></table>"
      ],
      "text/plain": [
       "<pandas.io.formats.style.Styler at 0x2955645e0c8>"
      ]
     },
     "metadata": {},
     "output_type": "display_data"
    },
    {
     "name": "stdout",
     "output_type": "stream",
     "text": [
      "Keyword Comparison\n"
     ]
    },
    {
     "data": {
      "text/html": [
       "<style  type=\"text/css\" >\n",
       "#T_9f273652_246f_11eb_a69d_7085c2a9ca7arow0_col0,#T_9f273652_246f_11eb_a69d_7085c2a9ca7arow1_col0,#T_9f273652_246f_11eb_a69d_7085c2a9ca7arow2_col0,#T_9f273652_246f_11eb_a69d_7085c2a9ca7arow3_col0,#T_9f273652_246f_11eb_a69d_7085c2a9ca7arow4_col1,#T_9f273652_246f_11eb_a69d_7085c2a9ca7arow5_col0,#T_9f273652_246f_11eb_a69d_7085c2a9ca7arow6_col0,#T_9f273652_246f_11eb_a69d_7085c2a9ca7arow7_col0,#T_9f273652_246f_11eb_a69d_7085c2a9ca7arow8_col0,#T_9f273652_246f_11eb_a69d_7085c2a9ca7arow9_col0,#T_9f273652_246f_11eb_a69d_7085c2a9ca7arow10_col0,#T_9f273652_246f_11eb_a69d_7085c2a9ca7arow11_col0{\n",
       "            background-color:  #023858;\n",
       "            color:  #f1f1f1;\n",
       "        }#T_9f273652_246f_11eb_a69d_7085c2a9ca7arow0_col1,#T_9f273652_246f_11eb_a69d_7085c2a9ca7arow1_col1,#T_9f273652_246f_11eb_a69d_7085c2a9ca7arow2_col1,#T_9f273652_246f_11eb_a69d_7085c2a9ca7arow3_col1,#T_9f273652_246f_11eb_a69d_7085c2a9ca7arow4_col0,#T_9f273652_246f_11eb_a69d_7085c2a9ca7arow5_col1,#T_9f273652_246f_11eb_a69d_7085c2a9ca7arow6_col1,#T_9f273652_246f_11eb_a69d_7085c2a9ca7arow7_col1,#T_9f273652_246f_11eb_a69d_7085c2a9ca7arow8_col1,#T_9f273652_246f_11eb_a69d_7085c2a9ca7arow9_col1,#T_9f273652_246f_11eb_a69d_7085c2a9ca7arow10_col1,#T_9f273652_246f_11eb_a69d_7085c2a9ca7arow11_col1{\n",
       "            background-color:  #fff7fb;\n",
       "            color:  #000000;\n",
       "        }</style><table id=\"T_9f273652_246f_11eb_a69d_7085c2a9ca7a\" ><thead>    <tr>        <th class=\"blank level0\" ></th>        <th class=\"col_heading level0 col0\" >cluster_12</th>        <th class=\"col_heading level0 col1\" >df</th>    </tr></thead><tbody>\n",
       "                <tr>\n",
       "                        <th id=\"T_9f273652_246f_11eb_a69d_7085c2a9ca7alevel0_row0\" class=\"row_heading level0 row0\" >pop</th>\n",
       "                        <td id=\"T_9f273652_246f_11eb_a69d_7085c2a9ca7arow0_col0\" class=\"data row0 col0\" >1.195652</td>\n",
       "                        <td id=\"T_9f273652_246f_11eb_a69d_7085c2a9ca7arow0_col1\" class=\"data row0 col1\" >0.949022</td>\n",
       "            </tr>\n",
       "            <tr>\n",
       "                        <th id=\"T_9f273652_246f_11eb_a69d_7085c2a9ca7alevel0_row1\" class=\"row_heading level0 row1\" >hip</th>\n",
       "                        <td id=\"T_9f273652_246f_11eb_a69d_7085c2a9ca7arow1_col0\" class=\"data row1 col0\" >0.826087</td>\n",
       "                        <td id=\"T_9f273652_246f_11eb_a69d_7085c2a9ca7arow1_col1\" class=\"data row1 col1\" >0.274869</td>\n",
       "            </tr>\n",
       "            <tr>\n",
       "                        <th id=\"T_9f273652_246f_11eb_a69d_7085c2a9ca7alevel0_row2\" class=\"row_heading level0 row2\" >hop</th>\n",
       "                        <td id=\"T_9f273652_246f_11eb_a69d_7085c2a9ca7arow2_col0\" class=\"data row2 col0\" >0.717391</td>\n",
       "                        <td id=\"T_9f273652_246f_11eb_a69d_7085c2a9ca7arow2_col1\" class=\"data row2 col1\" >0.249931</td>\n",
       "            </tr>\n",
       "            <tr>\n",
       "                        <th id=\"T_9f273652_246f_11eb_a69d_7085c2a9ca7alevel0_row3\" class=\"row_heading level0 row3\" >rap</th>\n",
       "                        <td id=\"T_9f273652_246f_11eb_a69d_7085c2a9ca7arow3_col0\" class=\"data row3 col0\" >0.717391</td>\n",
       "                        <td id=\"T_9f273652_246f_11eb_a69d_7085c2a9ca7arow3_col1\" class=\"data row3 col1\" >0.310003</td>\n",
       "            </tr>\n",
       "            <tr>\n",
       "                        <th id=\"T_9f273652_246f_11eb_a69d_7085c2a9ca7alevel0_row4\" class=\"row_heading level0 row4\" >rock</th>\n",
       "                        <td id=\"T_9f273652_246f_11eb_a69d_7085c2a9ca7arow4_col0\" class=\"data row4 col0\" >0.413043</td>\n",
       "                        <td id=\"T_9f273652_246f_11eb_a69d_7085c2a9ca7arow4_col1\" class=\"data row4 col1\" >0.744282</td>\n",
       "            </tr>\n",
       "            <tr>\n",
       "                        <th id=\"T_9f273652_246f_11eb_a69d_7085c2a9ca7alevel0_row5\" class=\"row_heading level0 row5\" >soul</th>\n",
       "                        <td id=\"T_9f273652_246f_11eb_a69d_7085c2a9ca7arow5_col0\" class=\"data row5 col0\" >0.391304</td>\n",
       "                        <td id=\"T_9f273652_246f_11eb_a69d_7085c2a9ca7arow5_col1\" class=\"data row5 col1\" >0.185864</td>\n",
       "            </tr>\n",
       "            <tr>\n",
       "                        <th id=\"T_9f273652_246f_11eb_a69d_7085c2a9ca7alevel0_row6\" class=\"row_heading level0 row6\" >funk</th>\n",
       "                        <td id=\"T_9f273652_246f_11eb_a69d_7085c2a9ca7arow6_col0\" class=\"data row6 col0\" >0.347826</td>\n",
       "                        <td id=\"T_9f273652_246f_11eb_a69d_7085c2a9ca7arow6_col1\" class=\"data row6 col1\" >0.090934</td>\n",
       "            </tr>\n",
       "            <tr>\n",
       "                        <th id=\"T_9f273652_246f_11eb_a69d_7085c2a9ca7alevel0_row7\" class=\"row_heading level0 row7\" >dance</th>\n",
       "                        <td id=\"T_9f273652_246f_11eb_a69d_7085c2a9ca7arow7_col0\" class=\"data row7 col0\" >0.304348</td>\n",
       "                        <td id=\"T_9f273652_246f_11eb_a69d_7085c2a9ca7arow7_col1\" class=\"data row7 col1\" >0.181455</td>\n",
       "            </tr>\n",
       "            <tr>\n",
       "                        <th id=\"T_9f273652_246f_11eb_a69d_7085c2a9ca7alevel0_row8\" class=\"row_heading level0 row8\" >house</th>\n",
       "                        <td id=\"T_9f273652_246f_11eb_a69d_7085c2a9ca7arow8_col0\" class=\"data row8 col0\" >0.239130</td>\n",
       "                        <td id=\"T_9f273652_246f_11eb_a69d_7085c2a9ca7arow8_col1\" class=\"data row8 col1\" >0.105814</td>\n",
       "            </tr>\n",
       "            <tr>\n",
       "                        <th id=\"T_9f273652_246f_11eb_a69d_7085c2a9ca7alevel0_row9\" class=\"row_heading level0 row9\" >metal</th>\n",
       "                        <td id=\"T_9f273652_246f_11eb_a69d_7085c2a9ca7arow9_col0\" class=\"data row9 col0\" >0.195652</td>\n",
       "                        <td id=\"T_9f273652_246f_11eb_a69d_7085c2a9ca7arow9_col1\" class=\"data row9 col1\" >0.151832</td>\n",
       "            </tr>\n",
       "            <tr>\n",
       "                        <th id=\"T_9f273652_246f_11eb_a69d_7085c2a9ca7alevel0_row10\" class=\"row_heading level0 row10\" >contemporary</th>\n",
       "                        <td id=\"T_9f273652_246f_11eb_a69d_7085c2a9ca7arow10_col0\" class=\"data row10 col0\" >0.173913</td>\n",
       "                        <td id=\"T_9f273652_246f_11eb_a69d_7085c2a9ca7arow10_col1\" class=\"data row10 col1\" >0.119868</td>\n",
       "            </tr>\n",
       "            <tr>\n",
       "                        <th id=\"T_9f273652_246f_11eb_a69d_7085c2a9ca7alevel0_row11\" class=\"row_heading level0 row11\" >r&b</th>\n",
       "                        <td id=\"T_9f273652_246f_11eb_a69d_7085c2a9ca7arow11_col0\" class=\"data row11 col0\" >0.152174</td>\n",
       "                        <td id=\"T_9f273652_246f_11eb_a69d_7085c2a9ca7arow11_col1\" class=\"data row11 col1\" >0.139157</td>\n",
       "            </tr>\n",
       "    </tbody></table>"
      ],
      "text/plain": [
       "<pandas.io.formats.style.Styler at 0x29556296d08>"
      ]
     },
     "metadata": {},
     "output_type": "display_data"
    },
    {
     "name": "stdout",
     "output_type": "stream",
     "text": [
      "Micro Genre Comparison\n"
     ]
    },
    {
     "data": {
      "text/html": [
       "<style  type=\"text/css\" >\n",
       "#T_9f2930cc_246f_11eb_9027_7085c2a9ca7arow0_col0,#T_9f2930cc_246f_11eb_9027_7085c2a9ca7arow1_col0,#T_9f2930cc_246f_11eb_9027_7085c2a9ca7arow2_col0,#T_9f2930cc_246f_11eb_9027_7085c2a9ca7arow3_col0,#T_9f2930cc_246f_11eb_9027_7085c2a9ca7arow4_col0,#T_9f2930cc_246f_11eb_9027_7085c2a9ca7arow5_col0,#T_9f2930cc_246f_11eb_9027_7085c2a9ca7arow6_col0{\n",
       "            background-color:  #023858;\n",
       "            color:  #f1f1f1;\n",
       "        }#T_9f2930cc_246f_11eb_9027_7085c2a9ca7arow0_col1,#T_9f2930cc_246f_11eb_9027_7085c2a9ca7arow1_col1,#T_9f2930cc_246f_11eb_9027_7085c2a9ca7arow2_col1,#T_9f2930cc_246f_11eb_9027_7085c2a9ca7arow3_col1,#T_9f2930cc_246f_11eb_9027_7085c2a9ca7arow4_col1,#T_9f2930cc_246f_11eb_9027_7085c2a9ca7arow5_col1,#T_9f2930cc_246f_11eb_9027_7085c2a9ca7arow6_col1{\n",
       "            background-color:  #fff7fb;\n",
       "            color:  #000000;\n",
       "        }</style><table id=\"T_9f2930cc_246f_11eb_9027_7085c2a9ca7a\" ><thead>    <tr>        <th class=\"blank level0\" ></th>        <th class=\"col_heading level0 col0\" >cluster_15</th>        <th class=\"col_heading level0 col1\" >df</th>    </tr></thead><tbody>\n",
       "                <tr>\n",
       "                        <th id=\"T_9f2930cc_246f_11eb_9027_7085c2a9ca7alevel0_row0\" class=\"row_heading level0 row0\" >southern soul</th>\n",
       "                        <td id=\"T_9f2930cc_246f_11eb_9027_7085c2a9ca7arow0_col0\" class=\"data row0 col0\" >1.000000</td>\n",
       "                        <td id=\"T_9f2930cc_246f_11eb_9027_7085c2a9ca7arow0_col1\" class=\"data row0 col1\" >0.013089</td>\n",
       "            </tr>\n",
       "            <tr>\n",
       "                        <th id=\"T_9f2930cc_246f_11eb_9027_7085c2a9ca7alevel0_row1\" class=\"row_heading level0 row1\" >soul</th>\n",
       "                        <td id=\"T_9f2930cc_246f_11eb_9027_7085c2a9ca7arow1_col0\" class=\"data row1 col0\" >1.000000</td>\n",
       "                        <td id=\"T_9f2930cc_246f_11eb_9027_7085c2a9ca7arow1_col1\" class=\"data row1 col1\" >0.053320</td>\n",
       "            </tr>\n",
       "            <tr>\n",
       "                        <th id=\"T_9f2930cc_246f_11eb_9027_7085c2a9ca7alevel0_row2\" class=\"row_heading level0 row2\" >soft rock</th>\n",
       "                        <td id=\"T_9f2930cc_246f_11eb_9027_7085c2a9ca7arow2_col0\" class=\"data row2 col0\" >1.000000</td>\n",
       "                        <td id=\"T_9f2930cc_246f_11eb_9027_7085c2a9ca7arow2_col1\" class=\"data row2 col1\" >0.033894</td>\n",
       "            </tr>\n",
       "            <tr>\n",
       "                        <th id=\"T_9f2930cc_246f_11eb_9027_7085c2a9ca7alevel0_row3\" class=\"row_heading level0 row3\" >quiet storm</th>\n",
       "                        <td id=\"T_9f2930cc_246f_11eb_9027_7085c2a9ca7arow3_col0\" class=\"data row3 col0\" >1.000000</td>\n",
       "                        <td id=\"T_9f2930cc_246f_11eb_9027_7085c2a9ca7arow3_col1\" class=\"data row3 col1\" >0.044503</td>\n",
       "            </tr>\n",
       "            <tr>\n",
       "                        <th id=\"T_9f2930cc_246f_11eb_9027_7085c2a9ca7alevel0_row4\" class=\"row_heading level0 row4\" >philly soul</th>\n",
       "                        <td id=\"T_9f2930cc_246f_11eb_9027_7085c2a9ca7arow4_col0\" class=\"data row4 col0\" >1.000000</td>\n",
       "                        <td id=\"T_9f2930cc_246f_11eb_9027_7085c2a9ca7arow4_col1\" class=\"data row4 col1\" >0.001378</td>\n",
       "            </tr>\n",
       "            <tr>\n",
       "                        <th id=\"T_9f2930cc_246f_11eb_9027_7085c2a9ca7alevel0_row5\" class=\"row_heading level0 row5\" >motown</th>\n",
       "                        <td id=\"T_9f2930cc_246f_11eb_9027_7085c2a9ca7arow5_col0\" class=\"data row5 col0\" >1.000000</td>\n",
       "                        <td id=\"T_9f2930cc_246f_11eb_9027_7085c2a9ca7arow5_col1\" class=\"data row5 col1\" >0.041196</td>\n",
       "            </tr>\n",
       "            <tr>\n",
       "                        <th id=\"T_9f2930cc_246f_11eb_9027_7085c2a9ca7alevel0_row6\" class=\"row_heading level0 row6\" >funk</th>\n",
       "                        <td id=\"T_9f2930cc_246f_11eb_9027_7085c2a9ca7arow6_col0\" class=\"data row6 col0\" >1.000000</td>\n",
       "                        <td id=\"T_9f2930cc_246f_11eb_9027_7085c2a9ca7arow6_col1\" class=\"data row6 col1\" >0.048636</td>\n",
       "            </tr>\n",
       "    </tbody></table>"
      ],
      "text/plain": [
       "<pandas.io.formats.style.Styler at 0x2955625cf88>"
      ]
     },
     "metadata": {},
     "output_type": "display_data"
    },
    {
     "name": "stdout",
     "output_type": "stream",
     "text": [
      "Keyword Comparison\n"
     ]
    },
    {
     "data": {
      "text/html": [
       "<style  type=\"text/css\" >\n",
       "#T_9f2b2b3a_246f_11eb_82d3_7085c2a9ca7arow0_col0,#T_9f2b2b3a_246f_11eb_82d3_7085c2a9ca7arow1_col0,#T_9f2b2b3a_246f_11eb_82d3_7085c2a9ca7arow2_col0,#T_9f2b2b3a_246f_11eb_82d3_7085c2a9ca7arow3_col0,#T_9f2b2b3a_246f_11eb_82d3_7085c2a9ca7arow4_col0,#T_9f2b2b3a_246f_11eb_82d3_7085c2a9ca7arow5_col0,#T_9f2b2b3a_246f_11eb_82d3_7085c2a9ca7arow6_col0,#T_9f2b2b3a_246f_11eb_82d3_7085c2a9ca7arow7_col0,#T_9f2b2b3a_246f_11eb_82d3_7085c2a9ca7arow8_col0,#T_9f2b2b3a_246f_11eb_82d3_7085c2a9ca7arow9_col0,#T_9f2b2b3a_246f_11eb_82d3_7085c2a9ca7arow10_col0{\n",
       "            background-color:  #023858;\n",
       "            color:  #f1f1f1;\n",
       "        }#T_9f2b2b3a_246f_11eb_82d3_7085c2a9ca7arow0_col1,#T_9f2b2b3a_246f_11eb_82d3_7085c2a9ca7arow1_col1,#T_9f2b2b3a_246f_11eb_82d3_7085c2a9ca7arow2_col1,#T_9f2b2b3a_246f_11eb_82d3_7085c2a9ca7arow3_col1,#T_9f2b2b3a_246f_11eb_82d3_7085c2a9ca7arow4_col1,#T_9f2b2b3a_246f_11eb_82d3_7085c2a9ca7arow5_col1,#T_9f2b2b3a_246f_11eb_82d3_7085c2a9ca7arow6_col1,#T_9f2b2b3a_246f_11eb_82d3_7085c2a9ca7arow7_col1,#T_9f2b2b3a_246f_11eb_82d3_7085c2a9ca7arow8_col1,#T_9f2b2b3a_246f_11eb_82d3_7085c2a9ca7arow9_col1,#T_9f2b2b3a_246f_11eb_82d3_7085c2a9ca7arow10_col1,#T_9f2b2b3a_246f_11eb_82d3_7085c2a9ca7arow11_col0,#T_9f2b2b3a_246f_11eb_82d3_7085c2a9ca7arow11_col1{\n",
       "            background-color:  #fff7fb;\n",
       "            color:  #000000;\n",
       "        }</style><table id=\"T_9f2b2b3a_246f_11eb_82d3_7085c2a9ca7a\" ><thead>    <tr>        <th class=\"blank level0\" ></th>        <th class=\"col_heading level0 col0\" >cluster_15</th>        <th class=\"col_heading level0 col1\" >df</th>    </tr></thead><tbody>\n",
       "                <tr>\n",
       "                        <th id=\"T_9f2b2b3a_246f_11eb_82d3_7085c2a9ca7alevel0_row0\" class=\"row_heading level0 row0\" >soul</th>\n",
       "                        <td id=\"T_9f2b2b3a_246f_11eb_82d3_7085c2a9ca7arow0_col0\" class=\"data row0 col0\" >4.000000</td>\n",
       "                        <td id=\"T_9f2b2b3a_246f_11eb_82d3_7085c2a9ca7arow0_col1\" class=\"data row0 col1\" >0.185864</td>\n",
       "            </tr>\n",
       "            <tr>\n",
       "                        <th id=\"T_9f2b2b3a_246f_11eb_82d3_7085c2a9ca7alevel0_row1\" class=\"row_heading level0 row1\" >storm</th>\n",
       "                        <td id=\"T_9f2b2b3a_246f_11eb_82d3_7085c2a9ca7arow1_col0\" class=\"data row1 col0\" >1.000000</td>\n",
       "                        <td id=\"T_9f2b2b3a_246f_11eb_82d3_7085c2a9ca7arow1_col1\" class=\"data row1 col1\" >0.044503</td>\n",
       "            </tr>\n",
       "            <tr>\n",
       "                        <th id=\"T_9f2b2b3a_246f_11eb_82d3_7085c2a9ca7alevel0_row2\" class=\"row_heading level0 row2\" >southern</th>\n",
       "                        <td id=\"T_9f2b2b3a_246f_11eb_82d3_7085c2a9ca7arow2_col0\" class=\"data row2 col0\" >1.000000</td>\n",
       "                        <td id=\"T_9f2b2b3a_246f_11eb_82d3_7085c2a9ca7arow2_col1\" class=\"data row2 col1\" >0.042436</td>\n",
       "            </tr>\n",
       "            <tr>\n",
       "                        <th id=\"T_9f2b2b3a_246f_11eb_82d3_7085c2a9ca7alevel0_row3\" class=\"row_heading level0 row3\" >soft</th>\n",
       "                        <td id=\"T_9f2b2b3a_246f_11eb_82d3_7085c2a9ca7arow3_col0\" class=\"data row3 col0\" >1.000000</td>\n",
       "                        <td id=\"T_9f2b2b3a_246f_11eb_82d3_7085c2a9ca7arow3_col1\" class=\"data row3 col1\" >0.033894</td>\n",
       "            </tr>\n",
       "            <tr>\n",
       "                        <th id=\"T_9f2b2b3a_246f_11eb_82d3_7085c2a9ca7alevel0_row4\" class=\"row_heading level0 row4\" >rock</th>\n",
       "                        <td id=\"T_9f2b2b3a_246f_11eb_82d3_7085c2a9ca7arow4_col0\" class=\"data row4 col0\" >1.000000</td>\n",
       "                        <td id=\"T_9f2b2b3a_246f_11eb_82d3_7085c2a9ca7arow4_col1\" class=\"data row4 col1\" >0.744282</td>\n",
       "            </tr>\n",
       "            <tr>\n",
       "                        <th id=\"T_9f2b2b3a_246f_11eb_82d3_7085c2a9ca7alevel0_row5\" class=\"row_heading level0 row5\" >quiet</th>\n",
       "                        <td id=\"T_9f2b2b3a_246f_11eb_82d3_7085c2a9ca7arow5_col0\" class=\"data row5 col0\" >1.000000</td>\n",
       "                        <td id=\"T_9f2b2b3a_246f_11eb_82d3_7085c2a9ca7arow5_col1\" class=\"data row5 col1\" >0.044503</td>\n",
       "            </tr>\n",
       "            <tr>\n",
       "                        <th id=\"T_9f2b2b3a_246f_11eb_82d3_7085c2a9ca7alevel0_row6\" class=\"row_heading level0 row6\" >philly</th>\n",
       "                        <td id=\"T_9f2b2b3a_246f_11eb_82d3_7085c2a9ca7arow6_col0\" class=\"data row6 col0\" >1.000000</td>\n",
       "                        <td id=\"T_9f2b2b3a_246f_11eb_82d3_7085c2a9ca7arow6_col1\" class=\"data row6 col1\" >0.005649</td>\n",
       "            </tr>\n",
       "            <tr>\n",
       "                        <th id=\"T_9f2b2b3a_246f_11eb_82d3_7085c2a9ca7alevel0_row7\" class=\"row_heading level0 row7\" >motown</th>\n",
       "                        <td id=\"T_9f2b2b3a_246f_11eb_82d3_7085c2a9ca7arow7_col0\" class=\"data row7 col0\" >1.000000</td>\n",
       "                        <td id=\"T_9f2b2b3a_246f_11eb_82d3_7085c2a9ca7arow7_col1\" class=\"data row7 col1\" >0.041334</td>\n",
       "            </tr>\n",
       "            <tr>\n",
       "                        <th id=\"T_9f2b2b3a_246f_11eb_82d3_7085c2a9ca7alevel0_row8\" class=\"row_heading level0 row8\" >funk</th>\n",
       "                        <td id=\"T_9f2b2b3a_246f_11eb_82d3_7085c2a9ca7arow8_col0\" class=\"data row8 col0\" >1.000000</td>\n",
       "                        <td id=\"T_9f2b2b3a_246f_11eb_82d3_7085c2a9ca7arow8_col1\" class=\"data row8 col1\" >0.090934</td>\n",
       "            </tr>\n",
       "            <tr>\n",
       "                        <th id=\"T_9f2b2b3a_246f_11eb_82d3_7085c2a9ca7alevel0_row9\" class=\"row_heading level0 row9\" >disco</th>\n",
       "                        <td id=\"T_9f2b2b3a_246f_11eb_82d3_7085c2a9ca7arow9_col0\" class=\"data row9 col0\" >1.000000</td>\n",
       "                        <td id=\"T_9f2b2b3a_246f_11eb_82d3_7085c2a9ca7arow9_col1\" class=\"data row9 col1\" >0.026040</td>\n",
       "            </tr>\n",
       "            <tr>\n",
       "                        <th id=\"T_9f2b2b3a_246f_11eb_82d3_7085c2a9ca7alevel0_row10\" class=\"row_heading level0 row10\" >classic</th>\n",
       "                        <td id=\"T_9f2b2b3a_246f_11eb_82d3_7085c2a9ca7arow10_col0\" class=\"data row10 col0\" >1.000000</td>\n",
       "                        <td id=\"T_9f2b2b3a_246f_11eb_82d3_7085c2a9ca7arow10_col1\" class=\"data row10 col1\" >0.078672</td>\n",
       "            </tr>\n",
       "            <tr>\n",
       "                        <th id=\"T_9f2b2b3a_246f_11eb_82d3_7085c2a9ca7alevel0_row11\" class=\"row_heading level0 row11\" >\"australian</th>\n",
       "                        <td id=\"T_9f2b2b3a_246f_11eb_82d3_7085c2a9ca7arow11_col0\" class=\"data row11 col0\" >nan</td>\n",
       "                        <td id=\"T_9f2b2b3a_246f_11eb_82d3_7085c2a9ca7arow11_col1\" class=\"data row11 col1\" >0.000138</td>\n",
       "            </tr>\n",
       "    </tbody></table>"
      ],
      "text/plain": [
       "<pandas.io.formats.style.Styler at 0x2955824c8c8>"
      ]
     },
     "metadata": {},
     "output_type": "display_data"
    },
    {
     "name": "stdout",
     "output_type": "stream",
     "text": [
      "Micro Genre Comparison\n"
     ]
    },
    {
     "data": {
      "text/html": [
       "<style  type=\"text/css\" >\n",
       "#T_9f2d25ae_246f_11eb_9795_7085c2a9ca7arow0_col0,#T_9f2d25ae_246f_11eb_9795_7085c2a9ca7arow1_col0,#T_9f2d25ae_246f_11eb_9795_7085c2a9ca7arow2_col0,#T_9f2d25ae_246f_11eb_9795_7085c2a9ca7arow3_col0,#T_9f2d25ae_246f_11eb_9795_7085c2a9ca7arow4_col0,#T_9f2d25ae_246f_11eb_9795_7085c2a9ca7arow5_col0,#T_9f2d25ae_246f_11eb_9795_7085c2a9ca7arow6_col0{\n",
       "            background-color:  #023858;\n",
       "            color:  #f1f1f1;\n",
       "        }#T_9f2d25ae_246f_11eb_9795_7085c2a9ca7arow0_col1,#T_9f2d25ae_246f_11eb_9795_7085c2a9ca7arow1_col1,#T_9f2d25ae_246f_11eb_9795_7085c2a9ca7arow2_col1,#T_9f2d25ae_246f_11eb_9795_7085c2a9ca7arow3_col1,#T_9f2d25ae_246f_11eb_9795_7085c2a9ca7arow4_col1,#T_9f2d25ae_246f_11eb_9795_7085c2a9ca7arow5_col1,#T_9f2d25ae_246f_11eb_9795_7085c2a9ca7arow6_col1{\n",
       "            background-color:  #fff7fb;\n",
       "            color:  #000000;\n",
       "        }</style><table id=\"T_9f2d25ae_246f_11eb_9795_7085c2a9ca7a\" ><thead>    <tr>        <th class=\"blank level0\" ></th>        <th class=\"col_heading level0 col0\" >cluster_11</th>        <th class=\"col_heading level0 col1\" >df</th>    </tr></thead><tbody>\n",
       "                <tr>\n",
       "                        <th id=\"T_9f2d25ae_246f_11eb_9795_7085c2a9ca7alevel0_row0\" class=\"row_heading level0 row0\" >rock</th>\n",
       "                        <td id=\"T_9f2d25ae_246f_11eb_9795_7085c2a9ca7arow0_col0\" class=\"data row0 col0\" >0.555556</td>\n",
       "                        <td id=\"T_9f2d25ae_246f_11eb_9795_7085c2a9ca7arow0_col1\" class=\"data row0 col1\" >0.102508</td>\n",
       "            </tr>\n",
       "            <tr>\n",
       "                        <th id=\"T_9f2d25ae_246f_11eb_9795_7085c2a9ca7alevel0_row1\" class=\"row_heading level0 row1\" >classic rock</th>\n",
       "                        <td id=\"T_9f2d25ae_246f_11eb_9795_7085c2a9ca7arow1_col0\" class=\"data row1 col0\" >0.444444</td>\n",
       "                        <td id=\"T_9f2d25ae_246f_11eb_9795_7085c2a9ca7arow1_col1\" class=\"data row1 col1\" >0.032654</td>\n",
       "            </tr>\n",
       "            <tr>\n",
       "                        <th id=\"T_9f2d25ae_246f_11eb_9795_7085c2a9ca7alevel0_row2\" class=\"row_heading level0 row2\" >dance rock</th>\n",
       "                        <td id=\"T_9f2d25ae_246f_11eb_9795_7085c2a9ca7arow2_col0\" class=\"data row2 col0\" >0.444444</td>\n",
       "                        <td id=\"T_9f2d25ae_246f_11eb_9795_7085c2a9ca7arow2_col1\" class=\"data row2 col1\" >0.031276</td>\n",
       "            </tr>\n",
       "            <tr>\n",
       "                        <th id=\"T_9f2d25ae_246f_11eb_9795_7085c2a9ca7alevel0_row3\" class=\"row_heading level0 row3\" >art rock</th>\n",
       "                        <td id=\"T_9f2d25ae_246f_11eb_9795_7085c2a9ca7arow3_col0\" class=\"data row3 col0\" >0.444444</td>\n",
       "                        <td id=\"T_9f2d25ae_246f_11eb_9795_7085c2a9ca7arow3_col1\" class=\"data row3 col1\" >0.025351</td>\n",
       "            </tr>\n",
       "            <tr>\n",
       "                        <th id=\"T_9f2d25ae_246f_11eb_9795_7085c2a9ca7alevel0_row4\" class=\"row_heading level0 row4\" >post-punk</th>\n",
       "                        <td id=\"T_9f2d25ae_246f_11eb_9795_7085c2a9ca7arow4_col0\" class=\"data row4 col0\" >0.333333</td>\n",
       "                        <td id=\"T_9f2d25ae_246f_11eb_9795_7085c2a9ca7arow4_col1\" class=\"data row4 col1\" >0.011160</td>\n",
       "            </tr>\n",
       "            <tr>\n",
       "                        <th id=\"T_9f2d25ae_246f_11eb_9795_7085c2a9ca7alevel0_row5\" class=\"row_heading level0 row5\" >folk rock</th>\n",
       "                        <td id=\"T_9f2d25ae_246f_11eb_9795_7085c2a9ca7arow5_col0\" class=\"data row5 col0\" >0.333333</td>\n",
       "                        <td id=\"T_9f2d25ae_246f_11eb_9795_7085c2a9ca7arow5_col1\" class=\"data row5 col1\" >0.031276</td>\n",
       "            </tr>\n",
       "            <tr>\n",
       "                        <th id=\"T_9f2d25ae_246f_11eb_9795_7085c2a9ca7alevel0_row6\" class=\"row_heading level0 row6\" >folk</th>\n",
       "                        <td id=\"T_9f2d25ae_246f_11eb_9795_7085c2a9ca7arow6_col0\" class=\"data row6 col0\" >0.333333</td>\n",
       "                        <td id=\"T_9f2d25ae_246f_11eb_9795_7085c2a9ca7arow6_col1\" class=\"data row6 col1\" >0.019151</td>\n",
       "            </tr>\n",
       "    </tbody></table>"
      ],
      "text/plain": [
       "<pandas.io.formats.style.Styler at 0x295564230c8>"
      ]
     },
     "metadata": {},
     "output_type": "display_data"
    },
    {
     "name": "stdout",
     "output_type": "stream",
     "text": [
      "Keyword Comparison\n"
     ]
    },
    {
     "data": {
      "text/html": [
       "<style  type=\"text/css\" >\n",
       "#T_9f2f4724_246f_11eb_9fcd_7085c2a9ca7arow0_col0,#T_9f2f4724_246f_11eb_9fcd_7085c2a9ca7arow1_col0,#T_9f2f4724_246f_11eb_9fcd_7085c2a9ca7arow2_col0,#T_9f2f4724_246f_11eb_9fcd_7085c2a9ca7arow3_col0,#T_9f2f4724_246f_11eb_9fcd_7085c2a9ca7arow4_col0,#T_9f2f4724_246f_11eb_9fcd_7085c2a9ca7arow5_col0,#T_9f2f4724_246f_11eb_9fcd_7085c2a9ca7arow6_col0,#T_9f2f4724_246f_11eb_9fcd_7085c2a9ca7arow7_col0,#T_9f2f4724_246f_11eb_9fcd_7085c2a9ca7arow8_col1,#T_9f2f4724_246f_11eb_9fcd_7085c2a9ca7arow9_col0,#T_9f2f4724_246f_11eb_9fcd_7085c2a9ca7arow10_col0,#T_9f2f4724_246f_11eb_9fcd_7085c2a9ca7arow11_col0{\n",
       "            background-color:  #023858;\n",
       "            color:  #f1f1f1;\n",
       "        }#T_9f2f4724_246f_11eb_9fcd_7085c2a9ca7arow0_col1,#T_9f2f4724_246f_11eb_9fcd_7085c2a9ca7arow1_col1,#T_9f2f4724_246f_11eb_9fcd_7085c2a9ca7arow2_col1,#T_9f2f4724_246f_11eb_9fcd_7085c2a9ca7arow3_col1,#T_9f2f4724_246f_11eb_9fcd_7085c2a9ca7arow4_col1,#T_9f2f4724_246f_11eb_9fcd_7085c2a9ca7arow5_col1,#T_9f2f4724_246f_11eb_9fcd_7085c2a9ca7arow6_col1,#T_9f2f4724_246f_11eb_9fcd_7085c2a9ca7arow7_col1,#T_9f2f4724_246f_11eb_9fcd_7085c2a9ca7arow8_col0,#T_9f2f4724_246f_11eb_9fcd_7085c2a9ca7arow9_col1,#T_9f2f4724_246f_11eb_9fcd_7085c2a9ca7arow10_col1,#T_9f2f4724_246f_11eb_9fcd_7085c2a9ca7arow11_col1{\n",
       "            background-color:  #fff7fb;\n",
       "            color:  #000000;\n",
       "        }</style><table id=\"T_9f2f4724_246f_11eb_9fcd_7085c2a9ca7a\" ><thead>    <tr>        <th class=\"blank level0\" ></th>        <th class=\"col_heading level0 col0\" >cluster_11</th>        <th class=\"col_heading level0 col1\" >df</th>    </tr></thead><tbody>\n",
       "                <tr>\n",
       "                        <th id=\"T_9f2f4724_246f_11eb_9fcd_7085c2a9ca7alevel0_row0\" class=\"row_heading level0 row0\" >rock</th>\n",
       "                        <td id=\"T_9f2f4724_246f_11eb_9fcd_7085c2a9ca7arow0_col0\" class=\"data row0 col0\" >3.777778</td>\n",
       "                        <td id=\"T_9f2f4724_246f_11eb_9fcd_7085c2a9ca7arow0_col1\" class=\"data row0 col1\" >0.744282</td>\n",
       "            </tr>\n",
       "            <tr>\n",
       "                        <th id=\"T_9f2f4724_246f_11eb_9fcd_7085c2a9ca7alevel0_row1\" class=\"row_heading level0 row1\" >folk</th>\n",
       "                        <td id=\"T_9f2f4724_246f_11eb_9fcd_7085c2a9ca7arow1_col0\" class=\"data row1 col0\" >0.777778</td>\n",
       "                        <td id=\"T_9f2f4724_246f_11eb_9fcd_7085c2a9ca7arow1_col1\" class=\"data row1 col1\" >0.146735</td>\n",
       "            </tr>\n",
       "            <tr>\n",
       "                        <th id=\"T_9f2f4724_246f_11eb_9fcd_7085c2a9ca7alevel0_row2\" class=\"row_heading level0 row2\" >art</th>\n",
       "                        <td id=\"T_9f2f4724_246f_11eb_9fcd_7085c2a9ca7arow2_col0\" class=\"data row2 col0\" >0.555556</td>\n",
       "                        <td id=\"T_9f2f4724_246f_11eb_9fcd_7085c2a9ca7arow2_col1\" class=\"data row2 col1\" >0.047534</td>\n",
       "            </tr>\n",
       "            <tr>\n",
       "                        <th id=\"T_9f2f4724_246f_11eb_9fcd_7085c2a9ca7alevel0_row3\" class=\"row_heading level0 row3\" >wave</th>\n",
       "                        <td id=\"T_9f2f4724_246f_11eb_9fcd_7085c2a9ca7arow3_col0\" class=\"data row3 col0\" >0.444444</td>\n",
       "                        <td id=\"T_9f2f4724_246f_11eb_9fcd_7085c2a9ca7arow3_col1\" class=\"data row3 col1\" >0.084872</td>\n",
       "            </tr>\n",
       "            <tr>\n",
       "                        <th id=\"T_9f2f4724_246f_11eb_9fcd_7085c2a9ca7alevel0_row4\" class=\"row_heading level0 row4\" >classic</th>\n",
       "                        <td id=\"T_9f2f4724_246f_11eb_9fcd_7085c2a9ca7arow4_col0\" class=\"data row4 col0\" >0.444444</td>\n",
       "                        <td id=\"T_9f2f4724_246f_11eb_9fcd_7085c2a9ca7arow4_col1\" class=\"data row4 col1\" >0.078672</td>\n",
       "            </tr>\n",
       "            <tr>\n",
       "                        <th id=\"T_9f2f4724_246f_11eb_9fcd_7085c2a9ca7alevel0_row5\" class=\"row_heading level0 row5\" >dance</th>\n",
       "                        <td id=\"T_9f2f4724_246f_11eb_9fcd_7085c2a9ca7arow5_col0\" class=\"data row5 col0\" >0.444444</td>\n",
       "                        <td id=\"T_9f2f4724_246f_11eb_9fcd_7085c2a9ca7arow5_col1\" class=\"data row5 col1\" >0.181455</td>\n",
       "            </tr>\n",
       "            <tr>\n",
       "                        <th id=\"T_9f2f4724_246f_11eb_9fcd_7085c2a9ca7alevel0_row6\" class=\"row_heading level0 row6\" >alternative</th>\n",
       "                        <td id=\"T_9f2f4724_246f_11eb_9fcd_7085c2a9ca7arow6_col0\" class=\"data row6 col0\" >0.333333</td>\n",
       "                        <td id=\"T_9f2f4724_246f_11eb_9fcd_7085c2a9ca7arow6_col1\" class=\"data row6 col1\" >0.184211</td>\n",
       "            </tr>\n",
       "            <tr>\n",
       "                        <th id=\"T_9f2f4724_246f_11eb_9fcd_7085c2a9ca7alevel0_row7\" class=\"row_heading level0 row7\" >post-punk</th>\n",
       "                        <td id=\"T_9f2f4724_246f_11eb_9fcd_7085c2a9ca7arow7_col0\" class=\"data row7 col0\" >0.333333</td>\n",
       "                        <td id=\"T_9f2f4724_246f_11eb_9fcd_7085c2a9ca7arow7_col1\" class=\"data row7 col1\" >0.016120</td>\n",
       "            </tr>\n",
       "            <tr>\n",
       "                        <th id=\"T_9f2f4724_246f_11eb_9fcd_7085c2a9ca7alevel0_row8\" class=\"row_heading level0 row8\" >pop</th>\n",
       "                        <td id=\"T_9f2f4724_246f_11eb_9fcd_7085c2a9ca7arow8_col0\" class=\"data row8 col0\" >0.333333</td>\n",
       "                        <td id=\"T_9f2f4724_246f_11eb_9fcd_7085c2a9ca7arow8_col1\" class=\"data row8 col1\" >0.949022</td>\n",
       "            </tr>\n",
       "            <tr>\n",
       "                        <th id=\"T_9f2f4724_246f_11eb_9fcd_7085c2a9ca7alevel0_row9\" class=\"row_heading level0 row9\" >mellow</th>\n",
       "                        <td id=\"T_9f2f4724_246f_11eb_9fcd_7085c2a9ca7arow9_col0\" class=\"data row9 col0\" >0.222222</td>\n",
       "                        <td id=\"T_9f2f4724_246f_11eb_9fcd_7085c2a9ca7arow9_col1\" class=\"data row9 col1\" >0.069854</td>\n",
       "            </tr>\n",
       "            <tr>\n",
       "                        <th id=\"T_9f2f4724_246f_11eb_9fcd_7085c2a9ca7alevel0_row10\" class=\"row_heading level0 row10\" >country</th>\n",
       "                        <td id=\"T_9f2f4724_246f_11eb_9fcd_7085c2a9ca7arow10_col0\" class=\"data row10 col0\" >0.222222</td>\n",
       "                        <td id=\"T_9f2f4724_246f_11eb_9fcd_7085c2a9ca7arow10_col1\" class=\"data row10 col1\" >0.188068</td>\n",
       "            </tr>\n",
       "            <tr>\n",
       "                        <th id=\"T_9f2f4724_246f_11eb_9fcd_7085c2a9ca7alevel0_row11\" class=\"row_heading level0 row11\" >experimental</th>\n",
       "                        <td id=\"T_9f2f4724_246f_11eb_9fcd_7085c2a9ca7arow11_col0\" class=\"data row11 col0\" >0.222222</td>\n",
       "                        <td id=\"T_9f2f4724_246f_11eb_9fcd_7085c2a9ca7arow11_col1\" class=\"data row11 col1\" >0.010196</td>\n",
       "            </tr>\n",
       "    </tbody></table>"
      ],
      "text/plain": [
       "<pandas.io.formats.style.Styler at 0x29556452408>"
      ]
     },
     "metadata": {},
     "output_type": "display_data"
    },
    {
     "name": "stdout",
     "output_type": "stream",
     "text": [
      "Micro Genre Comparison\n"
     ]
    },
    {
     "data": {
      "text/html": [
       "<style  type=\"text/css\" >\n",
       "#T_9f316888_246f_11eb_b490_7085c2a9ca7arow0_col0,#T_9f316888_246f_11eb_b490_7085c2a9ca7arow1_col0,#T_9f316888_246f_11eb_b490_7085c2a9ca7arow2_col0,#T_9f316888_246f_11eb_b490_7085c2a9ca7arow3_col0,#T_9f316888_246f_11eb_b490_7085c2a9ca7arow4_col0,#T_9f316888_246f_11eb_b490_7085c2a9ca7arow5_col0,#T_9f316888_246f_11eb_b490_7085c2a9ca7arow6_col0{\n",
       "            background-color:  #023858;\n",
       "            color:  #f1f1f1;\n",
       "        }#T_9f316888_246f_11eb_b490_7085c2a9ca7arow0_col1,#T_9f316888_246f_11eb_b490_7085c2a9ca7arow1_col1,#T_9f316888_246f_11eb_b490_7085c2a9ca7arow2_col1,#T_9f316888_246f_11eb_b490_7085c2a9ca7arow3_col1,#T_9f316888_246f_11eb_b490_7085c2a9ca7arow4_col1,#T_9f316888_246f_11eb_b490_7085c2a9ca7arow5_col1,#T_9f316888_246f_11eb_b490_7085c2a9ca7arow6_col1{\n",
       "            background-color:  #fff7fb;\n",
       "            color:  #000000;\n",
       "        }</style><table id=\"T_9f316888_246f_11eb_b490_7085c2a9ca7a\" ><thead>    <tr>        <th class=\"blank level0\" ></th>        <th class=\"col_heading level0 col0\" >cluster_0</th>        <th class=\"col_heading level0 col1\" >df</th>    </tr></thead><tbody>\n",
       "                <tr>\n",
       "                        <th id=\"T_9f316888_246f_11eb_b490_7085c2a9ca7alevel0_row0\" class=\"row_heading level0 row0\" >hip hop</th>\n",
       "                        <td id=\"T_9f316888_246f_11eb_b490_7085c2a9ca7arow0_col0\" class=\"data row0 col0\" >0.666667</td>\n",
       "                        <td id=\"T_9f316888_246f_11eb_b490_7085c2a9ca7arow0_col1\" class=\"data row0 col1\" >0.057316</td>\n",
       "            </tr>\n",
       "            <tr>\n",
       "                        <th id=\"T_9f316888_246f_11eb_b490_7085c2a9ca7alevel0_row1\" class=\"row_heading level0 row1\" >roots reggae</th>\n",
       "                        <td id=\"T_9f316888_246f_11eb_b490_7085c2a9ca7arow1_col0\" class=\"data row1 col0\" >0.333333</td>\n",
       "                        <td id=\"T_9f316888_246f_11eb_b490_7085c2a9ca7arow1_col1\" class=\"data row1 col1\" >0.009920</td>\n",
       "            </tr>\n",
       "            <tr>\n",
       "                        <th id=\"T_9f316888_246f_11eb_b490_7085c2a9ca7alevel0_row2\" class=\"row_heading level0 row2\" >reggae fusion</th>\n",
       "                        <td id=\"T_9f316888_246f_11eb_b490_7085c2a9ca7arow2_col0\" class=\"data row2 col0\" >0.333333</td>\n",
       "                        <td id=\"T_9f316888_246f_11eb_b490_7085c2a9ca7arow2_col1\" class=\"data row2 col1\" >0.013916</td>\n",
       "            </tr>\n",
       "            <tr>\n",
       "                        <th id=\"T_9f316888_246f_11eb_b490_7085c2a9ca7alevel0_row3\" class=\"row_heading level0 row3\" >reggae</th>\n",
       "                        <td id=\"T_9f316888_246f_11eb_b490_7085c2a9ca7arow3_col0\" class=\"data row3 col0\" >0.333333</td>\n",
       "                        <td id=\"T_9f316888_246f_11eb_b490_7085c2a9ca7arow3_col1\" class=\"data row3 col1\" >0.013640</td>\n",
       "            </tr>\n",
       "            <tr>\n",
       "                        <th id=\"T_9f316888_246f_11eb_b490_7085c2a9ca7alevel0_row4\" class=\"row_heading level0 row4\" >new wave pop</th>\n",
       "                        <td id=\"T_9f316888_246f_11eb_b490_7085c2a9ca7arow4_col0\" class=\"data row4 col0\" >0.333333</td>\n",
       "                        <td id=\"T_9f316888_246f_11eb_b490_7085c2a9ca7arow4_col1\" class=\"data row4 col1\" >0.023009</td>\n",
       "            </tr>\n",
       "            <tr>\n",
       "                        <th id=\"T_9f316888_246f_11eb_b490_7085c2a9ca7alevel0_row5\" class=\"row_heading level0 row5\" >modern reggae</th>\n",
       "                        <td id=\"T_9f316888_246f_11eb_b490_7085c2a9ca7arow5_col0\" class=\"data row5 col0\" >0.333333</td>\n",
       "                        <td id=\"T_9f316888_246f_11eb_b490_7085c2a9ca7arow5_col1\" class=\"data row5 col1\" >0.015293</td>\n",
       "            </tr>\n",
       "            <tr>\n",
       "                        <th id=\"T_9f316888_246f_11eb_b490_7085c2a9ca7alevel0_row6\" class=\"row_heading level0 row6\" >dub</th>\n",
       "                        <td id=\"T_9f316888_246f_11eb_b490_7085c2a9ca7arow6_col0\" class=\"data row6 col0\" >0.333333</td>\n",
       "                        <td id=\"T_9f316888_246f_11eb_b490_7085c2a9ca7arow6_col1\" class=\"data row6 col1\" >0.005236</td>\n",
       "            </tr>\n",
       "    </tbody></table>"
      ],
      "text/plain": [
       "<pandas.io.formats.style.Styler at 0x29556388748>"
      ]
     },
     "metadata": {},
     "output_type": "display_data"
    },
    {
     "name": "stdout",
     "output_type": "stream",
     "text": [
      "Keyword Comparison\n"
     ]
    },
    {
     "data": {
      "text/html": [
       "<style  type=\"text/css\" >\n",
       "#T_9f3389f4_246f_11eb_b7fa_7085c2a9ca7arow0_col0,#T_9f3389f4_246f_11eb_b7fa_7085c2a9ca7arow1_col1,#T_9f3389f4_246f_11eb_b7fa_7085c2a9ca7arow2_col0,#T_9f3389f4_246f_11eb_b7fa_7085c2a9ca7arow3_col0,#T_9f3389f4_246f_11eb_b7fa_7085c2a9ca7arow4_col0,#T_9f3389f4_246f_11eb_b7fa_7085c2a9ca7arow5_col0,#T_9f3389f4_246f_11eb_b7fa_7085c2a9ca7arow6_col0,#T_9f3389f4_246f_11eb_b7fa_7085c2a9ca7arow7_col0,#T_9f3389f4_246f_11eb_b7fa_7085c2a9ca7arow8_col0,#T_9f3389f4_246f_11eb_b7fa_7085c2a9ca7arow9_col0,#T_9f3389f4_246f_11eb_b7fa_7085c2a9ca7arow10_col0,#T_9f3389f4_246f_11eb_b7fa_7085c2a9ca7arow11_col0{\n",
       "            background-color:  #023858;\n",
       "            color:  #f1f1f1;\n",
       "        }#T_9f3389f4_246f_11eb_b7fa_7085c2a9ca7arow0_col1,#T_9f3389f4_246f_11eb_b7fa_7085c2a9ca7arow1_col0,#T_9f3389f4_246f_11eb_b7fa_7085c2a9ca7arow2_col1,#T_9f3389f4_246f_11eb_b7fa_7085c2a9ca7arow3_col1,#T_9f3389f4_246f_11eb_b7fa_7085c2a9ca7arow4_col1,#T_9f3389f4_246f_11eb_b7fa_7085c2a9ca7arow5_col1,#T_9f3389f4_246f_11eb_b7fa_7085c2a9ca7arow6_col1,#T_9f3389f4_246f_11eb_b7fa_7085c2a9ca7arow7_col1,#T_9f3389f4_246f_11eb_b7fa_7085c2a9ca7arow8_col1,#T_9f3389f4_246f_11eb_b7fa_7085c2a9ca7arow9_col1,#T_9f3389f4_246f_11eb_b7fa_7085c2a9ca7arow10_col1,#T_9f3389f4_246f_11eb_b7fa_7085c2a9ca7arow11_col1{\n",
       "            background-color:  #fff7fb;\n",
       "            color:  #000000;\n",
       "        }</style><table id=\"T_9f3389f4_246f_11eb_b7fa_7085c2a9ca7a\" ><thead>    <tr>        <th class=\"blank level0\" ></th>        <th class=\"col_heading level0 col0\" >cluster_0</th>        <th class=\"col_heading level0 col1\" >df</th>    </tr></thead><tbody>\n",
       "                <tr>\n",
       "                        <th id=\"T_9f3389f4_246f_11eb_b7fa_7085c2a9ca7alevel0_row0\" class=\"row_heading level0 row0\" >reggae</th>\n",
       "                        <td id=\"T_9f3389f4_246f_11eb_b7fa_7085c2a9ca7arow0_col0\" class=\"data row0 col0\" >1.333333</td>\n",
       "                        <td id=\"T_9f3389f4_246f_11eb_b7fa_7085c2a9ca7arow0_col1\" class=\"data row0 col1\" >0.060347</td>\n",
       "            </tr>\n",
       "            <tr>\n",
       "                        <th id=\"T_9f3389f4_246f_11eb_b7fa_7085c2a9ca7alevel0_row1\" class=\"row_heading level0 row1\" >pop</th>\n",
       "                        <td id=\"T_9f3389f4_246f_11eb_b7fa_7085c2a9ca7arow1_col0\" class=\"data row1 col0\" >0.666667</td>\n",
       "                        <td id=\"T_9f3389f4_246f_11eb_b7fa_7085c2a9ca7arow1_col1\" class=\"data row1 col1\" >0.949022</td>\n",
       "            </tr>\n",
       "            <tr>\n",
       "                        <th id=\"T_9f3389f4_246f_11eb_b7fa_7085c2a9ca7alevel0_row2\" class=\"row_heading level0 row2\" >hop</th>\n",
       "                        <td id=\"T_9f3389f4_246f_11eb_b7fa_7085c2a9ca7arow2_col0\" class=\"data row2 col0\" >0.666667</td>\n",
       "                        <td id=\"T_9f3389f4_246f_11eb_b7fa_7085c2a9ca7arow2_col1\" class=\"data row2 col1\" >0.249931</td>\n",
       "            </tr>\n",
       "            <tr>\n",
       "                        <th id=\"T_9f3389f4_246f_11eb_b7fa_7085c2a9ca7alevel0_row3\" class=\"row_heading level0 row3\" >hip</th>\n",
       "                        <td id=\"T_9f3389f4_246f_11eb_b7fa_7085c2a9ca7arow3_col0\" class=\"data row3 col0\" >0.666667</td>\n",
       "                        <td id=\"T_9f3389f4_246f_11eb_b7fa_7085c2a9ca7arow3_col1\" class=\"data row3 col1\" >0.274869</td>\n",
       "            </tr>\n",
       "            <tr>\n",
       "                        <th id=\"T_9f3389f4_246f_11eb_b7fa_7085c2a9ca7alevel0_row4\" class=\"row_heading level0 row4\" >wave</th>\n",
       "                        <td id=\"T_9f3389f4_246f_11eb_b7fa_7085c2a9ca7arow4_col0\" class=\"data row4 col0\" >0.333333</td>\n",
       "                        <td id=\"T_9f3389f4_246f_11eb_b7fa_7085c2a9ca7arow4_col1\" class=\"data row4 col1\" >0.084872</td>\n",
       "            </tr>\n",
       "            <tr>\n",
       "                        <th id=\"T_9f3389f4_246f_11eb_b7fa_7085c2a9ca7alevel0_row5\" class=\"row_heading level0 row5\" >roots</th>\n",
       "                        <td id=\"T_9f3389f4_246f_11eb_b7fa_7085c2a9ca7arow5_col0\" class=\"data row5 col0\" >0.333333</td>\n",
       "                        <td id=\"T_9f3389f4_246f_11eb_b7fa_7085c2a9ca7arow5_col1\" class=\"data row5 col1\" >0.029347</td>\n",
       "            </tr>\n",
       "            <tr>\n",
       "                        <th id=\"T_9f3389f4_246f_11eb_b7fa_7085c2a9ca7alevel0_row6\" class=\"row_heading level0 row6\" >new</th>\n",
       "                        <td id=\"T_9f3389f4_246f_11eb_b7fa_7085c2a9ca7arow6_col0\" class=\"data row6 col0\" >0.333333</td>\n",
       "                        <td id=\"T_9f3389f4_246f_11eb_b7fa_7085c2a9ca7arow6_col1\" class=\"data row6 col1\" >0.137779</td>\n",
       "            </tr>\n",
       "            <tr>\n",
       "                        <th id=\"T_9f3389f4_246f_11eb_b7fa_7085c2a9ca7alevel0_row7\" class=\"row_heading level0 row7\" >modern</th>\n",
       "                        <td id=\"T_9f3389f4_246f_11eb_b7fa_7085c2a9ca7arow7_col0\" class=\"data row7 col0\" >0.333333</td>\n",
       "                        <td id=\"T_9f3389f4_246f_11eb_b7fa_7085c2a9ca7arow7_col1\" class=\"data row7 col1\" >0.126481</td>\n",
       "            </tr>\n",
       "            <tr>\n",
       "                        <th id=\"T_9f3389f4_246f_11eb_b7fa_7085c2a9ca7alevel0_row8\" class=\"row_heading level0 row8\" >fusion</th>\n",
       "                        <td id=\"T_9f3389f4_246f_11eb_b7fa_7085c2a9ca7arow8_col0\" class=\"data row8 col0\" >0.333333</td>\n",
       "                        <td id=\"T_9f3389f4_246f_11eb_b7fa_7085c2a9ca7arow8_col1\" class=\"data row8 col1\" >0.022045</td>\n",
       "            </tr>\n",
       "            <tr>\n",
       "                        <th id=\"T_9f3389f4_246f_11eb_b7fa_7085c2a9ca7alevel0_row9\" class=\"row_heading level0 row9\" >dub</th>\n",
       "                        <td id=\"T_9f3389f4_246f_11eb_b7fa_7085c2a9ca7arow9_col0\" class=\"data row9 col0\" >0.333333</td>\n",
       "                        <td id=\"T_9f3389f4_246f_11eb_b7fa_7085c2a9ca7arow9_col1\" class=\"data row9 col1\" >0.005236</td>\n",
       "            </tr>\n",
       "            <tr>\n",
       "                        <th id=\"T_9f3389f4_246f_11eb_b7fa_7085c2a9ca7alevel0_row10\" class=\"row_heading level0 row10\" >candy</th>\n",
       "                        <td id=\"T_9f3389f4_246f_11eb_b7fa_7085c2a9ca7arow10_col0\" class=\"data row10 col0\" >0.333333</td>\n",
       "                        <td id=\"T_9f3389f4_246f_11eb_b7fa_7085c2a9ca7arow10_col1\" class=\"data row10 col1\" >0.004271</td>\n",
       "            </tr>\n",
       "            <tr>\n",
       "                        <th id=\"T_9f3389f4_246f_11eb_b7fa_7085c2a9ca7alevel0_row11\" class=\"row_heading level0 row11\" >c86</th>\n",
       "                        <td id=\"T_9f3389f4_246f_11eb_b7fa_7085c2a9ca7arow11_col0\" class=\"data row11 col0\" >0.333333</td>\n",
       "                        <td id=\"T_9f3389f4_246f_11eb_b7fa_7085c2a9ca7arow11_col1\" class=\"data row11 col1\" >0.001240</td>\n",
       "            </tr>\n",
       "    </tbody></table>"
      ],
      "text/plain": [
       "<pandas.io.formats.style.Styler at 0x2955645e308>"
      ]
     },
     "metadata": {},
     "output_type": "display_data"
    },
    {
     "name": "stdout",
     "output_type": "stream",
     "text": [
      "Micro Genre Comparison\n"
     ]
    },
    {
     "data": {
      "text/html": [
       "<style  type=\"text/css\" >\n",
       "#T_9f358462_246f_11eb_8518_7085c2a9ca7arow0_col0{\n",
       "            background-color:  #023858;\n",
       "            color:  #f1f1f1;\n",
       "        }#T_9f358462_246f_11eb_8518_7085c2a9ca7arow0_col1,#T_9f358462_246f_11eb_8518_7085c2a9ca7arow1_col0,#T_9f358462_246f_11eb_8518_7085c2a9ca7arow1_col1,#T_9f358462_246f_11eb_8518_7085c2a9ca7arow2_col0,#T_9f358462_246f_11eb_8518_7085c2a9ca7arow2_col1,#T_9f358462_246f_11eb_8518_7085c2a9ca7arow3_col0,#T_9f358462_246f_11eb_8518_7085c2a9ca7arow3_col1,#T_9f358462_246f_11eb_8518_7085c2a9ca7arow4_col0,#T_9f358462_246f_11eb_8518_7085c2a9ca7arow4_col1,#T_9f358462_246f_11eb_8518_7085c2a9ca7arow5_col0,#T_9f358462_246f_11eb_8518_7085c2a9ca7arow5_col1,#T_9f358462_246f_11eb_8518_7085c2a9ca7arow6_col0,#T_9f358462_246f_11eb_8518_7085c2a9ca7arow6_col1{\n",
       "            background-color:  #fff7fb;\n",
       "            color:  #000000;\n",
       "        }</style><table id=\"T_9f358462_246f_11eb_8518_7085c2a9ca7a\" ><thead>    <tr>        <th class=\"blank level0\" ></th>        <th class=\"col_heading level0 col0\" >cluster_16</th>        <th class=\"col_heading level0 col1\" >df</th>    </tr></thead><tbody>\n",
       "                <tr>\n",
       "                        <th id=\"T_9f358462_246f_11eb_8518_7085c2a9ca7alevel0_row0\" class=\"row_heading level0 row0\" >reggae fusion</th>\n",
       "                        <td id=\"T_9f358462_246f_11eb_8518_7085c2a9ca7arow0_col0\" class=\"data row0 col0\" >1.000000</td>\n",
       "                        <td id=\"T_9f358462_246f_11eb_8518_7085c2a9ca7arow0_col1\" class=\"data row0 col1\" >0.013916</td>\n",
       "            </tr>\n",
       "            <tr>\n",
       "                        <th id=\"T_9f358462_246f_11eb_8518_7085c2a9ca7alevel0_row1\" class=\"row_heading level0 row1\" >\"australian children's music\"</th>\n",
       "                        <td id=\"T_9f358462_246f_11eb_8518_7085c2a9ca7arow1_col0\" class=\"data row1 col0\" >nan</td>\n",
       "                        <td id=\"T_9f358462_246f_11eb_8518_7085c2a9ca7arow1_col1\" class=\"data row1 col1\" >0.000138</td>\n",
       "            </tr>\n",
       "            <tr>\n",
       "                        <th id=\"T_9f358462_246f_11eb_8518_7085c2a9ca7alevel0_row2\" class=\"row_heading level0 row2\" >\"black 'n' roll\"</th>\n",
       "                        <td id=\"T_9f358462_246f_11eb_8518_7085c2a9ca7arow2_col0\" class=\"data row2 col0\" >nan</td>\n",
       "                        <td id=\"T_9f358462_246f_11eb_8518_7085c2a9ca7arow2_col1\" class=\"data row2 col1\" >0.000138</td>\n",
       "            </tr>\n",
       "            <tr>\n",
       "                        <th id=\"T_9f358462_246f_11eb_8518_7085c2a9ca7alevel0_row3\" class=\"row_heading level0 row3\" >\"canadian children's music\"</th>\n",
       "                        <td id=\"T_9f358462_246f_11eb_8518_7085c2a9ca7arow3_col0\" class=\"data row3 col0\" >nan</td>\n",
       "                        <td id=\"T_9f358462_246f_11eb_8518_7085c2a9ca7arow3_col1\" class=\"data row3 col1\" >0.000413</td>\n",
       "            </tr>\n",
       "            <tr>\n",
       "                        <th id=\"T_9f358462_246f_11eb_8518_7085c2a9ca7alevel0_row4\" class=\"row_heading level0 row4\" >\"children's folk\"</th>\n",
       "                        <td id=\"T_9f358462_246f_11eb_8518_7085c2a9ca7arow4_col0\" class=\"data row4 col0\" >nan</td>\n",
       "                        <td id=\"T_9f358462_246f_11eb_8518_7085c2a9ca7arow4_col1\" class=\"data row4 col1\" >0.001516</td>\n",
       "            </tr>\n",
       "            <tr>\n",
       "                        <th id=\"T_9f358462_246f_11eb_8518_7085c2a9ca7alevel0_row5\" class=\"row_heading level0 row5\" >\"children's music\"</th>\n",
       "                        <td id=\"T_9f358462_246f_11eb_8518_7085c2a9ca7arow5_col0\" class=\"data row5 col0\" >nan</td>\n",
       "                        <td id=\"T_9f358462_246f_11eb_8518_7085c2a9ca7arow5_col1\" class=\"data row5 col1\" >0.003444</td>\n",
       "            </tr>\n",
       "            <tr>\n",
       "                        <th id=\"T_9f358462_246f_11eb_8518_7085c2a9ca7alevel0_row6\" class=\"row_heading level0 row6\" >\"children's story\"</th>\n",
       "                        <td id=\"T_9f358462_246f_11eb_8518_7085c2a9ca7arow6_col0\" class=\"data row6 col0\" >nan</td>\n",
       "                        <td id=\"T_9f358462_246f_11eb_8518_7085c2a9ca7arow6_col1\" class=\"data row6 col1\" >0.000138</td>\n",
       "            </tr>\n",
       "    </tbody></table>"
      ],
      "text/plain": [
       "<pandas.io.formats.style.Styler at 0x2955645e948>"
      ]
     },
     "metadata": {},
     "output_type": "display_data"
    },
    {
     "name": "stdout",
     "output_type": "stream",
     "text": [
      "Keyword Comparison\n"
     ]
    },
    {
     "data": {
      "text/html": [
       "<style  type=\"text/css\" >\n",
       "#T_9f37a5ca_246f_11eb_a51f_7085c2a9ca7arow0_col0,#T_9f37a5ca_246f_11eb_a51f_7085c2a9ca7arow1_col0{\n",
       "            background-color:  #023858;\n",
       "            color:  #f1f1f1;\n",
       "        }#T_9f37a5ca_246f_11eb_a51f_7085c2a9ca7arow0_col1,#T_9f37a5ca_246f_11eb_a51f_7085c2a9ca7arow1_col1,#T_9f37a5ca_246f_11eb_a51f_7085c2a9ca7arow2_col0,#T_9f37a5ca_246f_11eb_a51f_7085c2a9ca7arow2_col1,#T_9f37a5ca_246f_11eb_a51f_7085c2a9ca7arow3_col0,#T_9f37a5ca_246f_11eb_a51f_7085c2a9ca7arow3_col1,#T_9f37a5ca_246f_11eb_a51f_7085c2a9ca7arow4_col0,#T_9f37a5ca_246f_11eb_a51f_7085c2a9ca7arow4_col1,#T_9f37a5ca_246f_11eb_a51f_7085c2a9ca7arow5_col0,#T_9f37a5ca_246f_11eb_a51f_7085c2a9ca7arow5_col1,#T_9f37a5ca_246f_11eb_a51f_7085c2a9ca7arow6_col0,#T_9f37a5ca_246f_11eb_a51f_7085c2a9ca7arow6_col1,#T_9f37a5ca_246f_11eb_a51f_7085c2a9ca7arow7_col0,#T_9f37a5ca_246f_11eb_a51f_7085c2a9ca7arow7_col1,#T_9f37a5ca_246f_11eb_a51f_7085c2a9ca7arow8_col0,#T_9f37a5ca_246f_11eb_a51f_7085c2a9ca7arow8_col1,#T_9f37a5ca_246f_11eb_a51f_7085c2a9ca7arow9_col0,#T_9f37a5ca_246f_11eb_a51f_7085c2a9ca7arow9_col1,#T_9f37a5ca_246f_11eb_a51f_7085c2a9ca7arow10_col0,#T_9f37a5ca_246f_11eb_a51f_7085c2a9ca7arow10_col1,#T_9f37a5ca_246f_11eb_a51f_7085c2a9ca7arow11_col0,#T_9f37a5ca_246f_11eb_a51f_7085c2a9ca7arow11_col1{\n",
       "            background-color:  #fff7fb;\n",
       "            color:  #000000;\n",
       "        }</style><table id=\"T_9f37a5ca_246f_11eb_a51f_7085c2a9ca7a\" ><thead>    <tr>        <th class=\"blank level0\" ></th>        <th class=\"col_heading level0 col0\" >cluster_16</th>        <th class=\"col_heading level0 col1\" >df</th>    </tr></thead><tbody>\n",
       "                <tr>\n",
       "                        <th id=\"T_9f37a5ca_246f_11eb_a51f_7085c2a9ca7alevel0_row0\" class=\"row_heading level0 row0\" >reggae</th>\n",
       "                        <td id=\"T_9f37a5ca_246f_11eb_a51f_7085c2a9ca7arow0_col0\" class=\"data row0 col0\" >1.000000</td>\n",
       "                        <td id=\"T_9f37a5ca_246f_11eb_a51f_7085c2a9ca7arow0_col1\" class=\"data row0 col1\" >0.060347</td>\n",
       "            </tr>\n",
       "            <tr>\n",
       "                        <th id=\"T_9f37a5ca_246f_11eb_a51f_7085c2a9ca7alevel0_row1\" class=\"row_heading level0 row1\" >fusion</th>\n",
       "                        <td id=\"T_9f37a5ca_246f_11eb_a51f_7085c2a9ca7arow1_col0\" class=\"data row1 col0\" >1.000000</td>\n",
       "                        <td id=\"T_9f37a5ca_246f_11eb_a51f_7085c2a9ca7arow1_col1\" class=\"data row1 col1\" >0.022045</td>\n",
       "            </tr>\n",
       "            <tr>\n",
       "                        <th id=\"T_9f37a5ca_246f_11eb_a51f_7085c2a9ca7alevel0_row2\" class=\"row_heading level0 row2\" >\"australian</th>\n",
       "                        <td id=\"T_9f37a5ca_246f_11eb_a51f_7085c2a9ca7arow2_col0\" class=\"data row2 col0\" >nan</td>\n",
       "                        <td id=\"T_9f37a5ca_246f_11eb_a51f_7085c2a9ca7arow2_col1\" class=\"data row2 col1\" >0.000138</td>\n",
       "            </tr>\n",
       "            <tr>\n",
       "                        <th id=\"T_9f37a5ca_246f_11eb_a51f_7085c2a9ca7alevel0_row3\" class=\"row_heading level0 row3\" >\"black</th>\n",
       "                        <td id=\"T_9f37a5ca_246f_11eb_a51f_7085c2a9ca7arow3_col0\" class=\"data row3 col0\" >nan</td>\n",
       "                        <td id=\"T_9f37a5ca_246f_11eb_a51f_7085c2a9ca7arow3_col1\" class=\"data row3 col1\" >0.000138</td>\n",
       "            </tr>\n",
       "            <tr>\n",
       "                        <th id=\"T_9f37a5ca_246f_11eb_a51f_7085c2a9ca7alevel0_row4\" class=\"row_heading level0 row4\" >\"canadian</th>\n",
       "                        <td id=\"T_9f37a5ca_246f_11eb_a51f_7085c2a9ca7arow4_col0\" class=\"data row4 col0\" >nan</td>\n",
       "                        <td id=\"T_9f37a5ca_246f_11eb_a51f_7085c2a9ca7arow4_col1\" class=\"data row4 col1\" >0.000413</td>\n",
       "            </tr>\n",
       "            <tr>\n",
       "                        <th id=\"T_9f37a5ca_246f_11eb_a51f_7085c2a9ca7alevel0_row5\" class=\"row_heading level0 row5\" >\"children's</th>\n",
       "                        <td id=\"T_9f37a5ca_246f_11eb_a51f_7085c2a9ca7arow5_col0\" class=\"data row5 col0\" >nan</td>\n",
       "                        <td id=\"T_9f37a5ca_246f_11eb_a51f_7085c2a9ca7arow5_col1\" class=\"data row5 col1\" >0.005098</td>\n",
       "            </tr>\n",
       "            <tr>\n",
       "                        <th id=\"T_9f37a5ca_246f_11eb_a51f_7085c2a9ca7alevel0_row6\" class=\"row_heading level0 row6\" >\"death</th>\n",
       "                        <td id=\"T_9f37a5ca_246f_11eb_a51f_7085c2a9ca7arow6_col0\" class=\"data row6 col0\" >nan</td>\n",
       "                        <td id=\"T_9f37a5ca_246f_11eb_a51f_7085c2a9ca7arow6_col1\" class=\"data row6 col1\" >0.000138</td>\n",
       "            </tr>\n",
       "            <tr>\n",
       "                        <th id=\"T_9f37a5ca_246f_11eb_a51f_7085c2a9ca7alevel0_row7\" class=\"row_heading level0 row7\" >\"punk</th>\n",
       "                        <td id=\"T_9f37a5ca_246f_11eb_a51f_7085c2a9ca7arow7_col0\" class=\"data row7 col0\" >nan</td>\n",
       "                        <td id=\"T_9f37a5ca_246f_11eb_a51f_7085c2a9ca7arow7_col1\" class=\"data row7 col1\" >0.000551</td>\n",
       "            </tr>\n",
       "            <tr>\n",
       "                        <th id=\"T_9f37a5ca_246f_11eb_a51f_7085c2a9ca7alevel0_row8\" class=\"row_heading level0 row8\" >\"women's</th>\n",
       "                        <td id=\"T_9f37a5ca_246f_11eb_a51f_7085c2a9ca7arow8_col0\" class=\"data row8 col0\" >nan</td>\n",
       "                        <td id=\"T_9f37a5ca_246f_11eb_a51f_7085c2a9ca7arow8_col1\" class=\"data row8 col1\" >0.000964</td>\n",
       "            </tr>\n",
       "            <tr>\n",
       "                        <th id=\"T_9f37a5ca_246f_11eb_a51f_7085c2a9ca7alevel0_row9\" class=\"row_heading level0 row9\" >'n'</th>\n",
       "                        <td id=\"T_9f37a5ca_246f_11eb_a51f_7085c2a9ca7arow9_col0\" class=\"data row9 col0\" >nan</td>\n",
       "                        <td id=\"T_9f37a5ca_246f_11eb_a51f_7085c2a9ca7arow9_col1\" class=\"data row9 col1\" >0.000827</td>\n",
       "            </tr>\n",
       "            <tr>\n",
       "                        <th id=\"T_9f37a5ca_246f_11eb_a51f_7085c2a9ca7alevel0_row10\" class=\"row_heading level0 row10\" >21st</th>\n",
       "                        <td id=\"T_9f37a5ca_246f_11eb_a51f_7085c2a9ca7arow10_col0\" class=\"data row10 col0\" >nan</td>\n",
       "                        <td id=\"T_9f37a5ca_246f_11eb_a51f_7085c2a9ca7arow10_col1\" class=\"data row10 col1\" >0.000551</td>\n",
       "            </tr>\n",
       "            <tr>\n",
       "                        <th id=\"T_9f37a5ca_246f_11eb_a51f_7085c2a9ca7alevel0_row11\" class=\"row_heading level0 row11\" >a</th>\n",
       "                        <td id=\"T_9f37a5ca_246f_11eb_a51f_7085c2a9ca7arow11_col0\" class=\"data row11 col0\" >nan</td>\n",
       "                        <td id=\"T_9f37a5ca_246f_11eb_a51f_7085c2a9ca7arow11_col1\" class=\"data row11 col1\" >0.000276</td>\n",
       "            </tr>\n",
       "    </tbody></table>"
      ],
      "text/plain": [
       "<pandas.io.formats.style.Styler at 0x2955645efc8>"
      ]
     },
     "metadata": {},
     "output_type": "display_data"
    },
    {
     "name": "stdout",
     "output_type": "stream",
     "text": [
      "Micro Genre Comparison\n"
     ]
    },
    {
     "data": {
      "text/html": [
       "<style  type=\"text/css\" >\n",
       "#T_9f39a046_246f_11eb_ad94_7085c2a9ca7arow0_col0,#T_9f39a046_246f_11eb_ad94_7085c2a9ca7arow1_col0,#T_9f39a046_246f_11eb_ad94_7085c2a9ca7arow2_col0,#T_9f39a046_246f_11eb_ad94_7085c2a9ca7arow3_col0,#T_9f39a046_246f_11eb_ad94_7085c2a9ca7arow4_col0,#T_9f39a046_246f_11eb_ad94_7085c2a9ca7arow5_col0,#T_9f39a046_246f_11eb_ad94_7085c2a9ca7arow6_col0{\n",
       "            background-color:  #023858;\n",
       "            color:  #f1f1f1;\n",
       "        }#T_9f39a046_246f_11eb_ad94_7085c2a9ca7arow0_col1,#T_9f39a046_246f_11eb_ad94_7085c2a9ca7arow1_col1,#T_9f39a046_246f_11eb_ad94_7085c2a9ca7arow2_col1,#T_9f39a046_246f_11eb_ad94_7085c2a9ca7arow3_col1,#T_9f39a046_246f_11eb_ad94_7085c2a9ca7arow4_col1,#T_9f39a046_246f_11eb_ad94_7085c2a9ca7arow5_col1,#T_9f39a046_246f_11eb_ad94_7085c2a9ca7arow6_col1{\n",
       "            background-color:  #fff7fb;\n",
       "            color:  #000000;\n",
       "        }</style><table id=\"T_9f39a046_246f_11eb_ad94_7085c2a9ca7a\" ><thead>    <tr>        <th class=\"blank level0\" ></th>        <th class=\"col_heading level0 col0\" >cluster_10</th>        <th class=\"col_heading level0 col1\" >df</th>    </tr></thead><tbody>\n",
       "                <tr>\n",
       "                        <th id=\"T_9f39a046_246f_11eb_ad94_7085c2a9ca7alevel0_row0\" class=\"row_heading level0 row0\" >urban contemporary</th>\n",
       "                        <td id=\"T_9f39a046_246f_11eb_ad94_7085c2a9ca7arow0_col0\" class=\"data row0 col0\" >0.250000</td>\n",
       "                        <td id=\"T_9f39a046_246f_11eb_ad94_7085c2a9ca7arow0_col1\" class=\"data row0 col1\" >0.054974</td>\n",
       "            </tr>\n",
       "            <tr>\n",
       "                        <th id=\"T_9f39a046_246f_11eb_ad94_7085c2a9ca7alevel0_row1\" class=\"row_heading level0 row1\" >p funk</th>\n",
       "                        <td id=\"T_9f39a046_246f_11eb_ad94_7085c2a9ca7arow1_col0\" class=\"data row1 col0\" >0.250000</td>\n",
       "                        <td id=\"T_9f39a046_246f_11eb_ad94_7085c2a9ca7arow1_col1\" class=\"data row1 col1\" >0.001240</td>\n",
       "            </tr>\n",
       "            <tr>\n",
       "                        <th id=\"T_9f39a046_246f_11eb_ad94_7085c2a9ca7alevel0_row2\" class=\"row_heading level0 row2\" >atl hip hop</th>\n",
       "                        <td id=\"T_9f39a046_246f_11eb_ad94_7085c2a9ca7arow2_col0\" class=\"data row2 col0\" >0.250000</td>\n",
       "                        <td id=\"T_9f39a046_246f_11eb_ad94_7085c2a9ca7arow2_col1\" class=\"data row2 col1\" >0.019427</td>\n",
       "            </tr>\n",
       "            <tr>\n",
       "                        <th id=\"T_9f39a046_246f_11eb_ad94_7085c2a9ca7alevel0_row3\" class=\"row_heading level0 row3\" >brooklyn drill</th>\n",
       "                        <td id=\"T_9f39a046_246f_11eb_ad94_7085c2a9ca7arow3_col0\" class=\"data row3 col0\" >0.250000</td>\n",
       "                        <td id=\"T_9f39a046_246f_11eb_ad94_7085c2a9ca7arow3_col1\" class=\"data row3 col1\" >0.005787</td>\n",
       "            </tr>\n",
       "            <tr>\n",
       "                        <th id=\"T_9f39a046_246f_11eb_ad94_7085c2a9ca7alevel0_row4\" class=\"row_heading level0 row4\" >dance pop</th>\n",
       "                        <td id=\"T_9f39a046_246f_11eb_ad94_7085c2a9ca7arow4_col0\" class=\"data row4 col0\" >0.250000</td>\n",
       "                        <td id=\"T_9f39a046_246f_11eb_ad94_7085c2a9ca7arow4_col1\" class=\"data row4 col1\" >0.121659</td>\n",
       "            </tr>\n",
       "            <tr>\n",
       "                        <th id=\"T_9f39a046_246f_11eb_ad94_7085c2a9ca7alevel0_row5\" class=\"row_heading level0 row5\" >funk</th>\n",
       "                        <td id=\"T_9f39a046_246f_11eb_ad94_7085c2a9ca7arow5_col0\" class=\"data row5 col0\" >0.250000</td>\n",
       "                        <td id=\"T_9f39a046_246f_11eb_ad94_7085c2a9ca7arow5_col1\" class=\"data row5 col1\" >0.048636</td>\n",
       "            </tr>\n",
       "            <tr>\n",
       "                        <th id=\"T_9f39a046_246f_11eb_ad94_7085c2a9ca7alevel0_row6\" class=\"row_heading level0 row6\" >gangster rap</th>\n",
       "                        <td id=\"T_9f39a046_246f_11eb_ad94_7085c2a9ca7arow6_col0\" class=\"data row6 col0\" >0.250000</td>\n",
       "                        <td id=\"T_9f39a046_246f_11eb_ad94_7085c2a9ca7arow6_col1\" class=\"data row6 col1\" >0.015982</td>\n",
       "            </tr>\n",
       "    </tbody></table>"
      ],
      "text/plain": [
       "<pandas.io.formats.style.Styler at 0x2955638b6c8>"
      ]
     },
     "metadata": {},
     "output_type": "display_data"
    },
    {
     "name": "stdout",
     "output_type": "stream",
     "text": [
      "Keyword Comparison\n"
     ]
    },
    {
     "data": {
      "text/html": [
       "<style  type=\"text/css\" >\n",
       "#T_9f3bc1ae_246f_11eb_8927_7085c2a9ca7arow0_col0,#T_9f3bc1ae_246f_11eb_8927_7085c2a9ca7arow1_col0,#T_9f3bc1ae_246f_11eb_8927_7085c2a9ca7arow2_col0,#T_9f3bc1ae_246f_11eb_8927_7085c2a9ca7arow3_col0,#T_9f3bc1ae_246f_11eb_8927_7085c2a9ca7arow4_col1,#T_9f3bc1ae_246f_11eb_8927_7085c2a9ca7arow5_col0,#T_9f3bc1ae_246f_11eb_8927_7085c2a9ca7arow6_col0,#T_9f3bc1ae_246f_11eb_8927_7085c2a9ca7arow7_col0,#T_9f3bc1ae_246f_11eb_8927_7085c2a9ca7arow8_col0,#T_9f3bc1ae_246f_11eb_8927_7085c2a9ca7arow9_col0,#T_9f3bc1ae_246f_11eb_8927_7085c2a9ca7arow10_col0,#T_9f3bc1ae_246f_11eb_8927_7085c2a9ca7arow11_col0{\n",
       "            background-color:  #023858;\n",
       "            color:  #f1f1f1;\n",
       "        }#T_9f3bc1ae_246f_11eb_8927_7085c2a9ca7arow0_col1,#T_9f3bc1ae_246f_11eb_8927_7085c2a9ca7arow1_col1,#T_9f3bc1ae_246f_11eb_8927_7085c2a9ca7arow2_col1,#T_9f3bc1ae_246f_11eb_8927_7085c2a9ca7arow3_col1,#T_9f3bc1ae_246f_11eb_8927_7085c2a9ca7arow4_col0,#T_9f3bc1ae_246f_11eb_8927_7085c2a9ca7arow5_col1,#T_9f3bc1ae_246f_11eb_8927_7085c2a9ca7arow6_col1,#T_9f3bc1ae_246f_11eb_8927_7085c2a9ca7arow7_col1,#T_9f3bc1ae_246f_11eb_8927_7085c2a9ca7arow8_col1,#T_9f3bc1ae_246f_11eb_8927_7085c2a9ca7arow9_col1,#T_9f3bc1ae_246f_11eb_8927_7085c2a9ca7arow10_col1,#T_9f3bc1ae_246f_11eb_8927_7085c2a9ca7arow11_col1{\n",
       "            background-color:  #fff7fb;\n",
       "            color:  #000000;\n",
       "        }</style><table id=\"T_9f3bc1ae_246f_11eb_8927_7085c2a9ca7a\" ><thead>    <tr>        <th class=\"blank level0\" ></th>        <th class=\"col_heading level0 col0\" >cluster_10</th>        <th class=\"col_heading level0 col1\" >df</th>    </tr></thead><tbody>\n",
       "                <tr>\n",
       "                        <th id=\"T_9f3bc1ae_246f_11eb_8927_7085c2a9ca7alevel0_row0\" class=\"row_heading level0 row0\" >rap</th>\n",
       "                        <td id=\"T_9f3bc1ae_246f_11eb_8927_7085c2a9ca7arow0_col0\" class=\"data row0 col0\" >1.000000</td>\n",
       "                        <td id=\"T_9f3bc1ae_246f_11eb_8927_7085c2a9ca7arow0_col1\" class=\"data row0 col1\" >0.310003</td>\n",
       "            </tr>\n",
       "            <tr>\n",
       "                        <th id=\"T_9f3bc1ae_246f_11eb_8927_7085c2a9ca7alevel0_row1\" class=\"row_heading level0 row1\" >funk</th>\n",
       "                        <td id=\"T_9f3bc1ae_246f_11eb_8927_7085c2a9ca7arow1_col0\" class=\"data row1 col0\" >0.750000</td>\n",
       "                        <td id=\"T_9f3bc1ae_246f_11eb_8927_7085c2a9ca7arow1_col1\" class=\"data row1 col1\" >0.090934</td>\n",
       "            </tr>\n",
       "            <tr>\n",
       "                        <th id=\"T_9f3bc1ae_246f_11eb_8927_7085c2a9ca7alevel0_row2\" class=\"row_heading level0 row2\" >hip</th>\n",
       "                        <td id=\"T_9f3bc1ae_246f_11eb_8927_7085c2a9ca7arow2_col0\" class=\"data row2 col0\" >0.750000</td>\n",
       "                        <td id=\"T_9f3bc1ae_246f_11eb_8927_7085c2a9ca7arow2_col1\" class=\"data row2 col1\" >0.274869</td>\n",
       "            </tr>\n",
       "            <tr>\n",
       "                        <th id=\"T_9f3bc1ae_246f_11eb_8927_7085c2a9ca7alevel0_row3\" class=\"row_heading level0 row3\" >hop</th>\n",
       "                        <td id=\"T_9f3bc1ae_246f_11eb_8927_7085c2a9ca7arow3_col0\" class=\"data row3 col0\" >0.750000</td>\n",
       "                        <td id=\"T_9f3bc1ae_246f_11eb_8927_7085c2a9ca7arow3_col1\" class=\"data row3 col1\" >0.249931</td>\n",
       "            </tr>\n",
       "            <tr>\n",
       "                        <th id=\"T_9f3bc1ae_246f_11eb_8927_7085c2a9ca7alevel0_row4\" class=\"row_heading level0 row4\" >pop</th>\n",
       "                        <td id=\"T_9f3bc1ae_246f_11eb_8927_7085c2a9ca7arow4_col0\" class=\"data row4 col0\" >0.750000</td>\n",
       "                        <td id=\"T_9f3bc1ae_246f_11eb_8927_7085c2a9ca7arow4_col1\" class=\"data row4 col1\" >0.949022</td>\n",
       "            </tr>\n",
       "            <tr>\n",
       "                        <th id=\"T_9f3bc1ae_246f_11eb_8927_7085c2a9ca7alevel0_row5\" class=\"row_heading level0 row5\" >urban</th>\n",
       "                        <td id=\"T_9f3bc1ae_246f_11eb_8927_7085c2a9ca7arow5_col0\" class=\"data row5 col0\" >0.250000</td>\n",
       "                        <td id=\"T_9f3bc1ae_246f_11eb_8927_7085c2a9ca7arow5_col1\" class=\"data row5 col1\" >0.054974</td>\n",
       "            </tr>\n",
       "            <tr>\n",
       "                        <th id=\"T_9f3bc1ae_246f_11eb_8927_7085c2a9ca7alevel0_row6\" class=\"row_heading level0 row6\" >motown</th>\n",
       "                        <td id=\"T_9f3bc1ae_246f_11eb_8927_7085c2a9ca7arow6_col0\" class=\"data row6 col0\" >0.250000</td>\n",
       "                        <td id=\"T_9f3bc1ae_246f_11eb_8927_7085c2a9ca7arow6_col1\" class=\"data row6 col1\" >0.041334</td>\n",
       "            </tr>\n",
       "            <tr>\n",
       "                        <th id=\"T_9f3bc1ae_246f_11eb_8927_7085c2a9ca7alevel0_row7\" class=\"row_heading level0 row7\" >atl</th>\n",
       "                        <td id=\"T_9f3bc1ae_246f_11eb_8927_7085c2a9ca7arow7_col0\" class=\"data row7 col0\" >0.250000</td>\n",
       "                        <td id=\"T_9f3bc1ae_246f_11eb_8927_7085c2a9ca7arow7_col1\" class=\"data row7 col1\" >0.024525</td>\n",
       "            </tr>\n",
       "            <tr>\n",
       "                        <th id=\"T_9f3bc1ae_246f_11eb_8927_7085c2a9ca7alevel0_row8\" class=\"row_heading level0 row8\" >brooklyn</th>\n",
       "                        <td id=\"T_9f3bc1ae_246f_11eb_8927_7085c2a9ca7arow8_col0\" class=\"data row8 col0\" >0.250000</td>\n",
       "                        <td id=\"T_9f3bc1ae_246f_11eb_8927_7085c2a9ca7arow8_col1\" class=\"data row8 col1\" >0.008129</td>\n",
       "            </tr>\n",
       "            <tr>\n",
       "                        <th id=\"T_9f3bc1ae_246f_11eb_8927_7085c2a9ca7alevel0_row9\" class=\"row_heading level0 row9\" >contemporary</th>\n",
       "                        <td id=\"T_9f3bc1ae_246f_11eb_8927_7085c2a9ca7arow9_col0\" class=\"data row9 col0\" >0.250000</td>\n",
       "                        <td id=\"T_9f3bc1ae_246f_11eb_8927_7085c2a9ca7arow9_col1\" class=\"data row9 col1\" >0.119868</td>\n",
       "            </tr>\n",
       "            <tr>\n",
       "                        <th id=\"T_9f3bc1ae_246f_11eb_8927_7085c2a9ca7alevel0_row10\" class=\"row_heading level0 row10\" >dance</th>\n",
       "                        <td id=\"T_9f3bc1ae_246f_11eb_8927_7085c2a9ca7arow10_col0\" class=\"data row10 col0\" >0.250000</td>\n",
       "                        <td id=\"T_9f3bc1ae_246f_11eb_8927_7085c2a9ca7arow10_col1\" class=\"data row10 col1\" >0.181455</td>\n",
       "            </tr>\n",
       "            <tr>\n",
       "                        <th id=\"T_9f3bc1ae_246f_11eb_8927_7085c2a9ca7alevel0_row11\" class=\"row_heading level0 row11\" >drill</th>\n",
       "                        <td id=\"T_9f3bc1ae_246f_11eb_8927_7085c2a9ca7arow11_col0\" class=\"data row11 col0\" >0.250000</td>\n",
       "                        <td id=\"T_9f3bc1ae_246f_11eb_8927_7085c2a9ca7arow11_col1\" class=\"data row11 col1\" >0.015569</td>\n",
       "            </tr>\n",
       "    </tbody></table>"
      ],
      "text/plain": [
       "<pandas.io.formats.style.Styler at 0x29557bfbdc8>"
      ]
     },
     "metadata": {},
     "output_type": "display_data"
    },
    {
     "name": "stdout",
     "output_type": "stream",
     "text": [
      "Micro Genre Comparison\n"
     ]
    },
    {
     "data": {
      "text/html": [
       "<style  type=\"text/css\" >\n",
       "#T_9f3d9534_246f_11eb_bea2_7085c2a9ca7arow0_col0,#T_9f3d9534_246f_11eb_bea2_7085c2a9ca7arow1_col0,#T_9f3d9534_246f_11eb_bea2_7085c2a9ca7arow2_col0,#T_9f3d9534_246f_11eb_bea2_7085c2a9ca7arow3_col0,#T_9f3d9534_246f_11eb_bea2_7085c2a9ca7arow4_col0{\n",
       "            background-color:  #023858;\n",
       "            color:  #f1f1f1;\n",
       "        }#T_9f3d9534_246f_11eb_bea2_7085c2a9ca7arow0_col1,#T_9f3d9534_246f_11eb_bea2_7085c2a9ca7arow1_col1,#T_9f3d9534_246f_11eb_bea2_7085c2a9ca7arow2_col1,#T_9f3d9534_246f_11eb_bea2_7085c2a9ca7arow3_col1,#T_9f3d9534_246f_11eb_bea2_7085c2a9ca7arow4_col1,#T_9f3d9534_246f_11eb_bea2_7085c2a9ca7arow5_col0,#T_9f3d9534_246f_11eb_bea2_7085c2a9ca7arow5_col1,#T_9f3d9534_246f_11eb_bea2_7085c2a9ca7arow6_col0,#T_9f3d9534_246f_11eb_bea2_7085c2a9ca7arow6_col1{\n",
       "            background-color:  #fff7fb;\n",
       "            color:  #000000;\n",
       "        }</style><table id=\"T_9f3d9534_246f_11eb_bea2_7085c2a9ca7a\" ><thead>    <tr>        <th class=\"blank level0\" ></th>        <th class=\"col_heading level0 col0\" >cluster_13</th>        <th class=\"col_heading level0 col1\" >df</th>    </tr></thead><tbody>\n",
       "                <tr>\n",
       "                        <th id=\"T_9f3d9534_246f_11eb_bea2_7085c2a9ca7alevel0_row0\" class=\"row_heading level0 row0\" >soca</th>\n",
       "                        <td id=\"T_9f3d9534_246f_11eb_bea2_7085c2a9ca7arow0_col0\" class=\"data row0 col0\" >1.000000</td>\n",
       "                        <td id=\"T_9f3d9534_246f_11eb_bea2_7085c2a9ca7arow0_col1\" class=\"data row0 col1\" >0.002756</td>\n",
       "            </tr>\n",
       "            <tr>\n",
       "                        <th id=\"T_9f3d9534_246f_11eb_bea2_7085c2a9ca7alevel0_row1\" class=\"row_heading level0 row1\" >riddim</th>\n",
       "                        <td id=\"T_9f3d9534_246f_11eb_bea2_7085c2a9ca7arow1_col0\" class=\"data row1 col0\" >1.000000</td>\n",
       "                        <td id=\"T_9f3d9534_246f_11eb_bea2_7085c2a9ca7arow1_col1\" class=\"data row1 col1\" >0.001653</td>\n",
       "            </tr>\n",
       "            <tr>\n",
       "                        <th id=\"T_9f3d9534_246f_11eb_bea2_7085c2a9ca7alevel0_row2\" class=\"row_heading level0 row2\" >reggae fusion</th>\n",
       "                        <td id=\"T_9f3d9534_246f_11eb_bea2_7085c2a9ca7arow2_col0\" class=\"data row2 col0\" >1.000000</td>\n",
       "                        <td id=\"T_9f3d9534_246f_11eb_bea2_7085c2a9ca7arow2_col1\" class=\"data row2 col1\" >0.013916</td>\n",
       "            </tr>\n",
       "            <tr>\n",
       "                        <th id=\"T_9f3d9534_246f_11eb_bea2_7085c2a9ca7alevel0_row3\" class=\"row_heading level0 row3\" >modern reggae</th>\n",
       "                        <td id=\"T_9f3d9534_246f_11eb_bea2_7085c2a9ca7arow3_col0\" class=\"data row3 col0\" >1.000000</td>\n",
       "                        <td id=\"T_9f3d9534_246f_11eb_bea2_7085c2a9ca7arow3_col1\" class=\"data row3 col1\" >0.015293</td>\n",
       "            </tr>\n",
       "            <tr>\n",
       "                        <th id=\"T_9f3d9534_246f_11eb_bea2_7085c2a9ca7alevel0_row4\" class=\"row_heading level0 row4\" >dancehall</th>\n",
       "                        <td id=\"T_9f3d9534_246f_11eb_bea2_7085c2a9ca7arow4_col0\" class=\"data row4 col0\" >1.000000</td>\n",
       "                        <td id=\"T_9f3d9534_246f_11eb_bea2_7085c2a9ca7arow4_col1\" class=\"data row4 col1\" >0.023422</td>\n",
       "            </tr>\n",
       "            <tr>\n",
       "                        <th id=\"T_9f3d9534_246f_11eb_bea2_7085c2a9ca7alevel0_row5\" class=\"row_heading level0 row5\" >\"australian children's music\"</th>\n",
       "                        <td id=\"T_9f3d9534_246f_11eb_bea2_7085c2a9ca7arow5_col0\" class=\"data row5 col0\" >nan</td>\n",
       "                        <td id=\"T_9f3d9534_246f_11eb_bea2_7085c2a9ca7arow5_col1\" class=\"data row5 col1\" >0.000138</td>\n",
       "            </tr>\n",
       "            <tr>\n",
       "                        <th id=\"T_9f3d9534_246f_11eb_bea2_7085c2a9ca7alevel0_row6\" class=\"row_heading level0 row6\" >\"black 'n' roll\"</th>\n",
       "                        <td id=\"T_9f3d9534_246f_11eb_bea2_7085c2a9ca7arow6_col0\" class=\"data row6 col0\" >nan</td>\n",
       "                        <td id=\"T_9f3d9534_246f_11eb_bea2_7085c2a9ca7arow6_col1\" class=\"data row6 col1\" >0.000138</td>\n",
       "            </tr>\n",
       "    </tbody></table>"
      ],
      "text/plain": [
       "<pandas.io.formats.style.Styler at 0x29556255248>"
      ]
     },
     "metadata": {},
     "output_type": "display_data"
    },
    {
     "name": "stdout",
     "output_type": "stream",
     "text": [
      "Keyword Comparison\n"
     ]
    },
    {
     "data": {
      "text/html": [
       "<style  type=\"text/css\" >\n",
       "#T_9f3fb694_246f_11eb_a013_7085c2a9ca7arow0_col0,#T_9f3fb694_246f_11eb_a013_7085c2a9ca7arow1_col0,#T_9f3fb694_246f_11eb_a013_7085c2a9ca7arow2_col0,#T_9f3fb694_246f_11eb_a013_7085c2a9ca7arow3_col0,#T_9f3fb694_246f_11eb_a013_7085c2a9ca7arow4_col0,#T_9f3fb694_246f_11eb_a013_7085c2a9ca7arow5_col0{\n",
       "            background-color:  #023858;\n",
       "            color:  #f1f1f1;\n",
       "        }#T_9f3fb694_246f_11eb_a013_7085c2a9ca7arow0_col1,#T_9f3fb694_246f_11eb_a013_7085c2a9ca7arow1_col1,#T_9f3fb694_246f_11eb_a013_7085c2a9ca7arow2_col1,#T_9f3fb694_246f_11eb_a013_7085c2a9ca7arow3_col1,#T_9f3fb694_246f_11eb_a013_7085c2a9ca7arow4_col1,#T_9f3fb694_246f_11eb_a013_7085c2a9ca7arow5_col1,#T_9f3fb694_246f_11eb_a013_7085c2a9ca7arow6_col0,#T_9f3fb694_246f_11eb_a013_7085c2a9ca7arow6_col1,#T_9f3fb694_246f_11eb_a013_7085c2a9ca7arow7_col0,#T_9f3fb694_246f_11eb_a013_7085c2a9ca7arow7_col1,#T_9f3fb694_246f_11eb_a013_7085c2a9ca7arow8_col0,#T_9f3fb694_246f_11eb_a013_7085c2a9ca7arow8_col1,#T_9f3fb694_246f_11eb_a013_7085c2a9ca7arow9_col0,#T_9f3fb694_246f_11eb_a013_7085c2a9ca7arow9_col1,#T_9f3fb694_246f_11eb_a013_7085c2a9ca7arow10_col0,#T_9f3fb694_246f_11eb_a013_7085c2a9ca7arow10_col1,#T_9f3fb694_246f_11eb_a013_7085c2a9ca7arow11_col0,#T_9f3fb694_246f_11eb_a013_7085c2a9ca7arow11_col1{\n",
       "            background-color:  #fff7fb;\n",
       "            color:  #000000;\n",
       "        }</style><table id=\"T_9f3fb694_246f_11eb_a013_7085c2a9ca7a\" ><thead>    <tr>        <th class=\"blank level0\" ></th>        <th class=\"col_heading level0 col0\" >cluster_13</th>        <th class=\"col_heading level0 col1\" >df</th>    </tr></thead><tbody>\n",
       "                <tr>\n",
       "                        <th id=\"T_9f3fb694_246f_11eb_a013_7085c2a9ca7alevel0_row0\" class=\"row_heading level0 row0\" >reggae</th>\n",
       "                        <td id=\"T_9f3fb694_246f_11eb_a013_7085c2a9ca7arow0_col0\" class=\"data row0 col0\" >2.000000</td>\n",
       "                        <td id=\"T_9f3fb694_246f_11eb_a013_7085c2a9ca7arow0_col1\" class=\"data row0 col1\" >0.060347</td>\n",
       "            </tr>\n",
       "            <tr>\n",
       "                        <th id=\"T_9f3fb694_246f_11eb_a013_7085c2a9ca7alevel0_row1\" class=\"row_heading level0 row1\" >soca</th>\n",
       "                        <td id=\"T_9f3fb694_246f_11eb_a013_7085c2a9ca7arow1_col0\" class=\"data row1 col0\" >1.000000</td>\n",
       "                        <td id=\"T_9f3fb694_246f_11eb_a013_7085c2a9ca7arow1_col1\" class=\"data row1 col1\" >0.002756</td>\n",
       "            </tr>\n",
       "            <tr>\n",
       "                        <th id=\"T_9f3fb694_246f_11eb_a013_7085c2a9ca7alevel0_row2\" class=\"row_heading level0 row2\" >riddim</th>\n",
       "                        <td id=\"T_9f3fb694_246f_11eb_a013_7085c2a9ca7arow2_col0\" class=\"data row2 col0\" >1.000000</td>\n",
       "                        <td id=\"T_9f3fb694_246f_11eb_a013_7085c2a9ca7arow2_col1\" class=\"data row2 col1\" >0.001653</td>\n",
       "            </tr>\n",
       "            <tr>\n",
       "                        <th id=\"T_9f3fb694_246f_11eb_a013_7085c2a9ca7alevel0_row3\" class=\"row_heading level0 row3\" >modern</th>\n",
       "                        <td id=\"T_9f3fb694_246f_11eb_a013_7085c2a9ca7arow3_col0\" class=\"data row3 col0\" >1.000000</td>\n",
       "                        <td id=\"T_9f3fb694_246f_11eb_a013_7085c2a9ca7arow3_col1\" class=\"data row3 col1\" >0.126481</td>\n",
       "            </tr>\n",
       "            <tr>\n",
       "                        <th id=\"T_9f3fb694_246f_11eb_a013_7085c2a9ca7alevel0_row4\" class=\"row_heading level0 row4\" >fusion</th>\n",
       "                        <td id=\"T_9f3fb694_246f_11eb_a013_7085c2a9ca7arow4_col0\" class=\"data row4 col0\" >1.000000</td>\n",
       "                        <td id=\"T_9f3fb694_246f_11eb_a013_7085c2a9ca7arow4_col1\" class=\"data row4 col1\" >0.022045</td>\n",
       "            </tr>\n",
       "            <tr>\n",
       "                        <th id=\"T_9f3fb694_246f_11eb_a013_7085c2a9ca7alevel0_row5\" class=\"row_heading level0 row5\" >dancehall</th>\n",
       "                        <td id=\"T_9f3fb694_246f_11eb_a013_7085c2a9ca7arow5_col0\" class=\"data row5 col0\" >1.000000</td>\n",
       "                        <td id=\"T_9f3fb694_246f_11eb_a013_7085c2a9ca7arow5_col1\" class=\"data row5 col1\" >0.037889</td>\n",
       "            </tr>\n",
       "            <tr>\n",
       "                        <th id=\"T_9f3fb694_246f_11eb_a013_7085c2a9ca7alevel0_row6\" class=\"row_heading level0 row6\" >\"australian</th>\n",
       "                        <td id=\"T_9f3fb694_246f_11eb_a013_7085c2a9ca7arow6_col0\" class=\"data row6 col0\" >nan</td>\n",
       "                        <td id=\"T_9f3fb694_246f_11eb_a013_7085c2a9ca7arow6_col1\" class=\"data row6 col1\" >0.000138</td>\n",
       "            </tr>\n",
       "            <tr>\n",
       "                        <th id=\"T_9f3fb694_246f_11eb_a013_7085c2a9ca7alevel0_row7\" class=\"row_heading level0 row7\" >\"black</th>\n",
       "                        <td id=\"T_9f3fb694_246f_11eb_a013_7085c2a9ca7arow7_col0\" class=\"data row7 col0\" >nan</td>\n",
       "                        <td id=\"T_9f3fb694_246f_11eb_a013_7085c2a9ca7arow7_col1\" class=\"data row7 col1\" >0.000138</td>\n",
       "            </tr>\n",
       "            <tr>\n",
       "                        <th id=\"T_9f3fb694_246f_11eb_a013_7085c2a9ca7alevel0_row8\" class=\"row_heading level0 row8\" >\"canadian</th>\n",
       "                        <td id=\"T_9f3fb694_246f_11eb_a013_7085c2a9ca7arow8_col0\" class=\"data row8 col0\" >nan</td>\n",
       "                        <td id=\"T_9f3fb694_246f_11eb_a013_7085c2a9ca7arow8_col1\" class=\"data row8 col1\" >0.000413</td>\n",
       "            </tr>\n",
       "            <tr>\n",
       "                        <th id=\"T_9f3fb694_246f_11eb_a013_7085c2a9ca7alevel0_row9\" class=\"row_heading level0 row9\" >\"children's</th>\n",
       "                        <td id=\"T_9f3fb694_246f_11eb_a013_7085c2a9ca7arow9_col0\" class=\"data row9 col0\" >nan</td>\n",
       "                        <td id=\"T_9f3fb694_246f_11eb_a013_7085c2a9ca7arow9_col1\" class=\"data row9 col1\" >0.005098</td>\n",
       "            </tr>\n",
       "            <tr>\n",
       "                        <th id=\"T_9f3fb694_246f_11eb_a013_7085c2a9ca7alevel0_row10\" class=\"row_heading level0 row10\" >\"death</th>\n",
       "                        <td id=\"T_9f3fb694_246f_11eb_a013_7085c2a9ca7arow10_col0\" class=\"data row10 col0\" >nan</td>\n",
       "                        <td id=\"T_9f3fb694_246f_11eb_a013_7085c2a9ca7arow10_col1\" class=\"data row10 col1\" >0.000138</td>\n",
       "            </tr>\n",
       "            <tr>\n",
       "                        <th id=\"T_9f3fb694_246f_11eb_a013_7085c2a9ca7alevel0_row11\" class=\"row_heading level0 row11\" >\"punk</th>\n",
       "                        <td id=\"T_9f3fb694_246f_11eb_a013_7085c2a9ca7arow11_col0\" class=\"data row11 col0\" >nan</td>\n",
       "                        <td id=\"T_9f3fb694_246f_11eb_a013_7085c2a9ca7arow11_col1\" class=\"data row11 col1\" >0.000551</td>\n",
       "            </tr>\n",
       "    </tbody></table>"
      ],
      "text/plain": [
       "<pandas.io.formats.style.Styler at 0x29556353108>"
      ]
     },
     "metadata": {},
     "output_type": "display_data"
    },
    {
     "data": {
      "application/javascript": [
       "\n",
       "            setTimeout(function() {\n",
       "                var nbb_cell_id = 43;\n",
       "                var nbb_unformatted_code = \"all_top_7 = []\\nall_top_12 = []\\nfor col in cluster_genre_df.columns:\\n    # find the 7 genres that occur most frequently in the cluster\\n    top_7_g = cluster_genre_df[col].sort_values(ascending=False)[0:7]\\n    # reference the index to find the values for the whole data frame\\n    top_7_comp = whole_df_m_genre_rep[top_7_g.index]\\n    print(\\\"Micro Genre Comparison\\\")\\n    display(\\n        pd.DataFrame(\\n            [top_7_g, top_7_comp], index=[col, \\\"df\\\"]\\n        ).T.style.background_gradient(axis=1)\\n    )\\n    # store to help create another plotting df\\n    all_top_7 += list(top_7_g.index)\\n    top_12_w = cluster_keyword_df[col].sort_values(ascending=False)[0:12]\\n    top_12_comp = whole_df_w_count_rep[top_12_w.index]\\n    print(\\\"Keyword Comparison\\\")\\n    display(\\n        pd.DataFrame(\\n            [top_12_w, top_12_comp], index=[col, \\\"df\\\"]\\n        ).T.style.background_gradient(axis=1)\\n    )\\n    all_top_12 += list(top_12_w.index)\\n\\n\\n# -----------------------------------------------------------------\\n# Here you can see the frequency a genre or word shows up in\\n# a single cluster vs the frequency it shows up in the whole dataframe\\n# scroll further for a more friendly visual representation of this.\";\n",
       "                var nbb_formatted_code = \"all_top_7 = []\\nall_top_12 = []\\nfor col in cluster_genre_df.columns:\\n    # find the 7 genres that occur most frequently in the cluster\\n    top_7_g = cluster_genre_df[col].sort_values(ascending=False)[0:7]\\n    # reference the index to find the values for the whole data frame\\n    top_7_comp = whole_df_m_genre_rep[top_7_g.index]\\n    print(\\\"Micro Genre Comparison\\\")\\n    display(\\n        pd.DataFrame(\\n            [top_7_g, top_7_comp], index=[col, \\\"df\\\"]\\n        ).T.style.background_gradient(axis=1)\\n    )\\n    # store to help create another plotting df\\n    all_top_7 += list(top_7_g.index)\\n    top_12_w = cluster_keyword_df[col].sort_values(ascending=False)[0:12]\\n    top_12_comp = whole_df_w_count_rep[top_12_w.index]\\n    print(\\\"Keyword Comparison\\\")\\n    display(\\n        pd.DataFrame(\\n            [top_12_w, top_12_comp], index=[col, \\\"df\\\"]\\n        ).T.style.background_gradient(axis=1)\\n    )\\n    all_top_12 += list(top_12_w.index)\\n\\n\\n# -----------------------------------------------------------------\\n# Here you can see the frequency a genre or word shows up in\\n# a single cluster vs the frequency it shows up in the whole dataframe\\n# scroll further for a more friendly visual representation of this.\";\n",
       "                var nbb_cells = Jupyter.notebook.get_cells();\n",
       "                for (var i = 0; i < nbb_cells.length; ++i) {\n",
       "                    if (nbb_cells[i].input_prompt_number == nbb_cell_id) {\n",
       "                        if (nbb_cells[i].get_text() == nbb_unformatted_code) {\n",
       "                             nbb_cells[i].set_text(nbb_formatted_code);\n",
       "                        }\n",
       "                        break;\n",
       "                    }\n",
       "                }\n",
       "            }, 500);\n",
       "            "
      ],
      "text/plain": [
       "<IPython.core.display.Javascript object>"
      ]
     },
     "metadata": {},
     "output_type": "display_data"
    }
   ],
   "source": [
    "all_top_7 = []\n",
    "all_top_12 = []\n",
    "for col in cluster_genre_df.columns:\n",
    "    # find the 7 genres that occur most frequently in the cluster\n",
    "    top_7_g = cluster_genre_df[col].sort_values(ascending=False)[0:7]\n",
    "    # reference the index to find the values for the whole data frame\n",
    "    top_7_comp = whole_df_m_genre_rep[top_7_g.index]\n",
    "    print(\"Micro Genre Comparison\")\n",
    "    display(\n",
    "        pd.DataFrame(\n",
    "            [top_7_g, top_7_comp], index=[col, \"df\"]\n",
    "        ).T.style.background_gradient(axis=1)\n",
    "    )\n",
    "    # store to help create another plotting df\n",
    "    all_top_7 += list(top_7_g.index)\n",
    "    top_12_w = cluster_keyword_df[col].sort_values(ascending=False)[0:12]\n",
    "    top_12_comp = whole_df_w_count_rep[top_12_w.index]\n",
    "    print(\"Keyword Comparison\")\n",
    "    display(\n",
    "        pd.DataFrame(\n",
    "            [top_12_w, top_12_comp], index=[col, \"df\"]\n",
    "        ).T.style.background_gradient(axis=1)\n",
    "    )\n",
    "    all_top_12 += list(top_12_w.index)\n",
    "\n",
    "\n",
    "# -----------------------------------------------------------------\n",
    "# Here you can see the frequency a genre or genre keyword shows up in\n",
    "# a single cluster vs the frequency it shows up in the whole dataframe\n",
    "#certain genres pop up in a higher frequency than in the whole data frame\n",
    "#implying that clusters are at least somewhat drawn on genre differentiation lines"
   ]
  },
  {
   "cell_type": "code",
   "execution_count": 46,
   "metadata": {},
   "outputs": [
    {
     "data": {
      "application/javascript": [
       "\n",
       "            setTimeout(function() {\n",
       "                var nbb_cell_id = 46;\n",
       "                var nbb_unformatted_code = \"num_keywords = 5\\nnum_topics = 17\";\n",
       "                var nbb_formatted_code = \"num_keywords = 5\\nnum_topics = 17\";\n",
       "                var nbb_cells = Jupyter.notebook.get_cells();\n",
       "                for (var i = 0; i < nbb_cells.length; ++i) {\n",
       "                    if (nbb_cells[i].input_prompt_number == nbb_cell_id) {\n",
       "                        if (nbb_cells[i].get_text() == nbb_unformatted_code) {\n",
       "                             nbb_cells[i].set_text(nbb_formatted_code);\n",
       "                        }\n",
       "                        break;\n",
       "                    }\n",
       "                }\n",
       "            }, 500);\n",
       "            "
      ],
      "text/plain": [
       "<IPython.core.display.Javascript object>"
      ]
     },
     "metadata": {},
     "output_type": "display_data"
    }
   ],
   "source": [
    "num_keywords = 5\n",
    "num_topics = 17"
   ]
  },
  {
   "cell_type": "code",
   "execution_count": 47,
   "metadata": {},
   "outputs": [
    {
     "data": {
      "text/plain": [
       "[['know', 'think', 'want', 'could', 'tell'],\n",
       " ['shake', 'doo', 'king', 'queen', 'shout'],\n",
       " ['yuh', 'littl', 'mind', 'dead', 'version'],\n",
       " ['da', 'ye', 'men', 'yea', 'mo'],\n",
       " ['la', 'eh', 'rain', 'yo', 'de'],\n",
       " ['na', 'wan', 'gon', 'get', 'danc'],\n",
       " ['yeah', 'oh', 'love', 'babi', 'got'],\n",
       " ['ah', 'hot', 'funk', 'air', 'wave'],\n",
       " ['nobodi', 'kid', 'xoxo', 'solo', 'paul'],\n",
       " ['mi', 'dem', 'di', 'fi', 'nuh'],\n",
       " ['dey', 'peopl', 'boogi', 'worri', 'must'],\n",
       " ['woo', 'worldboss', 'mr', 'fling', 'halba'],\n",
       " ['one', 'day', 'instrument', 'follow', 'bless'],\n",
       " ['life', 'lie', 'power', 'gim', 'dog'],\n",
       " ['like', 'got', 'nigga', 'get', 'yeah'],\n",
       " ['go', 'back', 'man', 'run', 'come'],\n",
       " ['chorus', 'love', 'never', 'feel', 'heart']]"
      ]
     },
     "execution_count": 47,
     "metadata": {},
     "output_type": "execute_result"
    },
    {
     "data": {
      "application/javascript": [
       "\n",
       "            setTimeout(function() {\n",
       "                var nbb_cell_id = 47;\n",
       "                var nbb_unformatted_code = \"vectorizer = CountVectorizer()\\nmodel = LatentDirichletAllocation(n_components=num_topics, learning_method=\\\"online\\\")\\n\\nvectorized = vectorizer.fit_transform(preprocessed)\\nmodel.fit_transform(vectorized)\\n\\nresults = [\\n    [\\n        (vectorizer.get_feature_names()[i], topic[i])\\n        for i in topic.argsort()[: -num_keywords - 1 : -1]\\n    ]\\n    for topic in model.components_\\n]\\n\\ntopics = [[x[0] for x in i] for i in results]\\ntopics\";\n",
       "                var nbb_formatted_code = \"vectorizer = CountVectorizer()\\nmodel = LatentDirichletAllocation(n_components=num_topics, learning_method=\\\"online\\\")\\n\\nvectorized = vectorizer.fit_transform(preprocessed)\\nmodel.fit_transform(vectorized)\\n\\nresults = [\\n    [\\n        (vectorizer.get_feature_names()[i], topic[i])\\n        for i in topic.argsort()[: -num_keywords - 1 : -1]\\n    ]\\n    for topic in model.components_\\n]\\n\\ntopics = [[x[0] for x in i] for i in results]\\ntopics\";\n",
       "                var nbb_cells = Jupyter.notebook.get_cells();\n",
       "                for (var i = 0; i < nbb_cells.length; ++i) {\n",
       "                    if (nbb_cells[i].input_prompt_number == nbb_cell_id) {\n",
       "                        if (nbb_cells[i].get_text() == nbb_unformatted_code) {\n",
       "                             nbb_cells[i].set_text(nbb_formatted_code);\n",
       "                        }\n",
       "                        break;\n",
       "                    }\n",
       "                }\n",
       "            }, 500);\n",
       "            "
      ],
      "text/plain": [
       "<IPython.core.display.Javascript object>"
      ]
     },
     "metadata": {},
     "output_type": "display_data"
    }
   ],
   "source": [
    "vectorizer = CountVectorizer()\n",
    "model = LatentDirichletAllocation(n_components=num_topics, learning_method=\"online\")\n",
    "\n",
    "vectorized = vectorizer.fit_transform(preprocessed)\n",
    "model.fit_transform(vectorized)\n",
    "\n",
    "results = [\n",
    "    [\n",
    "        (vectorizer.get_feature_names()[i], topic[i])\n",
    "        for i in topic.argsort()[: -num_keywords - 1 : -1]\n",
    "    ]\n",
    "    for topic in model.components_\n",
    "]\n",
    "\n",
    "topics = [[x[0] for x in i] for i in results]\n",
    "topics"
   ]
  },
  {
   "cell_type": "code",
   "execution_count": null,
   "metadata": {},
   "outputs": [],
   "source": [
    "# pardon the profanity. A lot of filler words that need to be cleaned out."
   ]
  },
  {
   "cell_type": "code",
   "execution_count": null,
   "metadata": {},
   "outputs": [],
   "source": []
  }
 ],
 "metadata": {
  "kernelspec": {
   "display_name": "Python 3",
   "language": "python",
   "name": "python3"
  },
  "language_info": {
   "codemirror_mode": {
    "name": "ipython",
    "version": 3
   },
   "file_extension": ".py",
   "mimetype": "text/x-python",
   "name": "python",
   "nbconvert_exporter": "python",
   "pygments_lexer": "ipython3",
   "version": "3.7.9"
  }
 },
 "nbformat": 4,
 "nbformat_minor": 4
}
